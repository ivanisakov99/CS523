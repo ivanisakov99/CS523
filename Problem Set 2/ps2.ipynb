{
 "cells": [
  {
   "cell_type": "markdown",
   "metadata": {
    "colab_type": "text",
    "id": "ecSh-LQTDB7H"
   },
   "source": [
    "# Problem Set 2 \n",
    "*Author: Saenko*\n",
    "\n",
    "---\n",
    "\n",
    "This assignment will introduce you to:\n",
    "1. Basic functionality in PyTorch\n",
    "2. Building and training a convolutional network\n",
    "3. Visualizations using Tensorboard (optional)\n",
    "\n",
    "This code has been tested on Colab. You may want to run parts of it on a GPU.\n",
    "**Warning:** If you use the SCC, the gpu queue may be long when the deadline comes. Please start your homework early.\n",
    "\n",
    "---\n",
    "\n",
    "\n",
    "# Problem 0: Tutorials\n",
    "This homework will introduce you to [PyTorch](https://pytorch.org), currently the fastest growing deep learning library.\n",
    "\n",
    "Before starting the homework, please go over these introductory tutorials on the PyTorch webpage:\n",
    "\n",
    "*   [60-minute Blitz](https://pytorch.org/tutorials/beginner/deep_learning_60min_blitz.html)\n",
    " \n",
    "\n",
    "---\n",
    "\n"
   ]
  },
  {
   "cell_type": "markdown",
   "metadata": {
    "colab_type": "text",
    "id": "CcqKCRlM6poM"
   },
   "source": [
    "# Problem 1: Torch Intro (30 points)\n",
    "The `torch.Tensor` class is the basic building block in PyTorch and is used to hold data and parameters. The `autograd` package provides automatic differentiation for all operations on Tensors. After reading about Autograd in the tutorials above,  we will implement a few simple examples of what Autograd can do."
   ]
  },
  {
   "cell_type": "code",
   "execution_count": 1,
   "metadata": {
    "colab": {},
    "colab_type": "code",
    "id": "yUv0o0dIsLlW"
   },
   "outputs": [],
   "source": [
    "import torch"
   ]
  },
  {
   "cell_type": "markdown",
   "metadata": {
    "colab_type": "text",
    "id": "D15InPOpsLlc"
   },
   "source": [
    "### 1.1. Simple function\n",
    " Use `autograd` to do backpropagation on the simple function we saw in lecture, $f=(x+y)*z$. \n",
    "\n",
    "**1.1.1** Create the three inputs with values $x=-2$, $y=5$ and $z=-4$ as tensors and set `requires_grad=True` to track computation on them.\n",
    "\n"
   ]
  },
  {
   "cell_type": "code",
   "execution_count": 2,
   "metadata": {
    "colab": {
     "base_uri": "https://localhost:8080/",
     "height": 34
    },
    "colab_type": "code",
    "executionInfo": {
     "elapsed": 758,
     "status": "ok",
     "timestamp": 1581997995146,
     "user": {
      "displayName": "Samarth Mishra",
      "photoUrl": "",
      "userId": "00064519813488481618"
     },
     "user_tz": 300
    },
    "id": "56mcFemZuYMB",
    "outputId": "4be4f837-cc1b-4579-d97b-edad8dd68263"
   },
   "outputs": [
    {
     "output_type": "stream",
     "name": "stdout",
     "text": [
      "tensor([-2.], requires_grad=True) tensor([5.], requires_grad=True) tensor([-4.], requires_grad=True)\n"
     ]
    }
   ],
   "source": [
    "x = torch.tensor([-2.], requires_grad=True)\n",
    "y = torch.tensor([5.], requires_grad=True)\n",
    "z = torch.tensor([-4.], requires_grad=True)\n",
    "print(x, y, z)"
   ]
  },
  {
   "cell_type": "markdown",
   "metadata": {
    "colab_type": "text",
    "id": "WPBbS7GWxra1"
   },
   "source": [
    "**1.1.2** Compute the $q=x+y$ and $f=q \\times z$ functions, creating tensors for them in the process. Print out $q,f$, then run `f.backward(retain_graph=True)`, to compute the gradients w.r.t. $x,y,z$. The `retain_graph` attribute tells autograd to keep the computation graph around after backward pass as opposed deleting it (freeing some memory). Print the gradients. Note that the gradient for $q$ will be `None` since it is an intermediate node, even though `requires_grad` for it is automatically set to `True`. To access gradients for intermediate nodes in PyTorch you can use hooks as mentioned in [this answer](https://discuss.pytorch.org/t/why-cant-i-see-grad-of-an-intermediate-variable/94/2). Compute the values by hand (or check the slides) to verify your solution."
   ]
  },
  {
   "cell_type": "code",
   "execution_count": 3,
   "metadata": {
    "colab": {
     "base_uri": "https://localhost:8080/",
     "height": 52
    },
    "colab_type": "code",
    "executionInfo": {
     "elapsed": 745,
     "status": "ok",
     "timestamp": 1581997998245,
     "user": {
      "displayName": "Samarth Mishra",
      "photoUrl": "",
      "userId": "00064519813488481618"
     },
     "user_tz": 300
    },
    "id": "4lj5N-fgvQ-v",
    "outputId": "296a7afc-268a-406d-b09e-61dd58b02c8a"
   },
   "outputs": [
    {
     "output_type": "stream",
     "name": "stdout",
     "text": [
      "tensor([3.], grad_fn=<AddBackward0>) tensor([-12.], grad_fn=<MulBackward0>)\ntensor([-4.]) tensor([-4.]) tensor([3.]) None\n"
     ]
    }
   ],
   "source": [
    "def extract(x):\n",
    "    global k\n",
    "    k = x\n",
    "\n",
    "q = x + y\n",
    "f = q * z\n",
    "print(q, f)\n",
    "\n",
    "q.register_hook(extract)\n",
    "f.backward(retain_graph=True)\n",
    "\n",
    "print(x.grad, y.grad, z.grad, k.grad)\n"
   ]
  },
  {
   "cell_type": "markdown",
   "metadata": {
    "colab_type": "text",
    "id": "EtBqrD7y3MeK"
   },
   "source": [
    "**1.1.3** If we now run `backward()` again, it will add the gradients to their previous values. Try it by running the above cell multiple times. This is useful in some cases, but if we just wanted to re-compute the gradients again, we need to zero them first, then run `backward()`. Add this step, then try running the  backward function multiple times to make sure the answer is the same each time!"
   ]
  },
  {
   "cell_type": "code",
   "execution_count": 4,
   "metadata": {
    "colab": {
     "base_uri": "https://localhost:8080/",
     "height": 34
    },
    "colab_type": "code",
    "executionInfo": {
     "elapsed": 625,
     "status": "ok",
     "timestamp": 1581998000511,
     "user": {
      "displayName": "Samarth Mishra",
      "photoUrl": "",
      "userId": "00064519813488481618"
     },
     "user_tz": 300
    },
    "id": "g6qeSVAM0w1J",
    "outputId": "048e64e9-e6c1-4f28-ee51-099a2a401e04"
   },
   "outputs": [
    {
     "output_type": "stream",
     "name": "stdout",
     "text": [
      "tensor([-4.]) tensor([-4.]) tensor([3.]) None\n"
     ]
    }
   ],
   "source": [
    "x.grad.data.zero_()\n",
    "y.grad.data.zero_()\n",
    "z.grad.data.zero_()\n",
    "\n",
    "f.backward(retain_graph=True)\n",
    "\n",
    "print(x.grad, y.grad, z.grad, k.grad)"
   ]
  },
  {
   "cell_type": "markdown",
   "metadata": {
    "colab_type": "text",
    "id": "3lEIwkbv4qNO"
   },
   "source": [
    "### 1.2 Neuron\n",
    " Implement the function corresponding to one neuron (logistic regression unit) that we saw in the lecture and compute the gradient w.r.t. $x$ and $w$. The function is $f=\\sigma(w^Tx)$ where $\\sigma()$ is the sigmoid function. Initialize $x=[-1, -2, 1]$ and the weights to $w=[2, -3, -3]$ where $w_3$ is the bias. Print out the gradients and double check their values by hand."
   ]
  },
  {
   "cell_type": "code",
   "execution_count": 5,
   "metadata": {
    "colab": {
     "base_uri": "https://localhost:8080/",
     "height": 121
    },
    "colab_type": "code",
    "executionInfo": {
     "elapsed": 585,
     "status": "ok",
     "timestamp": 1581998002809,
     "user": {
      "displayName": "Samarth Mishra",
      "photoUrl": "",
      "userId": "00064519813488481618"
     },
     "user_tz": 300
    },
    "id": "H0UBPl5Ti15G",
    "outputId": "aad7da03-7ba8-4e65-a604-259ce8df8efd"
   },
   "outputs": [
    {
     "output_type": "stream",
     "name": "stdout",
     "text": [
      "x = tensor([-1., -2.,  1.], requires_grad=True)\nw = tensor([ 2., -3., -3.], requires_grad=True)\nf(x, w) = tensor(0.7311, grad_fn=<SigmoidBackward>)\nThe gradient of f() w.r.t. x is tensor([ 0.3932, -0.5898, -0.5898])\nThe gradient of f() w.r.t. w is tensor([-0.1966, -0.3932,  0.1966])\n"
     ]
    }
   ],
   "source": [
    "x = torch.tensor([-1., -2., 1.], requires_grad=True)\n",
    "w = torch.tensor([2., -3., -3.], requires_grad=True)\n",
    "print(\"x =\", x)\n",
    "print(\"w =\", w)\n",
    "f = torch.dot(w, x)\n",
    "f = torch.sigmoid(f)\n",
    "print(\"f(x, w) =\", f)\n",
    "f.backward()\n",
    "print(\"The gradient of f() w.r.t. x is\", x.grad)\n",
    "print(\"The gradient of f() w.r.t. w is\", w.grad)"
   ]
  },
  {
   "cell_type": "markdown",
   "metadata": {
    "colab_type": "text",
    "id": "KLEQdosNk6t9"
   },
   "source": [
    "### 1.3. torch.nn\n",
    " We will now implement the same neuron function $f$ with the same variable values as in Q1.2, but using the `Linear` class from `torch.nn`, followed by the [Sigmoid](https://pytorch.org/docs/stable/nn.html#torch.nn.Sigmoid) class. In general, many useful functions are already implemented for us in this package. Compute the gradients $\\partial f/\\partial w$ by running `backward()` and print them out (they will be stored in the Linear variable, e.g. in `.weight.grad`.) "
   ]
  },
  {
   "cell_type": "code",
   "execution_count": 6,
   "metadata": {
    "colab": {
     "base_uri": "https://localhost:8080/",
     "height": 173
    },
    "colab_type": "code",
    "executionInfo": {
     "elapsed": 583,
     "status": "ok",
     "timestamp": 1581998005758,
     "user": {
      "displayName": "Samarth Mishra",
      "photoUrl": "",
      "userId": "00064519813488481618"
     },
     "user_tz": 300
    },
    "id": "zH3f8sj0ywQ3",
    "outputId": "d56c09a9-0add-40a7-da62-6cdf89ec8c63"
   },
   "outputs": [
    {
     "output_type": "stream",
     "name": "stdout",
     "text": [
      "weights: Parameter containing:\ntensor([[ 2., -3.]], requires_grad=True)\n\nbias Parameter containing:\ntensor([[-3.]], requires_grad=True)\n\nf: tensor([[0.7311]], grad_fn=<SigmoidBackward>)\nThe gradient of f() w.r.t. w is tensor([[-0.1966, -0.3932]]) tensor([[0.1966]])\n"
     ]
    }
   ],
   "source": [
    "m = torch.nn.Linear(2, 1)\n",
    "m.weight.data = torch.tensor([[2., -3.]])\n",
    "m.bias.data = torch.tensor([[-3.]])\n",
    "\n",
    "print(\"weights:\", m.weight)\n",
    "print(\"\\nbias\", m.bias)\n",
    "\n",
    "x = torch.tensor([[-1., -2.]], requires_grad=True)\n",
    "\n",
    "f = m(x)\n",
    "\n",
    "f = torch.sigmoid(f)\n",
    "print(\"\\nf:\", f)\n",
    "f.backward()\n",
    "print(\"The gradient of f() w.r.t. w is\", m.weight.grad, m.bias.grad)\n"
   ]
  },
  {
   "cell_type": "markdown",
   "metadata": {
    "colab_type": "text",
    "id": "isiTRoJuqnEL"
   },
   "source": [
    "### 1.4. Module\n",
    " Now lets put these two functions (Linear and Sigmoid) together into a \"module\". Read the [Neural Networks tutorial](https://pytorch.org/tutorials/beginner/blitz/neural_networks_tutorial.html) if you have not already.\n",
    "\n",
    "**1.4.1** This code makes a subclass of the `Module` class, called `Neuron`, and sets variables to the same values as above. \n",
    "\n"
   ]
  },
  {
   "cell_type": "code",
   "execution_count": 7,
   "metadata": {
    "colab": {},
    "colab_type": "code",
    "id": "8j_S7AQqQB8-"
   },
   "outputs": [],
   "source": [
    "import torch.nn as nn\n",
    "\n",
    "class Neuron(nn.Module):\n",
    "\n",
    "    def __init__(self):\n",
    "        super(Neuron, self).__init__()\n",
    "        # an affine operation: y = weight*x + bias, with fixed parameters\n",
    "        self.linear = nn.Linear(2, 1)\n",
    "        self.linear.weight.data = torch.tensor([[ 2., -3.]])\n",
    "        self.linear.bias.data = torch.tensor([-3.])\n",
    "        # a sigmoid function, elementwise\n",
    "        self.sigmoid = nn.Sigmoid()\n",
    "\n",
    "    def forward(self, x):\n",
    "        x = self.linear(x)\n",
    "        x = self.sigmoid(x)\n",
    "        return x"
   ]
  },
  {
   "cell_type": "markdown",
   "metadata": {
    "colab_type": "text",
    "id": "6Hv5iduNSLX9"
   },
   "source": [
    "**1.4.2** Now create a  variable of your `Neuron` class called `my_neuron` and run backpropagation on it. Print out the gradients again. Make sure you zero out the gradients first, by calling `.zero_grad()` function of the parent class. Even if you will not re-compute the backprop, it is good practice to do this every time to avoid accumulating gradient!"
   ]
  },
  {
   "cell_type": "code",
   "execution_count": 8,
   "metadata": {
    "colab": {
     "base_uri": "https://localhost:8080/",
     "height": 173
    },
    "colab_type": "code",
    "executionInfo": {
     "elapsed": 362,
     "status": "ok",
     "timestamp": 1581998018634,
     "user": {
      "displayName": "Samarth Mishra",
      "photoUrl": "",
      "userId": "00064519813488481618"
     },
     "user_tz": 300
    },
    "id": "AG5V8LiVSQWn",
    "outputId": "adedcde3-bf02-4e9b-da26-b813d75336c9"
   },
   "outputs": [
    {
     "output_type": "stream",
     "name": "stdout",
     "text": [
      "Neuron(\n  (linear): Linear(in_features=2, out_features=1, bias=True)\n  (sigmoid): Sigmoid()\n)\nThe weights are: Parameter containing:\ntensor([[ 2., -3.]], requires_grad=True)\n\nf(x, w) = tensor([[0.7311]], grad_fn=<SigmoidBackward>)\nThe gradient of f() w.r.t. w is tensor([[-0.1966, -0.3932]]) tensor([0.1966])\n"
     ]
    }
   ],
   "source": [
    "my_neuron = Neuron()\n",
    "print(my_neuron)\n",
    "\n",
    "net = my_neuron(x)\n",
    "\n",
    "params = list(my_neuron.parameters())\n",
    "print(\"The weights are:\", params[0])\n",
    "\n",
    "print(\"\\nf(x, w) =\", net)\n",
    "\n",
    "my_neuron.zero_grad()\n",
    "net.backward()\n",
    "print(\"The gradient of f() w.r.t. w is\", my_neuron.linear.weight.grad , my_neuron.linear.bias.grad)\n"
   ]
  },
  {
   "cell_type": "markdown",
   "metadata": {
    "colab_type": "text",
    "id": "5A5kaQxkLsFi"
   },
   "source": [
    "### 1.5. Loss and SGD\n",
    " Now, lets train our neuron on some data. The code below creates a toy dataset containing a few inputs $x$ and outputs $y$ (a binary 0/1 label), as well as a function that plots the data and current solution."
   ]
  },
  {
   "cell_type": "code",
   "execution_count": 9,
   "metadata": {
    "colab": {
     "base_uri": "https://localhost:8080/",
     "height": 286
    },
    "colab_type": "code",
    "executionInfo": {
     "elapsed": 451,
     "status": "ok",
     "timestamp": 1581998902715,
     "user": {
      "displayName": "Samarth Mishra",
      "photoUrl": "",
      "userId": "00064519813488481618"
     },
     "user_tz": 300
    },
    "id": "4nMCQG3-L94R",
    "outputId": "48318f4f-419c-4f54-ffff-a6065573cf3e"
   },
   "outputs": [
    {
     "output_type": "stream",
     "name": "stdout",
     "text": [
      "w0 = 2.0 w1 = -3.0 bias = -3.0\n"
     ]
    },
    {
     "output_type": "display_data",
     "data": {
      "text/plain": "<Figure size 432x288 with 1 Axes>",
      "image/svg+xml": "<?xml version=\"1.0\" encoding=\"utf-8\" standalone=\"no\"?>\n<!DOCTYPE svg PUBLIC \"-//W3C//DTD SVG 1.1//EN\"\n  \"http://www.w3.org/Graphics/SVG/1.1/DTD/svg11.dtd\">\n<!-- Created with matplotlib (https://matplotlib.org/) -->\n<svg height=\"252.332188pt\" version=\"1.1\" viewBox=\"0 0 387.871094 252.332188\" width=\"387.871094pt\" xmlns=\"http://www.w3.org/2000/svg\" xmlns:xlink=\"http://www.w3.org/1999/xlink\">\n <metadata>\n  <rdf:RDF xmlns:cc=\"http://creativecommons.org/ns#\" xmlns:dc=\"http://purl.org/dc/elements/1.1/\" xmlns:rdf=\"http://www.w3.org/1999/02/22-rdf-syntax-ns#\">\n   <cc:Work>\n    <dc:type rdf:resource=\"http://purl.org/dc/dcmitype/StillImage\"/>\n    <dc:date>2021-06-15T15:31:37.773051</dc:date>\n    <dc:format>image/svg+xml</dc:format>\n    <dc:creator>\n     <cc:Agent>\n      <dc:title>Matplotlib v3.3.4, https://matplotlib.org/</dc:title>\n     </cc:Agent>\n    </dc:creator>\n   </cc:Work>\n  </rdf:RDF>\n </metadata>\n <defs>\n  <style type=\"text/css\">*{stroke-linecap:butt;stroke-linejoin:round;}</style>\n </defs>\n <g id=\"figure_1\">\n  <g id=\"patch_1\">\n   <path d=\"M 0 252.332188 \nL 387.871094 252.332188 \nL 387.871094 0 \nL 0 0 \nz\n\" style=\"fill:none;\"/>\n  </g>\n  <g id=\"axes_1\">\n   <g id=\"patch_2\">\n    <path d=\"M 37.965625 228.494687 \nL 372.765625 228.494687 \nL 372.765625 11.054688 \nL 37.965625 11.054688 \nz\n\" style=\"fill:#ffffff;\"/>\n   </g>\n   <g id=\"matplotlib.axis_1\">\n    <g id=\"xtick_1\">\n     <g id=\"line2d_1\">\n      <path clip-path=\"url(#p354b645ab2)\" d=\"M 37.965625 228.494687 \nL 37.965625 11.054688 \n\" style=\"fill:none;stroke:#b0b0b0;stroke-linecap:square;stroke-width:0.8;\"/>\n     </g>\n     <g id=\"line2d_2\">\n      <defs>\n       <path d=\"M 0 0 \nL 0 3.5 \n\" id=\"maff84235a6\" style=\"stroke:#000000;stroke-width:0.8;\"/>\n      </defs>\n      <g>\n       <use style=\"stroke:#000000;stroke-width:0.8;\" x=\"37.965625\" xlink:href=\"#maff84235a6\" y=\"228.494687\"/>\n      </g>\n     </g>\n     <g id=\"text_1\">\n      <!-- −2.0 -->\n      <g transform=\"translate(26.082813 243.204062)scale(0.1 -0.1)\">\n       <defs>\n        <path d=\"M 10.84375 25.296875 \nL 10.84375 32.515625 \nL 68.65625 32.515625 \nL 68.65625 25.296875 \nz\n\" id=\"LucidaGrande-8722\"/>\n        <path d=\"M 8.296875 0 \nL 8.296875 8.453125 \nQ 12.5 18.265625 25.296875 29.828125 \nL 30.8125 34.765625 \nQ 41.453125 44.390625 41.453125 53.859375 \nQ 41.453125 59.90625 37.8125 63.375 \nQ 34.1875 66.84375 27.828125 66.84375 \nQ 20.3125 66.84375 10.109375 61.03125 \nL 10.109375 69.53125 \nQ 19.734375 74.078125 29.203125 74.078125 \nQ 39.359375 74.078125 45.5 68.609375 \nQ 51.65625 63.140625 51.65625 54.109375 \nQ 51.65625 47.609375 48.546875 42.578125 \nQ 45.453125 37.546875 37.015625 30.375 \nL 33.296875 27.203125 \nQ 21.734375 17.390625 19.921875 8.453125 \nL 51.3125 8.453125 \nL 51.3125 0 \nz\n\" id=\"LucidaGrande-50\"/>\n        <path d=\"M 9.765625 0 \nL 9.765625 12.0625 \nL 21.828125 12.0625 \nL 21.828125 0 \nz\n\" id=\"LucidaGrande-46\"/>\n        <path d=\"M 31.34375 -1.8125 \nQ 20.171875 -1.8125 13.25 8.703125 \nQ 6.34375 19.234375 6.34375 36.1875 \nQ 6.34375 53.265625 13.296875 63.671875 \nQ 20.265625 74.078125 31.640625 74.078125 \nQ 43.015625 74.078125 49.96875 63.671875 \nQ 56.9375 53.265625 56.9375 36.328125 \nQ 56.9375 18.953125 49.96875 8.5625 \nQ 43.015625 -1.8125 31.34375 -1.8125 \nz\nM 31.453125 5.421875 \nQ 46.734375 5.421875 46.734375 36.46875 \nQ 46.734375 66.84375 31.640625 66.84375 \nQ 16.609375 66.84375 16.609375 36.1875 \nQ 16.609375 5.421875 31.453125 5.421875 \nz\n\" id=\"LucidaGrande-48\"/>\n       </defs>\n       <use xlink:href=\"#LucidaGrande-8722\"/>\n       <use x=\"79.541016\" xlink:href=\"#LucidaGrande-50\"/>\n       <use x=\"142.773438\" xlink:href=\"#LucidaGrande-46\"/>\n       <use x=\"174.414062\" xlink:href=\"#LucidaGrande-48\"/>\n      </g>\n     </g>\n    </g>\n    <g id=\"xtick_2\">\n     <g id=\"line2d_3\">\n      <path clip-path=\"url(#p354b645ab2)\" d=\"M 79.815625 228.494687 \nL 79.815625 11.054688 \n\" style=\"fill:none;stroke:#b0b0b0;stroke-linecap:square;stroke-width:0.8;\"/>\n     </g>\n     <g id=\"line2d_4\">\n      <g>\n       <use style=\"stroke:#000000;stroke-width:0.8;\" x=\"79.815625\" xlink:href=\"#maff84235a6\" y=\"228.494687\"/>\n      </g>\n     </g>\n     <g id=\"text_2\">\n      <!-- −1.5 -->\n      <g transform=\"translate(67.932813 243.204062)scale(0.1 -0.1)\">\n       <defs>\n        <path d=\"M 15.046875 0 \nL 15.046875 7.234375 \nL 29.5 7.234375 \nL 29.5 64.265625 \nL 15.046875 60.640625 \nL 15.046875 68.0625 \nL 39.15625 74.078125 \nL 39.15625 7.234375 \nL 53.609375 7.234375 \nL 53.609375 0 \nz\n\" id=\"LucidaGrande-49\"/>\n        <path d=\"M 12.15625 -0.296875 \nL 12.15625 8.296875 \nQ 19.34375 5.421875 25.828125 5.421875 \nQ 32.953125 5.421875 37.03125 9.609375 \nQ 41.109375 13.8125 41.109375 21.1875 \nQ 41.109375 37.453125 18.703125 37.453125 \nQ 16.15625 37.453125 13.375 37.109375 \nL 13.375 72.265625 \nL 49.953125 72.265625 \nL 49.953125 63.875 \nL 21.828125 63.875 \nL 21.828125 44.828125 \nQ 35.75 44.828125 43.5625 38.421875 \nQ 51.375 32.03125 51.375 20.703125 \nQ 51.375 10.15625 44.265625 4.171875 \nQ 37.15625 -1.8125 24.5625 -1.8125 \nQ 19.09375 -1.8125 12.15625 -0.296875 \nz\n\" id=\"LucidaGrande-53\"/>\n       </defs>\n       <use xlink:href=\"#LucidaGrande-8722\"/>\n       <use x=\"79.541016\" xlink:href=\"#LucidaGrande-49\"/>\n       <use x=\"142.773438\" xlink:href=\"#LucidaGrande-46\"/>\n       <use x=\"174.414062\" xlink:href=\"#LucidaGrande-53\"/>\n      </g>\n     </g>\n    </g>\n    <g id=\"xtick_3\">\n     <g id=\"line2d_5\">\n      <path clip-path=\"url(#p354b645ab2)\" d=\"M 121.665625 228.494687 \nL 121.665625 11.054688 \n\" style=\"fill:none;stroke:#b0b0b0;stroke-linecap:square;stroke-width:0.8;\"/>\n     </g>\n     <g id=\"line2d_6\">\n      <g>\n       <use style=\"stroke:#000000;stroke-width:0.8;\" x=\"121.665625\" xlink:href=\"#maff84235a6\" y=\"228.494687\"/>\n      </g>\n     </g>\n     <g id=\"text_3\">\n      <!-- −1.0 -->\n      <g transform=\"translate(109.782813 243.204062)scale(0.1 -0.1)\">\n       <use xlink:href=\"#LucidaGrande-8722\"/>\n       <use x=\"79.541016\" xlink:href=\"#LucidaGrande-49\"/>\n       <use x=\"142.773438\" xlink:href=\"#LucidaGrande-46\"/>\n       <use x=\"174.414062\" xlink:href=\"#LucidaGrande-48\"/>\n      </g>\n     </g>\n    </g>\n    <g id=\"xtick_4\">\n     <g id=\"line2d_7\">\n      <path clip-path=\"url(#p354b645ab2)\" d=\"M 163.515625 228.494687 \nL 163.515625 11.054688 \n\" style=\"fill:none;stroke:#b0b0b0;stroke-linecap:square;stroke-width:0.8;\"/>\n     </g>\n     <g id=\"line2d_8\">\n      <g>\n       <use style=\"stroke:#000000;stroke-width:0.8;\" x=\"163.515625\" xlink:href=\"#maff84235a6\" y=\"228.494687\"/>\n      </g>\n     </g>\n     <g id=\"text_4\">\n      <!-- −0.5 -->\n      <g transform=\"translate(151.632813 243.204062)scale(0.1 -0.1)\">\n       <use xlink:href=\"#LucidaGrande-8722\"/>\n       <use x=\"79.541016\" xlink:href=\"#LucidaGrande-48\"/>\n       <use x=\"142.773438\" xlink:href=\"#LucidaGrande-46\"/>\n       <use x=\"174.414062\" xlink:href=\"#LucidaGrande-53\"/>\n      </g>\n     </g>\n    </g>\n    <g id=\"xtick_5\">\n     <g id=\"line2d_9\">\n      <path clip-path=\"url(#p354b645ab2)\" d=\"M 205.365625 228.494687 \nL 205.365625 11.054688 \n\" style=\"fill:none;stroke:#b0b0b0;stroke-linecap:square;stroke-width:0.8;\"/>\n     </g>\n     <g id=\"line2d_10\">\n      <g>\n       <use style=\"stroke:#000000;stroke-width:0.8;\" x=\"205.365625\" xlink:href=\"#maff84235a6\" y=\"228.494687\"/>\n      </g>\n     </g>\n     <g id=\"text_5\">\n      <!-- 0.0 -->\n      <g transform=\"translate(197.460156 243.204062)scale(0.1 -0.1)\">\n       <use xlink:href=\"#LucidaGrande-48\"/>\n       <use x=\"63.232422\" xlink:href=\"#LucidaGrande-46\"/>\n       <use x=\"94.873047\" xlink:href=\"#LucidaGrande-48\"/>\n      </g>\n     </g>\n    </g>\n    <g id=\"xtick_6\">\n     <g id=\"line2d_11\">\n      <path clip-path=\"url(#p354b645ab2)\" d=\"M 247.215625 228.494687 \nL 247.215625 11.054688 \n\" style=\"fill:none;stroke:#b0b0b0;stroke-linecap:square;stroke-width:0.8;\"/>\n     </g>\n     <g id=\"line2d_12\">\n      <g>\n       <use style=\"stroke:#000000;stroke-width:0.8;\" x=\"247.215625\" xlink:href=\"#maff84235a6\" y=\"228.494687\"/>\n      </g>\n     </g>\n     <g id=\"text_6\">\n      <!-- 0.5 -->\n      <g transform=\"translate(239.310156 243.204062)scale(0.1 -0.1)\">\n       <use xlink:href=\"#LucidaGrande-48\"/>\n       <use x=\"63.232422\" xlink:href=\"#LucidaGrande-46\"/>\n       <use x=\"94.873047\" xlink:href=\"#LucidaGrande-53\"/>\n      </g>\n     </g>\n    </g>\n    <g id=\"xtick_7\">\n     <g id=\"line2d_13\">\n      <path clip-path=\"url(#p354b645ab2)\" d=\"M 289.065625 228.494687 \nL 289.065625 11.054688 \n\" style=\"fill:none;stroke:#b0b0b0;stroke-linecap:square;stroke-width:0.8;\"/>\n     </g>\n     <g id=\"line2d_14\">\n      <g>\n       <use style=\"stroke:#000000;stroke-width:0.8;\" x=\"289.065625\" xlink:href=\"#maff84235a6\" y=\"228.494687\"/>\n      </g>\n     </g>\n     <g id=\"text_7\">\n      <!-- 1.0 -->\n      <g transform=\"translate(281.160156 243.204062)scale(0.1 -0.1)\">\n       <use xlink:href=\"#LucidaGrande-49\"/>\n       <use x=\"63.232422\" xlink:href=\"#LucidaGrande-46\"/>\n       <use x=\"94.873047\" xlink:href=\"#LucidaGrande-48\"/>\n      </g>\n     </g>\n    </g>\n    <g id=\"xtick_8\">\n     <g id=\"line2d_15\">\n      <path clip-path=\"url(#p354b645ab2)\" d=\"M 330.915625 228.494687 \nL 330.915625 11.054688 \n\" style=\"fill:none;stroke:#b0b0b0;stroke-linecap:square;stroke-width:0.8;\"/>\n     </g>\n     <g id=\"line2d_16\">\n      <g>\n       <use style=\"stroke:#000000;stroke-width:0.8;\" x=\"330.915625\" xlink:href=\"#maff84235a6\" y=\"228.494687\"/>\n      </g>\n     </g>\n     <g id=\"text_8\">\n      <!-- 1.5 -->\n      <g transform=\"translate(323.010156 243.204062)scale(0.1 -0.1)\">\n       <use xlink:href=\"#LucidaGrande-49\"/>\n       <use x=\"63.232422\" xlink:href=\"#LucidaGrande-46\"/>\n       <use x=\"94.873047\" xlink:href=\"#LucidaGrande-53\"/>\n      </g>\n     </g>\n    </g>\n    <g id=\"xtick_9\">\n     <g id=\"line2d_17\">\n      <path clip-path=\"url(#p354b645ab2)\" d=\"M 372.765625 228.494687 \nL 372.765625 11.054688 \n\" style=\"fill:none;stroke:#b0b0b0;stroke-linecap:square;stroke-width:0.8;\"/>\n     </g>\n     <g id=\"line2d_18\">\n      <g>\n       <use style=\"stroke:#000000;stroke-width:0.8;\" x=\"372.765625\" xlink:href=\"#maff84235a6\" y=\"228.494687\"/>\n      </g>\n     </g>\n     <g id=\"text_9\">\n      <!-- 2.0 -->\n      <g transform=\"translate(364.860156 243.204062)scale(0.1 -0.1)\">\n       <use xlink:href=\"#LucidaGrande-50\"/>\n       <use x=\"63.232422\" xlink:href=\"#LucidaGrande-46\"/>\n       <use x=\"94.873047\" xlink:href=\"#LucidaGrande-48\"/>\n      </g>\n     </g>\n    </g>\n   </g>\n   <g id=\"matplotlib.axis_2\">\n    <g id=\"ytick_1\">\n     <g id=\"line2d_19\">\n      <path clip-path=\"url(#p354b645ab2)\" d=\"M 37.965625 228.494687 \nL 372.765625 228.494687 \n\" style=\"fill:none;stroke:#b0b0b0;stroke-linecap:square;stroke-width:0.8;\"/>\n     </g>\n     <g id=\"line2d_20\">\n      <defs>\n       <path d=\"M 0 0 \nL -3.5 0 \n\" id=\"md7092ebced\" style=\"stroke:#000000;stroke-width:0.8;\"/>\n      </defs>\n      <g>\n       <use style=\"stroke:#000000;stroke-width:0.8;\" x=\"37.965625\" xlink:href=\"#md7092ebced\" y=\"228.494687\"/>\n      </g>\n     </g>\n     <g id=\"text_10\">\n      <!-- −2.0 -->\n      <g transform=\"translate(7.2 232.349375)scale(0.1 -0.1)\">\n       <use xlink:href=\"#LucidaGrande-8722\"/>\n       <use x=\"79.541016\" xlink:href=\"#LucidaGrande-50\"/>\n       <use x=\"142.773438\" xlink:href=\"#LucidaGrande-46\"/>\n       <use x=\"174.414062\" xlink:href=\"#LucidaGrande-48\"/>\n      </g>\n     </g>\n    </g>\n    <g id=\"ytick_2\">\n     <g id=\"line2d_21\">\n      <path clip-path=\"url(#p354b645ab2)\" d=\"M 37.965625 201.314687 \nL 372.765625 201.314687 \n\" style=\"fill:none;stroke:#b0b0b0;stroke-linecap:square;stroke-width:0.8;\"/>\n     </g>\n     <g id=\"line2d_22\">\n      <g>\n       <use style=\"stroke:#000000;stroke-width:0.8;\" x=\"37.965625\" xlink:href=\"#md7092ebced\" y=\"201.314687\"/>\n      </g>\n     </g>\n     <g id=\"text_11\">\n      <!-- −1.5 -->\n      <g transform=\"translate(7.2 205.169375)scale(0.1 -0.1)\">\n       <use xlink:href=\"#LucidaGrande-8722\"/>\n       <use x=\"79.541016\" xlink:href=\"#LucidaGrande-49\"/>\n       <use x=\"142.773438\" xlink:href=\"#LucidaGrande-46\"/>\n       <use x=\"174.414062\" xlink:href=\"#LucidaGrande-53\"/>\n      </g>\n     </g>\n    </g>\n    <g id=\"ytick_3\">\n     <g id=\"line2d_23\">\n      <path clip-path=\"url(#p354b645ab2)\" d=\"M 37.965625 174.134687 \nL 372.765625 174.134687 \n\" style=\"fill:none;stroke:#b0b0b0;stroke-linecap:square;stroke-width:0.8;\"/>\n     </g>\n     <g id=\"line2d_24\">\n      <g>\n       <use style=\"stroke:#000000;stroke-width:0.8;\" x=\"37.965625\" xlink:href=\"#md7092ebced\" y=\"174.134687\"/>\n      </g>\n     </g>\n     <g id=\"text_12\">\n      <!-- −1.0 -->\n      <g transform=\"translate(7.2 177.989375)scale(0.1 -0.1)\">\n       <use xlink:href=\"#LucidaGrande-8722\"/>\n       <use x=\"79.541016\" xlink:href=\"#LucidaGrande-49\"/>\n       <use x=\"142.773438\" xlink:href=\"#LucidaGrande-46\"/>\n       <use x=\"174.414062\" xlink:href=\"#LucidaGrande-48\"/>\n      </g>\n     </g>\n    </g>\n    <g id=\"ytick_4\">\n     <g id=\"line2d_25\">\n      <path clip-path=\"url(#p354b645ab2)\" d=\"M 37.965625 146.954688 \nL 372.765625 146.954688 \n\" style=\"fill:none;stroke:#b0b0b0;stroke-linecap:square;stroke-width:0.8;\"/>\n     </g>\n     <g id=\"line2d_26\">\n      <g>\n       <use style=\"stroke:#000000;stroke-width:0.8;\" x=\"37.965625\" xlink:href=\"#md7092ebced\" y=\"146.954688\"/>\n      </g>\n     </g>\n     <g id=\"text_13\">\n      <!-- −0.5 -->\n      <g transform=\"translate(7.2 150.809375)scale(0.1 -0.1)\">\n       <use xlink:href=\"#LucidaGrande-8722\"/>\n       <use x=\"79.541016\" xlink:href=\"#LucidaGrande-48\"/>\n       <use x=\"142.773438\" xlink:href=\"#LucidaGrande-46\"/>\n       <use x=\"174.414062\" xlink:href=\"#LucidaGrande-53\"/>\n      </g>\n     </g>\n    </g>\n    <g id=\"ytick_5\">\n     <g id=\"line2d_27\">\n      <path clip-path=\"url(#p354b645ab2)\" d=\"M 37.965625 119.774687 \nL 372.765625 119.774687 \n\" style=\"fill:none;stroke:#b0b0b0;stroke-linecap:square;stroke-width:0.8;\"/>\n     </g>\n     <g id=\"line2d_28\">\n      <g>\n       <use style=\"stroke:#000000;stroke-width:0.8;\" x=\"37.965625\" xlink:href=\"#md7092ebced\" y=\"119.774687\"/>\n      </g>\n     </g>\n     <g id=\"text_14\">\n      <!-- 0.0 -->\n      <g transform=\"translate(15.154688 123.629375)scale(0.1 -0.1)\">\n       <use xlink:href=\"#LucidaGrande-48\"/>\n       <use x=\"63.232422\" xlink:href=\"#LucidaGrande-46\"/>\n       <use x=\"94.873047\" xlink:href=\"#LucidaGrande-48\"/>\n      </g>\n     </g>\n    </g>\n    <g id=\"ytick_6\">\n     <g id=\"line2d_29\">\n      <path clip-path=\"url(#p354b645ab2)\" d=\"M 37.965625 92.594687 \nL 372.765625 92.594687 \n\" style=\"fill:none;stroke:#b0b0b0;stroke-linecap:square;stroke-width:0.8;\"/>\n     </g>\n     <g id=\"line2d_30\">\n      <g>\n       <use style=\"stroke:#000000;stroke-width:0.8;\" x=\"37.965625\" xlink:href=\"#md7092ebced\" y=\"92.594687\"/>\n      </g>\n     </g>\n     <g id=\"text_15\">\n      <!-- 0.5 -->\n      <g transform=\"translate(15.154688 96.449375)scale(0.1 -0.1)\">\n       <use xlink:href=\"#LucidaGrande-48\"/>\n       <use x=\"63.232422\" xlink:href=\"#LucidaGrande-46\"/>\n       <use x=\"94.873047\" xlink:href=\"#LucidaGrande-53\"/>\n      </g>\n     </g>\n    </g>\n    <g id=\"ytick_7\">\n     <g id=\"line2d_31\">\n      <path clip-path=\"url(#p354b645ab2)\" d=\"M 37.965625 65.414687 \nL 372.765625 65.414687 \n\" style=\"fill:none;stroke:#b0b0b0;stroke-linecap:square;stroke-width:0.8;\"/>\n     </g>\n     <g id=\"line2d_32\">\n      <g>\n       <use style=\"stroke:#000000;stroke-width:0.8;\" x=\"37.965625\" xlink:href=\"#md7092ebced\" y=\"65.414687\"/>\n      </g>\n     </g>\n     <g id=\"text_16\">\n      <!-- 1.0 -->\n      <g transform=\"translate(15.154688 69.269375)scale(0.1 -0.1)\">\n       <use xlink:href=\"#LucidaGrande-49\"/>\n       <use x=\"63.232422\" xlink:href=\"#LucidaGrande-46\"/>\n       <use x=\"94.873047\" xlink:href=\"#LucidaGrande-48\"/>\n      </g>\n     </g>\n    </g>\n    <g id=\"ytick_8\">\n     <g id=\"line2d_33\">\n      <path clip-path=\"url(#p354b645ab2)\" d=\"M 37.965625 38.234688 \nL 372.765625 38.234688 \n\" style=\"fill:none;stroke:#b0b0b0;stroke-linecap:square;stroke-width:0.8;\"/>\n     </g>\n     <g id=\"line2d_34\">\n      <g>\n       <use style=\"stroke:#000000;stroke-width:0.8;\" x=\"37.965625\" xlink:href=\"#md7092ebced\" y=\"38.234688\"/>\n      </g>\n     </g>\n     <g id=\"text_17\">\n      <!-- 1.5 -->\n      <g transform=\"translate(15.154688 42.089375)scale(0.1 -0.1)\">\n       <use xlink:href=\"#LucidaGrande-49\"/>\n       <use x=\"63.232422\" xlink:href=\"#LucidaGrande-46\"/>\n       <use x=\"94.873047\" xlink:href=\"#LucidaGrande-53\"/>\n      </g>\n     </g>\n    </g>\n    <g id=\"ytick_9\">\n     <g id=\"line2d_35\">\n      <path clip-path=\"url(#p354b645ab2)\" d=\"M 37.965625 11.054688 \nL 372.765625 11.054688 \n\" style=\"fill:none;stroke:#b0b0b0;stroke-linecap:square;stroke-width:0.8;\"/>\n     </g>\n     <g id=\"line2d_36\">\n      <g>\n       <use style=\"stroke:#000000;stroke-width:0.8;\" x=\"37.965625\" xlink:href=\"#md7092ebced\" y=\"11.054688\"/>\n      </g>\n     </g>\n     <g id=\"text_18\">\n      <!-- 2.0 -->\n      <g transform=\"translate(15.154688 14.909375)scale(0.1 -0.1)\">\n       <use xlink:href=\"#LucidaGrande-50\"/>\n       <use x=\"63.232422\" xlink:href=\"#LucidaGrande-46\"/>\n       <use x=\"94.873047\" xlink:href=\"#LucidaGrande-48\"/>\n      </g>\n     </g>\n    </g>\n   </g>\n   <g id=\"line2d_37\">\n    <defs>\n     <path d=\"M -3 0 \nL 3 0 \nM 0 3 \nL 0 -3 \n\" id=\"mfa787f9e0f\" style=\"stroke:#ff0000;\"/>\n    </defs>\n    <g clip-path=\"url(#p354b645ab2)\">\n     <use style=\"fill:#ff0000;stroke:#ff0000;\" x=\"79.815625\" xlink:href=\"#mfa787f9e0f\" y=\"190.442685\"/>\n     <use style=\"fill:#ff0000;stroke:#ff0000;\" x=\"222.105625\" xlink:href=\"#mfa787f9e0f\" y=\"195.878686\"/>\n     <use style=\"fill:#ff0000;stroke:#ff0000;\" x=\"146.775626\" xlink:href=\"#mfa787f9e0f\" y=\"146.954688\"/>\n    </g>\n   </g>\n   <g id=\"line2d_38\">\n    <defs>\n     <path d=\"M 0 1.5 \nC 0.397805 1.5 0.77937 1.341951 1.06066 1.06066 \nC 1.341951 0.77937 1.5 0.397805 1.5 0 \nC 1.5 -0.397805 1.341951 -0.77937 1.06066 -1.06066 \nC 0.77937 -1.341951 0.397805 -1.5 0 -1.5 \nC -0.397805 -1.5 -0.77937 -1.341951 -1.06066 -1.06066 \nC -1.341951 -0.77937 -1.5 -0.397805 -1.5 0 \nC -1.5 0.397805 -1.341951 0.77937 -1.06066 1.06066 \nC -0.77937 1.341951 -0.397805 1.5 0 1.5 \nz\n\" id=\"m5bc5c08e78\" style=\"stroke:#0000ff;\"/>\n    </defs>\n    <g clip-path=\"url(#p354b645ab2)\">\n     <use style=\"fill:#0000ff;stroke:#0000ff;\" x=\"305.805629\" xlink:href=\"#m5bc5c08e78\" y=\"65.414687\"/>\n     <use style=\"fill:#0000ff;stroke:#0000ff;\" x=\"222.105625\" xlink:href=\"#m5bc5c08e78\" y=\"43.670689\"/>\n     <use style=\"fill:#0000ff;stroke:#0000ff;\" x=\"247.215625\" xlink:href=\"#m5bc5c08e78\" y=\"92.594687\"/>\n    </g>\n   </g>\n   <g id=\"line2d_39\">\n    <path clip-path=\"url(#p354b645ab2)\" d=\"M 37.965625 246.614696 \nL 372.765625 101.654687 \n\" style=\"fill:none;stroke:#1f77b4;stroke-linecap:square;stroke-width:1.5;\"/>\n   </g>\n   <g id=\"patch_3\">\n    <path d=\"M 37.965625 228.494687 \nL 37.965625 11.054688 \n\" style=\"fill:none;stroke:#000000;stroke-linecap:square;stroke-linejoin:miter;stroke-width:0.8;\"/>\n   </g>\n   <g id=\"patch_4\">\n    <path d=\"M 372.765625 228.494687 \nL 372.765625 11.054688 \n\" style=\"fill:none;stroke:#000000;stroke-linecap:square;stroke-linejoin:miter;stroke-width:0.8;\"/>\n   </g>\n   <g id=\"patch_5\">\n    <path d=\"M 37.965625 228.494687 \nL 372.765625 228.494687 \n\" style=\"fill:none;stroke:#000000;stroke-linecap:square;stroke-linejoin:miter;stroke-width:0.8;\"/>\n   </g>\n   <g id=\"patch_6\">\n    <path d=\"M 37.965625 11.054688 \nL 372.765625 11.054688 \n\" style=\"fill:none;stroke:#000000;stroke-linecap:square;stroke-linejoin:miter;stroke-width:0.8;\"/>\n   </g>\n  </g>\n </g>\n <defs>\n  <clipPath id=\"p354b645ab2\">\n   <rect height=\"217.44\" width=\"334.8\" x=\"37.965625\" y=\"11.054688\"/>\n  </clipPath>\n </defs>\n</svg>\n",
      "image/png": "[encoded data removed]"
     },
     "metadata": {
      "needs_background": "light"
     }
    }
   ],
   "source": [
    "import matplotlib.pyplot as plt\n",
    "\n",
    "# create some toy 2-D datapoints with binary (0/1) labels\n",
    "x = torch.tensor([[1.2, 1], [0.2, 1.4], [0.5, 0.5], \n",
    "                  [-1.5, -1.3], [0.2, -1.4], [-0.7, -0.5]])\n",
    "y = torch.tensor([0, 0, 0, 1, 1, 1 ])\n",
    "\n",
    "def plot_soln(x, y, params):\n",
    "  plt.plot(x[y==1,0], x[y==1,1], 'r+')\n",
    "  plt.plot(x[y==0,0], x[y==0,1], 'b.')\n",
    "  plt.grid(True)\n",
    "  plt.axis([-2, 2, -2, 2])\n",
    "  \n",
    "  # NOTE : This may depend on how you implement Neuron.\n",
    "  #   Change accordingly\n",
    "  w0 = params[0][0][0].item()\n",
    "  w1 = params[0][0][1].item()\n",
    "  bias = params[1][0].item()\n",
    "  \n",
    "  print(\"w0 =\", w0, \"w1 =\", w1, \"bias =\", bias)\n",
    "  dbx = torch.tensor([-2, 2])\n",
    "  dby = -(1/w1)*(w0*dbx + bias)  # plot the line corresponding to the weights and bias\n",
    "  plt.plot(dbx, dby)\n",
    "\n",
    "params = list(my_neuron.parameters())\n",
    "plot_soln(x, y, params)"
   ]
  },
  {
   "cell_type": "markdown",
   "metadata": {
    "colab_type": "text",
    "id": "CpB2AwwhckYc"
   },
   "source": [
    "**1.5.1** Declare an object `criterion` of type `nn.CrossEntropyLoss`. Note that this can be called as a function on two tensors, one representing the network outputs and the other, the targets that the network is being trained to predict, to return the loss. Print the value of the loss on the dataset using the initial weights and bias defined above in Q1.2."
   ]
  },
  {
   "cell_type": "code",
   "execution_count": 10,
   "metadata": {
    "colab": {
     "base_uri": "https://localhost:8080/",
     "height": 34
    },
    "colab_type": "code",
    "executionInfo": {
     "elapsed": 553,
     "status": "ok",
     "timestamp": 1581998912941,
     "user": {
      "displayName": "Samarth Mishra",
      "photoUrl": "",
      "userId": "00064519813488481618"
     },
     "user_tz": 300
    },
    "id": "l1M8bkH5cnVQ",
    "outputId": "8b79c853-db3e-4688-856e-1c7663195fdd"
   },
   "outputs": [
    {
     "output_type": "stream",
     "name": "stdout",
     "text": [
      "loss = 0.9425851702690125\n"
     ]
    }
   ],
   "source": [
    "my_neuron = Neuron()\n",
    "y_pred = my_neuron.forward(x)\n",
    "\n",
    "y_pred = torch.cat([y_pred, 1 - y_pred], dim=1)\n",
    "\n",
    "criterion = nn.CrossEntropyLoss()\n",
    "loss = criterion(y_pred, y)\n",
    "print(\"loss =\", loss.item())"
   ]
  },
  {
   "cell_type": "markdown",
   "metadata": {
    "colab_type": "text",
    "id": "RJqHzmDL6yYh"
   },
   "source": [
    "**1.5.2** The following prints out the chain of `grad_fn` functions backwards starting from `loss.grad_fn`  to demonstrate what backpropagation will be run on."
   ]
  },
  {
   "cell_type": "code",
   "execution_count": 11,
   "metadata": {
    "colab": {
     "base_uri": "https://localhost:8080/",
     "height": 86
    },
    "colab_type": "code",
    "executionInfo": {
     "elapsed": 404,
     "status": "ok",
     "timestamp": 1581998915620,
     "user": {
      "displayName": "Samarth Mishra",
      "photoUrl": "",
      "userId": "00064519813488481618"
     },
     "user_tz": 300
    },
    "id": "wawoYnT3U04S",
    "outputId": "cfafafbe-8cd0-48bb-c6a4-bda00371a103",
    "scrolled": true
   },
   "outputs": [
    {
     "output_type": "stream",
     "name": "stdout",
     "text": [
      "<NllLossBackward object at 0x7f9f91b387c0>\n<LogSoftmaxBackward object at 0x7f9f92a1f130>\n<CatBackward object at 0x7f9f91b387c0>\n<SigmoidBackward object at 0x7f9f92a1f160>\n"
     ]
    }
   ],
   "source": [
    "print(loss.grad_fn)  \n",
    "print(loss.grad_fn.next_functions[0][0])  \n",
    "print(loss.grad_fn.next_functions[0][0].next_functions[0][0])  \n",
    "print(loss.grad_fn.next_functions[0][0].next_functions[0][0].next_functions[0][0])  "
   ]
  },
  {
   "cell_type": "markdown",
   "metadata": {
    "colab_type": "text",
    "id": "Og0ZO46h3UNg"
   },
   "source": [
    "**1.5.3** Run the Stochastic Gradient Descent (SGD) optimizer from the `torch.optim` package to train your classifier on the toy dataset. Use the entire dataset in each batch. Use a learning rate of $0.01$ (no other hyperparameters). You will need to write a training loop that uses the `.step()` function of the optimizer. Plot the solution and print the loss after 1000 iterations."
   ]
  },
  {
   "cell_type": "code",
   "execution_count": 12,
   "metadata": {
    "colab": {
     "base_uri": "https://localhost:8080/",
     "height": 304
    },
    "colab_type": "code",
    "executionInfo": {
     "elapsed": 1098,
     "status": "ok",
     "timestamp": 1581998918323,
     "user": {
      "displayName": "Samarth Mishra",
      "photoUrl": "",
      "userId": "00064519813488481618"
     },
     "user_tz": 300
    },
    "id": "fqxdnM-vV1DU",
    "outputId": "3699a412-a9bb-48ad-d873-53349a233a23"
   },
   "outputs": [
    {
     "output_type": "stream",
     "name": "stdout",
     "text": [
      "loss = 0.870725691318512\nw0 = 2.161842107772827 w1 = -2.233754873275757 bias = -3.3213229179382324\n"
     ]
    },
    {
     "output_type": "display_data",
     "data": {
      "text/plain": "<Figure size 432x288 with 1 Axes>",
      "image/svg+xml": "<?xml version=\"1.0\" encoding=\"utf-8\" standalone=\"no\"?>\n<!DOCTYPE svg PUBLIC \"-//W3C//DTD SVG 1.1//EN\"\n  \"http://www.w3.org/Graphics/SVG/1.1/DTD/svg11.dtd\">\n<!-- Created with matplotlib (https://matplotlib.org/) -->\n<svg height=\"252.332188pt\" version=\"1.1\" viewBox=\"0 0 387.871094 252.332188\" width=\"387.871094pt\" xmlns=\"http://www.w3.org/2000/svg\" xmlns:xlink=\"http://www.w3.org/1999/xlink\">\n <metadata>\n  <rdf:RDF xmlns:cc=\"http://creativecommons.org/ns#\" xmlns:dc=\"http://purl.org/dc/elements/1.1/\" xmlns:rdf=\"http://www.w3.org/1999/02/22-rdf-syntax-ns#\">\n   <cc:Work>\n    <dc:type rdf:resource=\"http://purl.org/dc/dcmitype/StillImage\"/>\n    <dc:date>2021-06-15T15:31:48.781137</dc:date>\n    <dc:format>image/svg+xml</dc:format>\n    <dc:creator>\n     <cc:Agent>\n      <dc:title>Matplotlib v3.3.4, https://matplotlib.org/</dc:title>\n     </cc:Agent>\n    </dc:creator>\n   </cc:Work>\n  </rdf:RDF>\n </metadata>\n <defs>\n  <style type=\"text/css\">*{stroke-linecap:butt;stroke-linejoin:round;}</style>\n </defs>\n <g id=\"figure_1\">\n  <g id=\"patch_1\">\n   <path d=\"M 0 252.332188 \nL 387.871094 252.332188 \nL 387.871094 0 \nL 0 0 \nz\n\" style=\"fill:none;\"/>\n  </g>\n  <g id=\"axes_1\">\n   <g id=\"patch_2\">\n    <path d=\"M 37.965625 228.494687 \nL 372.765625 228.494687 \nL 372.765625 11.054688 \nL 37.965625 11.054688 \nz\n\" style=\"fill:#ffffff;\"/>\n   </g>\n   <g id=\"matplotlib.axis_1\">\n    <g id=\"xtick_1\">\n     <g id=\"line2d_1\">\n      <path clip-path=\"url(#p7f3accbf40)\" d=\"M 37.965625 228.494687 \nL 37.965625 11.054688 \n\" style=\"fill:none;stroke:#b0b0b0;stroke-linecap:square;stroke-width:0.8;\"/>\n     </g>\n     <g id=\"line2d_2\">\n      <defs>\n       <path d=\"M 0 0 \nL 0 3.5 \n\" id=\"mc9f6bfcc00\" style=\"stroke:#000000;stroke-width:0.8;\"/>\n      </defs>\n      <g>\n       <use style=\"stroke:#000000;stroke-width:0.8;\" x=\"37.965625\" xlink:href=\"#mc9f6bfcc00\" y=\"228.494687\"/>\n      </g>\n     </g>\n     <g id=\"text_1\">\n      <!-- −2.0 -->\n      <g transform=\"translate(26.082813 243.204062)scale(0.1 -0.1)\">\n       <defs>\n        <path d=\"M 10.84375 25.296875 \nL 10.84375 32.515625 \nL 68.65625 32.515625 \nL 68.65625 25.296875 \nz\n\" id=\"LucidaGrande-8722\"/>\n        <path d=\"M 8.296875 0 \nL 8.296875 8.453125 \nQ 12.5 18.265625 25.296875 29.828125 \nL 30.8125 34.765625 \nQ 41.453125 44.390625 41.453125 53.859375 \nQ 41.453125 59.90625 37.8125 63.375 \nQ 34.1875 66.84375 27.828125 66.84375 \nQ 20.3125 66.84375 10.109375 61.03125 \nL 10.109375 69.53125 \nQ 19.734375 74.078125 29.203125 74.078125 \nQ 39.359375 74.078125 45.5 68.609375 \nQ 51.65625 63.140625 51.65625 54.109375 \nQ 51.65625 47.609375 48.546875 42.578125 \nQ 45.453125 37.546875 37.015625 30.375 \nL 33.296875 27.203125 \nQ 21.734375 17.390625 19.921875 8.453125 \nL 51.3125 8.453125 \nL 51.3125 0 \nz\n\" id=\"LucidaGrande-50\"/>\n        <path d=\"M 9.765625 0 \nL 9.765625 12.0625 \nL 21.828125 12.0625 \nL 21.828125 0 \nz\n\" id=\"LucidaGrande-46\"/>\n        <path d=\"M 31.34375 -1.8125 \nQ 20.171875 -1.8125 13.25 8.703125 \nQ 6.34375 19.234375 6.34375 36.1875 \nQ 6.34375 53.265625 13.296875 63.671875 \nQ 20.265625 74.078125 31.640625 74.078125 \nQ 43.015625 74.078125 49.96875 63.671875 \nQ 56.9375 53.265625 56.9375 36.328125 \nQ 56.9375 18.953125 49.96875 8.5625 \nQ 43.015625 -1.8125 31.34375 -1.8125 \nz\nM 31.453125 5.421875 \nQ 46.734375 5.421875 46.734375 36.46875 \nQ 46.734375 66.84375 31.640625 66.84375 \nQ 16.609375 66.84375 16.609375 36.1875 \nQ 16.609375 5.421875 31.453125 5.421875 \nz\n\" id=\"LucidaGrande-48\"/>\n       </defs>\n       <use xlink:href=\"#LucidaGrande-8722\"/>\n       <use x=\"79.541016\" xlink:href=\"#LucidaGrande-50\"/>\n       <use x=\"142.773438\" xlink:href=\"#LucidaGrande-46\"/>\n       <use x=\"174.414062\" xlink:href=\"#LucidaGrande-48\"/>\n      </g>\n     </g>\n    </g>\n    <g id=\"xtick_2\">\n     <g id=\"line2d_3\">\n      <path clip-path=\"url(#p7f3accbf40)\" d=\"M 79.815625 228.494687 \nL 79.815625 11.054688 \n\" style=\"fill:none;stroke:#b0b0b0;stroke-linecap:square;stroke-width:0.8;\"/>\n     </g>\n     <g id=\"line2d_4\">\n      <g>\n       <use style=\"stroke:#000000;stroke-width:0.8;\" x=\"79.815625\" xlink:href=\"#mc9f6bfcc00\" y=\"228.494687\"/>\n      </g>\n     </g>\n     <g id=\"text_2\">\n      <!-- −1.5 -->\n      <g transform=\"translate(67.932813 243.204062)scale(0.1 -0.1)\">\n       <defs>\n        <path d=\"M 15.046875 0 \nL 15.046875 7.234375 \nL 29.5 7.234375 \nL 29.5 64.265625 \nL 15.046875 60.640625 \nL 15.046875 68.0625 \nL 39.15625 74.078125 \nL 39.15625 7.234375 \nL 53.609375 7.234375 \nL 53.609375 0 \nz\n\" id=\"LucidaGrande-49\"/>\n        <path d=\"M 12.15625 -0.296875 \nL 12.15625 8.296875 \nQ 19.34375 5.421875 25.828125 5.421875 \nQ 32.953125 5.421875 37.03125 9.609375 \nQ 41.109375 13.8125 41.109375 21.1875 \nQ 41.109375 37.453125 18.703125 37.453125 \nQ 16.15625 37.453125 13.375 37.109375 \nL 13.375 72.265625 \nL 49.953125 72.265625 \nL 49.953125 63.875 \nL 21.828125 63.875 \nL 21.828125 44.828125 \nQ 35.75 44.828125 43.5625 38.421875 \nQ 51.375 32.03125 51.375 20.703125 \nQ 51.375 10.15625 44.265625 4.171875 \nQ 37.15625 -1.8125 24.5625 -1.8125 \nQ 19.09375 -1.8125 12.15625 -0.296875 \nz\n\" id=\"LucidaGrande-53\"/>\n       </defs>\n       <use xlink:href=\"#LucidaGrande-8722\"/>\n       <use x=\"79.541016\" xlink:href=\"#LucidaGrande-49\"/>\n       <use x=\"142.773438\" xlink:href=\"#LucidaGrande-46\"/>\n       <use x=\"174.414062\" xlink:href=\"#LucidaGrande-53\"/>\n      </g>\n     </g>\n    </g>\n    <g id=\"xtick_3\">\n     <g id=\"line2d_5\">\n      <path clip-path=\"url(#p7f3accbf40)\" d=\"M 121.665625 228.494687 \nL 121.665625 11.054688 \n\" style=\"fill:none;stroke:#b0b0b0;stroke-linecap:square;stroke-width:0.8;\"/>\n     </g>\n     <g id=\"line2d_6\">\n      <g>\n       <use style=\"stroke:#000000;stroke-width:0.8;\" x=\"121.665625\" xlink:href=\"#mc9f6bfcc00\" y=\"228.494687\"/>\n      </g>\n     </g>\n     <g id=\"text_3\">\n      <!-- −1.0 -->\n      <g transform=\"translate(109.782813 243.204062)scale(0.1 -0.1)\">\n       <use xlink:href=\"#LucidaGrande-8722\"/>\n       <use x=\"79.541016\" xlink:href=\"#LucidaGrande-49\"/>\n       <use x=\"142.773438\" xlink:href=\"#LucidaGrande-46\"/>\n       <use x=\"174.414062\" xlink:href=\"#LucidaGrande-48\"/>\n      </g>\n     </g>\n    </g>\n    <g id=\"xtick_4\">\n     <g id=\"line2d_7\">\n      <path clip-path=\"url(#p7f3accbf40)\" d=\"M 163.515625 228.494687 \nL 163.515625 11.054688 \n\" style=\"fill:none;stroke:#b0b0b0;stroke-linecap:square;stroke-width:0.8;\"/>\n     </g>\n     <g id=\"line2d_8\">\n      <g>\n       <use style=\"stroke:#000000;stroke-width:0.8;\" x=\"163.515625\" xlink:href=\"#mc9f6bfcc00\" y=\"228.494687\"/>\n      </g>\n     </g>\n     <g id=\"text_4\">\n      <!-- −0.5 -->\n      <g transform=\"translate(151.632813 243.204062)scale(0.1 -0.1)\">\n       <use xlink:href=\"#LucidaGrande-8722\"/>\n       <use x=\"79.541016\" xlink:href=\"#LucidaGrande-48\"/>\n       <use x=\"142.773438\" xlink:href=\"#LucidaGrande-46\"/>\n       <use x=\"174.414062\" xlink:href=\"#LucidaGrande-53\"/>\n      </g>\n     </g>\n    </g>\n    <g id=\"xtick_5\">\n     <g id=\"line2d_9\">\n      <path clip-path=\"url(#p7f3accbf40)\" d=\"M 205.365625 228.494687 \nL 205.365625 11.054688 \n\" style=\"fill:none;stroke:#b0b0b0;stroke-linecap:square;stroke-width:0.8;\"/>\n     </g>\n     <g id=\"line2d_10\">\n      <g>\n       <use style=\"stroke:#000000;stroke-width:0.8;\" x=\"205.365625\" xlink:href=\"#mc9f6bfcc00\" y=\"228.494687\"/>\n      </g>\n     </g>\n     <g id=\"text_5\">\n      <!-- 0.0 -->\n      <g transform=\"translate(197.460156 243.204062)scale(0.1 -0.1)\">\n       <use xlink:href=\"#LucidaGrande-48\"/>\n       <use x=\"63.232422\" xlink:href=\"#LucidaGrande-46\"/>\n       <use x=\"94.873047\" xlink:href=\"#LucidaGrande-48\"/>\n      </g>\n     </g>\n    </g>\n    <g id=\"xtick_6\">\n     <g id=\"line2d_11\">\n      <path clip-path=\"url(#p7f3accbf40)\" d=\"M 247.215625 228.494687 \nL 247.215625 11.054688 \n\" style=\"fill:none;stroke:#b0b0b0;stroke-linecap:square;stroke-width:0.8;\"/>\n     </g>\n     <g id=\"line2d_12\">\n      <g>\n       <use style=\"stroke:#000000;stroke-width:0.8;\" x=\"247.215625\" xlink:href=\"#mc9f6bfcc00\" y=\"228.494687\"/>\n      </g>\n     </g>\n     <g id=\"text_6\">\n      <!-- 0.5 -->\n      <g transform=\"translate(239.310156 243.204062)scale(0.1 -0.1)\">\n       <use xlink:href=\"#LucidaGrande-48\"/>\n       <use x=\"63.232422\" xlink:href=\"#LucidaGrande-46\"/>\n       <use x=\"94.873047\" xlink:href=\"#LucidaGrande-53\"/>\n      </g>\n     </g>\n    </g>\n    <g id=\"xtick_7\">\n     <g id=\"line2d_13\">\n      <path clip-path=\"url(#p7f3accbf40)\" d=\"M 289.065625 228.494687 \nL 289.065625 11.054688 \n\" style=\"fill:none;stroke:#b0b0b0;stroke-linecap:square;stroke-width:0.8;\"/>\n     </g>\n     <g id=\"line2d_14\">\n      <g>\n       <use style=\"stroke:#000000;stroke-width:0.8;\" x=\"289.065625\" xlink:href=\"#mc9f6bfcc00\" y=\"228.494687\"/>\n      </g>\n     </g>\n     <g id=\"text_7\">\n      <!-- 1.0 -->\n      <g transform=\"translate(281.160156 243.204062)scale(0.1 -0.1)\">\n       <use xlink:href=\"#LucidaGrande-49\"/>\n       <use x=\"63.232422\" xlink:href=\"#LucidaGrande-46\"/>\n       <use x=\"94.873047\" xlink:href=\"#LucidaGrande-48\"/>\n      </g>\n     </g>\n    </g>\n    <g id=\"xtick_8\">\n     <g id=\"line2d_15\">\n      <path clip-path=\"url(#p7f3accbf40)\" d=\"M 330.915625 228.494687 \nL 330.915625 11.054688 \n\" style=\"fill:none;stroke:#b0b0b0;stroke-linecap:square;stroke-width:0.8;\"/>\n     </g>\n     <g id=\"line2d_16\">\n      <g>\n       <use style=\"stroke:#000000;stroke-width:0.8;\" x=\"330.915625\" xlink:href=\"#mc9f6bfcc00\" y=\"228.494687\"/>\n      </g>\n     </g>\n     <g id=\"text_8\">\n      <!-- 1.5 -->\n      <g transform=\"translate(323.010156 243.204062)scale(0.1 -0.1)\">\n       <use xlink:href=\"#LucidaGrande-49\"/>\n       <use x=\"63.232422\" xlink:href=\"#LucidaGrande-46\"/>\n       <use x=\"94.873047\" xlink:href=\"#LucidaGrande-53\"/>\n      </g>\n     </g>\n    </g>\n    <g id=\"xtick_9\">\n     <g id=\"line2d_17\">\n      <path clip-path=\"url(#p7f3accbf40)\" d=\"M 372.765625 228.494687 \nL 372.765625 11.054688 \n\" style=\"fill:none;stroke:#b0b0b0;stroke-linecap:square;stroke-width:0.8;\"/>\n     </g>\n     <g id=\"line2d_18\">\n      <g>\n       <use style=\"stroke:#000000;stroke-width:0.8;\" x=\"372.765625\" xlink:href=\"#mc9f6bfcc00\" y=\"228.494687\"/>\n      </g>\n     </g>\n     <g id=\"text_9\">\n      <!-- 2.0 -->\n      <g transform=\"translate(364.860156 243.204062)scale(0.1 -0.1)\">\n       <use xlink:href=\"#LucidaGrande-50\"/>\n       <use x=\"63.232422\" xlink:href=\"#LucidaGrande-46\"/>\n       <use x=\"94.873047\" xlink:href=\"#LucidaGrande-48\"/>\n      </g>\n     </g>\n    </g>\n   </g>\n   <g id=\"matplotlib.axis_2\">\n    <g id=\"ytick_1\">\n     <g id=\"line2d_19\">\n      <path clip-path=\"url(#p7f3accbf40)\" d=\"M 37.965625 228.494687 \nL 372.765625 228.494687 \n\" style=\"fill:none;stroke:#b0b0b0;stroke-linecap:square;stroke-width:0.8;\"/>\n     </g>\n     <g id=\"line2d_20\">\n      <defs>\n       <path d=\"M 0 0 \nL -3.5 0 \n\" id=\"m73b6ef6801\" style=\"stroke:#000000;stroke-width:0.8;\"/>\n      </defs>\n      <g>\n       <use style=\"stroke:#000000;stroke-width:0.8;\" x=\"37.965625\" xlink:href=\"#m73b6ef6801\" y=\"228.494687\"/>\n      </g>\n     </g>\n     <g id=\"text_10\">\n      <!-- −2.0 -->\n      <g transform=\"translate(7.2 232.349375)scale(0.1 -0.1)\">\n       <use xlink:href=\"#LucidaGrande-8722\"/>\n       <use x=\"79.541016\" xlink:href=\"#LucidaGrande-50\"/>\n       <use x=\"142.773438\" xlink:href=\"#LucidaGrande-46\"/>\n       <use x=\"174.414062\" xlink:href=\"#LucidaGrande-48\"/>\n      </g>\n     </g>\n    </g>\n    <g id=\"ytick_2\">\n     <g id=\"line2d_21\">\n      <path clip-path=\"url(#p7f3accbf40)\" d=\"M 37.965625 201.314687 \nL 372.765625 201.314687 \n\" style=\"fill:none;stroke:#b0b0b0;stroke-linecap:square;stroke-width:0.8;\"/>\n     </g>\n     <g id=\"line2d_22\">\n      <g>\n       <use style=\"stroke:#000000;stroke-width:0.8;\" x=\"37.965625\" xlink:href=\"#m73b6ef6801\" y=\"201.314687\"/>\n      </g>\n     </g>\n     <g id=\"text_11\">\n      <!-- −1.5 -->\n      <g transform=\"translate(7.2 205.169375)scale(0.1 -0.1)\">\n       <use xlink:href=\"#LucidaGrande-8722\"/>\n       <use x=\"79.541016\" xlink:href=\"#LucidaGrande-49\"/>\n       <use x=\"142.773438\" xlink:href=\"#LucidaGrande-46\"/>\n       <use x=\"174.414062\" xlink:href=\"#LucidaGrande-53\"/>\n      </g>\n     </g>\n    </g>\n    <g id=\"ytick_3\">\n     <g id=\"line2d_23\">\n      <path clip-path=\"url(#p7f3accbf40)\" d=\"M 37.965625 174.134687 \nL 372.765625 174.134687 \n\" style=\"fill:none;stroke:#b0b0b0;stroke-linecap:square;stroke-width:0.8;\"/>\n     </g>\n     <g id=\"line2d_24\">\n      <g>\n       <use style=\"stroke:#000000;stroke-width:0.8;\" x=\"37.965625\" xlink:href=\"#m73b6ef6801\" y=\"174.134687\"/>\n      </g>\n     </g>\n     <g id=\"text_12\">\n      <!-- −1.0 -->\n      <g transform=\"translate(7.2 177.989375)scale(0.1 -0.1)\">\n       <use xlink:href=\"#LucidaGrande-8722\"/>\n       <use x=\"79.541016\" xlink:href=\"#LucidaGrande-49\"/>\n       <use x=\"142.773438\" xlink:href=\"#LucidaGrande-46\"/>\n       <use x=\"174.414062\" xlink:href=\"#LucidaGrande-48\"/>\n      </g>\n     </g>\n    </g>\n    <g id=\"ytick_4\">\n     <g id=\"line2d_25\">\n      <path clip-path=\"url(#p7f3accbf40)\" d=\"M 37.965625 146.954688 \nL 372.765625 146.954688 \n\" style=\"fill:none;stroke:#b0b0b0;stroke-linecap:square;stroke-width:0.8;\"/>\n     </g>\n     <g id=\"line2d_26\">\n      <g>\n       <use style=\"stroke:#000000;stroke-width:0.8;\" x=\"37.965625\" xlink:href=\"#m73b6ef6801\" y=\"146.954688\"/>\n      </g>\n     </g>\n     <g id=\"text_13\">\n      <!-- −0.5 -->\n      <g transform=\"translate(7.2 150.809375)scale(0.1 -0.1)\">\n       <use xlink:href=\"#LucidaGrande-8722\"/>\n       <use x=\"79.541016\" xlink:href=\"#LucidaGrande-48\"/>\n       <use x=\"142.773438\" xlink:href=\"#LucidaGrande-46\"/>\n       <use x=\"174.414062\" xlink:href=\"#LucidaGrande-53\"/>\n      </g>\n     </g>\n    </g>\n    <g id=\"ytick_5\">\n     <g id=\"line2d_27\">\n      <path clip-path=\"url(#p7f3accbf40)\" d=\"M 37.965625 119.774687 \nL 372.765625 119.774687 \n\" style=\"fill:none;stroke:#b0b0b0;stroke-linecap:square;stroke-width:0.8;\"/>\n     </g>\n     <g id=\"line2d_28\">\n      <g>\n       <use style=\"stroke:#000000;stroke-width:0.8;\" x=\"37.965625\" xlink:href=\"#m73b6ef6801\" y=\"119.774687\"/>\n      </g>\n     </g>\n     <g id=\"text_14\">\n      <!-- 0.0 -->\n      <g transform=\"translate(15.154688 123.629375)scale(0.1 -0.1)\">\n       <use xlink:href=\"#LucidaGrande-48\"/>\n       <use x=\"63.232422\" xlink:href=\"#LucidaGrande-46\"/>\n       <use x=\"94.873047\" xlink:href=\"#LucidaGrande-48\"/>\n      </g>\n     </g>\n    </g>\n    <g id=\"ytick_6\">\n     <g id=\"line2d_29\">\n      <path clip-path=\"url(#p7f3accbf40)\" d=\"M 37.965625 92.594687 \nL 372.765625 92.594687 \n\" style=\"fill:none;stroke:#b0b0b0;stroke-linecap:square;stroke-width:0.8;\"/>\n     </g>\n     <g id=\"line2d_30\">\n      <g>\n       <use style=\"stroke:#000000;stroke-width:0.8;\" x=\"37.965625\" xlink:href=\"#m73b6ef6801\" y=\"92.594687\"/>\n      </g>\n     </g>\n     <g id=\"text_15\">\n      <!-- 0.5 -->\n      <g transform=\"translate(15.154688 96.449375)scale(0.1 -0.1)\">\n       <use xlink:href=\"#LucidaGrande-48\"/>\n       <use x=\"63.232422\" xlink:href=\"#LucidaGrande-46\"/>\n       <use x=\"94.873047\" xlink:href=\"#LucidaGrande-53\"/>\n      </g>\n     </g>\n    </g>\n    <g id=\"ytick_7\">\n     <g id=\"line2d_31\">\n      <path clip-path=\"url(#p7f3accbf40)\" d=\"M 37.965625 65.414687 \nL 372.765625 65.414687 \n\" style=\"fill:none;stroke:#b0b0b0;stroke-linecap:square;stroke-width:0.8;\"/>\n     </g>\n     <g id=\"line2d_32\">\n      <g>\n       <use style=\"stroke:#000000;stroke-width:0.8;\" x=\"37.965625\" xlink:href=\"#m73b6ef6801\" y=\"65.414687\"/>\n      </g>\n     </g>\n     <g id=\"text_16\">\n      <!-- 1.0 -->\n      <g transform=\"translate(15.154688 69.269375)scale(0.1 -0.1)\">\n       <use xlink:href=\"#LucidaGrande-49\"/>\n       <use x=\"63.232422\" xlink:href=\"#LucidaGrande-46\"/>\n       <use x=\"94.873047\" xlink:href=\"#LucidaGrande-48\"/>\n      </g>\n     </g>\n    </g>\n    <g id=\"ytick_8\">\n     <g id=\"line2d_33\">\n      <path clip-path=\"url(#p7f3accbf40)\" d=\"M 37.965625 38.234688 \nL 372.765625 38.234688 \n\" style=\"fill:none;stroke:#b0b0b0;stroke-linecap:square;stroke-width:0.8;\"/>\n     </g>\n     <g id=\"line2d_34\">\n      <g>\n       <use style=\"stroke:#000000;stroke-width:0.8;\" x=\"37.965625\" xlink:href=\"#m73b6ef6801\" y=\"38.234688\"/>\n      </g>\n     </g>\n     <g id=\"text_17\">\n      <!-- 1.5 -->\n      <g transform=\"translate(15.154688 42.089375)scale(0.1 -0.1)\">\n       <use xlink:href=\"#LucidaGrande-49\"/>\n       <use x=\"63.232422\" xlink:href=\"#LucidaGrande-46\"/>\n       <use x=\"94.873047\" xlink:href=\"#LucidaGrande-53\"/>\n      </g>\n     </g>\n    </g>\n    <g id=\"ytick_9\">\n     <g id=\"line2d_35\">\n      <path clip-path=\"url(#p7f3accbf40)\" d=\"M 37.965625 11.054688 \nL 372.765625 11.054688 \n\" style=\"fill:none;stroke:#b0b0b0;stroke-linecap:square;stroke-width:0.8;\"/>\n     </g>\n     <g id=\"line2d_36\">\n      <g>\n       <use style=\"stroke:#000000;stroke-width:0.8;\" x=\"37.965625\" xlink:href=\"#m73b6ef6801\" y=\"11.054688\"/>\n      </g>\n     </g>\n     <g id=\"text_18\">\n      <!-- 2.0 -->\n      <g transform=\"translate(15.154688 14.909375)scale(0.1 -0.1)\">\n       <use xlink:href=\"#LucidaGrande-50\"/>\n       <use x=\"63.232422\" xlink:href=\"#LucidaGrande-46\"/>\n       <use x=\"94.873047\" xlink:href=\"#LucidaGrande-48\"/>\n      </g>\n     </g>\n    </g>\n   </g>\n   <g id=\"line2d_37\">\n    <defs>\n     <path d=\"M -3 0 \nL 3 0 \nM 0 3 \nL 0 -3 \n\" id=\"m82f339b20a\" style=\"stroke:#ff0000;\"/>\n    </defs>\n    <g clip-path=\"url(#p7f3accbf40)\">\n     <use style=\"fill:#ff0000;stroke:#ff0000;\" x=\"79.815625\" xlink:href=\"#m82f339b20a\" y=\"190.442685\"/>\n     <use style=\"fill:#ff0000;stroke:#ff0000;\" x=\"222.105625\" xlink:href=\"#m82f339b20a\" y=\"195.878686\"/>\n     <use style=\"fill:#ff0000;stroke:#ff0000;\" x=\"146.775626\" xlink:href=\"#m82f339b20a\" y=\"146.954688\"/>\n    </g>\n   </g>\n   <g id=\"line2d_38\">\n    <defs>\n     <path d=\"M 0 1.5 \nC 0.397805 1.5 0.77937 1.341951 1.06066 1.06066 \nC 1.341951 0.77937 1.5 0.397805 1.5 0 \nC 1.5 -0.397805 1.341951 -0.77937 1.06066 -1.06066 \nC 0.77937 -1.341951 0.397805 -1.5 0 -1.5 \nC -0.397805 -1.5 -0.77937 -1.341951 -1.06066 -1.06066 \nC -1.341951 -0.77937 -1.5 -0.397805 -1.5 0 \nC -1.5 0.397805 -1.341951 0.77937 -1.06066 1.06066 \nC -0.77937 1.341951 -0.397805 1.5 0 1.5 \nz\n\" id=\"m69ed27a6a0\" style=\"stroke:#0000ff;\"/>\n    </defs>\n    <g clip-path=\"url(#p7f3accbf40)\">\n     <use style=\"fill:#0000ff;stroke:#0000ff;\" x=\"305.805629\" xlink:href=\"#m69ed27a6a0\" y=\"65.414687\"/>\n     <use style=\"fill:#0000ff;stroke:#0000ff;\" x=\"222.105625\" xlink:href=\"#m69ed27a6a0\" y=\"43.670689\"/>\n     <use style=\"fill:#0000ff;stroke:#0000ff;\" x=\"247.215625\" xlink:href=\"#m69ed27a6a0\" y=\"92.594687\"/>\n    </g>\n   </g>\n   <g id=\"line2d_39\">\n    <path clip-path=\"url(#p7f3accbf40)\" d=\"M 121.473419 253.332188 \nL 372.765625 95.381519 \n\" style=\"fill:none;stroke:#1f77b4;stroke-linecap:square;stroke-width:1.5;\"/>\n   </g>\n   <g id=\"patch_3\">\n    <path d=\"M 37.965625 228.494687 \nL 37.965625 11.054688 \n\" style=\"fill:none;stroke:#000000;stroke-linecap:square;stroke-linejoin:miter;stroke-width:0.8;\"/>\n   </g>\n   <g id=\"patch_4\">\n    <path d=\"M 372.765625 228.494687 \nL 372.765625 11.054688 \n\" style=\"fill:none;stroke:#000000;stroke-linecap:square;stroke-linejoin:miter;stroke-width:0.8;\"/>\n   </g>\n   <g id=\"patch_5\">\n    <path d=\"M 37.965625 228.494687 \nL 372.765625 228.494687 \n\" style=\"fill:none;stroke:#000000;stroke-linecap:square;stroke-linejoin:miter;stroke-width:0.8;\"/>\n   </g>\n   <g id=\"patch_6\">\n    <path d=\"M 37.965625 11.054688 \nL 372.765625 11.054688 \n\" style=\"fill:none;stroke:#000000;stroke-linecap:square;stroke-linejoin:miter;stroke-width:0.8;\"/>\n   </g>\n  </g>\n </g>\n <defs>\n  <clipPath id=\"p7f3accbf40\">\n   <rect height=\"217.44\" width=\"334.8\" x=\"37.965625\" y=\"11.054688\"/>\n  </clipPath>\n </defs>\n</svg>\n",
      "image/png": "[encoded data removed]"
     },
     "metadata": {
      "needs_background": "light"
     }
    }
   ],
   "source": [
    "optimiser = torch.optim.SGD(my_neuron.parameters(), lr = 0.01)\n",
    "\n",
    "for i in range(1000):\n",
    "    optimiser.zero_grad()\n",
    "    output = my_neuron(x)\n",
    "    output = torch.cat([output, 1 - output], dim=1)\n",
    "    loss = criterion(output, y)\n",
    "    loss.backward()\n",
    "    optimiser.step()\n",
    "\n",
    "print(\"loss =\", loss.item())\n",
    "params = list(my_neuron.parameters())\n",
    "plot_soln(x, y, params)\n",
    "\n",
    "# i = 0\n",
    "# accuracy = 0\n",
    "# while accuracy != 1:\n",
    "#     optimiser.zero_grad()\n",
    "#     output = my_neuron(x)\n",
    "#     output = torch.cat([output, 1 - output], dim=1)\n",
    "#     score, predicted = torch.max(output, 1)\n",
    "\n",
    "#     accuracy = (y == predicted).sum().float() / len(y)\n",
    "\n",
    "#     loss = criterion(output, y)\n",
    "#     loss.backward()\n",
    "#     optimiser.step()\n",
    "#     i = i + 1\n",
    "\n",
    "# print(\"Number of iterations to learn the data: \", i)"
   ]
  },
  {
   "cell_type": "markdown",
   "metadata": {
    "colab_type": "text",
    "id": "Z0NBjzHF6TN5"
   },
   "source": [
    "**1.5.4** How many thousands of iterations does it take (approximately) until the neuron learns to classify the data correctly?"
   ]
  },
  {
   "cell_type": "markdown",
   "metadata": {
    "colab_type": "text",
    "id": "wc4CEo9c6neD"
   },
   "source": [
    "Around about 4723 iterations"
   ]
  },
  {
   "cell_type": "markdown",
   "metadata": {
    "colab_type": "text",
    "id": "xEV3Px886zrI"
   },
   "source": [
    "\n",
    "\n",
    "---\n",
    "\n",
    "\n",
    "# Problem 2: Convolutional Networks (30 points)\n",
    "\n",
    "In this part, we will experiment with CNNs in PyTorch. You will need to read the documentation of the functions provided below to understand how they work.\n",
    "\n",
    "**GPU Training.** Smaller networks will train fine on a CPU, but you may want to use GPU training for this part of the homework. You can run your experiments on Colab's GPUs or on BU's  [Shared Computing Cluster (SCC)](http://www.bu.edu/tech/services/research/computation/scc/). "
   ]
  },
  {
   "cell_type": "markdown",
   "metadata": {
    "colab_type": "text",
    "id": "Kxl45fh6FNq6"
   },
   "source": [
    "### 2.1. Training a CNN on SVHN\n",
    "We will create and train a convolutional network on the [SVHN Dataset](http://ufldl.stanford.edu/housenumbers/).\n",
    "\n",
    "The SVHN dataset consists of photos of house numbers, collected automatically using Google's Street View. Recognizing multi-digit numbers in photographs captured at street level is an important component of modern-day map making. Google’s Street View imagery contains hundreds of millions of geo-located 360 degree panoramic images. The ability to automatically transcribe an address number from a geo-located patch of pixels and associate the transcribed number with a known street address helps pinpoint, with a high degree of accuracy, the location of the building it represents. Below are example images from the dataset. Note that for this dataset, each image (32x32 pixels) has been cropped around a single number in its center, which is the number we want to classify.\n",
    "\n",
    "![SVHN images](http://ufldl.stanford.edu/housenumbers/32x32eg.png)\n"
   ]
  },
  {
   "cell_type": "markdown",
   "metadata": {
    "colab_type": "text",
    "id": "NJa-vlG99lMr"
   },
   "source": [
    "### 2.1.2 Data Download\n",
    "The following downloads the SVHN dataset using `torchvision` and displays the images in the first batch. "
   ]
  },
  {
   "cell_type": "code",
   "execution_count": 13,
   "metadata": {
    "colab": {},
    "colab_type": "code",
    "id": "dHFWPxi6jCoB"
   },
   "outputs": [
    {
     "output_type": "stream",
     "name": "stdout",
     "text": [
      "Using downloaded and verified file: ./data/train_32x32.mat\n",
      "Using downloaded and verified file: ./data/test_32x32.mat\n"
     ]
    }
   ],
   "source": [
    "import torch\n",
    "import torchvision\n",
    "import torchvision.transforms as transforms\n",
    "\n",
    "transform = transforms.Compose(\n",
    "    [transforms.ToTensor(),\n",
    "     transforms.Normalize((0.5, 0.5, 0.5), (0.5, 0.5, 0.5))])\n",
    "\n",
    "trainset = torchvision.datasets.SVHN(root='./data', split='train',\n",
    "                                        transform=transform, download=True)\n",
    "trainloader = torch.utils.data.DataLoader(trainset, batch_size=4,\n",
    "                                          shuffle=True, num_workers=2)\n",
    "testset = torchvision.datasets.SVHN(root='./data', split='test',\n",
    "                                        transform=transform, download=True)\n",
    "testloader = torch.utils.data.DataLoader(testset, batch_size=4,\n",
    "                                         shuffle=False, num_workers=2)\n",
    "\n",
    "classes = ('0', '1', '2', '3', '4', '5', '6', '7', '8', '9')"
   ]
  },
  {
   "cell_type": "code",
   "execution_count": 14,
   "metadata": {},
   "outputs": [
    {
     "output_type": "stream",
     "name": "stdout",
     "text": [
      "    1     9     2     5\n"
     ]
    },
    {
     "output_type": "display_data",
     "data": {
      "text/plain": "<Figure size 432x288 with 1 Axes>",
      "image/svg+xml": "<?xml version=\"1.0\" encoding=\"utf-8\" standalone=\"no\"?>\n<!DOCTYPE svg PUBLIC \"-//W3C//DTD SVG 1.1//EN\"\n  \"http://www.w3.org/Graphics/SVG/1.1/DTD/svg11.dtd\">\n<!-- Created with matplotlib (https://matplotlib.org/) -->\n<svg height=\"121.018274pt\" version=\"1.1\" viewBox=\"0 0 368.846875 121.018274\" width=\"368.846875pt\" xmlns=\"http://www.w3.org/2000/svg\" xmlns:xlink=\"http://www.w3.org/1999/xlink\">\n <metadata>\n  <rdf:RDF xmlns:cc=\"http://creativecommons.org/ns#\" xmlns:dc=\"http://purl.org/dc/elements/1.1/\" xmlns:rdf=\"http://www.w3.org/1999/02/22-rdf-syntax-ns#\">\n   <cc:Work>\n    <dc:type rdf:resource=\"http://purl.org/dc/dcmitype/StillImage\"/>\n    <dc:date>2021-06-15T15:32:35.854322</dc:date>\n    <dc:format>image/svg+xml</dc:format>\n    <dc:creator>\n     <cc:Agent>\n      <dc:title>Matplotlib v3.3.4, https://matplotlib.org/</dc:title>\n     </cc:Agent>\n    </dc:creator>\n   </cc:Work>\n  </rdf:RDF>\n </metadata>\n <defs>\n  <style type=\"text/css\">*{stroke-linecap:butt;stroke-linejoin:round;}</style>\n </defs>\n <g id=\"figure_1\">\n  <g id=\"patch_1\">\n   <path d=\"M 0 121.018274 \nL 368.846875 121.018274 \nL 368.846875 0 \nL 0 0 \nz\n\" style=\"fill:none;\"/>\n  </g>\n  <g id=\"axes_1\">\n   <g id=\"patch_2\">\n    <path d=\"M 26.846875 97.180774 \nL 361.646875 97.180774 \nL 361.646875 9.841644 \nL 26.846875 9.841644 \nz\n\" style=\"fill:#ffffff;\"/>\n   </g>\n   <g clip-path=\"url(#p452dd151b4)\">\n    <image height=\"88\" id=\"image16498ed67f\" transform=\"scale(1 -1)translate(0 -88)\" width=\"335\" x=\"26.846875\" xlink:href=\"data:image/png;base64,\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\" y=\"-9.180774\"/>\n   </g>\n   <g id=\"matplotlib.axis_1\">\n    <g id=\"xtick_1\">\n     <g id=\"line2d_1\">\n      <defs>\n       <path d=\"M 0 0 \nL 0 3.5 \n\" id=\"m33c53780e8\" style=\"stroke:#000000;stroke-width:0.8;\"/>\n      </defs>\n      <g>\n       <use style=\"stroke:#000000;stroke-width:0.8;\" x=\"28.059918\" xlink:href=\"#m33c53780e8\" y=\"97.180774\"/>\n      </g>\n     </g>\n     <g id=\"text_1\">\n      <!-- 0 -->\n      <g transform=\"translate(24.8982 111.890149)scale(0.1 -0.1)\">\n       <defs>\n        <path d=\"M 31.34375 -1.8125 \nQ 20.171875 -1.8125 13.25 8.703125 \nQ 6.34375 19.234375 6.34375 36.1875 \nQ 6.34375 53.265625 13.296875 63.671875 \nQ 20.265625 74.078125 31.640625 74.078125 \nQ 43.015625 74.078125 49.96875 63.671875 \nQ 56.9375 53.265625 56.9375 36.328125 \nQ 56.9375 18.953125 49.96875 8.5625 \nQ 43.015625 -1.8125 31.34375 -1.8125 \nz\nM 31.453125 5.421875 \nQ 46.734375 5.421875 46.734375 36.46875 \nQ 46.734375 66.84375 31.640625 66.84375 \nQ 16.609375 66.84375 16.609375 36.1875 \nQ 16.609375 5.421875 31.453125 5.421875 \nz\n\" id=\"LucidaGrande-48\"/>\n       </defs>\n       <use xlink:href=\"#LucidaGrande-48\"/>\n      </g>\n     </g>\n    </g>\n    <g id=\"xtick_2\">\n     <g id=\"line2d_2\">\n      <g>\n       <use style=\"stroke:#000000;stroke-width:0.8;\" x=\"76.581658\" xlink:href=\"#m33c53780e8\" y=\"97.180774\"/>\n      </g>\n     </g>\n     <g id=\"text_2\">\n      <!-- 20 -->\n      <g transform=\"translate(70.25822 111.890149)scale(0.1 -0.1)\">\n       <defs>\n        <path d=\"M 8.296875 0 \nL 8.296875 8.453125 \nQ 12.5 18.265625 25.296875 29.828125 \nL 30.8125 34.765625 \nQ 41.453125 44.390625 41.453125 53.859375 \nQ 41.453125 59.90625 37.8125 63.375 \nQ 34.1875 66.84375 27.828125 66.84375 \nQ 20.3125 66.84375 10.109375 61.03125 \nL 10.109375 69.53125 \nQ 19.734375 74.078125 29.203125 74.078125 \nQ 39.359375 74.078125 45.5 68.609375 \nQ 51.65625 63.140625 51.65625 54.109375 \nQ 51.65625 47.609375 48.546875 42.578125 \nQ 45.453125 37.546875 37.015625 30.375 \nL 33.296875 27.203125 \nQ 21.734375 17.390625 19.921875 8.453125 \nL 51.3125 8.453125 \nL 51.3125 0 \nz\n\" id=\"LucidaGrande-50\"/>\n       </defs>\n       <use xlink:href=\"#LucidaGrande-50\"/>\n       <use x=\"63.232422\" xlink:href=\"#LucidaGrande-48\"/>\n      </g>\n     </g>\n    </g>\n    <g id=\"xtick_3\">\n     <g id=\"line2d_3\">\n      <g>\n       <use style=\"stroke:#000000;stroke-width:0.8;\" x=\"125.103397\" xlink:href=\"#m33c53780e8\" y=\"97.180774\"/>\n      </g>\n     </g>\n     <g id=\"text_3\">\n      <!-- 40 -->\n      <g transform=\"translate(118.779959 111.890149)scale(0.1 -0.1)\">\n       <defs>\n        <path d=\"M 37.640625 0 \nL 37.640625 20.453125 \nL 5.125 20.453125 \nL 5.125 27.734375 \nL 37.640625 72.265625 \nL 46.6875 72.265625 \nL 46.6875 28.328125 \nL 56.34375 28.328125 \nL 56.34375 20.453125 \nL 46.6875 20.453125 \nL 46.6875 0 \nz\nM 14.546875 28.328125 \nL 38.28125 28.328125 \nL 38.28125 60.453125 \nz\n\" id=\"LucidaGrande-52\"/>\n       </defs>\n       <use xlink:href=\"#LucidaGrande-52\"/>\n       <use x=\"63.232422\" xlink:href=\"#LucidaGrande-48\"/>\n      </g>\n     </g>\n    </g>\n    <g id=\"xtick_4\">\n     <g id=\"line2d_4\">\n      <g>\n       <use style=\"stroke:#000000;stroke-width:0.8;\" x=\"173.625136\" xlink:href=\"#m33c53780e8\" y=\"97.180774\"/>\n      </g>\n     </g>\n     <g id=\"text_4\">\n      <!-- 60 -->\n      <g transform=\"translate(167.301698 111.890149)scale(0.1 -0.1)\">\n       <defs>\n        <path d=\"M 17.1875 37.453125 \nQ 24.078125 46.390625 34.515625 46.390625 \nQ 44 46.390625 50.03125 40.109375 \nQ 56.0625 33.84375 56.0625 24.03125 \nQ 56.0625 12.75 49.296875 5.46875 \nQ 42.53125 -1.8125 32.125 -1.8125 \nQ 20.171875 -1.8125 13.421875 7.8125 \nQ 6.6875 17.4375 6.6875 34.515625 \nQ 6.6875 53.328125 14.421875 63.71875 \nQ 22.171875 74.125 36.234375 74.125 \nQ 42.671875 74.125 52.34375 71.390625 \nL 52.34375 62.984375 \nQ 42.140625 66.890625 35.640625 66.890625 \nQ 17.1875 66.890625 17.1875 37.453125 \nz\nM 46.390625 21.875 \nQ 46.390625 30.078125 42.703125 34.765625 \nQ 39.015625 39.453125 32.46875 39.453125 \nQ 26.375 39.453125 21.96875 35.34375 \nQ 17.578125 31.25 17.578125 25.484375 \nQ 17.578125 16.40625 21.75 10.90625 \nQ 25.921875 5.421875 32.8125 5.421875 \nQ 39.015625 5.421875 42.703125 9.890625 \nQ 46.390625 14.359375 46.390625 21.875 \nz\n\" id=\"LucidaGrande-54\"/>\n       </defs>\n       <use xlink:href=\"#LucidaGrande-54\"/>\n       <use x=\"63.232422\" xlink:href=\"#LucidaGrande-48\"/>\n      </g>\n     </g>\n    </g>\n    <g id=\"xtick_5\">\n     <g id=\"line2d_5\">\n      <g>\n       <use style=\"stroke:#000000;stroke-width:0.8;\" x=\"222.146875\" xlink:href=\"#m33c53780e8\" y=\"97.180774\"/>\n      </g>\n     </g>\n     <g id=\"text_5\">\n      <!-- 80 -->\n      <g transform=\"translate(215.823438 111.890149)scale(0.1 -0.1)\">\n       <defs>\n        <path d=\"M 23 39.359375 \nQ 12.40625 46.734375 12.40625 55.671875 \nQ 12.40625 63.875 18.40625 69 \nQ 24.421875 74.125 34.078125 74.125 \nQ 43.015625 74.125 48.5625 69.78125 \nQ 54.109375 65.4375 54.109375 58.5 \nQ 54.109375 48 40.625 39.359375 \nQ 56.984375 31.34375 56.984375 18.703125 \nQ 56.984375 9.625 50.125 3.90625 \nQ 43.265625 -1.8125 32.421875 -1.8125 \nQ 21.78125 -1.8125 15.203125 3.578125 \nQ 8.640625 8.984375 8.640625 17.78125 \nQ 8.640625 30.765625 23 39.359375 \nz\nM 35.25 42.390625 \nQ 45.359375 49.03125 45.359375 57.171875 \nQ 45.359375 61.53125 41.984375 64.1875 \nQ 38.625 66.84375 33.109375 66.84375 \nQ 27.78125 66.84375 24.453125 64.234375 \nQ 21.140625 61.625 21.140625 57.46875 \nQ 21.140625 53.421875 24.140625 50.21875 \nQ 27.15625 47.015625 35.25 42.390625 \nz\nM 28.21875 35.453125 \nQ 22.40625 30.953125 20.328125 27.609375 \nQ 18.265625 24.265625 18.265625 19.28125 \nQ 18.265625 13.09375 22.265625 9.25 \nQ 26.265625 5.421875 32.8125 5.421875 \nQ 39.109375 5.421875 43.09375 8.6875 \nQ 47.078125 11.96875 47.078125 17.1875 \nQ 47.078125 21.390625 44.609375 24.296875 \nQ 42.140625 27.203125 35.0625 31.390625 \nz\n\" id=\"LucidaGrande-56\"/>\n       </defs>\n       <use xlink:href=\"#LucidaGrande-56\"/>\n       <use x=\"63.232422\" xlink:href=\"#LucidaGrande-48\"/>\n      </g>\n     </g>\n    </g>\n    <g id=\"xtick_6\">\n     <g id=\"line2d_6\">\n      <g>\n       <use style=\"stroke:#000000;stroke-width:0.8;\" x=\"270.668614\" xlink:href=\"#m33c53780e8\" y=\"97.180774\"/>\n      </g>\n     </g>\n     <g id=\"text_6\">\n      <!-- 100 -->\n      <g transform=\"translate(261.183458 111.890149)scale(0.1 -0.1)\">\n       <defs>\n        <path d=\"M 15.046875 0 \nL 15.046875 7.234375 \nL 29.5 7.234375 \nL 29.5 64.265625 \nL 15.046875 60.640625 \nL 15.046875 68.0625 \nL 39.15625 74.078125 \nL 39.15625 7.234375 \nL 53.609375 7.234375 \nL 53.609375 0 \nz\n\" id=\"LucidaGrande-49\"/>\n       </defs>\n       <use xlink:href=\"#LucidaGrande-49\"/>\n       <use x=\"63.232422\" xlink:href=\"#LucidaGrande-48\"/>\n       <use x=\"126.464844\" xlink:href=\"#LucidaGrande-48\"/>\n      </g>\n     </g>\n    </g>\n    <g id=\"xtick_7\">\n     <g id=\"line2d_7\">\n      <g>\n       <use style=\"stroke:#000000;stroke-width:0.8;\" x=\"319.190353\" xlink:href=\"#m33c53780e8\" y=\"97.180774\"/>\n      </g>\n     </g>\n     <g id=\"text_7\">\n      <!-- 120 -->\n      <g transform=\"translate(309.705197 111.890149)scale(0.1 -0.1)\">\n       <use xlink:href=\"#LucidaGrande-49\"/>\n       <use x=\"63.232422\" xlink:href=\"#LucidaGrande-50\"/>\n       <use x=\"126.464844\" xlink:href=\"#LucidaGrande-48\"/>\n      </g>\n     </g>\n    </g>\n   </g>\n   <g id=\"matplotlib.axis_2\">\n    <g id=\"ytick_1\">\n     <g id=\"line2d_8\">\n      <defs>\n       <path d=\"M 0 0 \nL -3.5 0 \n\" id=\"m2b0893ec4c\" style=\"stroke:#000000;stroke-width:0.8;\"/>\n      </defs>\n      <g>\n       <use style=\"stroke:#000000;stroke-width:0.8;\" x=\"26.846875\" xlink:href=\"#m2b0893ec4c\" y=\"11.054687\"/>\n      </g>\n     </g>\n     <g id=\"text_8\">\n      <!-- 0 -->\n      <g transform=\"translate(13.523438 14.909375)scale(0.1 -0.1)\">\n       <use xlink:href=\"#LucidaGrande-48\"/>\n      </g>\n     </g>\n    </g>\n    <g id=\"ytick_2\">\n     <g id=\"line2d_9\">\n      <g>\n       <use style=\"stroke:#000000;stroke-width:0.8;\" x=\"26.846875\" xlink:href=\"#m2b0893ec4c\" y=\"35.315557\"/>\n      </g>\n     </g>\n     <g id=\"text_9\">\n      <!-- 10 -->\n      <g transform=\"translate(7.2 39.170245)scale(0.1 -0.1)\">\n       <use xlink:href=\"#LucidaGrande-49\"/>\n       <use x=\"63.232422\" xlink:href=\"#LucidaGrande-48\"/>\n      </g>\n     </g>\n    </g>\n    <g id=\"ytick_3\">\n     <g id=\"line2d_10\">\n      <g>\n       <use style=\"stroke:#000000;stroke-width:0.8;\" x=\"26.846875\" xlink:href=\"#m2b0893ec4c\" y=\"59.576427\"/>\n      </g>\n     </g>\n     <g id=\"text_10\">\n      <!-- 20 -->\n      <g transform=\"translate(7.2 63.431114)scale(0.1 -0.1)\">\n       <use xlink:href=\"#LucidaGrande-50\"/>\n       <use x=\"63.232422\" xlink:href=\"#LucidaGrande-48\"/>\n      </g>\n     </g>\n    </g>\n    <g id=\"ytick_4\">\n     <g id=\"line2d_11\">\n      <g>\n       <use style=\"stroke:#000000;stroke-width:0.8;\" x=\"26.846875\" xlink:href=\"#m2b0893ec4c\" y=\"83.837296\"/>\n      </g>\n     </g>\n     <g id=\"text_11\">\n      <!-- 30 -->\n      <g transform=\"translate(7.2 87.691984)scale(0.1 -0.1)\">\n       <defs>\n        <path d=\"M 10.15625 0.53125 \nL 10.15625 9.515625 \nQ 20.515625 5.421875 26.46875 5.421875 \nQ 33.34375 5.421875 37.671875 9.453125 \nQ 42 13.484375 42 19.875 \nQ 42 35.109375 20.65625 35.109375 \nL 16.84375 35.109375 \nL 16.84375 41.609375 \nL 20.21875 41.65625 \nQ 40.234375 41.65625 40.234375 55.765625 \nQ 40.234375 66.84375 27.046875 66.84375 \nQ 19.828125 66.84375 11.140625 62.796875 \nL 11.140625 71.1875 \nQ 19.671875 74.078125 27.734375 74.078125 \nQ 49.90625 74.078125 49.90625 57.328125 \nQ 49.90625 44.578125 34.8125 39.15625 \nQ 52.296875 35.109375 52.296875 20.015625 \nQ 52.296875 9.8125 45.546875 4 \nQ 38.8125 -1.8125 27.046875 -1.8125 \nQ 20.359375 -1.8125 10.15625 0.53125 \nz\n\" id=\"LucidaGrande-51\"/>\n       </defs>\n       <use xlink:href=\"#LucidaGrande-51\"/>\n       <use x=\"63.232422\" xlink:href=\"#LucidaGrande-48\"/>\n      </g>\n     </g>\n    </g>\n   </g>\n   <g id=\"patch_3\">\n    <path d=\"M 26.846875 97.180774 \nL 26.846875 9.841644 \n\" style=\"fill:none;stroke:#000000;stroke-linecap:square;stroke-linejoin:miter;stroke-width:0.8;\"/>\n   </g>\n   <g id=\"patch_4\">\n    <path d=\"M 361.646875 97.180774 \nL 361.646875 9.841644 \n\" style=\"fill:none;stroke:#000000;stroke-linecap:square;stroke-linejoin:miter;stroke-width:0.8;\"/>\n   </g>\n   <g id=\"patch_5\">\n    <path d=\"M 26.846875 97.180774 \nL 361.646875 97.180774 \n\" style=\"fill:none;stroke:#000000;stroke-linecap:square;stroke-linejoin:miter;stroke-width:0.8;\"/>\n   </g>\n   <g id=\"patch_6\">\n    <path d=\"M 26.846875 9.841644 \nL 361.646875 9.841644 \n\" style=\"fill:none;stroke:#000000;stroke-linecap:square;stroke-linejoin:miter;stroke-width:0.8;\"/>\n   </g>\n  </g>\n </g>\n <defs>\n  <clipPath id=\"p452dd151b4\">\n   <rect height=\"87.33913\" width=\"334.8\" x=\"26.846875\" y=\"9.841644\"/>\n  </clipPath>\n </defs>\n</svg>\n",
      "image/png": "[encoded data removed]"
     },
     "metadata": {
      "needs_background": "light"
     }
    }
   ],
   "source": [
    "import matplotlib.pyplot as plt\n",
    "import numpy as np\n",
    "\n",
    "# functions to show an image\n",
    "\n",
    "def imshow(img):\n",
    "    img = img / 2 + 0.5     # unnormalize\n",
    "    npimg = img.numpy()\n",
    "    plt.imshow(np.transpose(npimg, (1, 2, 0)))\n",
    "\n",
    "\n",
    "# get some random training images\n",
    "dataiter = iter(trainloader)\n",
    "images, labels = dataiter.next()\n",
    "\n",
    "# show images\n",
    "imshow(torchvision.utils.make_grid(images))\n",
    "# print labels\n",
    "print(' '.join('%5s' % classes[labels[j]] for j in range(4)))"
   ]
  },
  {
   "cell_type": "markdown",
   "metadata": {
    "colab_type": "text",
    "id": "1Ob4Pvz-GuKA"
   },
   "source": [
    "### 2.1.3. CNN Model\n",
    "Next, we will train a CNN on the data. We have defined a simple CNN for you with two convolutional layers and two fully-connected layers below."
   ]
  },
  {
   "cell_type": "code",
   "execution_count": 15,
   "metadata": {
    "colab": {},
    "colab_type": "code",
    "id": "3hMXRfs8DPjx"
   },
   "outputs": [],
   "source": [
    "import torch.nn as nn\n",
    "import torch.nn.functional as F\n",
    "\n",
    "class Net(nn.Module):\n",
    "    def __init__(self):\n",
    "        super(Net, self).__init__()\n",
    "        self.conv1 = nn.Conv2d(3, 6, 5)\n",
    "        self.pool = nn.MaxPool2d(2, 2)\n",
    "        self.conv2 = nn.Conv2d(6, 16, 5)\n",
    "        self.fc1 = nn.Linear(16 * 5 * 5, 120)\n",
    "        self.fc2 = nn.Linear(120, 84)\n",
    "        self.fc3 = nn.Linear(84, 10)\n",
    "\n",
    "    def forward(self, x):\n",
    "        x = self.pool(F.relu(self.conv1(x)))\n",
    "        x = self.pool(F.relu(self.conv2(x)))\n",
    "        x = x.view(-1, 16 * 5 * 5)   # flatten features\n",
    "\n",
    "        x = F.relu(self.fc1(x))\n",
    "        x = F.relu(self.fc2(x))\n",
    "        x = self.fc3(x)\n",
    "        return x\n",
    "\n",
    "net = Net()"
   ]
  },
  {
   "cell_type": "markdown",
   "metadata": {
    "colab_type": "text",
    "id": "z325ABykG77h"
   },
   "source": [
    "Instantiate the cross-entropy loss `criterion`, and an SGD optimizer from the `torch.optim` package with learning rate $.001$ and momentum $.9$. You may also want to enable GPU training using `torch.device()`."
   ]
  },
  {
   "cell_type": "code",
   "execution_count": 16,
   "metadata": {
    "colab": {},
    "colab_type": "code",
    "id": "2wiSsTnEGCRN"
   },
   "outputs": [],
   "source": [
    "criterion = nn.CrossEntropyLoss()\n",
    "optimiser = torch.optim.SGD(net.parameters(), lr=0.001, momentum=0.9)\n",
    "device = torch.device(\"cuda:0\" if torch.cuda.is_available() else \"cpu\")"
   ]
  },
  {
   "cell_type": "markdown",
   "metadata": {
    "colab_type": "text",
    "id": "eCLHI077fl9x"
   },
   "source": [
    "### 2.1.4 Training\n",
    "Write the training loop that makes two full passes through the dataset (two epochs) using SGD. Your batch size should be 4.\n",
    "\n",
    "Go slack off for a while...\n",
    "\n",
    "![reddit xkcd comic](https://i.redd.it/5cjdqxcg07k11.png)"
   ]
  },
  {
   "cell_type": "code",
   "execution_count": 17,
   "metadata": {
    "colab": {},
    "colab_type": "code",
    "id": "u8SluNefGZgf",
    "tags": []
   },
   "outputs": [
    {
     "output_type": "stream",
     "name": "stdout",
     "text": [
      "Training epoch: 0, batch_index: 0, loss: 2.326730728149414\n",
      "Training epoch: 0, batch_index: 1000, loss: 2.0577826499938965\n",
      "Training epoch: 0, batch_index: 2000, loss: 1.9450044631958008\n",
      "Training epoch: 0, batch_index: 3000, loss: 2.3611228466033936\n",
      "Training epoch: 0, batch_index: 4000, loss: 1.8280805349349976\n",
      "Training epoch: 0, batch_index: 5000, loss: 1.2226778268814087\n",
      "Training epoch: 0, batch_index: 6000, loss: 0.8556358814239502\n",
      "Training epoch: 0, batch_index: 7000, loss: 0.0741531252861023\n",
      "Training epoch: 0, batch_index: 8000, loss: 1.0715937614440918\n",
      "Training epoch: 0, batch_index: 9000, loss: 1.6796863079071045\n",
      "Training epoch: 0, batch_index: 10000, loss: 1.5784956216812134\n",
      "Training epoch: 0, batch_index: 11000, loss: 0.08296669274568558\n",
      "Training epoch: 0, batch_index: 12000, loss: 0.7492615580558777\n",
      "Training epoch: 0, batch_index: 13000, loss: 0.2027430236339569\n",
      "Training epoch: 0, batch_index: 14000, loss: 1.374398112297058\n",
      "Training epoch: 0, batch_index: 15000, loss: 0.6298038363456726\n",
      "Training epoch: 0, batch_index: 16000, loss: 0.14519187808036804\n",
      "Training epoch: 0, batch_index: 17000, loss: 1.432511329650879\n",
      "Training epoch: 0, batch_index: 18000, loss: 0.6098997592926025\n",
      "Training epoch: 1, batch_index: 0, loss: 0.7130066752433777\n",
      "Training epoch: 1, batch_index: 1000, loss: 1.2416839599609375\n",
      "Training epoch: 1, batch_index: 2000, loss: 0.04790277034044266\n",
      "Training epoch: 1, batch_index: 3000, loss: 0.30052080750465393\n",
      "Training epoch: 1, batch_index: 4000, loss: 0.3332981467247009\n",
      "Training epoch: 1, batch_index: 5000, loss: 0.44010618329048157\n",
      "Training epoch: 1, batch_index: 6000, loss: 0.17135106027126312\n",
      "Training epoch: 1, batch_index: 7000, loss: 1.7015407085418701\n",
      "Training epoch: 1, batch_index: 8000, loss: 0.07934287935495377\n",
      "Training epoch: 1, batch_index: 9000, loss: 0.20091423392295837\n",
      "Training epoch: 1, batch_index: 10000, loss: 1.6588833332061768\n",
      "Training epoch: 1, batch_index: 11000, loss: 0.6635662913322449\n",
      "Training epoch: 1, batch_index: 12000, loss: 1.042474389076233\n",
      "Training epoch: 1, batch_index: 13000, loss: 0.11580882966518402\n",
      "Training epoch: 1, batch_index: 14000, loss: 0.7319870591163635\n",
      "Training epoch: 1, batch_index: 15000, loss: 0.027200549840927124\n",
      "Training epoch: 1, batch_index: 16000, loss: 0.5372754335403442\n",
      "Training epoch: 1, batch_index: 17000, loss: 0.9565994739532471\n",
      "Training epoch: 1, batch_index: 18000, loss: 0.0010784087935462594\n"
     ]
    }
   ],
   "source": [
    "for epoch in range(2):\n",
    "    for batch_index, (data, target) in enumerate(trainloader):\n",
    "        data, target = data.to(device), target.to(device)\n",
    "\n",
    "        optimiser.zero_grad()\n",
    "        output = net(data)\n",
    "        \n",
    "        loss = criterion(output, target)\n",
    "        loss.backward()\n",
    "        optimiser.step()\n",
    "\n",
    "        if batch_index % 1000 == 0:\n",
    "            print(\"Training epoch: {}, batch_index: {}, loss: {}\".format(epoch, batch_index, loss.item()))\n",
    "\n"
   ]
  },
  {
   "cell_type": "markdown",
   "metadata": {
    "colab_type": "text",
    "id": "TGkQdltRh104"
   },
   "source": [
    "### 2.1.5 Test Accuracy\n",
    "Load the test data (don't forget to move it to GPU if using). Make predictions on it using the trained network and compute the accuracy. You should see an accuracy of around 84%."
   ]
  },
  {
   "cell_type": "code",
   "execution_count": 18,
   "metadata": {
    "colab": {},
    "colab_type": "code",
    "id": "zWHZOr2sHeB5"
   },
   "outputs": [
    {
     "output_type": "stream",
     "name": "stdout",
     "text": [
      "Accuracy: 85\n"
     ]
    }
   ],
   "source": [
    "correct = 0\n",
    "\n",
    "for data, target in testloader:\n",
    "    data, target = data.to(device), target.to(device)\n",
    "\n",
    "    output = net(data)\n",
    "    pred = output.data.max(1, keepdim=True)[1]\n",
    "    correct += pred.eq(target.data.view_as(pred)).cpu().sum().item()\n",
    "\n",
    "accuracy = 100. * correct / len(testloader.dataset)\n",
    "print(\"Accuracy: {:.0f}\".format(accuracy))\n"
   ]
  },
  {
   "cell_type": "markdown",
   "metadata": {
    "colab_type": "text",
    "id": "V6mCBCn8kX9W"
   },
   "source": [
    "# Problem 3: Tensorboard (Optional)\n",
    "\n",
    "Explore your network using Tensorboard. Tensorboard is a nice tool for visualizing how your network's training is progressing. The following tutorial provides an introduction to Tensorboard\n",
    "\n",
    "- [Visualizing models, data and training with Tensorboard](https://pytorch.org/tutorials/intermediate/tensorboard_tutorial.html)\n",
    "\n",
    "For using tensorboard in colab, run the following cell and it should open a tensorboard interface in the output of the cell.\n"
   ]
  },
  {
   "cell_type": "code",
   "execution_count": 19,
   "metadata": {
    "colab": {},
    "colab_type": "code",
    "id": "ILFfAGAyh8bD"
   },
   "outputs": [
    {
     "output_type": "display_data",
     "data": {
      "text/plain": "Reusing TensorBoard on port 6006 (pid 1669), started 0:11:07 ago. (Use '!kill 1669' to kill it.)"
     },
     "metadata": {}
    }
   ],
   "source": [
    "%load_ext tensorboard\n",
    "%tensorboard --logdir logs"
   ]
  },
  {
   "cell_type": "code",
   "execution_count": null,
   "metadata": {},
   "outputs": [],
   "source": []
  }
 ],
 "metadata": {
  "accelerator": "GPU",
  "colab": {
   "collapsed_sections": [],
   "name": "HW3.ipynb",
   "provenance": [
    {
     "file_id": "1siLMvcwxUl6WSTO8JNjUv5T3TXMtujiH",
     "timestamp": 1582058789500
    },
    {
     "file_id": "1fiK0rbc8iMuQQS6PDijcD2MIS95h-oZe",
     "timestamp": 1581824994288
    },
    {
     "file_id": "https://github.com/pytorch/tutorials/blob/gh-pages/_downloads/autograd_tutorial.ipynb",
     "timestamp": 1578596632955
    }
   ]
  },
  "kernelspec": {
   "name": "python3",
   "display_name": "Python 3.9.5 64-bit ('myenv': conda)"
  },
  "language_info": {
   "codemirror_mode": {
    "name": "ipython",
    "version": 3
   },
   "file_extension": ".py",
   "mimetype": "text/x-python",
   "name": "python",
   "nbconvert_exporter": "python",
   "pygments_lexer": "ipython3",
   "version": "3.9.5"
  },
  "interpreter": {
   "hash": "f5c9dfabb21bd2a91b63810df81acbdc6b5e617e45414f0ef050ca96090c868f"
  }
 },
 "nbformat": 4,
 "nbformat_minor": 1
}