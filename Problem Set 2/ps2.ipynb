{
 "cells": [
  {
   "cell_type": "markdown",
   "metadata": {
    "colab_type": "text",
    "id": "ecSh-LQTDB7H"
   },
   "source": [
    "# Problem Set 2 \n",
    "*Author: Saenko*\n",
    "\n",
    "---\n",
    "\n",
    "This assignment will introduce you to:\n",
    "1. Basic functionality in PyTorch\n",
    "2. Building and training a convolutional network\n",
    "3. Visualizations using Tensorboard (optional)\n",
    "\n",
    "This code has been tested on Colab. You may want to run parts of it on a GPU.\n",
    "**Warning:** If you use the SCC, the gpu queue may be long when the deadline comes. Please start your homework early.\n",
    "\n",
    "---\n",
    "\n",
    "\n",
    "# Problem 0: Tutorials\n",
    "This homework will introduce you to [PyTorch](https://pytorch.org), currently the fastest growing deep learning library.\n",
    "\n",
    "Before starting the homework, please go over these introductory tutorials on the PyTorch webpage:\n",
    "\n",
    "*   [60-minute Blitz](https://pytorch.org/tutorials/beginner/deep_learning_60min_blitz.html)\n",
    " \n",
    "\n",
    "---\n",
    "\n"
   ]
  },
  {
   "cell_type": "markdown",
   "metadata": {
    "colab_type": "text",
    "id": "CcqKCRlM6poM"
   },
   "source": [
    "# Problem 1: Torch Intro (30 points)\n",
    "The `torch.Tensor` class is the basic building block in PyTorch and is used to hold data and parameters. The `autograd` package provides automatic differentiation for all operations on Tensors. After reading about Autograd in the tutorials above,  we will implement a few simple examples of what Autograd can do."
   ]
  },
  {
   "cell_type": "code",
   "execution_count": 1,
   "metadata": {
    "colab": {},
    "colab_type": "code",
    "id": "yUv0o0dIsLlW"
   },
   "outputs": [],
   "source": [
    "import torch"
   ]
  },
  {
   "cell_type": "markdown",
   "metadata": {
    "colab_type": "text",
    "id": "D15InPOpsLlc"
   },
   "source": [
    "### 1.1. Simple function\n",
    " Use `autograd` to do backpropagation on the simple function we saw in lecture, $f=(x+y)*z$. \n",
    "\n",
    "**1.1.1** Create the three inputs with values $x=-2$, $y=5$ and $z=-4$ as tensors and set `requires_grad=True` to track computation on them.\n",
    "\n"
   ]
  },
  {
   "cell_type": "code",
   "execution_count": 2,
   "metadata": {
    "colab": {
     "base_uri": "https://localhost:8080/",
     "height": 34
    },
    "colab_type": "code",
    "executionInfo": {
     "elapsed": 758,
     "status": "ok",
     "timestamp": 1581997995146,
     "user": {
      "displayName": "Samarth Mishra",
      "photoUrl": "",
      "userId": "00064519813488481618"
     },
     "user_tz": 300
    },
    "id": "56mcFemZuYMB",
    "outputId": "4be4f837-cc1b-4579-d97b-edad8dd68263"
   },
   "outputs": [
    {
     "output_type": "stream",
     "name": "stdout",
     "text": [
      "tensor([-2.], requires_grad=True)\ntensor([5.], requires_grad=True)\ntensor([-4.], requires_grad=True)\n"
     ]
    }
   ],
   "source": [
    "# solution here\n",
    "x = torch.tensor([-2.], requires_grad=True)\n",
    "y = torch.tensor([5.], requires_grad=True)\n",
    "z = torch.tensor([-4.], requires_grad=True)\n",
    "print(x)\n",
    "print(y)\n",
    "print(z)"
   ]
  },
  {
   "cell_type": "markdown",
   "metadata": {
    "colab_type": "text",
    "id": "WPBbS7GWxra1"
   },
   "source": [
    "**1.1.2** Compute the $q=x+y$ and $f=q \\times z$ functions, creating tensors for them in the process. Print out $q,f$, then run `f.backward(retain_graph=True)`, to compute the gradients w.r.t. $x,y,z$. The `retain_graph` attribute tells autograd to keep the computation graph around after backward pass as opposed deleting it (freeing some memory). Print the gradients. Note that the gradient for $q$ will be `None` since it is an intermediate node, even though `requires_grad` for it is automatically set to `True`. To access gradients for intermediate nodes in PyTorch you can use hooks as mentioned in [this answer](https://discuss.pytorch.org/t/why-cant-i-see-grad-of-an-intermediate-variable/94/2). Compute the values by hand (or check the slides) to verify your solution."
   ]
  },
  {
   "cell_type": "code",
   "execution_count": 3,
   "metadata": {
    "colab": {
     "base_uri": "https://localhost:8080/",
     "height": 52
    },
    "colab_type": "code",
    "executionInfo": {
     "elapsed": 745,
     "status": "ok",
     "timestamp": 1581997998245,
     "user": {
      "displayName": "Samarth Mishra",
      "photoUrl": "",
      "userId": "00064519813488481618"
     },
     "user_tz": 300
    },
    "id": "4lj5N-fgvQ-v",
    "outputId": "296a7afc-268a-406d-b09e-61dd58b02c8a"
   },
   "outputs": [
    {
     "output_type": "stream",
     "name": "stdout",
     "text": [
      "tensor([3.], grad_fn=<AddBackward0>)\ntensor([-12.], grad_fn=<MulBackward0>)\ntensor([-4.])\ntensor([-4.])\ntensor([3.])\n"
     ]
    }
   ],
   "source": [
    "# solution here ???\n",
    "q = x + y\n",
    "f = q * z\n",
    "print(q)\n",
    "print(f)\n",
    "f.backward(retain_graph=True)\n",
    "print(x.grad)\n",
    "print(y.grad)\n",
    "print(z.grad)\n",
    "# print(q.grad)\n",
    "# print(f.grad)"
   ]
  },
  {
   "cell_type": "markdown",
   "metadata": {
    "colab_type": "text",
    "id": "EtBqrD7y3MeK"
   },
   "source": [
    "**1.1.3** If we now run `backward()` again, it will add the gradients to their previous values. Try it by running the above cell multiple times. This is useful in some cases, but if we just wanted to re-compute the gradients again, we need to zero them first, then run `backward()`. Add this step, then try running the  backward function multiple times to make sure the answer is the same each time!"
   ]
  },
  {
   "cell_type": "code",
   "execution_count": 4,
   "metadata": {
    "colab": {
     "base_uri": "https://localhost:8080/",
     "height": 34
    },
    "colab_type": "code",
    "executionInfo": {
     "elapsed": 625,
     "status": "ok",
     "timestamp": 1581998000511,
     "user": {
      "displayName": "Samarth Mishra",
      "photoUrl": "",
      "userId": "00064519813488481618"
     },
     "user_tz": 300
    },
    "id": "g6qeSVAM0w1J",
    "outputId": "048e64e9-e6c1-4f28-ee51-099a2a401e04"
   },
   "outputs": [
    {
     "output_type": "stream",
     "name": "stdout",
     "text": [
      "tensor([-4.])\ntensor([-4.])\ntensor([3.])\n"
     ]
    }
   ],
   "source": [
    "# solution here ???\n",
    "x.grad.data.zero_()\n",
    "y.grad.data.zero_()\n",
    "z.grad.data.zero_()\n",
    "f.backward(retain_graph=True)\n",
    "print(x.grad)\n",
    "print(y.grad)\n",
    "print(z.grad)"
   ]
  },
  {
   "cell_type": "markdown",
   "metadata": {
    "colab_type": "text",
    "id": "3lEIwkbv4qNO"
   },
   "source": [
    "### 1.2 Neuron\n",
    " Implement the function corresponding to one neuron (logistic regression unit) that we saw in the lecture and compute the gradient w.r.t. $x$ and $w$. The function is $f=\\sigma(w^Tx)$ where $\\sigma()$ is the sigmoid function. Initialize $x=[-1, -2, 1]$ and the weights to $w=[2, -3, -3]$ where $w_3$ is the bias. Print out the gradients and double check their values by hand."
   ]
  },
  {
   "cell_type": "code",
   "execution_count": 14,
   "metadata": {
    "colab": {
     "base_uri": "https://localhost:8080/",
     "height": 121
    },
    "colab_type": "code",
    "executionInfo": {
     "elapsed": 585,
     "status": "ok",
     "timestamp": 1581998002809,
     "user": {
      "displayName": "Samarth Mishra",
      "photoUrl": "",
      "userId": "00064519813488481618"
     },
     "user_tz": 300
    },
    "id": "H0UBPl5Ti15G",
    "outputId": "aad7da03-7ba8-4e65-a604-259ce8df8efd"
   },
   "outputs": [
    {
     "output_type": "stream",
     "name": "stdout",
     "text": [
      "x = tensor([-1., -2.,  1.], requires_grad=True)\nw = tensor([ 2., -3., -3.], requires_grad=True)\nf(x, w) = tensor(0.7311, grad_fn=<SigmoidBackward>)\nThe gradient of f() w.r.t. x is tensor([ 0.3932, -0.5898, -0.5898])\nThe gradient of f() w.r.t. w is tensor([-0.1966, -0.3932,  0.1966])\n"
     ]
    }
   ],
   "source": [
    "# solution here\n",
    "\n",
    "x = torch.tensor([-1., -2., 1.], requires_grad=True)\n",
    "w = torch.tensor([2., -3., -3.], requires_grad=True)\n",
    "print(\"x =\", x)\n",
    "print(\"w =\", w)\n",
    "f = torch.dot(w, x)\n",
    "f = torch.sigmoid(f)\n",
    "print(\"f(x, w) =\", f)\n",
    "f.backward()\n",
    "print(\"The gradient of f() w.r.t. x is\", x.grad)\n",
    "print(\"The gradient of f() w.r.t. w is\", w.grad)"
   ]
  },
  {
   "cell_type": "markdown",
   "metadata": {
    "colab_type": "text",
    "id": "KLEQdosNk6t9"
   },
   "source": [
    "### 1.3. torch.nn\n",
    " We will now implement the same neuron function $f$ with the same variable values as in Q1.2, but using the `Linear` class from `torch.nn`, followed by the [Sigmoid](https://pytorch.org/docs/stable/nn.html#torch.nn.Sigmoid) class. In general, many useful functions are already implemented for us in this package. Compute the gradients $\\partial f/\\partial w$ by running `backward()` and print them out (they will be stored in the Linear variable, e.g. in `.weight.grad`.) "
   ]
  },
  {
   "cell_type": "code",
   "execution_count": 15,
   "metadata": {
    "colab": {
     "base_uri": "https://localhost:8080/",
     "height": 173
    },
    "colab_type": "code",
    "executionInfo": {
     "elapsed": 583,
     "status": "ok",
     "timestamp": 1581998005758,
     "user": {
      "displayName": "Samarth Mishra",
      "photoUrl": "",
      "userId": "00064519813488481618"
     },
     "user_tz": 300
    },
    "id": "zH3f8sj0ywQ3",
    "outputId": "d56c09a9-0add-40a7-da62-6cdf89ec8c63"
   },
   "outputs": [
    {
     "output_type": "stream",
     "name": "stdout",
     "text": [
      "weights: Parameter containing:\ntensor([[ 2., -3.]], requires_grad=True)\n\nbias Parameter containing:\ntensor([[-3.]], requires_grad=True)\n\nf: tensor([[0.7311]], grad_fn=<SigmoidBackward>)\nThe gradient of f() w.r.t. w is tensor([[-0.1966, -0.3932]]) tensor([[0.1966]])\n"
     ]
    }
   ],
   "source": [
    "# solution here\n",
    "m = torch.nn.Linear(2, 1)\n",
    "m.weight.data = torch.tensor([[2., -3.]])\n",
    "m.bias.data = torch.tensor([[-3.]])\n",
    "\n",
    "print(\"weights:\", m.weight)\n",
    "print(\"\\nbias\", m.bias)\n",
    "\n",
    "x = torch.tensor([[-1., -2.]], requires_grad=True)\n",
    "\n",
    "f = m(x)\n",
    "\n",
    "f = torch.sigmoid(f)\n",
    "print(\"\\nf:\", f)\n",
    "f.backward()\n",
    "print(\"The gradient of f() w.r.t. w is\", m.weight.grad, m.bias.grad)\n"
   ]
  },
  {
   "cell_type": "markdown",
   "metadata": {
    "colab_type": "text",
    "id": "isiTRoJuqnEL"
   },
   "source": [
    "### 1.4. Module\n",
    " Now lets put these two functions (Linear and Sigmoid) together into a \"module\". Read the [Neural Networks tutorial](https://pytorch.org/tutorials/beginner/blitz/neural_networks_tutorial.html) if you have not already.\n",
    "\n",
    "**1.4.1** This code makes a subclass of the `Module` class, called `Neuron`, and sets variables to the same values as above. \n",
    "\n"
   ]
  },
  {
   "cell_type": "code",
   "execution_count": 16,
   "metadata": {
    "colab": {},
    "colab_type": "code",
    "id": "8j_S7AQqQB8-"
   },
   "outputs": [],
   "source": [
    "import torch.nn as nn\n",
    "\n",
    "class Neuron(nn.Module):\n",
    "\n",
    "    def __init__(self):\n",
    "        super(Neuron, self).__init__()\n",
    "        # an affine operation: y = weight*x + bias, with fixed parameters\n",
    "        self.linear = nn.Linear(2, 1)\n",
    "        self.linear.weight.data = torch.tensor([[ 2., -3.]])\n",
    "        self.linear.bias.data = torch.tensor([-3.])\n",
    "        # a sigmoid function, elementwise\n",
    "        self.sigmoid = nn.Sigmoid()\n",
    "\n",
    "    def forward(self, x):\n",
    "        x = self.linear(x)\n",
    "        x = self.sigmoid(x)\n",
    "        return x"
   ]
  },
  {
   "cell_type": "markdown",
   "metadata": {
    "colab_type": "text",
    "id": "6Hv5iduNSLX9"
   },
   "source": [
    "**1.4.2** Now create a  variable of your `Neuron` class called `my_neuron` and run backpropagation on it. Print out the gradients again. Make sure you zero out the gradients first, by calling `.zero_grad()` function of the parent class. Even if you will not re-compute the backprop, it is good practice to do this every time to avoid accumulating gradient!"
   ]
  },
  {
   "cell_type": "code",
   "execution_count": 17,
   "metadata": {
    "colab": {
     "base_uri": "https://localhost:8080/",
     "height": 173
    },
    "colab_type": "code",
    "executionInfo": {
     "elapsed": 362,
     "status": "ok",
     "timestamp": 1581998018634,
     "user": {
      "displayName": "Samarth Mishra",
      "photoUrl": "",
      "userId": "00064519813488481618"
     },
     "user_tz": 300
    },
    "id": "AG5V8LiVSQWn",
    "outputId": "adedcde3-bf02-4e9b-da26-b813d75336c9"
   },
   "outputs": [
    {
     "output_type": "stream",
     "name": "stdout",
     "text": [
      "Neuron(\n  (linear): Linear(in_features=2, out_features=1, bias=True)\n  (sigmoid): Sigmoid()\n)\nThe weights are: Parameter containing:\ntensor([[ 2., -3.]], requires_grad=True)\n\nf(x, w) = tensor([[0.7311]], grad_fn=<SigmoidBackward>)\nThe gradient of f() w.r.t. w is tensor([[-0.1966, -0.3932]]) tensor([0.1966])\n"
     ]
    }
   ],
   "source": [
    "# solution here\n",
    "my_neuron = Neuron()\n",
    "print(my_neuron)\n",
    "\n",
    "# x = torch.tensor([[-1., -2.]], requires_grad=True)\n",
    "\n",
    "net = my_neuron(x)\n",
    "\n",
    "params = list(my_neuron.parameters())\n",
    "print(\"The weights are:\", params[0])\n",
    "\n",
    "print(\"\\nf(x, w) =\", net)\n",
    "\n",
    "my_neuron.zero_grad()\n",
    "net.backward()\n",
    "print(\"The gradient of f() w.r.t. w is\", my_neuron.linear.weight.grad , my_neuron.linear.bias.grad)\n"
   ]
  },
  {
   "cell_type": "markdown",
   "metadata": {
    "colab_type": "text",
    "id": "5A5kaQxkLsFi"
   },
   "source": [
    "### 1.5. Loss and SGD\n",
    " Now, lets train our neuron on some data. The code below creates a toy dataset containing a few inputs $x$ and outputs $y$ (a binary 0/1 label), as well as a function that plots the data and current solution."
   ]
  },
  {
   "cell_type": "code",
   "execution_count": 18,
   "metadata": {
    "colab": {
     "base_uri": "https://localhost:8080/",
     "height": 286
    },
    "colab_type": "code",
    "executionInfo": {
     "elapsed": 451,
     "status": "ok",
     "timestamp": 1581998902715,
     "user": {
      "displayName": "Samarth Mishra",
      "photoUrl": "",
      "userId": "00064519813488481618"
     },
     "user_tz": 300
    },
    "id": "4nMCQG3-L94R",
    "outputId": "48318f4f-419c-4f54-ffff-a6065573cf3e"
   },
   "outputs": [
    {
     "output_type": "stream",
     "name": "stdout",
     "text": [
      "w0 = 2.0 w1 = -3.0 bias = -3.0\n"
     ]
    },
    {
     "output_type": "display_data",
     "data": {
      "text/plain": "<Figure size 432x288 with 1 Axes>",
      "image/svg+xml": "<?xml version=\"1.0\" encoding=\"utf-8\" standalone=\"no\"?>\n<!DOCTYPE svg PUBLIC \"-//W3C//DTD SVG 1.1//EN\"\n  \"http://www.w3.org/Graphics/SVG/1.1/DTD/svg11.dtd\">\n<!-- Created with matplotlib (https://matplotlib.org/) -->\n<svg height=\"252.317344pt\" version=\"1.1\" viewBox=\"0 0 388.434375 252.317344\" width=\"388.434375pt\" xmlns=\"http://www.w3.org/2000/svg\" xmlns:xlink=\"http://www.w3.org/1999/xlink\">\n <metadata>\n  <rdf:RDF xmlns:cc=\"http://creativecommons.org/ns#\" xmlns:dc=\"http://purl.org/dc/elements/1.1/\" xmlns:rdf=\"http://www.w3.org/1999/02/22-rdf-syntax-ns#\">\n   <cc:Work>\n    <dc:type rdf:resource=\"http://purl.org/dc/dcmitype/StillImage\"/>\n    <dc:date>2021-06-15T11:03:06.936070</dc:date>\n    <dc:format>image/svg+xml</dc:format>\n    <dc:creator>\n     <cc:Agent>\n      <dc:title>Matplotlib v3.3.4, https://matplotlib.org/</dc:title>\n     </cc:Agent>\n    </dc:creator>\n   </cc:Work>\n  </rdf:RDF>\n </metadata>\n <defs>\n  <style type=\"text/css\">*{stroke-linecap:butt;stroke-linejoin:round;}</style>\n </defs>\n <g id=\"figure_1\">\n  <g id=\"patch_1\">\n   <path d=\"M -0 252.317344 \nL 388.434375 252.317344 \nL 388.434375 0 \nL -0 0 \nz\n\" style=\"fill:none;\"/>\n  </g>\n  <g id=\"axes_1\">\n   <g id=\"patch_2\">\n    <path d=\"M 38.482813 228.439219 \nL 373.282813 228.439219 \nL 373.282813 10.999219 \nL 38.482813 10.999219 \nz\n\" style=\"fill:#ffffff;\"/>\n   </g>\n   <g id=\"matplotlib.axis_1\">\n    <g id=\"xtick_1\">\n     <g id=\"line2d_1\">\n      <path clip-path=\"url(#pd0caf18fbc)\" d=\"M 38.482812 228.439219 \nL 38.482812 10.999219 \n\" style=\"fill:none;stroke:#b0b0b0;stroke-linecap:square;stroke-width:0.8;\"/>\n     </g>\n     <g id=\"line2d_2\">\n      <defs>\n       <path d=\"M 0 0 \nL 0 3.5 \n\" id=\"m763e2d1ea8\" style=\"stroke:#000000;stroke-width:0.8;\"/>\n      </defs>\n      <g>\n       <use style=\"stroke:#000000;stroke-width:0.8;\" x=\"38.482812\" xlink:href=\"#m763e2d1ea8\" y=\"228.439219\"/>\n      </g>\n     </g>\n     <g id=\"text_1\">\n      <!-- −2.0 -->\n      <g transform=\"translate(26.341406 243.037656)scale(0.1 -0.1)\">\n       <defs>\n        <path d=\"M 10.59375 35.5 \nL 73.1875 35.5 \nL 73.1875 27.203125 \nL 10.59375 27.203125 \nz\n\" id=\"DejaVuSans-8722\"/>\n        <path d=\"M 19.1875 8.296875 \nL 53.609375 8.296875 \nL 53.609375 0 \nL 7.328125 0 \nL 7.328125 8.296875 \nQ 12.9375 14.109375 22.625 23.890625 \nQ 32.328125 33.6875 34.8125 36.53125 \nQ 39.546875 41.84375 41.421875 45.53125 \nQ 43.3125 49.21875 43.3125 52.78125 \nQ 43.3125 58.59375 39.234375 62.25 \nQ 35.15625 65.921875 28.609375 65.921875 \nQ 23.96875 65.921875 18.8125 64.3125 \nQ 13.671875 62.703125 7.8125 59.421875 \nL 7.8125 69.390625 \nQ 13.765625 71.78125 18.9375 73 \nQ 24.125 74.21875 28.421875 74.21875 \nQ 39.75 74.21875 46.484375 68.546875 \nQ 53.21875 62.890625 53.21875 53.421875 \nQ 53.21875 48.921875 51.53125 44.890625 \nQ 49.859375 40.875 45.40625 35.40625 \nQ 44.1875 33.984375 37.640625 27.21875 \nQ 31.109375 20.453125 19.1875 8.296875 \nz\n\" id=\"DejaVuSans-50\"/>\n        <path d=\"M 10.6875 12.40625 \nL 21 12.40625 \nL 21 0 \nL 10.6875 0 \nz\n\" id=\"DejaVuSans-46\"/>\n        <path d=\"M 31.78125 66.40625 \nQ 24.171875 66.40625 20.328125 58.90625 \nQ 16.5 51.421875 16.5 36.375 \nQ 16.5 21.390625 20.328125 13.890625 \nQ 24.171875 6.390625 31.78125 6.390625 \nQ 39.453125 6.390625 43.28125 13.890625 \nQ 47.125 21.390625 47.125 36.375 \nQ 47.125 51.421875 43.28125 58.90625 \nQ 39.453125 66.40625 31.78125 66.40625 \nz\nM 31.78125 74.21875 \nQ 44.046875 74.21875 50.515625 64.515625 \nQ 56.984375 54.828125 56.984375 36.375 \nQ 56.984375 17.96875 50.515625 8.265625 \nQ 44.046875 -1.421875 31.78125 -1.421875 \nQ 19.53125 -1.421875 13.0625 8.265625 \nQ 6.59375 17.96875 6.59375 36.375 \nQ 6.59375 54.828125 13.0625 64.515625 \nQ 19.53125 74.21875 31.78125 74.21875 \nz\n\" id=\"DejaVuSans-48\"/>\n       </defs>\n       <use xlink:href=\"#DejaVuSans-8722\"/>\n       <use x=\"83.789062\" xlink:href=\"#DejaVuSans-50\"/>\n       <use x=\"147.412109\" xlink:href=\"#DejaVuSans-46\"/>\n       <use x=\"179.199219\" xlink:href=\"#DejaVuSans-48\"/>\n      </g>\n     </g>\n    </g>\n    <g id=\"xtick_2\">\n     <g id=\"line2d_3\">\n      <path clip-path=\"url(#pd0caf18fbc)\" d=\"M 80.332812 228.439219 \nL 80.332812 10.999219 \n\" style=\"fill:none;stroke:#b0b0b0;stroke-linecap:square;stroke-width:0.8;\"/>\n     </g>\n     <g id=\"line2d_4\">\n      <g>\n       <use style=\"stroke:#000000;stroke-width:0.8;\" x=\"80.332812\" xlink:href=\"#m763e2d1ea8\" y=\"228.439219\"/>\n      </g>\n     </g>\n     <g id=\"text_2\">\n      <!-- −1.5 -->\n      <g transform=\"translate(68.191406 243.037656)scale(0.1 -0.1)\">\n       <defs>\n        <path d=\"M 12.40625 8.296875 \nL 28.515625 8.296875 \nL 28.515625 63.921875 \nL 10.984375 60.40625 \nL 10.984375 69.390625 \nL 28.421875 72.90625 \nL 38.28125 72.90625 \nL 38.28125 8.296875 \nL 54.390625 8.296875 \nL 54.390625 0 \nL 12.40625 0 \nz\n\" id=\"DejaVuSans-49\"/>\n        <path d=\"M 10.796875 72.90625 \nL 49.515625 72.90625 \nL 49.515625 64.59375 \nL 19.828125 64.59375 \nL 19.828125 46.734375 \nQ 21.96875 47.46875 24.109375 47.828125 \nQ 26.265625 48.1875 28.421875 48.1875 \nQ 40.625 48.1875 47.75 41.5 \nQ 54.890625 34.8125 54.890625 23.390625 \nQ 54.890625 11.625 47.5625 5.09375 \nQ 40.234375 -1.421875 26.90625 -1.421875 \nQ 22.3125 -1.421875 17.546875 -0.640625 \nQ 12.796875 0.140625 7.71875 1.703125 \nL 7.71875 11.625 \nQ 12.109375 9.234375 16.796875 8.0625 \nQ 21.484375 6.890625 26.703125 6.890625 \nQ 35.15625 6.890625 40.078125 11.328125 \nQ 45.015625 15.765625 45.015625 23.390625 \nQ 45.015625 31 40.078125 35.4375 \nQ 35.15625 39.890625 26.703125 39.890625 \nQ 22.75 39.890625 18.8125 39.015625 \nQ 14.890625 38.140625 10.796875 36.28125 \nz\n\" id=\"DejaVuSans-53\"/>\n       </defs>\n       <use xlink:href=\"#DejaVuSans-8722\"/>\n       <use x=\"83.789062\" xlink:href=\"#DejaVuSans-49\"/>\n       <use x=\"147.412109\" xlink:href=\"#DejaVuSans-46\"/>\n       <use x=\"179.199219\" xlink:href=\"#DejaVuSans-53\"/>\n      </g>\n     </g>\n    </g>\n    <g id=\"xtick_3\">\n     <g id=\"line2d_5\">\n      <path clip-path=\"url(#pd0caf18fbc)\" d=\"M 122.182812 228.439219 \nL 122.182812 10.999219 \n\" style=\"fill:none;stroke:#b0b0b0;stroke-linecap:square;stroke-width:0.8;\"/>\n     </g>\n     <g id=\"line2d_6\">\n      <g>\n       <use style=\"stroke:#000000;stroke-width:0.8;\" x=\"122.182812\" xlink:href=\"#m763e2d1ea8\" y=\"228.439219\"/>\n      </g>\n     </g>\n     <g id=\"text_3\">\n      <!-- −1.0 -->\n      <g transform=\"translate(110.041406 243.037656)scale(0.1 -0.1)\">\n       <use xlink:href=\"#DejaVuSans-8722\"/>\n       <use x=\"83.789062\" xlink:href=\"#DejaVuSans-49\"/>\n       <use x=\"147.412109\" xlink:href=\"#DejaVuSans-46\"/>\n       <use x=\"179.199219\" xlink:href=\"#DejaVuSans-48\"/>\n      </g>\n     </g>\n    </g>\n    <g id=\"xtick_4\">\n     <g id=\"line2d_7\">\n      <path clip-path=\"url(#pd0caf18fbc)\" d=\"M 164.032813 228.439219 \nL 164.032813 10.999219 \n\" style=\"fill:none;stroke:#b0b0b0;stroke-linecap:square;stroke-width:0.8;\"/>\n     </g>\n     <g id=\"line2d_8\">\n      <g>\n       <use style=\"stroke:#000000;stroke-width:0.8;\" x=\"164.032813\" xlink:href=\"#m763e2d1ea8\" y=\"228.439219\"/>\n      </g>\n     </g>\n     <g id=\"text_4\">\n      <!-- −0.5 -->\n      <g transform=\"translate(151.891406 243.037656)scale(0.1 -0.1)\">\n       <use xlink:href=\"#DejaVuSans-8722\"/>\n       <use x=\"83.789062\" xlink:href=\"#DejaVuSans-48\"/>\n       <use x=\"147.412109\" xlink:href=\"#DejaVuSans-46\"/>\n       <use x=\"179.199219\" xlink:href=\"#DejaVuSans-53\"/>\n      </g>\n     </g>\n    </g>\n    <g id=\"xtick_5\">\n     <g id=\"line2d_9\">\n      <path clip-path=\"url(#pd0caf18fbc)\" d=\"M 205.882812 228.439219 \nL 205.882812 10.999219 \n\" style=\"fill:none;stroke:#b0b0b0;stroke-linecap:square;stroke-width:0.8;\"/>\n     </g>\n     <g id=\"line2d_10\">\n      <g>\n       <use style=\"stroke:#000000;stroke-width:0.8;\" x=\"205.882812\" xlink:href=\"#m763e2d1ea8\" y=\"228.439219\"/>\n      </g>\n     </g>\n     <g id=\"text_5\">\n      <!-- 0.0 -->\n      <g transform=\"translate(197.93125 243.037656)scale(0.1 -0.1)\">\n       <use xlink:href=\"#DejaVuSans-48\"/>\n       <use x=\"63.623047\" xlink:href=\"#DejaVuSans-46\"/>\n       <use x=\"95.410156\" xlink:href=\"#DejaVuSans-48\"/>\n      </g>\n     </g>\n    </g>\n    <g id=\"xtick_6\">\n     <g id=\"line2d_11\">\n      <path clip-path=\"url(#pd0caf18fbc)\" d=\"M 247.732812 228.439219 \nL 247.732812 10.999219 \n\" style=\"fill:none;stroke:#b0b0b0;stroke-linecap:square;stroke-width:0.8;\"/>\n     </g>\n     <g id=\"line2d_12\">\n      <g>\n       <use style=\"stroke:#000000;stroke-width:0.8;\" x=\"247.732812\" xlink:href=\"#m763e2d1ea8\" y=\"228.439219\"/>\n      </g>\n     </g>\n     <g id=\"text_6\">\n      <!-- 0.5 -->\n      <g transform=\"translate(239.78125 243.037656)scale(0.1 -0.1)\">\n       <use xlink:href=\"#DejaVuSans-48\"/>\n       <use x=\"63.623047\" xlink:href=\"#DejaVuSans-46\"/>\n       <use x=\"95.410156\" xlink:href=\"#DejaVuSans-53\"/>\n      </g>\n     </g>\n    </g>\n    <g id=\"xtick_7\">\n     <g id=\"line2d_13\">\n      <path clip-path=\"url(#pd0caf18fbc)\" d=\"M 289.582812 228.439219 \nL 289.582812 10.999219 \n\" style=\"fill:none;stroke:#b0b0b0;stroke-linecap:square;stroke-width:0.8;\"/>\n     </g>\n     <g id=\"line2d_14\">\n      <g>\n       <use style=\"stroke:#000000;stroke-width:0.8;\" x=\"289.582812\" xlink:href=\"#m763e2d1ea8\" y=\"228.439219\"/>\n      </g>\n     </g>\n     <g id=\"text_7\">\n      <!-- 1.0 -->\n      <g transform=\"translate(281.63125 243.037656)scale(0.1 -0.1)\">\n       <use xlink:href=\"#DejaVuSans-49\"/>\n       <use x=\"63.623047\" xlink:href=\"#DejaVuSans-46\"/>\n       <use x=\"95.410156\" xlink:href=\"#DejaVuSans-48\"/>\n      </g>\n     </g>\n    </g>\n    <g id=\"xtick_8\">\n     <g id=\"line2d_15\">\n      <path clip-path=\"url(#pd0caf18fbc)\" d=\"M 331.432813 228.439219 \nL 331.432813 10.999219 \n\" style=\"fill:none;stroke:#b0b0b0;stroke-linecap:square;stroke-width:0.8;\"/>\n     </g>\n     <g id=\"line2d_16\">\n      <g>\n       <use style=\"stroke:#000000;stroke-width:0.8;\" x=\"331.432813\" xlink:href=\"#m763e2d1ea8\" y=\"228.439219\"/>\n      </g>\n     </g>\n     <g id=\"text_8\">\n      <!-- 1.5 -->\n      <g transform=\"translate(323.48125 243.037656)scale(0.1 -0.1)\">\n       <use xlink:href=\"#DejaVuSans-49\"/>\n       <use x=\"63.623047\" xlink:href=\"#DejaVuSans-46\"/>\n       <use x=\"95.410156\" xlink:href=\"#DejaVuSans-53\"/>\n      </g>\n     </g>\n    </g>\n    <g id=\"xtick_9\">\n     <g id=\"line2d_17\">\n      <path clip-path=\"url(#pd0caf18fbc)\" d=\"M 373.282812 228.439219 \nL 373.282812 10.999219 \n\" style=\"fill:none;stroke:#b0b0b0;stroke-linecap:square;stroke-width:0.8;\"/>\n     </g>\n     <g id=\"line2d_18\">\n      <g>\n       <use style=\"stroke:#000000;stroke-width:0.8;\" x=\"373.282812\" xlink:href=\"#m763e2d1ea8\" y=\"228.439219\"/>\n      </g>\n     </g>\n     <g id=\"text_9\">\n      <!-- 2.0 -->\n      <g transform=\"translate(365.33125 243.037656)scale(0.1 -0.1)\">\n       <use xlink:href=\"#DejaVuSans-50\"/>\n       <use x=\"63.623047\" xlink:href=\"#DejaVuSans-46\"/>\n       <use x=\"95.410156\" xlink:href=\"#DejaVuSans-48\"/>\n      </g>\n     </g>\n    </g>\n   </g>\n   <g id=\"matplotlib.axis_2\">\n    <g id=\"ytick_1\">\n     <g id=\"line2d_19\">\n      <path clip-path=\"url(#pd0caf18fbc)\" d=\"M 38.482813 228.439219 \nL 373.282813 228.439219 \n\" style=\"fill:none;stroke:#b0b0b0;stroke-linecap:square;stroke-width:0.8;\"/>\n     </g>\n     <g id=\"line2d_20\">\n      <defs>\n       <path d=\"M 0 0 \nL -3.5 0 \n\" id=\"m6e8cd58fa0\" style=\"stroke:#000000;stroke-width:0.8;\"/>\n      </defs>\n      <g>\n       <use style=\"stroke:#000000;stroke-width:0.8;\" x=\"38.482813\" xlink:href=\"#m6e8cd58fa0\" y=\"228.439219\"/>\n      </g>\n     </g>\n     <g id=\"text_10\">\n      <!-- −2.0 -->\n      <g transform=\"translate(7.2 232.238437)scale(0.1 -0.1)\">\n       <use xlink:href=\"#DejaVuSans-8722\"/>\n       <use x=\"83.789062\" xlink:href=\"#DejaVuSans-50\"/>\n       <use x=\"147.412109\" xlink:href=\"#DejaVuSans-46\"/>\n       <use x=\"179.199219\" xlink:href=\"#DejaVuSans-48\"/>\n      </g>\n     </g>\n    </g>\n    <g id=\"ytick_2\">\n     <g id=\"line2d_21\">\n      <path clip-path=\"url(#pd0caf18fbc)\" d=\"M 38.482813 201.259219 \nL 373.282813 201.259219 \n\" style=\"fill:none;stroke:#b0b0b0;stroke-linecap:square;stroke-width:0.8;\"/>\n     </g>\n     <g id=\"line2d_22\">\n      <g>\n       <use style=\"stroke:#000000;stroke-width:0.8;\" x=\"38.482813\" xlink:href=\"#m6e8cd58fa0\" y=\"201.259219\"/>\n      </g>\n     </g>\n     <g id=\"text_11\">\n      <!-- −1.5 -->\n      <g transform=\"translate(7.2 205.058437)scale(0.1 -0.1)\">\n       <use xlink:href=\"#DejaVuSans-8722\"/>\n       <use x=\"83.789062\" xlink:href=\"#DejaVuSans-49\"/>\n       <use x=\"147.412109\" xlink:href=\"#DejaVuSans-46\"/>\n       <use x=\"179.199219\" xlink:href=\"#DejaVuSans-53\"/>\n      </g>\n     </g>\n    </g>\n    <g id=\"ytick_3\">\n     <g id=\"line2d_23\">\n      <path clip-path=\"url(#pd0caf18fbc)\" d=\"M 38.482813 174.079219 \nL 373.282813 174.079219 \n\" style=\"fill:none;stroke:#b0b0b0;stroke-linecap:square;stroke-width:0.8;\"/>\n     </g>\n     <g id=\"line2d_24\">\n      <g>\n       <use style=\"stroke:#000000;stroke-width:0.8;\" x=\"38.482813\" xlink:href=\"#m6e8cd58fa0\" y=\"174.079219\"/>\n      </g>\n     </g>\n     <g id=\"text_12\">\n      <!-- −1.0 -->\n      <g transform=\"translate(7.2 177.878437)scale(0.1 -0.1)\">\n       <use xlink:href=\"#DejaVuSans-8722\"/>\n       <use x=\"83.789062\" xlink:href=\"#DejaVuSans-49\"/>\n       <use x=\"147.412109\" xlink:href=\"#DejaVuSans-46\"/>\n       <use x=\"179.199219\" xlink:href=\"#DejaVuSans-48\"/>\n      </g>\n     </g>\n    </g>\n    <g id=\"ytick_4\">\n     <g id=\"line2d_25\">\n      <path clip-path=\"url(#pd0caf18fbc)\" d=\"M 38.482813 146.899219 \nL 373.282813 146.899219 \n\" style=\"fill:none;stroke:#b0b0b0;stroke-linecap:square;stroke-width:0.8;\"/>\n     </g>\n     <g id=\"line2d_26\">\n      <g>\n       <use style=\"stroke:#000000;stroke-width:0.8;\" x=\"38.482813\" xlink:href=\"#m6e8cd58fa0\" y=\"146.899219\"/>\n      </g>\n     </g>\n     <g id=\"text_13\">\n      <!-- −0.5 -->\n      <g transform=\"translate(7.2 150.698437)scale(0.1 -0.1)\">\n       <use xlink:href=\"#DejaVuSans-8722\"/>\n       <use x=\"83.789062\" xlink:href=\"#DejaVuSans-48\"/>\n       <use x=\"147.412109\" xlink:href=\"#DejaVuSans-46\"/>\n       <use x=\"179.199219\" xlink:href=\"#DejaVuSans-53\"/>\n      </g>\n     </g>\n    </g>\n    <g id=\"ytick_5\">\n     <g id=\"line2d_27\">\n      <path clip-path=\"url(#pd0caf18fbc)\" d=\"M 38.482813 119.719219 \nL 373.282813 119.719219 \n\" style=\"fill:none;stroke:#b0b0b0;stroke-linecap:square;stroke-width:0.8;\"/>\n     </g>\n     <g id=\"line2d_28\">\n      <g>\n       <use style=\"stroke:#000000;stroke-width:0.8;\" x=\"38.482813\" xlink:href=\"#m6e8cd58fa0\" y=\"119.719219\"/>\n      </g>\n     </g>\n     <g id=\"text_14\">\n      <!-- 0.0 -->\n      <g transform=\"translate(15.579688 123.518437)scale(0.1 -0.1)\">\n       <use xlink:href=\"#DejaVuSans-48\"/>\n       <use x=\"63.623047\" xlink:href=\"#DejaVuSans-46\"/>\n       <use x=\"95.410156\" xlink:href=\"#DejaVuSans-48\"/>\n      </g>\n     </g>\n    </g>\n    <g id=\"ytick_6\">\n     <g id=\"line2d_29\">\n      <path clip-path=\"url(#pd0caf18fbc)\" d=\"M 38.482813 92.539219 \nL 373.282813 92.539219 \n\" style=\"fill:none;stroke:#b0b0b0;stroke-linecap:square;stroke-width:0.8;\"/>\n     </g>\n     <g id=\"line2d_30\">\n      <g>\n       <use style=\"stroke:#000000;stroke-width:0.8;\" x=\"38.482813\" xlink:href=\"#m6e8cd58fa0\" y=\"92.539219\"/>\n      </g>\n     </g>\n     <g id=\"text_15\">\n      <!-- 0.5 -->\n      <g transform=\"translate(15.579688 96.338437)scale(0.1 -0.1)\">\n       <use xlink:href=\"#DejaVuSans-48\"/>\n       <use x=\"63.623047\" xlink:href=\"#DejaVuSans-46\"/>\n       <use x=\"95.410156\" xlink:href=\"#DejaVuSans-53\"/>\n      </g>\n     </g>\n    </g>\n    <g id=\"ytick_7\">\n     <g id=\"line2d_31\">\n      <path clip-path=\"url(#pd0caf18fbc)\" d=\"M 38.482813 65.359219 \nL 373.282813 65.359219 \n\" style=\"fill:none;stroke:#b0b0b0;stroke-linecap:square;stroke-width:0.8;\"/>\n     </g>\n     <g id=\"line2d_32\">\n      <g>\n       <use style=\"stroke:#000000;stroke-width:0.8;\" x=\"38.482813\" xlink:href=\"#m6e8cd58fa0\" y=\"65.359219\"/>\n      </g>\n     </g>\n     <g id=\"text_16\">\n      <!-- 1.0 -->\n      <g transform=\"translate(15.579688 69.158437)scale(0.1 -0.1)\">\n       <use xlink:href=\"#DejaVuSans-49\"/>\n       <use x=\"63.623047\" xlink:href=\"#DejaVuSans-46\"/>\n       <use x=\"95.410156\" xlink:href=\"#DejaVuSans-48\"/>\n      </g>\n     </g>\n    </g>\n    <g id=\"ytick_8\">\n     <g id=\"line2d_33\">\n      <path clip-path=\"url(#pd0caf18fbc)\" d=\"M 38.482813 38.179219 \nL 373.282813 38.179219 \n\" style=\"fill:none;stroke:#b0b0b0;stroke-linecap:square;stroke-width:0.8;\"/>\n     </g>\n     <g id=\"line2d_34\">\n      <g>\n       <use style=\"stroke:#000000;stroke-width:0.8;\" x=\"38.482813\" xlink:href=\"#m6e8cd58fa0\" y=\"38.179219\"/>\n      </g>\n     </g>\n     <g id=\"text_17\">\n      <!-- 1.5 -->\n      <g transform=\"translate(15.579688 41.978437)scale(0.1 -0.1)\">\n       <use xlink:href=\"#DejaVuSans-49\"/>\n       <use x=\"63.623047\" xlink:href=\"#DejaVuSans-46\"/>\n       <use x=\"95.410156\" xlink:href=\"#DejaVuSans-53\"/>\n      </g>\n     </g>\n    </g>\n    <g id=\"ytick_9\">\n     <g id=\"line2d_35\">\n      <path clip-path=\"url(#pd0caf18fbc)\" d=\"M 38.482813 10.999219 \nL 373.282813 10.999219 \n\" style=\"fill:none;stroke:#b0b0b0;stroke-linecap:square;stroke-width:0.8;\"/>\n     </g>\n     <g id=\"line2d_36\">\n      <g>\n       <use style=\"stroke:#000000;stroke-width:0.8;\" x=\"38.482813\" xlink:href=\"#m6e8cd58fa0\" y=\"10.999219\"/>\n      </g>\n     </g>\n     <g id=\"text_18\">\n      <!-- 2.0 -->\n      <g transform=\"translate(15.579688 14.798437)scale(0.1 -0.1)\">\n       <use xlink:href=\"#DejaVuSans-50\"/>\n       <use x=\"63.623047\" xlink:href=\"#DejaVuSans-46\"/>\n       <use x=\"95.410156\" xlink:href=\"#DejaVuSans-48\"/>\n      </g>\n     </g>\n    </g>\n   </g>\n   <g id=\"line2d_37\">\n    <defs>\n     <path d=\"M -3 0 \nL 3 0 \nM 0 3 \nL 0 -3 \n\" id=\"md8b140e476\" style=\"stroke:#ff0000;\"/>\n    </defs>\n    <g clip-path=\"url(#pd0caf18fbc)\">\n     <use style=\"fill:#ff0000;stroke:#ff0000;\" x=\"80.332812\" xlink:href=\"#md8b140e476\" y=\"190.387216\"/>\n     <use style=\"fill:#ff0000;stroke:#ff0000;\" x=\"222.622813\" xlink:href=\"#md8b140e476\" y=\"195.823217\"/>\n     <use style=\"fill:#ff0000;stroke:#ff0000;\" x=\"147.292813\" xlink:href=\"#md8b140e476\" y=\"146.899219\"/>\n    </g>\n   </g>\n   <g id=\"line2d_38\">\n    <defs>\n     <path d=\"M 0 1.5 \nC 0.397805 1.5 0.77937 1.341951 1.06066 1.06066 \nC 1.341951 0.77937 1.5 0.397805 1.5 0 \nC 1.5 -0.397805 1.341951 -0.77937 1.06066 -1.06066 \nC 0.77937 -1.341951 0.397805 -1.5 0 -1.5 \nC -0.397805 -1.5 -0.77937 -1.341951 -1.06066 -1.06066 \nC -1.341951 -0.77937 -1.5 -0.397805 -1.5 0 \nC -1.5 0.397805 -1.341951 0.77937 -1.06066 1.06066 \nC -0.77937 1.341951 -0.397805 1.5 0 1.5 \nz\n\" id=\"m274aea370c\" style=\"stroke:#0000ff;\"/>\n    </defs>\n    <g clip-path=\"url(#pd0caf18fbc)\">\n     <use style=\"fill:#0000ff;stroke:#0000ff;\" x=\"306.322816\" xlink:href=\"#m274aea370c\" y=\"65.359219\"/>\n     <use style=\"fill:#0000ff;stroke:#0000ff;\" x=\"222.622813\" xlink:href=\"#m274aea370c\" y=\"43.61522\"/>\n     <use style=\"fill:#0000ff;stroke:#0000ff;\" x=\"247.732812\" xlink:href=\"#m274aea370c\" y=\"92.539219\"/>\n    </g>\n   </g>\n   <g id=\"line2d_39\">\n    <path clip-path=\"url(#pd0caf18fbc)\" d=\"M 38.482812 246.559227 \nL 373.282812 101.599218 \n\" style=\"fill:none;stroke:#1f77b4;stroke-linecap:square;stroke-width:1.5;\"/>\n   </g>\n   <g id=\"patch_3\">\n    <path d=\"M 38.482813 228.439219 \nL 38.482813 10.999219 \n\" style=\"fill:none;stroke:#000000;stroke-linecap:square;stroke-linejoin:miter;stroke-width:0.8;\"/>\n   </g>\n   <g id=\"patch_4\">\n    <path d=\"M 373.282813 228.439219 \nL 373.282813 10.999219 \n\" style=\"fill:none;stroke:#000000;stroke-linecap:square;stroke-linejoin:miter;stroke-width:0.8;\"/>\n   </g>\n   <g id=\"patch_5\">\n    <path d=\"M 38.482812 228.439219 \nL 373.282812 228.439219 \n\" style=\"fill:none;stroke:#000000;stroke-linecap:square;stroke-linejoin:miter;stroke-width:0.8;\"/>\n   </g>\n   <g id=\"patch_6\">\n    <path d=\"M 38.482812 10.999219 \nL 373.282812 10.999219 \n\" style=\"fill:none;stroke:#000000;stroke-linecap:square;stroke-linejoin:miter;stroke-width:0.8;\"/>\n   </g>\n  </g>\n </g>\n <defs>\n  <clipPath id=\"pd0caf18fbc\">\n   <rect height=\"217.44\" width=\"334.8\" x=\"38.482813\" y=\"10.999219\"/>\n  </clipPath>\n </defs>\n</svg>\n",
      "image/png": "[encoded data removed]"
     },
     "metadata": {
      "needs_background": "light"
     }
    }
   ],
   "source": [
    "import matplotlib.pyplot as plt\n",
    "\n",
    "# create some toy 2-D datapoints with binary (0/1) labels\n",
    "x = torch.tensor([[1.2, 1], [0.2, 1.4], [0.5, 0.5], \n",
    "                  [-1.5, -1.3], [0.2, -1.4], [-0.7, -0.5]])\n",
    "y = torch.tensor([0, 0, 0, 1, 1, 1 ])\n",
    "\n",
    "def plot_soln(x, y, params):\n",
    "  plt.plot(x[y==1,0], x[y==1,1], 'r+')\n",
    "  plt.plot(x[y==0,0], x[y==0,1], 'b.')\n",
    "  plt.grid(True)\n",
    "  plt.axis([-2, 2, -2, 2])\n",
    "  \n",
    "  # NOTE : This may depend on how you implement Neuron.\n",
    "  #   Change accordingly\n",
    "  w0 = params[0][0][0].item()\n",
    "  w1 = params[0][0][1].item()\n",
    "  bias = params[1][0].item()\n",
    "  \n",
    "  print(\"w0 =\", w0, \"w1 =\", w1, \"bias =\", bias)\n",
    "  dbx = torch.tensor([-2, 2])\n",
    "  dby = -(1/w1)*(w0*dbx + bias)  # plot the line corresponding to the weights and bias\n",
    "  plt.plot(dbx, dby)\n",
    "\n",
    "params = list(my_neuron.parameters())\n",
    "plot_soln(x, y, params)"
   ]
  },
  {
   "cell_type": "markdown",
   "metadata": {
    "colab_type": "text",
    "id": "CpB2AwwhckYc"
   },
   "source": [
    "**1.5.1** Declare an object `criterion` of type `nn.CrossEntropyLoss`. Note that this can be called as a function on two tensors, one representing the network outputs and the other, the targets that the network is being trained to predict, to return the loss. Print the value of the loss on the dataset using the initial weights and bias defined above in Q1.2."
   ]
  },
  {
   "cell_type": "code",
   "execution_count": 19,
   "metadata": {
    "colab": {
     "base_uri": "https://localhost:8080/",
     "height": 34
    },
    "colab_type": "code",
    "executionInfo": {
     "elapsed": 553,
     "status": "ok",
     "timestamp": 1581998912941,
     "user": {
      "displayName": "Samarth Mishra",
      "photoUrl": "",
      "userId": "00064519813488481618"
     },
     "user_tz": 300
    },
    "id": "l1M8bkH5cnVQ",
    "outputId": "8b79c853-db3e-4688-856e-1c7663195fdd"
   },
   "outputs": [
    {
     "output_type": "stream",
     "name": "stdout",
     "text": [
      "loss = 0.9425851702690125\n"
     ]
    }
   ],
   "source": [
    "# solution here\n",
    "my_neuron = Neuron()\n",
    "y_pred = my_neuron.forward(x)\n",
    "\n",
    "y_pred = torch.cat([y_pred, 1 - y_pred], dim=1)\n",
    "\n",
    "criterion = nn.CrossEntropyLoss()\n",
    "loss = criterion(y_pred, y)\n",
    "print(\"loss =\", loss.item())"
   ]
  },
  {
   "cell_type": "markdown",
   "metadata": {
    "colab_type": "text",
    "id": "RJqHzmDL6yYh"
   },
   "source": [
    "**1.5.2** The following prints out the chain of `grad_fn` functions backwards starting from `loss.grad_fn`  to demonstrate what backpropagation will be run on."
   ]
  },
  {
   "cell_type": "code",
   "execution_count": 20,
   "metadata": {
    "colab": {
     "base_uri": "https://localhost:8080/",
     "height": 86
    },
    "colab_type": "code",
    "executionInfo": {
     "elapsed": 404,
     "status": "ok",
     "timestamp": 1581998915620,
     "user": {
      "displayName": "Samarth Mishra",
      "photoUrl": "",
      "userId": "00064519813488481618"
     },
     "user_tz": 300
    },
    "id": "wawoYnT3U04S",
    "outputId": "cfafafbe-8cd0-48bb-c6a4-bda00371a103",
    "scrolled": true
   },
   "outputs": [
    {
     "output_type": "stream",
     "name": "stdout",
     "text": [
      "<NllLossBackward object at 0x7fdb4a2a1210>\n<LogSoftmaxBackward object at 0x7fdb4a2a1390>\n<CatBackward object at 0x7fdb4a2a1210>\n<SigmoidBackward object at 0x7fdb4a2a1590>\n"
     ]
    }
   ],
   "source": [
    "print(loss.grad_fn)  \n",
    "print(loss.grad_fn.next_functions[0][0])  \n",
    "print(loss.grad_fn.next_functions[0][0].next_functions[0][0])  \n",
    "print(loss.grad_fn.next_functions[0][0].next_functions[0][0].next_functions[0][0])  "
   ]
  },
  {
   "cell_type": "markdown",
   "metadata": {
    "colab_type": "text",
    "id": "Og0ZO46h3UNg"
   },
   "source": [
    "**1.5.3** Run the Stochastic Gradient Descent (SGD) optimizer from the `torch.optim` package to train your classifier on the toy dataset. Use the entire dataset in each batch. Use a learning rate of $0.01$ (no other hyperparameters). You will need to write a training loop that uses the `.step()` function of the optimizer. Plot the solution and print the loss after 1000 iterations."
   ]
  },
  {
   "cell_type": "code",
   "execution_count": 21,
   "metadata": {
    "colab": {
     "base_uri": "https://localhost:8080/",
     "height": 304
    },
    "colab_type": "code",
    "executionInfo": {
     "elapsed": 1098,
     "status": "ok",
     "timestamp": 1581998918323,
     "user": {
      "displayName": "Samarth Mishra",
      "photoUrl": "",
      "userId": "00064519813488481618"
     },
     "user_tz": 300
    },
    "id": "fqxdnM-vV1DU",
    "outputId": "3699a412-a9bb-48ad-d873-53349a233a23"
   },
   "outputs": [
    {
     "output_type": "stream",
     "name": "stdout",
     "text": [
      "loss = 0.870725691318512\nw0 = 2.161842107772827 w1 = -2.233754873275757 bias = -3.3213229179382324\n"
     ]
    },
    {
     "output_type": "display_data",
     "data": {
      "text/plain": "<Figure size 432x288 with 1 Axes>",
      "image/svg+xml": "<?xml version=\"1.0\" encoding=\"utf-8\" standalone=\"no\"?>\n<!DOCTYPE svg PUBLIC \"-//W3C//DTD SVG 1.1//EN\"\n  \"http://www.w3.org/Graphics/SVG/1.1/DTD/svg11.dtd\">\n<!-- Created with matplotlib (https://matplotlib.org/) -->\n<svg height=\"252.317344pt\" version=\"1.1\" viewBox=\"0 0 388.434375 252.317344\" width=\"388.434375pt\" xmlns=\"http://www.w3.org/2000/svg\" xmlns:xlink=\"http://www.w3.org/1999/xlink\">\n <metadata>\n  <rdf:RDF xmlns:cc=\"http://creativecommons.org/ns#\" xmlns:dc=\"http://purl.org/dc/elements/1.1/\" xmlns:rdf=\"http://www.w3.org/1999/02/22-rdf-syntax-ns#\">\n   <cc:Work>\n    <dc:type rdf:resource=\"http://purl.org/dc/dcmitype/StillImage\"/>\n    <dc:date>2021-06-15T11:03:10.689907</dc:date>\n    <dc:format>image/svg+xml</dc:format>\n    <dc:creator>\n     <cc:Agent>\n      <dc:title>Matplotlib v3.3.4, https://matplotlib.org/</dc:title>\n     </cc:Agent>\n    </dc:creator>\n   </cc:Work>\n  </rdf:RDF>\n </metadata>\n <defs>\n  <style type=\"text/css\">*{stroke-linecap:butt;stroke-linejoin:round;}</style>\n </defs>\n <g id=\"figure_1\">\n  <g id=\"patch_1\">\n   <path d=\"M -0 252.317344 \nL 388.434375 252.317344 \nL 388.434375 0 \nL -0 0 \nz\n\" style=\"fill:none;\"/>\n  </g>\n  <g id=\"axes_1\">\n   <g id=\"patch_2\">\n    <path d=\"M 38.482813 228.439219 \nL 373.282813 228.439219 \nL 373.282813 10.999219 \nL 38.482813 10.999219 \nz\n\" style=\"fill:#ffffff;\"/>\n   </g>\n   <g id=\"matplotlib.axis_1\">\n    <g id=\"xtick_1\">\n     <g id=\"line2d_1\">\n      <path clip-path=\"url(#pc55b0db6fe)\" d=\"M 38.482812 228.439219 \nL 38.482812 10.999219 \n\" style=\"fill:none;stroke:#b0b0b0;stroke-linecap:square;stroke-width:0.8;\"/>\n     </g>\n     <g id=\"line2d_2\">\n      <defs>\n       <path d=\"M 0 0 \nL 0 3.5 \n\" id=\"m387c65da61\" style=\"stroke:#000000;stroke-width:0.8;\"/>\n      </defs>\n      <g>\n       <use style=\"stroke:#000000;stroke-width:0.8;\" x=\"38.482812\" xlink:href=\"#m387c65da61\" y=\"228.439219\"/>\n      </g>\n     </g>\n     <g id=\"text_1\">\n      <!-- −2.0 -->\n      <g transform=\"translate(26.341406 243.037656)scale(0.1 -0.1)\">\n       <defs>\n        <path d=\"M 10.59375 35.5 \nL 73.1875 35.5 \nL 73.1875 27.203125 \nL 10.59375 27.203125 \nz\n\" id=\"DejaVuSans-8722\"/>\n        <path d=\"M 19.1875 8.296875 \nL 53.609375 8.296875 \nL 53.609375 0 \nL 7.328125 0 \nL 7.328125 8.296875 \nQ 12.9375 14.109375 22.625 23.890625 \nQ 32.328125 33.6875 34.8125 36.53125 \nQ 39.546875 41.84375 41.421875 45.53125 \nQ 43.3125 49.21875 43.3125 52.78125 \nQ 43.3125 58.59375 39.234375 62.25 \nQ 35.15625 65.921875 28.609375 65.921875 \nQ 23.96875 65.921875 18.8125 64.3125 \nQ 13.671875 62.703125 7.8125 59.421875 \nL 7.8125 69.390625 \nQ 13.765625 71.78125 18.9375 73 \nQ 24.125 74.21875 28.421875 74.21875 \nQ 39.75 74.21875 46.484375 68.546875 \nQ 53.21875 62.890625 53.21875 53.421875 \nQ 53.21875 48.921875 51.53125 44.890625 \nQ 49.859375 40.875 45.40625 35.40625 \nQ 44.1875 33.984375 37.640625 27.21875 \nQ 31.109375 20.453125 19.1875 8.296875 \nz\n\" id=\"DejaVuSans-50\"/>\n        <path d=\"M 10.6875 12.40625 \nL 21 12.40625 \nL 21 0 \nL 10.6875 0 \nz\n\" id=\"DejaVuSans-46\"/>\n        <path d=\"M 31.78125 66.40625 \nQ 24.171875 66.40625 20.328125 58.90625 \nQ 16.5 51.421875 16.5 36.375 \nQ 16.5 21.390625 20.328125 13.890625 \nQ 24.171875 6.390625 31.78125 6.390625 \nQ 39.453125 6.390625 43.28125 13.890625 \nQ 47.125 21.390625 47.125 36.375 \nQ 47.125 51.421875 43.28125 58.90625 \nQ 39.453125 66.40625 31.78125 66.40625 \nz\nM 31.78125 74.21875 \nQ 44.046875 74.21875 50.515625 64.515625 \nQ 56.984375 54.828125 56.984375 36.375 \nQ 56.984375 17.96875 50.515625 8.265625 \nQ 44.046875 -1.421875 31.78125 -1.421875 \nQ 19.53125 -1.421875 13.0625 8.265625 \nQ 6.59375 17.96875 6.59375 36.375 \nQ 6.59375 54.828125 13.0625 64.515625 \nQ 19.53125 74.21875 31.78125 74.21875 \nz\n\" id=\"DejaVuSans-48\"/>\n       </defs>\n       <use xlink:href=\"#DejaVuSans-8722\"/>\n       <use x=\"83.789062\" xlink:href=\"#DejaVuSans-50\"/>\n       <use x=\"147.412109\" xlink:href=\"#DejaVuSans-46\"/>\n       <use x=\"179.199219\" xlink:href=\"#DejaVuSans-48\"/>\n      </g>\n     </g>\n    </g>\n    <g id=\"xtick_2\">\n     <g id=\"line2d_3\">\n      <path clip-path=\"url(#pc55b0db6fe)\" d=\"M 80.332812 228.439219 \nL 80.332812 10.999219 \n\" style=\"fill:none;stroke:#b0b0b0;stroke-linecap:square;stroke-width:0.8;\"/>\n     </g>\n     <g id=\"line2d_4\">\n      <g>\n       <use style=\"stroke:#000000;stroke-width:0.8;\" x=\"80.332812\" xlink:href=\"#m387c65da61\" y=\"228.439219\"/>\n      </g>\n     </g>\n     <g id=\"text_2\">\n      <!-- −1.5 -->\n      <g transform=\"translate(68.191406 243.037656)scale(0.1 -0.1)\">\n       <defs>\n        <path d=\"M 12.40625 8.296875 \nL 28.515625 8.296875 \nL 28.515625 63.921875 \nL 10.984375 60.40625 \nL 10.984375 69.390625 \nL 28.421875 72.90625 \nL 38.28125 72.90625 \nL 38.28125 8.296875 \nL 54.390625 8.296875 \nL 54.390625 0 \nL 12.40625 0 \nz\n\" id=\"DejaVuSans-49\"/>\n        <path d=\"M 10.796875 72.90625 \nL 49.515625 72.90625 \nL 49.515625 64.59375 \nL 19.828125 64.59375 \nL 19.828125 46.734375 \nQ 21.96875 47.46875 24.109375 47.828125 \nQ 26.265625 48.1875 28.421875 48.1875 \nQ 40.625 48.1875 47.75 41.5 \nQ 54.890625 34.8125 54.890625 23.390625 \nQ 54.890625 11.625 47.5625 5.09375 \nQ 40.234375 -1.421875 26.90625 -1.421875 \nQ 22.3125 -1.421875 17.546875 -0.640625 \nQ 12.796875 0.140625 7.71875 1.703125 \nL 7.71875 11.625 \nQ 12.109375 9.234375 16.796875 8.0625 \nQ 21.484375 6.890625 26.703125 6.890625 \nQ 35.15625 6.890625 40.078125 11.328125 \nQ 45.015625 15.765625 45.015625 23.390625 \nQ 45.015625 31 40.078125 35.4375 \nQ 35.15625 39.890625 26.703125 39.890625 \nQ 22.75 39.890625 18.8125 39.015625 \nQ 14.890625 38.140625 10.796875 36.28125 \nz\n\" id=\"DejaVuSans-53\"/>\n       </defs>\n       <use xlink:href=\"#DejaVuSans-8722\"/>\n       <use x=\"83.789062\" xlink:href=\"#DejaVuSans-49\"/>\n       <use x=\"147.412109\" xlink:href=\"#DejaVuSans-46\"/>\n       <use x=\"179.199219\" xlink:href=\"#DejaVuSans-53\"/>\n      </g>\n     </g>\n    </g>\n    <g id=\"xtick_3\">\n     <g id=\"line2d_5\">\n      <path clip-path=\"url(#pc55b0db6fe)\" d=\"M 122.182812 228.439219 \nL 122.182812 10.999219 \n\" style=\"fill:none;stroke:#b0b0b0;stroke-linecap:square;stroke-width:0.8;\"/>\n     </g>\n     <g id=\"line2d_6\">\n      <g>\n       <use style=\"stroke:#000000;stroke-width:0.8;\" x=\"122.182812\" xlink:href=\"#m387c65da61\" y=\"228.439219\"/>\n      </g>\n     </g>\n     <g id=\"text_3\">\n      <!-- −1.0 -->\n      <g transform=\"translate(110.041406 243.037656)scale(0.1 -0.1)\">\n       <use xlink:href=\"#DejaVuSans-8722\"/>\n       <use x=\"83.789062\" xlink:href=\"#DejaVuSans-49\"/>\n       <use x=\"147.412109\" xlink:href=\"#DejaVuSans-46\"/>\n       <use x=\"179.199219\" xlink:href=\"#DejaVuSans-48\"/>\n      </g>\n     </g>\n    </g>\n    <g id=\"xtick_4\">\n     <g id=\"line2d_7\">\n      <path clip-path=\"url(#pc55b0db6fe)\" d=\"M 164.032813 228.439219 \nL 164.032813 10.999219 \n\" style=\"fill:none;stroke:#b0b0b0;stroke-linecap:square;stroke-width:0.8;\"/>\n     </g>\n     <g id=\"line2d_8\">\n      <g>\n       <use style=\"stroke:#000000;stroke-width:0.8;\" x=\"164.032813\" xlink:href=\"#m387c65da61\" y=\"228.439219\"/>\n      </g>\n     </g>\n     <g id=\"text_4\">\n      <!-- −0.5 -->\n      <g transform=\"translate(151.891406 243.037656)scale(0.1 -0.1)\">\n       <use xlink:href=\"#DejaVuSans-8722\"/>\n       <use x=\"83.789062\" xlink:href=\"#DejaVuSans-48\"/>\n       <use x=\"147.412109\" xlink:href=\"#DejaVuSans-46\"/>\n       <use x=\"179.199219\" xlink:href=\"#DejaVuSans-53\"/>\n      </g>\n     </g>\n    </g>\n    <g id=\"xtick_5\">\n     <g id=\"line2d_9\">\n      <path clip-path=\"url(#pc55b0db6fe)\" d=\"M 205.882812 228.439219 \nL 205.882812 10.999219 \n\" style=\"fill:none;stroke:#b0b0b0;stroke-linecap:square;stroke-width:0.8;\"/>\n     </g>\n     <g id=\"line2d_10\">\n      <g>\n       <use style=\"stroke:#000000;stroke-width:0.8;\" x=\"205.882812\" xlink:href=\"#m387c65da61\" y=\"228.439219\"/>\n      </g>\n     </g>\n     <g id=\"text_5\">\n      <!-- 0.0 -->\n      <g transform=\"translate(197.93125 243.037656)scale(0.1 -0.1)\">\n       <use xlink:href=\"#DejaVuSans-48\"/>\n       <use x=\"63.623047\" xlink:href=\"#DejaVuSans-46\"/>\n       <use x=\"95.410156\" xlink:href=\"#DejaVuSans-48\"/>\n      </g>\n     </g>\n    </g>\n    <g id=\"xtick_6\">\n     <g id=\"line2d_11\">\n      <path clip-path=\"url(#pc55b0db6fe)\" d=\"M 247.732812 228.439219 \nL 247.732812 10.999219 \n\" style=\"fill:none;stroke:#b0b0b0;stroke-linecap:square;stroke-width:0.8;\"/>\n     </g>\n     <g id=\"line2d_12\">\n      <g>\n       <use style=\"stroke:#000000;stroke-width:0.8;\" x=\"247.732812\" xlink:href=\"#m387c65da61\" y=\"228.439219\"/>\n      </g>\n     </g>\n     <g id=\"text_6\">\n      <!-- 0.5 -->\n      <g transform=\"translate(239.78125 243.037656)scale(0.1 -0.1)\">\n       <use xlink:href=\"#DejaVuSans-48\"/>\n       <use x=\"63.623047\" xlink:href=\"#DejaVuSans-46\"/>\n       <use x=\"95.410156\" xlink:href=\"#DejaVuSans-53\"/>\n      </g>\n     </g>\n    </g>\n    <g id=\"xtick_7\">\n     <g id=\"line2d_13\">\n      <path clip-path=\"url(#pc55b0db6fe)\" d=\"M 289.582812 228.439219 \nL 289.582812 10.999219 \n\" style=\"fill:none;stroke:#b0b0b0;stroke-linecap:square;stroke-width:0.8;\"/>\n     </g>\n     <g id=\"line2d_14\">\n      <g>\n       <use style=\"stroke:#000000;stroke-width:0.8;\" x=\"289.582812\" xlink:href=\"#m387c65da61\" y=\"228.439219\"/>\n      </g>\n     </g>\n     <g id=\"text_7\">\n      <!-- 1.0 -->\n      <g transform=\"translate(281.63125 243.037656)scale(0.1 -0.1)\">\n       <use xlink:href=\"#DejaVuSans-49\"/>\n       <use x=\"63.623047\" xlink:href=\"#DejaVuSans-46\"/>\n       <use x=\"95.410156\" xlink:href=\"#DejaVuSans-48\"/>\n      </g>\n     </g>\n    </g>\n    <g id=\"xtick_8\">\n     <g id=\"line2d_15\">\n      <path clip-path=\"url(#pc55b0db6fe)\" d=\"M 331.432813 228.439219 \nL 331.432813 10.999219 \n\" style=\"fill:none;stroke:#b0b0b0;stroke-linecap:square;stroke-width:0.8;\"/>\n     </g>\n     <g id=\"line2d_16\">\n      <g>\n       <use style=\"stroke:#000000;stroke-width:0.8;\" x=\"331.432813\" xlink:href=\"#m387c65da61\" y=\"228.439219\"/>\n      </g>\n     </g>\n     <g id=\"text_8\">\n      <!-- 1.5 -->\n      <g transform=\"translate(323.48125 243.037656)scale(0.1 -0.1)\">\n       <use xlink:href=\"#DejaVuSans-49\"/>\n       <use x=\"63.623047\" xlink:href=\"#DejaVuSans-46\"/>\n       <use x=\"95.410156\" xlink:href=\"#DejaVuSans-53\"/>\n      </g>\n     </g>\n    </g>\n    <g id=\"xtick_9\">\n     <g id=\"line2d_17\">\n      <path clip-path=\"url(#pc55b0db6fe)\" d=\"M 373.282812 228.439219 \nL 373.282812 10.999219 \n\" style=\"fill:none;stroke:#b0b0b0;stroke-linecap:square;stroke-width:0.8;\"/>\n     </g>\n     <g id=\"line2d_18\">\n      <g>\n       <use style=\"stroke:#000000;stroke-width:0.8;\" x=\"373.282812\" xlink:href=\"#m387c65da61\" y=\"228.439219\"/>\n      </g>\n     </g>\n     <g id=\"text_9\">\n      <!-- 2.0 -->\n      <g transform=\"translate(365.33125 243.037656)scale(0.1 -0.1)\">\n       <use xlink:href=\"#DejaVuSans-50\"/>\n       <use x=\"63.623047\" xlink:href=\"#DejaVuSans-46\"/>\n       <use x=\"95.410156\" xlink:href=\"#DejaVuSans-48\"/>\n      </g>\n     </g>\n    </g>\n   </g>\n   <g id=\"matplotlib.axis_2\">\n    <g id=\"ytick_1\">\n     <g id=\"line2d_19\">\n      <path clip-path=\"url(#pc55b0db6fe)\" d=\"M 38.482813 228.439219 \nL 373.282813 228.439219 \n\" style=\"fill:none;stroke:#b0b0b0;stroke-linecap:square;stroke-width:0.8;\"/>\n     </g>\n     <g id=\"line2d_20\">\n      <defs>\n       <path d=\"M 0 0 \nL -3.5 0 \n\" id=\"m8f09fac415\" style=\"stroke:#000000;stroke-width:0.8;\"/>\n      </defs>\n      <g>\n       <use style=\"stroke:#000000;stroke-width:0.8;\" x=\"38.482813\" xlink:href=\"#m8f09fac415\" y=\"228.439219\"/>\n      </g>\n     </g>\n     <g id=\"text_10\">\n      <!-- −2.0 -->\n      <g transform=\"translate(7.2 232.238437)scale(0.1 -0.1)\">\n       <use xlink:href=\"#DejaVuSans-8722\"/>\n       <use x=\"83.789062\" xlink:href=\"#DejaVuSans-50\"/>\n       <use x=\"147.412109\" xlink:href=\"#DejaVuSans-46\"/>\n       <use x=\"179.199219\" xlink:href=\"#DejaVuSans-48\"/>\n      </g>\n     </g>\n    </g>\n    <g id=\"ytick_2\">\n     <g id=\"line2d_21\">\n      <path clip-path=\"url(#pc55b0db6fe)\" d=\"M 38.482813 201.259219 \nL 373.282813 201.259219 \n\" style=\"fill:none;stroke:#b0b0b0;stroke-linecap:square;stroke-width:0.8;\"/>\n     </g>\n     <g id=\"line2d_22\">\n      <g>\n       <use style=\"stroke:#000000;stroke-width:0.8;\" x=\"38.482813\" xlink:href=\"#m8f09fac415\" y=\"201.259219\"/>\n      </g>\n     </g>\n     <g id=\"text_11\">\n      <!-- −1.5 -->\n      <g transform=\"translate(7.2 205.058437)scale(0.1 -0.1)\">\n       <use xlink:href=\"#DejaVuSans-8722\"/>\n       <use x=\"83.789062\" xlink:href=\"#DejaVuSans-49\"/>\n       <use x=\"147.412109\" xlink:href=\"#DejaVuSans-46\"/>\n       <use x=\"179.199219\" xlink:href=\"#DejaVuSans-53\"/>\n      </g>\n     </g>\n    </g>\n    <g id=\"ytick_3\">\n     <g id=\"line2d_23\">\n      <path clip-path=\"url(#pc55b0db6fe)\" d=\"M 38.482813 174.079219 \nL 373.282813 174.079219 \n\" style=\"fill:none;stroke:#b0b0b0;stroke-linecap:square;stroke-width:0.8;\"/>\n     </g>\n     <g id=\"line2d_24\">\n      <g>\n       <use style=\"stroke:#000000;stroke-width:0.8;\" x=\"38.482813\" xlink:href=\"#m8f09fac415\" y=\"174.079219\"/>\n      </g>\n     </g>\n     <g id=\"text_12\">\n      <!-- −1.0 -->\n      <g transform=\"translate(7.2 177.878437)scale(0.1 -0.1)\">\n       <use xlink:href=\"#DejaVuSans-8722\"/>\n       <use x=\"83.789062\" xlink:href=\"#DejaVuSans-49\"/>\n       <use x=\"147.412109\" xlink:href=\"#DejaVuSans-46\"/>\n       <use x=\"179.199219\" xlink:href=\"#DejaVuSans-48\"/>\n      </g>\n     </g>\n    </g>\n    <g id=\"ytick_4\">\n     <g id=\"line2d_25\">\n      <path clip-path=\"url(#pc55b0db6fe)\" d=\"M 38.482813 146.899219 \nL 373.282813 146.899219 \n\" style=\"fill:none;stroke:#b0b0b0;stroke-linecap:square;stroke-width:0.8;\"/>\n     </g>\n     <g id=\"line2d_26\">\n      <g>\n       <use style=\"stroke:#000000;stroke-width:0.8;\" x=\"38.482813\" xlink:href=\"#m8f09fac415\" y=\"146.899219\"/>\n      </g>\n     </g>\n     <g id=\"text_13\">\n      <!-- −0.5 -->\n      <g transform=\"translate(7.2 150.698437)scale(0.1 -0.1)\">\n       <use xlink:href=\"#DejaVuSans-8722\"/>\n       <use x=\"83.789062\" xlink:href=\"#DejaVuSans-48\"/>\n       <use x=\"147.412109\" xlink:href=\"#DejaVuSans-46\"/>\n       <use x=\"179.199219\" xlink:href=\"#DejaVuSans-53\"/>\n      </g>\n     </g>\n    </g>\n    <g id=\"ytick_5\">\n     <g id=\"line2d_27\">\n      <path clip-path=\"url(#pc55b0db6fe)\" d=\"M 38.482813 119.719219 \nL 373.282813 119.719219 \n\" style=\"fill:none;stroke:#b0b0b0;stroke-linecap:square;stroke-width:0.8;\"/>\n     </g>\n     <g id=\"line2d_28\">\n      <g>\n       <use style=\"stroke:#000000;stroke-width:0.8;\" x=\"38.482813\" xlink:href=\"#m8f09fac415\" y=\"119.719219\"/>\n      </g>\n     </g>\n     <g id=\"text_14\">\n      <!-- 0.0 -->\n      <g transform=\"translate(15.579688 123.518437)scale(0.1 -0.1)\">\n       <use xlink:href=\"#DejaVuSans-48\"/>\n       <use x=\"63.623047\" xlink:href=\"#DejaVuSans-46\"/>\n       <use x=\"95.410156\" xlink:href=\"#DejaVuSans-48\"/>\n      </g>\n     </g>\n    </g>\n    <g id=\"ytick_6\">\n     <g id=\"line2d_29\">\n      <path clip-path=\"url(#pc55b0db6fe)\" d=\"M 38.482813 92.539219 \nL 373.282813 92.539219 \n\" style=\"fill:none;stroke:#b0b0b0;stroke-linecap:square;stroke-width:0.8;\"/>\n     </g>\n     <g id=\"line2d_30\">\n      <g>\n       <use style=\"stroke:#000000;stroke-width:0.8;\" x=\"38.482813\" xlink:href=\"#m8f09fac415\" y=\"92.539219\"/>\n      </g>\n     </g>\n     <g id=\"text_15\">\n      <!-- 0.5 -->\n      <g transform=\"translate(15.579688 96.338437)scale(0.1 -0.1)\">\n       <use xlink:href=\"#DejaVuSans-48\"/>\n       <use x=\"63.623047\" xlink:href=\"#DejaVuSans-46\"/>\n       <use x=\"95.410156\" xlink:href=\"#DejaVuSans-53\"/>\n      </g>\n     </g>\n    </g>\n    <g id=\"ytick_7\">\n     <g id=\"line2d_31\">\n      <path clip-path=\"url(#pc55b0db6fe)\" d=\"M 38.482813 65.359219 \nL 373.282813 65.359219 \n\" style=\"fill:none;stroke:#b0b0b0;stroke-linecap:square;stroke-width:0.8;\"/>\n     </g>\n     <g id=\"line2d_32\">\n      <g>\n       <use style=\"stroke:#000000;stroke-width:0.8;\" x=\"38.482813\" xlink:href=\"#m8f09fac415\" y=\"65.359219\"/>\n      </g>\n     </g>\n     <g id=\"text_16\">\n      <!-- 1.0 -->\n      <g transform=\"translate(15.579688 69.158437)scale(0.1 -0.1)\">\n       <use xlink:href=\"#DejaVuSans-49\"/>\n       <use x=\"63.623047\" xlink:href=\"#DejaVuSans-46\"/>\n       <use x=\"95.410156\" xlink:href=\"#DejaVuSans-48\"/>\n      </g>\n     </g>\n    </g>\n    <g id=\"ytick_8\">\n     <g id=\"line2d_33\">\n      <path clip-path=\"url(#pc55b0db6fe)\" d=\"M 38.482813 38.179219 \nL 373.282813 38.179219 \n\" style=\"fill:none;stroke:#b0b0b0;stroke-linecap:square;stroke-width:0.8;\"/>\n     </g>\n     <g id=\"line2d_34\">\n      <g>\n       <use style=\"stroke:#000000;stroke-width:0.8;\" x=\"38.482813\" xlink:href=\"#m8f09fac415\" y=\"38.179219\"/>\n      </g>\n     </g>\n     <g id=\"text_17\">\n      <!-- 1.5 -->\n      <g transform=\"translate(15.579688 41.978437)scale(0.1 -0.1)\">\n       <use xlink:href=\"#DejaVuSans-49\"/>\n       <use x=\"63.623047\" xlink:href=\"#DejaVuSans-46\"/>\n       <use x=\"95.410156\" xlink:href=\"#DejaVuSans-53\"/>\n      </g>\n     </g>\n    </g>\n    <g id=\"ytick_9\">\n     <g id=\"line2d_35\">\n      <path clip-path=\"url(#pc55b0db6fe)\" d=\"M 38.482813 10.999219 \nL 373.282813 10.999219 \n\" style=\"fill:none;stroke:#b0b0b0;stroke-linecap:square;stroke-width:0.8;\"/>\n     </g>\n     <g id=\"line2d_36\">\n      <g>\n       <use style=\"stroke:#000000;stroke-width:0.8;\" x=\"38.482813\" xlink:href=\"#m8f09fac415\" y=\"10.999219\"/>\n      </g>\n     </g>\n     <g id=\"text_18\">\n      <!-- 2.0 -->\n      <g transform=\"translate(15.579688 14.798437)scale(0.1 -0.1)\">\n       <use xlink:href=\"#DejaVuSans-50\"/>\n       <use x=\"63.623047\" xlink:href=\"#DejaVuSans-46\"/>\n       <use x=\"95.410156\" xlink:href=\"#DejaVuSans-48\"/>\n      </g>\n     </g>\n    </g>\n   </g>\n   <g id=\"line2d_37\">\n    <defs>\n     <path d=\"M -3 0 \nL 3 0 \nM 0 3 \nL 0 -3 \n\" id=\"m553820c2ac\" style=\"stroke:#ff0000;\"/>\n    </defs>\n    <g clip-path=\"url(#pc55b0db6fe)\">\n     <use style=\"fill:#ff0000;stroke:#ff0000;\" x=\"80.332812\" xlink:href=\"#m553820c2ac\" y=\"190.387216\"/>\n     <use style=\"fill:#ff0000;stroke:#ff0000;\" x=\"222.622813\" xlink:href=\"#m553820c2ac\" y=\"195.823217\"/>\n     <use style=\"fill:#ff0000;stroke:#ff0000;\" x=\"147.292813\" xlink:href=\"#m553820c2ac\" y=\"146.899219\"/>\n    </g>\n   </g>\n   <g id=\"line2d_38\">\n    <defs>\n     <path d=\"M 0 1.5 \nC 0.397805 1.5 0.77937 1.341951 1.06066 1.06066 \nC 1.341951 0.77937 1.5 0.397805 1.5 0 \nC 1.5 -0.397805 1.341951 -0.77937 1.06066 -1.06066 \nC 0.77937 -1.341951 0.397805 -1.5 0 -1.5 \nC -0.397805 -1.5 -0.77937 -1.341951 -1.06066 -1.06066 \nC -1.341951 -0.77937 -1.5 -0.397805 -1.5 0 \nC -1.5 0.397805 -1.341951 0.77937 -1.06066 1.06066 \nC -0.77937 1.341951 -0.397805 1.5 0 1.5 \nz\n\" id=\"m7c82b5704b\" style=\"stroke:#0000ff;\"/>\n    </defs>\n    <g clip-path=\"url(#pc55b0db6fe)\">\n     <use style=\"fill:#0000ff;stroke:#0000ff;\" x=\"306.322816\" xlink:href=\"#m7c82b5704b\" y=\"65.359219\"/>\n     <use style=\"fill:#0000ff;stroke:#0000ff;\" x=\"222.622813\" xlink:href=\"#m7c82b5704b\" y=\"43.61522\"/>\n     <use style=\"fill:#0000ff;stroke:#0000ff;\" x=\"247.732812\" xlink:href=\"#m7c82b5704b\" y=\"92.539219\"/>\n    </g>\n   </g>\n   <g id=\"line2d_39\">\n    <path clip-path=\"url(#pc55b0db6fe)\" d=\"M 121.925974 253.317344 \nL 373.282812 95.326051 \n\" style=\"fill:none;stroke:#1f77b4;stroke-linecap:square;stroke-width:1.5;\"/>\n   </g>\n   <g id=\"patch_3\">\n    <path d=\"M 38.482813 228.439219 \nL 38.482813 10.999219 \n\" style=\"fill:none;stroke:#000000;stroke-linecap:square;stroke-linejoin:miter;stroke-width:0.8;\"/>\n   </g>\n   <g id=\"patch_4\">\n    <path d=\"M 373.282813 228.439219 \nL 373.282813 10.999219 \n\" style=\"fill:none;stroke:#000000;stroke-linecap:square;stroke-linejoin:miter;stroke-width:0.8;\"/>\n   </g>\n   <g id=\"patch_5\">\n    <path d=\"M 38.482812 228.439219 \nL 373.282812 228.439219 \n\" style=\"fill:none;stroke:#000000;stroke-linecap:square;stroke-linejoin:miter;stroke-width:0.8;\"/>\n   </g>\n   <g id=\"patch_6\">\n    <path d=\"M 38.482812 10.999219 \nL 373.282812 10.999219 \n\" style=\"fill:none;stroke:#000000;stroke-linecap:square;stroke-linejoin:miter;stroke-width:0.8;\"/>\n   </g>\n  </g>\n </g>\n <defs>\n  <clipPath id=\"pc55b0db6fe\">\n   <rect height=\"217.44\" width=\"334.8\" x=\"38.482813\" y=\"10.999219\"/>\n  </clipPath>\n </defs>\n</svg>\n",
      "image/png": "[encoded data removed]"
     },
     "metadata": {
      "needs_background": "light"
     }
    }
   ],
   "source": [
    "# solution here\n",
    "optimiser = torch.optim.SGD(my_neuron.parameters(), lr = 0.01)\n",
    "\n",
    "for i in range(1000):\n",
    "    optimiser.zero_grad()\n",
    "    output = my_neuron(x)\n",
    "    output = torch.cat([output, 1 - output], dim=1)\n",
    "    loss = criterion(output, y)\n",
    "    loss.backward()\n",
    "    optimiser.step()\n",
    "\n",
    "print(\"loss =\", loss.item())\n",
    "params = list(my_neuron.parameters())\n",
    "plot_soln(x, y, params)\n",
    "\n",
    "# i = 0\n",
    "# accuracy = 0\n",
    "# while accuracy != 1:\n",
    "#     optimiser.zero_grad()\n",
    "#     output = my_neuron(x)\n",
    "#     output = torch.cat([output, 1 - output], dim=1)\n",
    "#     score, predicted = torch.max(output, 1)\n",
    "\n",
    "#     accuracy = (y == predicted).sum().float() / len(y)\n",
    "\n",
    "#     loss = criterion(output, y)\n",
    "#     loss.backward()\n",
    "#     optimiser.step()\n",
    "#     i = i + 1\n",
    "\n",
    "# print(\"Number of iterations to learn the data: \", i)"
   ]
  },
  {
   "cell_type": "markdown",
   "metadata": {
    "colab_type": "text",
    "id": "Z0NBjzHF6TN5"
   },
   "source": [
    "**1.5.4** How many thousands of iterations does it take (approximately) until the neuron learns to classify the data correctly?"
   ]
  },
  {
   "cell_type": "markdown",
   "metadata": {
    "colab_type": "text",
    "id": "wc4CEo9c6neD"
   },
   "source": [
    "Around about 4723 iterations"
   ]
  },
  {
   "cell_type": "markdown",
   "metadata": {
    "colab_type": "text",
    "id": "xEV3Px886zrI"
   },
   "source": [
    "\n",
    "\n",
    "---\n",
    "\n",
    "\n",
    "# Problem 2: Convolutional Networks (30 points)\n",
    "\n",
    "In this part, we will experiment with CNNs in PyTorch. You will need to read the documentation of the functions provided below to understand how they work.\n",
    "\n",
    "**GPU Training.** Smaller networks will train fine on a CPU, but you may want to use GPU training for this part of the homework. You can run your experiments on Colab's GPUs or on BU's  [Shared Computing Cluster (SCC)](http://www.bu.edu/tech/services/research/computation/scc/). "
   ]
  },
  {
   "cell_type": "markdown",
   "metadata": {
    "colab_type": "text",
    "id": "Kxl45fh6FNq6"
   },
   "source": [
    "### 2.1. Training a CNN on SVHN\n",
    "We will create and train a convolutional network on the [SVHN Dataset](http://ufldl.stanford.edu/housenumbers/).\n",
    "\n",
    "The SVHN dataset consists of photos of house numbers, collected automatically using Google's Street View. Recognizing multi-digit numbers in photographs captured at street level is an important component of modern-day map making. Google’s Street View imagery contains hundreds of millions of geo-located 360 degree panoramic images. The ability to automatically transcribe an address number from a geo-located patch of pixels and associate the transcribed number with a known street address helps pinpoint, with a high degree of accuracy, the location of the building it represents. Below are example images from the dataset. Note that for this dataset, each image (32x32 pixels) has been cropped around a single number in its center, which is the number we want to classify.\n",
    "\n",
    "![SVHN images](http://ufldl.stanford.edu/housenumbers/32x32eg.png)\n"
   ]
  },
  {
   "cell_type": "markdown",
   "metadata": {
    "colab_type": "text",
    "id": "NJa-vlG99lMr"
   },
   "source": [
    "### 2.1.2 Data Download\n",
    "The following downloads the SVHN dataset using `torchvision` and displays the images in the first batch. "
   ]
  },
  {
   "cell_type": "code",
   "execution_count": 36,
   "metadata": {
    "colab": {},
    "colab_type": "code",
    "id": "dHFWPxi6jCoB"
   },
   "outputs": [
    {
     "output_type": "stream",
     "name": "stdout",
     "text": [
      "Using downloaded and verified file: ./data/train_32x32.mat\n",
      "Using downloaded and verified file: ./data/test_32x32.mat\n"
     ]
    }
   ],
   "source": [
    "import torch\n",
    "import torchvision\n",
    "import torchvision.transforms as transforms\n",
    "\n",
    "transform = transforms.Compose(\n",
    "    [transforms.ToTensor(),\n",
    "     transforms.Normalize((0.5, 0.5, 0.5), (0.5, 0.5, 0.5))])\n",
    "\n",
    "trainset = torchvision.datasets.SVHN(root='./data', split='train',\n",
    "                                        transform=transform, download=True)\n",
    "trainloader = torch.utils.data.DataLoader(trainset, batch_size=4,\n",
    "                                          shuffle=True, num_workers=2)\n",
    "testset = torchvision.datasets.SVHN(root='./data', split='test',\n",
    "                                        transform=transform, download=True)\n",
    "testloader = torch.utils.data.DataLoader(testset, batch_size=4,\n",
    "                                         shuffle=False, num_workers=2)\n",
    "\n",
    "classes = ('0', '1', '2', '3', '4', '5', '6', '7', '8', '9')"
   ]
  },
  {
   "cell_type": "code",
   "execution_count": 14,
   "metadata": {},
   "outputs": [
    {
     "output_type": "stream",
     "name": "stdout",
     "text": [
      "    2     9     3     6\n"
     ]
    },
    {
     "output_type": "display_data",
     "data": {
      "text/plain": "<Figure size 432x288 with 1 Axes>",
      "image/svg+xml": "<?xml version=\"1.0\" encoding=\"utf-8\" standalone=\"no\"?>\n<!DOCTYPE svg PUBLIC \"-//W3C//DTD SVG 1.1//EN\"\n  \"http://www.w3.org/Graphics/SVG/1.1/DTD/svg11.dtd\">\n<!-- Created with matplotlib (https://matplotlib.org/) -->\n<svg height=\"121.003431pt\" version=\"1.1\" viewBox=\"0 0 368.925 121.003431\" width=\"368.925pt\" xmlns=\"http://www.w3.org/2000/svg\" xmlns:xlink=\"http://www.w3.org/1999/xlink\">\n <metadata>\n  <rdf:RDF xmlns:cc=\"http://creativecommons.org/ns#\" xmlns:dc=\"http://purl.org/dc/elements/1.1/\" xmlns:rdf=\"http://www.w3.org/1999/02/22-rdf-syntax-ns#\">\n   <cc:Work>\n    <dc:type rdf:resource=\"http://purl.org/dc/dcmitype/StillImage\"/>\n    <dc:date>2021-06-14T17:57:05.202472</dc:date>\n    <dc:format>image/svg+xml</dc:format>\n    <dc:creator>\n     <cc:Agent>\n      <dc:title>Matplotlib v3.3.4, https://matplotlib.org/</dc:title>\n     </cc:Agent>\n    </dc:creator>\n   </cc:Work>\n  </rdf:RDF>\n </metadata>\n <defs>\n  <style type=\"text/css\">*{stroke-linecap:butt;stroke-linejoin:round;}</style>\n </defs>\n <g id=\"figure_1\">\n  <g id=\"patch_1\">\n   <path d=\"M -0 121.003431 \nL 368.925 121.003431 \nL 368.925 0 \nL -0 0 \nz\n\" style=\"fill:none;\"/>\n  </g>\n  <g id=\"axes_1\">\n   <g id=\"patch_2\">\n    <path d=\"M 26.925 97.125306 \nL 361.725 97.125306 \nL 361.725 9.786175 \nL 26.925 9.786175 \nz\n\" style=\"fill:#ffffff;\"/>\n   </g>\n   <g clip-path=\"url(#p825874c188)\">\n    <image height=\"88\" id=\"image97a8d7d03a\" transform=\"scale(1 -1)translate(0 -88)\" width=\"335\" x=\"26.925\" xlink:href=\"data:image/png;base64,\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\" y=\"-9.125306\"/>\n   </g>\n   <g id=\"matplotlib.axis_1\">\n    <g id=\"xtick_1\">\n     <g id=\"line2d_1\">\n      <defs>\n       <path d=\"M 0 0 \nL 0 3.5 \n\" id=\"m18a6261a76\" style=\"stroke:#000000;stroke-width:0.8;\"/>\n      </defs>\n      <g>\n       <use style=\"stroke:#000000;stroke-width:0.8;\" x=\"28.138043\" xlink:href=\"#m18a6261a76\" y=\"97.125306\"/>\n      </g>\n     </g>\n     <g id=\"text_1\">\n      <!-- 0 -->\n      <g transform=\"translate(24.956793 111.723743)scale(0.1 -0.1)\">\n       <defs>\n        <path d=\"M 31.78125 66.40625 \nQ 24.171875 66.40625 20.328125 58.90625 \nQ 16.5 51.421875 16.5 36.375 \nQ 16.5 21.390625 20.328125 13.890625 \nQ 24.171875 6.390625 31.78125 6.390625 \nQ 39.453125 6.390625 43.28125 13.890625 \nQ 47.125 21.390625 47.125 36.375 \nQ 47.125 51.421875 43.28125 58.90625 \nQ 39.453125 66.40625 31.78125 66.40625 \nz\nM 31.78125 74.21875 \nQ 44.046875 74.21875 50.515625 64.515625 \nQ 56.984375 54.828125 56.984375 36.375 \nQ 56.984375 17.96875 50.515625 8.265625 \nQ 44.046875 -1.421875 31.78125 -1.421875 \nQ 19.53125 -1.421875 13.0625 8.265625 \nQ 6.59375 17.96875 6.59375 36.375 \nQ 6.59375 54.828125 13.0625 64.515625 \nQ 19.53125 74.21875 31.78125 74.21875 \nz\n\" id=\"DejaVuSans-48\"/>\n       </defs>\n       <use xlink:href=\"#DejaVuSans-48\"/>\n      </g>\n     </g>\n    </g>\n    <g id=\"xtick_2\">\n     <g id=\"line2d_2\">\n      <g>\n       <use style=\"stroke:#000000;stroke-width:0.8;\" x=\"76.659783\" xlink:href=\"#m18a6261a76\" y=\"97.125306\"/>\n      </g>\n     </g>\n     <g id=\"text_2\">\n      <!-- 20 -->\n      <g transform=\"translate(70.297283 111.723743)scale(0.1 -0.1)\">\n       <defs>\n        <path d=\"M 19.1875 8.296875 \nL 53.609375 8.296875 \nL 53.609375 0 \nL 7.328125 0 \nL 7.328125 8.296875 \nQ 12.9375 14.109375 22.625 23.890625 \nQ 32.328125 33.6875 34.8125 36.53125 \nQ 39.546875 41.84375 41.421875 45.53125 \nQ 43.3125 49.21875 43.3125 52.78125 \nQ 43.3125 58.59375 39.234375 62.25 \nQ 35.15625 65.921875 28.609375 65.921875 \nQ 23.96875 65.921875 18.8125 64.3125 \nQ 13.671875 62.703125 7.8125 59.421875 \nL 7.8125 69.390625 \nQ 13.765625 71.78125 18.9375 73 \nQ 24.125 74.21875 28.421875 74.21875 \nQ 39.75 74.21875 46.484375 68.546875 \nQ 53.21875 62.890625 53.21875 53.421875 \nQ 53.21875 48.921875 51.53125 44.890625 \nQ 49.859375 40.875 45.40625 35.40625 \nQ 44.1875 33.984375 37.640625 27.21875 \nQ 31.109375 20.453125 19.1875 8.296875 \nz\n\" id=\"DejaVuSans-50\"/>\n       </defs>\n       <use xlink:href=\"#DejaVuSans-50\"/>\n       <use x=\"63.623047\" xlink:href=\"#DejaVuSans-48\"/>\n      </g>\n     </g>\n    </g>\n    <g id=\"xtick_3\">\n     <g id=\"line2d_3\">\n      <g>\n       <use style=\"stroke:#000000;stroke-width:0.8;\" x=\"125.181522\" xlink:href=\"#m18a6261a76\" y=\"97.125306\"/>\n      </g>\n     </g>\n     <g id=\"text_3\">\n      <!-- 40 -->\n      <g transform=\"translate(118.819022 111.723743)scale(0.1 -0.1)\">\n       <defs>\n        <path d=\"M 37.796875 64.3125 \nL 12.890625 25.390625 \nL 37.796875 25.390625 \nz\nM 35.203125 72.90625 \nL 47.609375 72.90625 \nL 47.609375 25.390625 \nL 58.015625 25.390625 \nL 58.015625 17.1875 \nL 47.609375 17.1875 \nL 47.609375 0 \nL 37.796875 0 \nL 37.796875 17.1875 \nL 4.890625 17.1875 \nL 4.890625 26.703125 \nz\n\" id=\"DejaVuSans-52\"/>\n       </defs>\n       <use xlink:href=\"#DejaVuSans-52\"/>\n       <use x=\"63.623047\" xlink:href=\"#DejaVuSans-48\"/>\n      </g>\n     </g>\n    </g>\n    <g id=\"xtick_4\">\n     <g id=\"line2d_4\">\n      <g>\n       <use style=\"stroke:#000000;stroke-width:0.8;\" x=\"173.703261\" xlink:href=\"#m18a6261a76\" y=\"97.125306\"/>\n      </g>\n     </g>\n     <g id=\"text_4\">\n      <!-- 60 -->\n      <g transform=\"translate(167.340761 111.723743)scale(0.1 -0.1)\">\n       <defs>\n        <path d=\"M 33.015625 40.375 \nQ 26.375 40.375 22.484375 35.828125 \nQ 18.609375 31.296875 18.609375 23.390625 \nQ 18.609375 15.53125 22.484375 10.953125 \nQ 26.375 6.390625 33.015625 6.390625 \nQ 39.65625 6.390625 43.53125 10.953125 \nQ 47.40625 15.53125 47.40625 23.390625 \nQ 47.40625 31.296875 43.53125 35.828125 \nQ 39.65625 40.375 33.015625 40.375 \nz\nM 52.59375 71.296875 \nL 52.59375 62.3125 \nQ 48.875 64.0625 45.09375 64.984375 \nQ 41.3125 65.921875 37.59375 65.921875 \nQ 27.828125 65.921875 22.671875 59.328125 \nQ 17.53125 52.734375 16.796875 39.40625 \nQ 19.671875 43.65625 24.015625 45.921875 \nQ 28.375 48.1875 33.59375 48.1875 \nQ 44.578125 48.1875 50.953125 41.515625 \nQ 57.328125 34.859375 57.328125 23.390625 \nQ 57.328125 12.15625 50.6875 5.359375 \nQ 44.046875 -1.421875 33.015625 -1.421875 \nQ 20.359375 -1.421875 13.671875 8.265625 \nQ 6.984375 17.96875 6.984375 36.375 \nQ 6.984375 53.65625 15.1875 63.9375 \nQ 23.390625 74.21875 37.203125 74.21875 \nQ 40.921875 74.21875 44.703125 73.484375 \nQ 48.484375 72.75 52.59375 71.296875 \nz\n\" id=\"DejaVuSans-54\"/>\n       </defs>\n       <use xlink:href=\"#DejaVuSans-54\"/>\n       <use x=\"63.623047\" xlink:href=\"#DejaVuSans-48\"/>\n      </g>\n     </g>\n    </g>\n    <g id=\"xtick_5\">\n     <g id=\"line2d_5\">\n      <g>\n       <use style=\"stroke:#000000;stroke-width:0.8;\" x=\"222.225\" xlink:href=\"#m18a6261a76\" y=\"97.125306\"/>\n      </g>\n     </g>\n     <g id=\"text_5\">\n      <!-- 80 -->\n      <g transform=\"translate(215.8625 111.723743)scale(0.1 -0.1)\">\n       <defs>\n        <path d=\"M 31.78125 34.625 \nQ 24.75 34.625 20.71875 30.859375 \nQ 16.703125 27.09375 16.703125 20.515625 \nQ 16.703125 13.921875 20.71875 10.15625 \nQ 24.75 6.390625 31.78125 6.390625 \nQ 38.8125 6.390625 42.859375 10.171875 \nQ 46.921875 13.96875 46.921875 20.515625 \nQ 46.921875 27.09375 42.890625 30.859375 \nQ 38.875 34.625 31.78125 34.625 \nz\nM 21.921875 38.8125 \nQ 15.578125 40.375 12.03125 44.71875 \nQ 8.5 49.078125 8.5 55.328125 \nQ 8.5 64.0625 14.71875 69.140625 \nQ 20.953125 74.21875 31.78125 74.21875 \nQ 42.671875 74.21875 48.875 69.140625 \nQ 55.078125 64.0625 55.078125 55.328125 \nQ 55.078125 49.078125 51.53125 44.71875 \nQ 48 40.375 41.703125 38.8125 \nQ 48.828125 37.15625 52.796875 32.3125 \nQ 56.78125 27.484375 56.78125 20.515625 \nQ 56.78125 9.90625 50.3125 4.234375 \nQ 43.84375 -1.421875 31.78125 -1.421875 \nQ 19.734375 -1.421875 13.25 4.234375 \nQ 6.78125 9.90625 6.78125 20.515625 \nQ 6.78125 27.484375 10.78125 32.3125 \nQ 14.796875 37.15625 21.921875 38.8125 \nz\nM 18.3125 54.390625 \nQ 18.3125 48.734375 21.84375 45.5625 \nQ 25.390625 42.390625 31.78125 42.390625 \nQ 38.140625 42.390625 41.71875 45.5625 \nQ 45.3125 48.734375 45.3125 54.390625 \nQ 45.3125 60.0625 41.71875 63.234375 \nQ 38.140625 66.40625 31.78125 66.40625 \nQ 25.390625 66.40625 21.84375 63.234375 \nQ 18.3125 60.0625 18.3125 54.390625 \nz\n\" id=\"DejaVuSans-56\"/>\n       </defs>\n       <use xlink:href=\"#DejaVuSans-56\"/>\n       <use x=\"63.623047\" xlink:href=\"#DejaVuSans-48\"/>\n      </g>\n     </g>\n    </g>\n    <g id=\"xtick_6\">\n     <g id=\"line2d_6\">\n      <g>\n       <use style=\"stroke:#000000;stroke-width:0.8;\" x=\"270.746739\" xlink:href=\"#m18a6261a76\" y=\"97.125306\"/>\n      </g>\n     </g>\n     <g id=\"text_6\">\n      <!-- 100 -->\n      <g transform=\"translate(261.202989 111.723743)scale(0.1 -0.1)\">\n       <defs>\n        <path d=\"M 12.40625 8.296875 \nL 28.515625 8.296875 \nL 28.515625 63.921875 \nL 10.984375 60.40625 \nL 10.984375 69.390625 \nL 28.421875 72.90625 \nL 38.28125 72.90625 \nL 38.28125 8.296875 \nL 54.390625 8.296875 \nL 54.390625 0 \nL 12.40625 0 \nz\n\" id=\"DejaVuSans-49\"/>\n       </defs>\n       <use xlink:href=\"#DejaVuSans-49\"/>\n       <use x=\"63.623047\" xlink:href=\"#DejaVuSans-48\"/>\n       <use x=\"127.246094\" xlink:href=\"#DejaVuSans-48\"/>\n      </g>\n     </g>\n    </g>\n    <g id=\"xtick_7\">\n     <g id=\"line2d_7\">\n      <g>\n       <use style=\"stroke:#000000;stroke-width:0.8;\" x=\"319.268478\" xlink:href=\"#m18a6261a76\" y=\"97.125306\"/>\n      </g>\n     </g>\n     <g id=\"text_7\">\n      <!-- 120 -->\n      <g transform=\"translate(309.724728 111.723743)scale(0.1 -0.1)\">\n       <use xlink:href=\"#DejaVuSans-49\"/>\n       <use x=\"63.623047\" xlink:href=\"#DejaVuSans-50\"/>\n       <use x=\"127.246094\" xlink:href=\"#DejaVuSans-48\"/>\n      </g>\n     </g>\n    </g>\n   </g>\n   <g id=\"matplotlib.axis_2\">\n    <g id=\"ytick_1\">\n     <g id=\"line2d_8\">\n      <defs>\n       <path d=\"M 0 0 \nL -3.5 0 \n\" id=\"mac5cd5164f\" style=\"stroke:#000000;stroke-width:0.8;\"/>\n      </defs>\n      <g>\n       <use style=\"stroke:#000000;stroke-width:0.8;\" x=\"26.925\" xlink:href=\"#mac5cd5164f\" y=\"10.999219\"/>\n      </g>\n     </g>\n     <g id=\"text_8\">\n      <!-- 0 -->\n      <g transform=\"translate(13.5625 14.798437)scale(0.1 -0.1)\">\n       <use xlink:href=\"#DejaVuSans-48\"/>\n      </g>\n     </g>\n    </g>\n    <g id=\"ytick_2\">\n     <g id=\"line2d_9\">\n      <g>\n       <use style=\"stroke:#000000;stroke-width:0.8;\" x=\"26.925\" xlink:href=\"#mac5cd5164f\" y=\"35.260088\"/>\n      </g>\n     </g>\n     <g id=\"text_9\">\n      <!-- 10 -->\n      <g transform=\"translate(7.2 39.059307)scale(0.1 -0.1)\">\n       <use xlink:href=\"#DejaVuSans-49\"/>\n       <use x=\"63.623047\" xlink:href=\"#DejaVuSans-48\"/>\n      </g>\n     </g>\n    </g>\n    <g id=\"ytick_3\">\n     <g id=\"line2d_10\">\n      <g>\n       <use style=\"stroke:#000000;stroke-width:0.8;\" x=\"26.925\" xlink:href=\"#mac5cd5164f\" y=\"59.520958\"/>\n      </g>\n     </g>\n     <g id=\"text_10\">\n      <!-- 20 -->\n      <g transform=\"translate(7.2 63.320177)scale(0.1 -0.1)\">\n       <use xlink:href=\"#DejaVuSans-50\"/>\n       <use x=\"63.623047\" xlink:href=\"#DejaVuSans-48\"/>\n      </g>\n     </g>\n    </g>\n    <g id=\"ytick_4\">\n     <g id=\"line2d_11\">\n      <g>\n       <use style=\"stroke:#000000;stroke-width:0.8;\" x=\"26.925\" xlink:href=\"#mac5cd5164f\" y=\"83.781827\"/>\n      </g>\n     </g>\n     <g id=\"text_11\">\n      <!-- 30 -->\n      <g transform=\"translate(7.2 87.581046)scale(0.1 -0.1)\">\n       <defs>\n        <path d=\"M 40.578125 39.3125 \nQ 47.65625 37.796875 51.625 33 \nQ 55.609375 28.21875 55.609375 21.1875 \nQ 55.609375 10.40625 48.1875 4.484375 \nQ 40.765625 -1.421875 27.09375 -1.421875 \nQ 22.515625 -1.421875 17.65625 -0.515625 \nQ 12.796875 0.390625 7.625 2.203125 \nL 7.625 11.71875 \nQ 11.71875 9.328125 16.59375 8.109375 \nQ 21.484375 6.890625 26.8125 6.890625 \nQ 36.078125 6.890625 40.9375 10.546875 \nQ 45.796875 14.203125 45.796875 21.1875 \nQ 45.796875 27.640625 41.28125 31.265625 \nQ 36.765625 34.90625 28.71875 34.90625 \nL 20.21875 34.90625 \nL 20.21875 43.015625 \nL 29.109375 43.015625 \nQ 36.375 43.015625 40.234375 45.921875 \nQ 44.09375 48.828125 44.09375 54.296875 \nQ 44.09375 59.90625 40.109375 62.90625 \nQ 36.140625 65.921875 28.71875 65.921875 \nQ 24.65625 65.921875 20.015625 65.03125 \nQ 15.375 64.15625 9.8125 62.3125 \nL 9.8125 71.09375 \nQ 15.4375 72.65625 20.34375 73.4375 \nQ 25.25 74.21875 29.59375 74.21875 \nQ 40.828125 74.21875 47.359375 69.109375 \nQ 53.90625 64.015625 53.90625 55.328125 \nQ 53.90625 49.265625 50.4375 45.09375 \nQ 46.96875 40.921875 40.578125 39.3125 \nz\n\" id=\"DejaVuSans-51\"/>\n       </defs>\n       <use xlink:href=\"#DejaVuSans-51\"/>\n       <use x=\"63.623047\" xlink:href=\"#DejaVuSans-48\"/>\n      </g>\n     </g>\n    </g>\n   </g>\n   <g id=\"patch_3\">\n    <path d=\"M 26.925 97.125306 \nL 26.925 9.786175 \n\" style=\"fill:none;stroke:#000000;stroke-linecap:square;stroke-linejoin:miter;stroke-width:0.8;\"/>\n   </g>\n   <g id=\"patch_4\">\n    <path d=\"M 361.725 97.125306 \nL 361.725 9.786175 \n\" style=\"fill:none;stroke:#000000;stroke-linecap:square;stroke-linejoin:miter;stroke-width:0.8;\"/>\n   </g>\n   <g id=\"patch_5\">\n    <path d=\"M 26.925 97.125306 \nL 361.725 97.125306 \n\" style=\"fill:none;stroke:#000000;stroke-linecap:square;stroke-linejoin:miter;stroke-width:0.8;\"/>\n   </g>\n   <g id=\"patch_6\">\n    <path d=\"M 26.925 9.786175 \nL 361.725 9.786175 \n\" style=\"fill:none;stroke:#000000;stroke-linecap:square;stroke-linejoin:miter;stroke-width:0.8;\"/>\n   </g>\n  </g>\n </g>\n <defs>\n  <clipPath id=\"p825874c188\">\n   <rect height=\"87.33913\" width=\"334.8\" x=\"26.925\" y=\"9.786175\"/>\n  </clipPath>\n </defs>\n</svg>\n",
      "image/png": "[encoded data removed]"
     },
     "metadata": {
      "needs_background": "light"
     }
    }
   ],
   "source": [
    "import matplotlib.pyplot as plt\n",
    "import numpy as np\n",
    "\n",
    "# functions to show an image\n",
    "\n",
    "def imshow(img):\n",
    "    img = img / 2 + 0.5     # unnormalize\n",
    "    npimg = img.numpy()\n",
    "    plt.imshow(np.transpose(npimg, (1, 2, 0)))\n",
    "\n",
    "\n",
    "# get some random training images\n",
    "dataiter = iter(trainloader)\n",
    "images, labels = dataiter.next()\n",
    "\n",
    "# show images\n",
    "imshow(torchvision.utils.make_grid(images))\n",
    "# print labels\n",
    "print(' '.join('%5s' % classes[labels[j]] for j in range(4)))"
   ]
  },
  {
   "cell_type": "markdown",
   "metadata": {
    "colab_type": "text",
    "id": "1Ob4Pvz-GuKA"
   },
   "source": [
    "### 2.1.3. CNN Model\n",
    "Next, we will train a CNN on the data. We have defined a simple CNN for you with two convolutional layers and two fully-connected layers below."
   ]
  },
  {
   "cell_type": "code",
   "execution_count": 15,
   "metadata": {
    "colab": {},
    "colab_type": "code",
    "id": "3hMXRfs8DPjx"
   },
   "outputs": [],
   "source": [
    "import torch.nn as nn\n",
    "import torch.nn.functional as F\n",
    "\n",
    "class Net(nn.Module):\n",
    "    def __init__(self):\n",
    "        super(Net, self).__init__()\n",
    "        self.conv1 = nn.Conv2d(3, 6, 5)\n",
    "        self.pool = nn.MaxPool2d(2, 2)\n",
    "        self.conv2 = nn.Conv2d(6, 16, 5)\n",
    "        self.fc1 = nn.Linear(16 * 5 * 5, 120)\n",
    "        self.fc2 = nn.Linear(120, 84)\n",
    "        self.fc3 = nn.Linear(84, 10)\n",
    "\n",
    "    def forward(self, x):\n",
    "        x = self.pool(F.relu(self.conv1(x)))\n",
    "        x = self.pool(F.relu(self.conv2(x)))\n",
    "        x = x.view(-1, 16 * 5 * 5)   # flatten features\n",
    "\n",
    "        x = F.relu(self.fc1(x))\n",
    "        x = F.relu(self.fc2(x))\n",
    "        x = self.fc3(x)\n",
    "        return x\n",
    "\n",
    "net = Net()"
   ]
  },
  {
   "cell_type": "markdown",
   "metadata": {
    "colab_type": "text",
    "id": "z325ABykG77h"
   },
   "source": [
    "Instantiate the cross-entropy loss `criterion`, and an SGD optimizer from the `torch.optim` package with learning rate $.001$ and momentum $.9$. You may also want to enable GPU training using `torch.device()`."
   ]
  },
  {
   "cell_type": "code",
   "execution_count": 16,
   "metadata": {
    "colab": {},
    "colab_type": "code",
    "id": "2wiSsTnEGCRN"
   },
   "outputs": [
    {
     "output_type": "stream",
     "name": "stdout",
     "text": [
      "cpu\n"
     ]
    }
   ],
   "source": [
    "# solution here\n",
    "criterion = nn.CrossEntropyLoss()\n",
    "optimiser = torch.optim.SGD(net.parameters(), lr=0.001, momentum=0.9)\n",
    "device = torch.device(\"cuda:0\" if torch.cuda.is_available() else \"cpu\")\n",
    "print(device)\n",
    "# net.to(device)"
   ]
  },
  {
   "cell_type": "markdown",
   "metadata": {
    "colab_type": "text",
    "id": "eCLHI077fl9x"
   },
   "source": [
    "### 2.1.4 Training\n",
    "Write the training loop that makes two full passes through the dataset (two epochs) using SGD. Your batch size should be 4.\n",
    "\n",
    "Go slack off for a while...\n",
    "\n",
    "![reddit xkcd comic](https://i.redd.it/5cjdqxcg07k11.png)"
   ]
  },
  {
   "cell_type": "code",
   "execution_count": 17,
   "metadata": {
    "colab": {},
    "colab_type": "code",
    "id": "u8SluNefGZgf",
    "tags": []
   },
   "outputs": [
    {
     "output_type": "stream",
     "name": "stdout",
     "text": [
      "Training epoch: 0, batch_index: 0, loss: 2.265366554260254\n",
      "Training epoch: 0, batch_index: 1000, loss: 2.1623775959014893\n",
      "Training epoch: 0, batch_index: 2000, loss: 2.4779133796691895\n",
      "Training epoch: 0, batch_index: 3000, loss: 2.1065685749053955\n",
      "Training epoch: 0, batch_index: 4000, loss: 2.331251382827759\n",
      "Training epoch: 0, batch_index: 5000, loss: 2.282914161682129\n",
      "Training epoch: 0, batch_index: 6000, loss: 1.7903558015823364\n",
      "Training epoch: 0, batch_index: 7000, loss: 1.6646326780319214\n",
      "Training epoch: 0, batch_index: 8000, loss: 0.5239130854606628\n",
      "Training epoch: 0, batch_index: 9000, loss: 0.24437884986400604\n",
      "Training epoch: 0, batch_index: 10000, loss: 0.15945148468017578\n",
      "Training epoch: 0, batch_index: 11000, loss: 1.0869224071502686\n",
      "Training epoch: 0, batch_index: 12000, loss: 0.9944928884506226\n",
      "Training epoch: 0, batch_index: 13000, loss: 1.0210530757904053\n",
      "Training epoch: 0, batch_index: 14000, loss: 0.2737042009830475\n",
      "Training epoch: 0, batch_index: 15000, loss: 0.2109384536743164\n",
      "Training epoch: 0, batch_index: 16000, loss: 2.2653558254241943\n",
      "Training epoch: 0, batch_index: 17000, loss: 0.8477185368537903\n",
      "Training epoch: 0, batch_index: 18000, loss: 0.8472187519073486\n",
      "Training epoch: 1, batch_index: 0, loss: 0.32874277234077454\n",
      "Training epoch: 1, batch_index: 1000, loss: 0.06433933228254318\n",
      "Training epoch: 1, batch_index: 2000, loss: 0.04018643498420715\n",
      "Training epoch: 1, batch_index: 3000, loss: 0.35914963483810425\n",
      "Training epoch: 1, batch_index: 4000, loss: 0.02036452107131481\n",
      "Training epoch: 1, batch_index: 5000, loss: 0.7767894864082336\n",
      "Training epoch: 1, batch_index: 6000, loss: 0.29055824875831604\n",
      "Training epoch: 1, batch_index: 7000, loss: 0.0707443580031395\n",
      "Training epoch: 1, batch_index: 8000, loss: 1.2888944149017334\n",
      "Training epoch: 1, batch_index: 9000, loss: 0.07422976195812225\n",
      "Training epoch: 1, batch_index: 10000, loss: 0.24505119025707245\n",
      "Training epoch: 1, batch_index: 11000, loss: 0.0663624107837677\n",
      "Training epoch: 1, batch_index: 12000, loss: 0.22351598739624023\n",
      "Training epoch: 1, batch_index: 13000, loss: 0.6908416152000427\n",
      "Training epoch: 1, batch_index: 14000, loss: 0.2838031053543091\n",
      "Training epoch: 1, batch_index: 15000, loss: 0.015010296367108822\n",
      "Training epoch: 1, batch_index: 16000, loss: 1.0355849266052246\n",
      "Training epoch: 1, batch_index: 17000, loss: 0.7928216457366943\n",
      "Training epoch: 1, batch_index: 18000, loss: 0.38437971472740173\n"
     ]
    }
   ],
   "source": [
    "# solution here\n",
    "for epoch in range(2):\n",
    "    for batch_index, (data, target) in enumerate(trainloader):\n",
    "        data, target = data.to(device), target.to(device)\n",
    "\n",
    "        optimiser.zero_grad()\n",
    "        output = net(data)\n",
    "        \n",
    "        loss = criterion(output, target)\n",
    "        loss.backward()\n",
    "        optimiser.step()\n",
    "\n",
    "        if batch_index % 1000 == 0:\n",
    "            print(\"Training epoch: {}, batch_index: {}, loss: {}\".format(epoch, batch_index, loss.item()))\n",
    "\n"
   ]
  },
  {
   "cell_type": "markdown",
   "metadata": {
    "colab_type": "text",
    "id": "TGkQdltRh104"
   },
   "source": [
    "### 2.1.5 Test Accuracy\n",
    "Load the test data (don't forget to move it to GPU if using). Make predictions on it using the trained network and compute the accuracy. You should see an accuracy of around 84%."
   ]
  },
  {
   "cell_type": "code",
   "execution_count": 18,
   "metadata": {
    "colab": {},
    "colab_type": "code",
    "id": "zWHZOr2sHeB5"
   },
   "outputs": [
    {
     "output_type": "stream",
     "name": "stdout",
     "text": [
      "Accuracy: 87\n"
     ]
    }
   ],
   "source": [
    "# solution here\n",
    "correct = 0\n",
    "\n",
    "for data, target in testloader:\n",
    "    data, target = data.to(device), target.to(device)\n",
    "\n",
    "    output = net(data)\n",
    "    pred = output.data.max(1, keepdim=True)[1]\n",
    "    correct += pred.eq(target.data.view_as(pred)).cpu().sum().item()\n",
    "\n",
    "accuracy = 100. * correct / len(testloader.dataset)\n",
    "print(\"Accuracy: {:.0f}\".format(accuracy))\n"
   ]
  },
  {
   "cell_type": "markdown",
   "metadata": {
    "colab_type": "text",
    "id": "V6mCBCn8kX9W"
   },
   "source": [
    "# Problem 3: Tensorboard (Optional)\n",
    "\n",
    "Explore your network using Tensorboard. Tensorboard is a nice tool for visualizing how your network's training is progressing. The following tutorial provides an introduction to Tensorboard\n",
    "\n",
    "- [Visualizing models, data and training with Tensorboard](https://pytorch.org/tutorials/intermediate/tensorboard_tutorial.html)\n",
    "\n",
    "For using tensorboard in colab, run the following cell and it should open a tensorboard interface in the output of the cell.\n"
   ]
  },
  {
   "cell_type": "code",
   "execution_count": 3,
   "metadata": {
    "colab": {},
    "colab_type": "code",
    "id": "ILFfAGAyh8bD"
   },
   "outputs": [
    {
     "output_type": "error",
     "ename": "ModuleNotFoundError",
     "evalue": "No module named 'tensorboard'",
     "traceback": [
      "\u001b[0;31m---------------------------------------------------------------------------\u001b[0m",
      "\u001b[0;31mModuleNotFoundError\u001b[0m                       Traceback (most recent call last)",
      "\u001b[0;32m<ipython-input-3-f7bb18f5956d>\u001b[0m in \u001b[0;36m<module>\u001b[0;34m\u001b[0m\n\u001b[0;32m----> 1\u001b[0;31m \u001b[0mget_ipython\u001b[0m\u001b[0;34m(\u001b[0m\u001b[0;34m)\u001b[0m\u001b[0;34m.\u001b[0m\u001b[0mrun_line_magic\u001b[0m\u001b[0;34m(\u001b[0m\u001b[0;34m'load_ext'\u001b[0m\u001b[0;34m,\u001b[0m \u001b[0;34m'tensorboard'\u001b[0m\u001b[0;34m)\u001b[0m\u001b[0;34m\u001b[0m\u001b[0;34m\u001b[0m\u001b[0m\n\u001b[0m\u001b[1;32m      2\u001b[0m \u001b[0mget_ipython\u001b[0m\u001b[0;34m(\u001b[0m\u001b[0;34m)\u001b[0m\u001b[0;34m.\u001b[0m\u001b[0mrun_line_magic\u001b[0m\u001b[0;34m(\u001b[0m\u001b[0;34m'tensorboard'\u001b[0m\u001b[0;34m,\u001b[0m \u001b[0;34m'--logdir logs'\u001b[0m\u001b[0;34m)\u001b[0m\u001b[0;34m\u001b[0m\u001b[0;34m\u001b[0m\u001b[0m\n",
      "\u001b[0;32m~/opt/anaconda3/envs/myenv/lib/python3.7/site-packages/IPython/core/interactiveshell.py\u001b[0m in \u001b[0;36mrun_line_magic\u001b[0;34m(self, magic_name, line, _stack_depth)\u001b[0m\n\u001b[1;32m   2342\u001b[0m                 \u001b[0mkwargs\u001b[0m\u001b[0;34m[\u001b[0m\u001b[0;34m'local_ns'\u001b[0m\u001b[0;34m]\u001b[0m \u001b[0;34m=\u001b[0m \u001b[0mself\u001b[0m\u001b[0;34m.\u001b[0m\u001b[0mget_local_scope\u001b[0m\u001b[0;34m(\u001b[0m\u001b[0mstack_depth\u001b[0m\u001b[0;34m)\u001b[0m\u001b[0;34m\u001b[0m\u001b[0;34m\u001b[0m\u001b[0m\n\u001b[1;32m   2343\u001b[0m             \u001b[0;32mwith\u001b[0m \u001b[0mself\u001b[0m\u001b[0;34m.\u001b[0m\u001b[0mbuiltin_trap\u001b[0m\u001b[0;34m:\u001b[0m\u001b[0;34m\u001b[0m\u001b[0;34m\u001b[0m\u001b[0m\n\u001b[0;32m-> 2344\u001b[0;31m                 \u001b[0mresult\u001b[0m \u001b[0;34m=\u001b[0m \u001b[0mfn\u001b[0m\u001b[0;34m(\u001b[0m\u001b[0;34m*\u001b[0m\u001b[0margs\u001b[0m\u001b[0;34m,\u001b[0m \u001b[0;34m**\u001b[0m\u001b[0mkwargs\u001b[0m\u001b[0;34m)\u001b[0m\u001b[0;34m\u001b[0m\u001b[0;34m\u001b[0m\u001b[0m\n\u001b[0m\u001b[1;32m   2345\u001b[0m             \u001b[0;32mreturn\u001b[0m \u001b[0mresult\u001b[0m\u001b[0;34m\u001b[0m\u001b[0;34m\u001b[0m\u001b[0m\n\u001b[1;32m   2346\u001b[0m \u001b[0;34m\u001b[0m\u001b[0m\n",
      "\u001b[0;32m~/opt/anaconda3/envs/myenv/lib/python3.7/site-packages/decorator.py\u001b[0m in \u001b[0;36mfun\u001b[0;34m(*args, **kw)\u001b[0m\n\u001b[1;32m    230\u001b[0m             \u001b[0;32mif\u001b[0m \u001b[0;32mnot\u001b[0m \u001b[0mkwsyntax\u001b[0m\u001b[0;34m:\u001b[0m\u001b[0;34m\u001b[0m\u001b[0;34m\u001b[0m\u001b[0m\n\u001b[1;32m    231\u001b[0m                 \u001b[0margs\u001b[0m\u001b[0;34m,\u001b[0m \u001b[0mkw\u001b[0m \u001b[0;34m=\u001b[0m \u001b[0mfix\u001b[0m\u001b[0;34m(\u001b[0m\u001b[0margs\u001b[0m\u001b[0;34m,\u001b[0m \u001b[0mkw\u001b[0m\u001b[0;34m,\u001b[0m \u001b[0msig\u001b[0m\u001b[0;34m)\u001b[0m\u001b[0;34m\u001b[0m\u001b[0;34m\u001b[0m\u001b[0m\n\u001b[0;32m--> 232\u001b[0;31m             \u001b[0;32mreturn\u001b[0m \u001b[0mcaller\u001b[0m\u001b[0;34m(\u001b[0m\u001b[0mfunc\u001b[0m\u001b[0;34m,\u001b[0m \u001b[0;34m*\u001b[0m\u001b[0;34m(\u001b[0m\u001b[0mextras\u001b[0m \u001b[0;34m+\u001b[0m \u001b[0margs\u001b[0m\u001b[0;34m)\u001b[0m\u001b[0;34m,\u001b[0m \u001b[0;34m**\u001b[0m\u001b[0mkw\u001b[0m\u001b[0;34m)\u001b[0m\u001b[0;34m\u001b[0m\u001b[0;34m\u001b[0m\u001b[0m\n\u001b[0m\u001b[1;32m    233\u001b[0m     \u001b[0mfun\u001b[0m\u001b[0;34m.\u001b[0m\u001b[0m__name__\u001b[0m \u001b[0;34m=\u001b[0m \u001b[0mfunc\u001b[0m\u001b[0;34m.\u001b[0m\u001b[0m__name__\u001b[0m\u001b[0;34m\u001b[0m\u001b[0;34m\u001b[0m\u001b[0m\n\u001b[1;32m    234\u001b[0m     \u001b[0mfun\u001b[0m\u001b[0;34m.\u001b[0m\u001b[0m__doc__\u001b[0m \u001b[0;34m=\u001b[0m \u001b[0mfunc\u001b[0m\u001b[0;34m.\u001b[0m\u001b[0m__doc__\u001b[0m\u001b[0;34m\u001b[0m\u001b[0;34m\u001b[0m\u001b[0m\n",
      "\u001b[0;32m~/opt/anaconda3/envs/myenv/lib/python3.7/site-packages/IPython/core/magic.py\u001b[0m in \u001b[0;36m<lambda>\u001b[0;34m(f, *a, **k)\u001b[0m\n\u001b[1;32m    185\u001b[0m     \u001b[0;31m# but it's overkill for just that one bit of state.\u001b[0m\u001b[0;34m\u001b[0m\u001b[0;34m\u001b[0m\u001b[0;34m\u001b[0m\u001b[0m\n\u001b[1;32m    186\u001b[0m     \u001b[0;32mdef\u001b[0m \u001b[0mmagic_deco\u001b[0m\u001b[0;34m(\u001b[0m\u001b[0marg\u001b[0m\u001b[0;34m)\u001b[0m\u001b[0;34m:\u001b[0m\u001b[0;34m\u001b[0m\u001b[0;34m\u001b[0m\u001b[0m\n\u001b[0;32m--> 187\u001b[0;31m         \u001b[0mcall\u001b[0m \u001b[0;34m=\u001b[0m \u001b[0;32mlambda\u001b[0m \u001b[0mf\u001b[0m\u001b[0;34m,\u001b[0m \u001b[0;34m*\u001b[0m\u001b[0ma\u001b[0m\u001b[0;34m,\u001b[0m \u001b[0;34m**\u001b[0m\u001b[0mk\u001b[0m\u001b[0;34m:\u001b[0m \u001b[0mf\u001b[0m\u001b[0;34m(\u001b[0m\u001b[0;34m*\u001b[0m\u001b[0ma\u001b[0m\u001b[0;34m,\u001b[0m \u001b[0;34m**\u001b[0m\u001b[0mk\u001b[0m\u001b[0;34m)\u001b[0m\u001b[0;34m\u001b[0m\u001b[0;34m\u001b[0m\u001b[0m\n\u001b[0m\u001b[1;32m    188\u001b[0m \u001b[0;34m\u001b[0m\u001b[0m\n\u001b[1;32m    189\u001b[0m         \u001b[0;32mif\u001b[0m \u001b[0mcallable\u001b[0m\u001b[0;34m(\u001b[0m\u001b[0marg\u001b[0m\u001b[0;34m)\u001b[0m\u001b[0;34m:\u001b[0m\u001b[0;34m\u001b[0m\u001b[0;34m\u001b[0m\u001b[0m\n",
      "\u001b[0;32m~/opt/anaconda3/envs/myenv/lib/python3.7/site-packages/IPython/core/magics/extension.py\u001b[0m in \u001b[0;36mload_ext\u001b[0;34m(self, module_str)\u001b[0m\n\u001b[1;32m     31\u001b[0m         \u001b[0;32mif\u001b[0m \u001b[0;32mnot\u001b[0m \u001b[0mmodule_str\u001b[0m\u001b[0;34m:\u001b[0m\u001b[0;34m\u001b[0m\u001b[0;34m\u001b[0m\u001b[0m\n\u001b[1;32m     32\u001b[0m             \u001b[0;32mraise\u001b[0m \u001b[0mUsageError\u001b[0m\u001b[0;34m(\u001b[0m\u001b[0;34m'Missing module name.'\u001b[0m\u001b[0;34m)\u001b[0m\u001b[0;34m\u001b[0m\u001b[0;34m\u001b[0m\u001b[0m\n\u001b[0;32m---> 33\u001b[0;31m         \u001b[0mres\u001b[0m \u001b[0;34m=\u001b[0m \u001b[0mself\u001b[0m\u001b[0;34m.\u001b[0m\u001b[0mshell\u001b[0m\u001b[0;34m.\u001b[0m\u001b[0mextension_manager\u001b[0m\u001b[0;34m.\u001b[0m\u001b[0mload_extension\u001b[0m\u001b[0;34m(\u001b[0m\u001b[0mmodule_str\u001b[0m\u001b[0;34m)\u001b[0m\u001b[0;34m\u001b[0m\u001b[0;34m\u001b[0m\u001b[0m\n\u001b[0m\u001b[1;32m     34\u001b[0m \u001b[0;34m\u001b[0m\u001b[0m\n\u001b[1;32m     35\u001b[0m         \u001b[0;32mif\u001b[0m \u001b[0mres\u001b[0m \u001b[0;34m==\u001b[0m \u001b[0;34m'already loaded'\u001b[0m\u001b[0;34m:\u001b[0m\u001b[0;34m\u001b[0m\u001b[0;34m\u001b[0m\u001b[0m\n",
      "\u001b[0;32m~/opt/anaconda3/envs/myenv/lib/python3.7/site-packages/IPython/core/extensions.py\u001b[0m in \u001b[0;36mload_extension\u001b[0;34m(self, module_str)\u001b[0m\n\u001b[1;32m     78\u001b[0m             \u001b[0;32mif\u001b[0m \u001b[0mmodule_str\u001b[0m \u001b[0;32mnot\u001b[0m \u001b[0;32min\u001b[0m \u001b[0msys\u001b[0m\u001b[0;34m.\u001b[0m\u001b[0mmodules\u001b[0m\u001b[0;34m:\u001b[0m\u001b[0;34m\u001b[0m\u001b[0;34m\u001b[0m\u001b[0m\n\u001b[1;32m     79\u001b[0m                 \u001b[0;32mwith\u001b[0m \u001b[0mprepended_to_syspath\u001b[0m\u001b[0;34m(\u001b[0m\u001b[0mself\u001b[0m\u001b[0;34m.\u001b[0m\u001b[0mipython_extension_dir\u001b[0m\u001b[0;34m)\u001b[0m\u001b[0;34m:\u001b[0m\u001b[0;34m\u001b[0m\u001b[0;34m\u001b[0m\u001b[0m\n\u001b[0;32m---> 80\u001b[0;31m                     \u001b[0mmod\u001b[0m \u001b[0;34m=\u001b[0m \u001b[0mimport_module\u001b[0m\u001b[0;34m(\u001b[0m\u001b[0mmodule_str\u001b[0m\u001b[0;34m)\u001b[0m\u001b[0;34m\u001b[0m\u001b[0;34m\u001b[0m\u001b[0m\n\u001b[0m\u001b[1;32m     81\u001b[0m                     \u001b[0;32mif\u001b[0m \u001b[0mmod\u001b[0m\u001b[0;34m.\u001b[0m\u001b[0m__file__\u001b[0m\u001b[0;34m.\u001b[0m\u001b[0mstartswith\u001b[0m\u001b[0;34m(\u001b[0m\u001b[0mself\u001b[0m\u001b[0;34m.\u001b[0m\u001b[0mipython_extension_dir\u001b[0m\u001b[0;34m)\u001b[0m\u001b[0;34m:\u001b[0m\u001b[0;34m\u001b[0m\u001b[0;34m\u001b[0m\u001b[0m\n\u001b[1;32m     82\u001b[0m                         print((\"Loading extensions from {dir} is deprecated. \"\n",
      "\u001b[0;32m~/opt/anaconda3/envs/myenv/lib/python3.7/importlib/__init__.py\u001b[0m in \u001b[0;36mimport_module\u001b[0;34m(name, package)\u001b[0m\n\u001b[1;32m    125\u001b[0m                 \u001b[0;32mbreak\u001b[0m\u001b[0;34m\u001b[0m\u001b[0;34m\u001b[0m\u001b[0m\n\u001b[1;32m    126\u001b[0m             \u001b[0mlevel\u001b[0m \u001b[0;34m+=\u001b[0m \u001b[0;36m1\u001b[0m\u001b[0;34m\u001b[0m\u001b[0;34m\u001b[0m\u001b[0m\n\u001b[0;32m--> 127\u001b[0;31m     \u001b[0;32mreturn\u001b[0m \u001b[0m_bootstrap\u001b[0m\u001b[0;34m.\u001b[0m\u001b[0m_gcd_import\u001b[0m\u001b[0;34m(\u001b[0m\u001b[0mname\u001b[0m\u001b[0;34m[\u001b[0m\u001b[0mlevel\u001b[0m\u001b[0;34m:\u001b[0m\u001b[0;34m]\u001b[0m\u001b[0;34m,\u001b[0m \u001b[0mpackage\u001b[0m\u001b[0;34m,\u001b[0m \u001b[0mlevel\u001b[0m\u001b[0;34m)\u001b[0m\u001b[0;34m\u001b[0m\u001b[0;34m\u001b[0m\u001b[0m\n\u001b[0m\u001b[1;32m    128\u001b[0m \u001b[0;34m\u001b[0m\u001b[0m\n\u001b[1;32m    129\u001b[0m \u001b[0;34m\u001b[0m\u001b[0m\n",
      "\u001b[0;32m~/opt/anaconda3/envs/myenv/lib/python3.7/importlib/_bootstrap.py\u001b[0m in \u001b[0;36m_gcd_import\u001b[0;34m(name, package, level)\u001b[0m\n",
      "\u001b[0;32m~/opt/anaconda3/envs/myenv/lib/python3.7/importlib/_bootstrap.py\u001b[0m in \u001b[0;36m_find_and_load\u001b[0;34m(name, import_)\u001b[0m\n",
      "\u001b[0;32m~/opt/anaconda3/envs/myenv/lib/python3.7/importlib/_bootstrap.py\u001b[0m in \u001b[0;36m_find_and_load_unlocked\u001b[0;34m(name, import_)\u001b[0m\n",
      "\u001b[0;31mModuleNotFoundError\u001b[0m: No module named 'tensorboard'"
     ]
    }
   ],
   "source": [
    "%load_ext tensorboard\n",
    "%tensorboard --logdir logs"
   ]
  },
  {
   "cell_type": "code",
   "execution_count": null,
   "metadata": {},
   "outputs": [],
   "source": []
  }
 ],
 "metadata": {
  "accelerator": "GPU",
  "colab": {
   "collapsed_sections": [],
   "name": "HW3.ipynb",
   "provenance": [
    {
     "file_id": "1siLMvcwxUl6WSTO8JNjUv5T3TXMtujiH",
     "timestamp": 1582058789500
    },
    {
     "file_id": "1fiK0rbc8iMuQQS6PDijcD2MIS95h-oZe",
     "timestamp": 1581824994288
    },
    {
     "file_id": "https://github.com/pytorch/tutorials/blob/gh-pages/_downloads/autograd_tutorial.ipynb",
     "timestamp": 1578596632955
    }
   ]
  },
  "kernelspec": {
   "name": "python3",
   "display_name": "Python 3.7.10 64-bit ('myenv': conda)"
  },
  "language_info": {
   "codemirror_mode": {
    "name": "ipython",
    "version": 3
   },
   "file_extension": ".py",
   "mimetype": "text/x-python",
   "name": "python",
   "nbconvert_exporter": "python",
   "pygments_lexer": "ipython3",
   "version": "3.7.10"
  },
  "interpreter": {
   "hash": "597612b212087843c255093bf84855b0ba72df26cf7e3e3a90439daedff78e07"
  }
 },
 "nbformat": 4,
 "nbformat_minor": 1
}