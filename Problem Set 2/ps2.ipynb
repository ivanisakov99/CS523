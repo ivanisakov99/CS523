{
 "cells": [
  {
   "cell_type": "markdown",
   "metadata": {
    "colab_type": "text",
    "id": "ecSh-LQTDB7H"
   },
   "source": [
    "# Problem Set 2 \n",
    "*Author: Saenko*\n",
    "\n",
    "---\n",
    "\n",
    "This assignment will introduce you to:\n",
    "1. Basic functionality in PyTorch\n",
    "2. Building and training a convolutional network\n",
    "3. Visualizations using Tensorboard (optional)\n",
    "\n",
    "This code has been tested on Colab. You may want to run parts of it on a GPU.\n",
    "**Warning:** If you use the SCC, the gpu queue may be long when the deadline comes. Please start your homework early.\n",
    "\n",
    "---\n",
    "\n",
    "\n",
    "# Problem 0: Tutorials\n",
    "This homework will introduce you to [PyTorch](https://pytorch.org), currently the fastest growing deep learning library.\n",
    "\n",
    "Before starting the homework, please go over these introductory tutorials on the PyTorch webpage:\n",
    "\n",
    "*   [60-minute Blitz](https://pytorch.org/tutorials/beginner/deep_learning_60min_blitz.html)\n",
    " \n",
    "\n",
    "---\n",
    "\n"
   ]
  },
  {
   "cell_type": "markdown",
   "metadata": {
    "colab_type": "text",
    "id": "CcqKCRlM6poM"
   },
   "source": [
    "# Problem 1: Torch Intro (30 points)\n",
    "The `torch.Tensor` class is the basic building block in PyTorch and is used to hold data and parameters. The `autograd` package provides automatic differentiation for all operations on Tensors. After reading about Autograd in the tutorials above,  we will implement a few simple examples of what Autograd can do."
   ]
  },
  {
   "cell_type": "code",
   "execution_count": 1,
   "metadata": {
    "colab": {},
    "colab_type": "code",
    "id": "yUv0o0dIsLlW"
   },
   "outputs": [],
   "source": [
    "import torch"
   ]
  },
  {
   "cell_type": "markdown",
   "metadata": {
    "colab_type": "text",
    "id": "D15InPOpsLlc"
   },
   "source": [
    "### 1.1. Simple function\n",
    " Use `autograd` to do backpropagation on the simple function we saw in lecture, $f=(x+y)*z$. \n",
    "\n",
    "**1.1.1** Create the three inputs with values $x=-2$, $y=5$ and $z=-4$ as tensors and set `requires_grad=True` to track computation on them.\n",
    "\n"
   ]
  },
  {
   "cell_type": "code",
   "execution_count": 2,
   "metadata": {
    "colab": {
     "base_uri": "https://localhost:8080/",
     "height": 34
    },
    "colab_type": "code",
    "executionInfo": {
     "elapsed": 758,
     "status": "ok",
     "timestamp": 1581997995146,
     "user": {
      "displayName": "Samarth Mishra",
      "photoUrl": "",
      "userId": "00064519813488481618"
     },
     "user_tz": 300
    },
    "id": "56mcFemZuYMB",
    "outputId": "4be4f837-cc1b-4579-d97b-edad8dd68263"
   },
   "outputs": [
    {
     "output_type": "stream",
     "name": "stdout",
     "text": [
      "tensor([-2.], requires_grad=True) tensor([5.], requires_grad=True) tensor([-4.], requires_grad=True)\n"
     ]
    }
   ],
   "source": [
    "x = torch.tensor([-2.], requires_grad=True)\n",
    "y = torch.tensor([5.], requires_grad=True)\n",
    "z = torch.tensor([-4.], requires_grad=True)\n",
    "print(x, y, z)"
   ]
  },
  {
   "cell_type": "markdown",
   "metadata": {
    "colab_type": "text",
    "id": "WPBbS7GWxra1"
   },
   "source": [
    "**1.1.2** Compute the $q=x+y$ and $f=q \\times z$ functions, creating tensors for them in the process. Print out $q,f$, then run `f.backward(retain_graph=True)`, to compute the gradients w.r.t. $x,y,z$. The `retain_graph` attribute tells autograd to keep the computation graph around after backward pass as opposed deleting it (freeing some memory). Print the gradients. Note that the gradient for $q$ will be `None` since it is an intermediate node, even though `requires_grad` for it is automatically set to `True`. To access gradients for intermediate nodes in PyTorch you can use hooks as mentioned in [this answer](https://discuss.pytorch.org/t/why-cant-i-see-grad-of-an-intermediate-variable/94/2). Compute the values by hand (or check the slides) to verify your solution."
   ]
  },
  {
   "cell_type": "code",
   "execution_count": 3,
   "metadata": {
    "colab": {
     "base_uri": "https://localhost:8080/",
     "height": 52
    },
    "colab_type": "code",
    "executionInfo": {
     "elapsed": 745,
     "status": "ok",
     "timestamp": 1581997998245,
     "user": {
      "displayName": "Samarth Mishra",
      "photoUrl": "",
      "userId": "00064519813488481618"
     },
     "user_tz": 300
    },
    "id": "4lj5N-fgvQ-v",
    "outputId": "296a7afc-268a-406d-b09e-61dd58b02c8a"
   },
   "outputs": [
    {
     "output_type": "stream",
     "name": "stdout",
     "text": [
      "tensor([3.], grad_fn=<AddBackward0>) tensor([-12.], grad_fn=<MulBackward0>)\ntensor([-4.]) tensor([-4.]) tensor([3.]) None\n"
     ]
    }
   ],
   "source": [
    "def extract(x):\n",
    "    global k\n",
    "    k = x\n",
    "\n",
    "q = x + y\n",
    "f = q * z\n",
    "print(q, f)\n",
    "\n",
    "q.register_hook(extract)\n",
    "f.backward(retain_graph=True)\n",
    "\n",
    "print(x.grad, y.grad, z.grad, k.grad)"
   ]
  },
  {
   "cell_type": "markdown",
   "metadata": {
    "colab_type": "text",
    "id": "EtBqrD7y3MeK"
   },
   "source": [
    "**1.1.3** If we now run `backward()` again, it will add the gradients to their previous values. Try it by running the above cell multiple times. This is useful in some cases, but if we just wanted to re-compute the gradients again, we need to zero them first, then run `backward()`. Add this step, then try running the  backward function multiple times to make sure the answer is the same each time!"
   ]
  },
  {
   "cell_type": "code",
   "execution_count": 4,
   "metadata": {
    "colab": {
     "base_uri": "https://localhost:8080/",
     "height": 34
    },
    "colab_type": "code",
    "executionInfo": {
     "elapsed": 625,
     "status": "ok",
     "timestamp": 1581998000511,
     "user": {
      "displayName": "Samarth Mishra",
      "photoUrl": "",
      "userId": "00064519813488481618"
     },
     "user_tz": 300
    },
    "id": "g6qeSVAM0w1J",
    "outputId": "048e64e9-e6c1-4f28-ee51-099a2a401e04"
   },
   "outputs": [
    {
     "output_type": "stream",
     "name": "stdout",
     "text": [
      "tensor([-4.]) tensor([-4.]) tensor([3.]) None\n"
     ]
    }
   ],
   "source": [
    "x.grad.data.zero_()\n",
    "y.grad.data.zero_()\n",
    "z.grad.data.zero_()\n",
    "\n",
    "f.backward(retain_graph=True)\n",
    "\n",
    "print(x.grad, y.grad, z.grad, k.grad)"
   ]
  },
  {
   "cell_type": "markdown",
   "metadata": {
    "colab_type": "text",
    "id": "3lEIwkbv4qNO"
   },
   "source": [
    "### 1.2 Neuron\n",
    " Implement the function corresponding to one neuron (logistic regression unit) that we saw in the lecture and compute the gradient w.r.t. $x$ and $w$. The function is $f=\\sigma(w^Tx)$ where $\\sigma()$ is the sigmoid function. Initialize $x=[-1, -2, 1]$ and the weights to $w=[2, -3, -3]$ where $w_3$ is the bias. Print out the gradients and double check their values by hand."
   ]
  },
  {
   "cell_type": "code",
   "execution_count": 5,
   "metadata": {
    "colab": {
     "base_uri": "https://localhost:8080/",
     "height": 121
    },
    "colab_type": "code",
    "executionInfo": {
     "elapsed": 585,
     "status": "ok",
     "timestamp": 1581998002809,
     "user": {
      "displayName": "Samarth Mishra",
      "photoUrl": "",
      "userId": "00064519813488481618"
     },
     "user_tz": 300
    },
    "id": "H0UBPl5Ti15G",
    "outputId": "aad7da03-7ba8-4e65-a604-259ce8df8efd"
   },
   "outputs": [
    {
     "output_type": "stream",
     "name": "stdout",
     "text": [
      "x = tensor([-1., -2.,  1.], requires_grad=True)\nw = tensor([ 2., -3., -3.], requires_grad=True)\nf(x, w) = tensor(0.7311, grad_fn=<SigmoidBackward>)\nThe gradient of f() w.r.t. x is tensor([ 0.3932, -0.5898, -0.5898])\nThe gradient of f() w.r.t. w is tensor([-0.1966, -0.3932,  0.1966])\n"
     ]
    }
   ],
   "source": [
    "x = torch.tensor([-1., -2., 1.], requires_grad=True)\n",
    "w = torch.tensor([2., -3., -3.], requires_grad=True)\n",
    "print(\"x =\", x)\n",
    "print(\"w =\", w)\n",
    "f = torch.dot(w, x)\n",
    "f = torch.sigmoid(f)\n",
    "print(\"f(x, w) =\", f)\n",
    "f.backward()\n",
    "print(\"The gradient of f() w.r.t. x is\", x.grad)\n",
    "print(\"The gradient of f() w.r.t. w is\", w.grad)"
   ]
  },
  {
   "cell_type": "markdown",
   "metadata": {
    "colab_type": "text",
    "id": "KLEQdosNk6t9"
   },
   "source": [
    "### 1.3. torch.nn\n",
    " We will now implement the same neuron function $f$ with the same variable values as in Q1.2, but using the `Linear` class from `torch.nn`, followed by the [Sigmoid](https://pytorch.org/docs/stable/nn.html#torch.nn.Sigmoid) class. In general, many useful functions are already implemented for us in this package. Compute the gradients $\\partial f/\\partial w$ by running `backward()` and print them out (they will be stored in the Linear variable, e.g. in `.weight.grad`.) "
   ]
  },
  {
   "cell_type": "code",
   "execution_count": 6,
   "metadata": {
    "colab": {
     "base_uri": "https://localhost:8080/",
     "height": 173
    },
    "colab_type": "code",
    "executionInfo": {
     "elapsed": 583,
     "status": "ok",
     "timestamp": 1581998005758,
     "user": {
      "displayName": "Samarth Mishra",
      "photoUrl": "",
      "userId": "00064519813488481618"
     },
     "user_tz": 300
    },
    "id": "zH3f8sj0ywQ3",
    "outputId": "d56c09a9-0add-40a7-da62-6cdf89ec8c63"
   },
   "outputs": [
    {
     "output_type": "stream",
     "name": "stdout",
     "text": [
      "weights: Parameter containing:\ntensor([[ 2., -3.]], requires_grad=True)\n\nbias Parameter containing:\ntensor([[-3.]], requires_grad=True)\n\nf: tensor([[0.7311]], grad_fn=<SigmoidBackward>)\nThe gradient of f() w.r.t. w is tensor([[-0.1966, -0.3932]]) tensor([[0.1966]])\n"
     ]
    }
   ],
   "source": [
    "m = torch.nn.Linear(2, 1)\n",
    "m.weight.data = torch.tensor([[2., -3.]])\n",
    "m.bias.data = torch.tensor([[-3.]])\n",
    "\n",
    "print(\"weights:\", m.weight)\n",
    "print(\"\\nbias\", m.bias)\n",
    "\n",
    "x = torch.tensor([[-1., -2.]], requires_grad=True)\n",
    "\n",
    "f = m(x)\n",
    "\n",
    "f = torch.sigmoid(f)\n",
    "print(\"\\nf:\", f)\n",
    "f.backward()\n",
    "print(\"The gradient of f() w.r.t. w is\", m.weight.grad, m.bias.grad)\n"
   ]
  },
  {
   "cell_type": "markdown",
   "metadata": {
    "colab_type": "text",
    "id": "isiTRoJuqnEL"
   },
   "source": [
    "### 1.4. Module\n",
    " Now lets put these two functions (Linear and Sigmoid) together into a \"module\". Read the [Neural Networks tutorial](https://pytorch.org/tutorials/beginner/blitz/neural_networks_tutorial.html) if you have not already.\n",
    "\n",
    "**1.4.1** This code makes a subclass of the `Module` class, called `Neuron`, and sets variables to the same values as above. \n",
    "\n"
   ]
  },
  {
   "cell_type": "code",
   "execution_count": 7,
   "metadata": {
    "colab": {},
    "colab_type": "code",
    "id": "8j_S7AQqQB8-"
   },
   "outputs": [],
   "source": [
    "import torch.nn as nn\n",
    "\n",
    "class Neuron(nn.Module):\n",
    "\n",
    "    def __init__(self):\n",
    "        super(Neuron, self).__init__()\n",
    "        # an affine operation: y = weight*x + bias, with fixed parameters\n",
    "        self.linear = nn.Linear(2, 1)\n",
    "        self.linear.weight.data = torch.tensor([[ 2., -3.]])\n",
    "        self.linear.bias.data = torch.tensor([-3.])\n",
    "        # a sigmoid function, elementwise\n",
    "        self.sigmoid = nn.Sigmoid()\n",
    "\n",
    "    def forward(self, x):\n",
    "        x = self.linear(x)\n",
    "        x = self.sigmoid(x)\n",
    "        return x"
   ]
  },
  {
   "cell_type": "markdown",
   "metadata": {
    "colab_type": "text",
    "id": "6Hv5iduNSLX9"
   },
   "source": [
    "**1.4.2** Now create a  variable of your `Neuron` class called `my_neuron` and run backpropagation on it. Print out the gradients again. Make sure you zero out the gradients first, by calling `.zero_grad()` function of the parent class. Even if you will not re-compute the backprop, it is good practice to do this every time to avoid accumulating gradient!"
   ]
  },
  {
   "cell_type": "code",
   "execution_count": 8,
   "metadata": {
    "colab": {
     "base_uri": "https://localhost:8080/",
     "height": 173
    },
    "colab_type": "code",
    "executionInfo": {
     "elapsed": 362,
     "status": "ok",
     "timestamp": 1581998018634,
     "user": {
      "displayName": "Samarth Mishra",
      "photoUrl": "",
      "userId": "00064519813488481618"
     },
     "user_tz": 300
    },
    "id": "AG5V8LiVSQWn",
    "outputId": "adedcde3-bf02-4e9b-da26-b813d75336c9"
   },
   "outputs": [
    {
     "output_type": "stream",
     "name": "stdout",
     "text": [
      "Neuron(\n  (linear): Linear(in_features=2, out_features=1, bias=True)\n  (sigmoid): Sigmoid()\n)\nThe weights are: Parameter containing:\ntensor([[ 2., -3.]], requires_grad=True)\n\nf(x, w) = tensor([[0.7311]], grad_fn=<SigmoidBackward>)\nThe gradient of f() w.r.t. w is tensor([[-0.1966, -0.3932]]) tensor([0.1966])\n"
     ]
    }
   ],
   "source": [
    "my_neuron = Neuron()\n",
    "print(my_neuron)\n",
    "\n",
    "net = my_neuron(x)\n",
    "\n",
    "params = list(my_neuron.parameters())\n",
    "print(\"The weights are:\", params[0])\n",
    "\n",
    "print(\"\\nf(x, w) =\", net)\n",
    "\n",
    "my_neuron.zero_grad()\n",
    "net.backward()\n",
    "print(\"The gradient of f() w.r.t. w is\", my_neuron.linear.weight.grad , my_neuron.linear.bias.grad)\n"
   ]
  },
  {
   "cell_type": "markdown",
   "metadata": {
    "colab_type": "text",
    "id": "5A5kaQxkLsFi"
   },
   "source": [
    "### 1.5. Loss and SGD\n",
    " Now, lets train our neuron on some data. The code below creates a toy dataset containing a few inputs $x$ and outputs $y$ (a binary 0/1 label), as well as a function that plots the data and current solution."
   ]
  },
  {
   "cell_type": "code",
   "execution_count": 9,
   "metadata": {
    "colab": {
     "base_uri": "https://localhost:8080/",
     "height": 286
    },
    "colab_type": "code",
    "executionInfo": {
     "elapsed": 451,
     "status": "ok",
     "timestamp": 1581998902715,
     "user": {
      "displayName": "Samarth Mishra",
      "photoUrl": "",
      "userId": "00064519813488481618"
     },
     "user_tz": 300
    },
    "id": "4nMCQG3-L94R",
    "outputId": "48318f4f-419c-4f54-ffff-a6065573cf3e"
   },
   "outputs": [
    {
     "output_type": "stream",
     "name": "stdout",
     "text": [
      "w0 = 2.0 w1 = -3.0 bias = -3.0\n"
     ]
    },
    {
     "output_type": "display_data",
     "data": {
      "text/plain": "<Figure size 432x288 with 1 Axes>",
      "image/svg+xml": "<?xml version=\"1.0\" encoding=\"utf-8\" standalone=\"no\"?>\n<!DOCTYPE svg PUBLIC \"-//W3C//DTD SVG 1.1//EN\"\n  \"http://www.w3.org/Graphics/SVG/1.1/DTD/svg11.dtd\">\n<!-- Created with matplotlib (https://matplotlib.org/) -->\n<svg height=\"252.317344pt\" version=\"1.1\" viewBox=\"0 0 388.434375 252.317344\" width=\"388.434375pt\" xmlns=\"http://www.w3.org/2000/svg\" xmlns:xlink=\"http://www.w3.org/1999/xlink\">\n <metadata>\n  <rdf:RDF xmlns:cc=\"http://creativecommons.org/ns#\" xmlns:dc=\"http://purl.org/dc/elements/1.1/\" xmlns:rdf=\"http://www.w3.org/1999/02/22-rdf-syntax-ns#\">\n   <cc:Work>\n    <dc:type rdf:resource=\"http://purl.org/dc/dcmitype/StillImage\"/>\n    <dc:date>2021-06-25T14:18:07.957639</dc:date>\n    <dc:format>image/svg+xml</dc:format>\n    <dc:creator>\n     <cc:Agent>\n      <dc:title>Matplotlib v3.3.4, https://matplotlib.org/</dc:title>\n     </cc:Agent>\n    </dc:creator>\n   </cc:Work>\n  </rdf:RDF>\n </metadata>\n <defs>\n  <style type=\"text/css\">*{stroke-linecap:butt;stroke-linejoin:round;}</style>\n </defs>\n <g id=\"figure_1\">\n  <g id=\"patch_1\">\n   <path d=\"M -0 252.317344 \nL 388.434375 252.317344 \nL 388.434375 0 \nL -0 0 \nz\n\" style=\"fill:none;\"/>\n  </g>\n  <g id=\"axes_1\">\n   <g id=\"patch_2\">\n    <path d=\"M 38.482813 228.439219 \nL 373.282813 228.439219 \nL 373.282813 10.999219 \nL 38.482813 10.999219 \nz\n\" style=\"fill:#ffffff;\"/>\n   </g>\n   <g id=\"matplotlib.axis_1\">\n    <g id=\"xtick_1\">\n     <g id=\"line2d_1\">\n      <path clip-path=\"url(#p59bfe7205d)\" d=\"M 38.482812 228.439219 \nL 38.482812 10.999219 \n\" style=\"fill:none;stroke:#b0b0b0;stroke-linecap:square;stroke-width:0.8;\"/>\n     </g>\n     <g id=\"line2d_2\">\n      <defs>\n       <path d=\"M 0 0 \nL 0 3.5 \n\" id=\"mc0cf372c71\" style=\"stroke:#000000;stroke-width:0.8;\"/>\n      </defs>\n      <g>\n       <use style=\"stroke:#000000;stroke-width:0.8;\" x=\"38.482812\" xlink:href=\"#mc0cf372c71\" y=\"228.439219\"/>\n      </g>\n     </g>\n     <g id=\"text_1\">\n      <!-- −2.0 -->\n      <g transform=\"translate(26.341406 243.037656)scale(0.1 -0.1)\">\n       <defs>\n        <path d=\"M 10.59375 35.5 \nL 73.1875 35.5 \nL 73.1875 27.203125 \nL 10.59375 27.203125 \nz\n\" id=\"DejaVuSans-8722\"/>\n        <path d=\"M 19.1875 8.296875 \nL 53.609375 8.296875 \nL 53.609375 0 \nL 7.328125 0 \nL 7.328125 8.296875 \nQ 12.9375 14.109375 22.625 23.890625 \nQ 32.328125 33.6875 34.8125 36.53125 \nQ 39.546875 41.84375 41.421875 45.53125 \nQ 43.3125 49.21875 43.3125 52.78125 \nQ 43.3125 58.59375 39.234375 62.25 \nQ 35.15625 65.921875 28.609375 65.921875 \nQ 23.96875 65.921875 18.8125 64.3125 \nQ 13.671875 62.703125 7.8125 59.421875 \nL 7.8125 69.390625 \nQ 13.765625 71.78125 18.9375 73 \nQ 24.125 74.21875 28.421875 74.21875 \nQ 39.75 74.21875 46.484375 68.546875 \nQ 53.21875 62.890625 53.21875 53.421875 \nQ 53.21875 48.921875 51.53125 44.890625 \nQ 49.859375 40.875 45.40625 35.40625 \nQ 44.1875 33.984375 37.640625 27.21875 \nQ 31.109375 20.453125 19.1875 8.296875 \nz\n\" id=\"DejaVuSans-50\"/>\n        <path d=\"M 10.6875 12.40625 \nL 21 12.40625 \nL 21 0 \nL 10.6875 0 \nz\n\" id=\"DejaVuSans-46\"/>\n        <path d=\"M 31.78125 66.40625 \nQ 24.171875 66.40625 20.328125 58.90625 \nQ 16.5 51.421875 16.5 36.375 \nQ 16.5 21.390625 20.328125 13.890625 \nQ 24.171875 6.390625 31.78125 6.390625 \nQ 39.453125 6.390625 43.28125 13.890625 \nQ 47.125 21.390625 47.125 36.375 \nQ 47.125 51.421875 43.28125 58.90625 \nQ 39.453125 66.40625 31.78125 66.40625 \nz\nM 31.78125 74.21875 \nQ 44.046875 74.21875 50.515625 64.515625 \nQ 56.984375 54.828125 56.984375 36.375 \nQ 56.984375 17.96875 50.515625 8.265625 \nQ 44.046875 -1.421875 31.78125 -1.421875 \nQ 19.53125 -1.421875 13.0625 8.265625 \nQ 6.59375 17.96875 6.59375 36.375 \nQ 6.59375 54.828125 13.0625 64.515625 \nQ 19.53125 74.21875 31.78125 74.21875 \nz\n\" id=\"DejaVuSans-48\"/>\n       </defs>\n       <use xlink:href=\"#DejaVuSans-8722\"/>\n       <use x=\"83.789062\" xlink:href=\"#DejaVuSans-50\"/>\n       <use x=\"147.412109\" xlink:href=\"#DejaVuSans-46\"/>\n       <use x=\"179.199219\" xlink:href=\"#DejaVuSans-48\"/>\n      </g>\n     </g>\n    </g>\n    <g id=\"xtick_2\">\n     <g id=\"line2d_3\">\n      <path clip-path=\"url(#p59bfe7205d)\" d=\"M 80.332812 228.439219 \nL 80.332812 10.999219 \n\" style=\"fill:none;stroke:#b0b0b0;stroke-linecap:square;stroke-width:0.8;\"/>\n     </g>\n     <g id=\"line2d_4\">\n      <g>\n       <use style=\"stroke:#000000;stroke-width:0.8;\" x=\"80.332812\" xlink:href=\"#mc0cf372c71\" y=\"228.439219\"/>\n      </g>\n     </g>\n     <g id=\"text_2\">\n      <!-- −1.5 -->\n      <g transform=\"translate(68.191406 243.037656)scale(0.1 -0.1)\">\n       <defs>\n        <path d=\"M 12.40625 8.296875 \nL 28.515625 8.296875 \nL 28.515625 63.921875 \nL 10.984375 60.40625 \nL 10.984375 69.390625 \nL 28.421875 72.90625 \nL 38.28125 72.90625 \nL 38.28125 8.296875 \nL 54.390625 8.296875 \nL 54.390625 0 \nL 12.40625 0 \nz\n\" id=\"DejaVuSans-49\"/>\n        <path d=\"M 10.796875 72.90625 \nL 49.515625 72.90625 \nL 49.515625 64.59375 \nL 19.828125 64.59375 \nL 19.828125 46.734375 \nQ 21.96875 47.46875 24.109375 47.828125 \nQ 26.265625 48.1875 28.421875 48.1875 \nQ 40.625 48.1875 47.75 41.5 \nQ 54.890625 34.8125 54.890625 23.390625 \nQ 54.890625 11.625 47.5625 5.09375 \nQ 40.234375 -1.421875 26.90625 -1.421875 \nQ 22.3125 -1.421875 17.546875 -0.640625 \nQ 12.796875 0.140625 7.71875 1.703125 \nL 7.71875 11.625 \nQ 12.109375 9.234375 16.796875 8.0625 \nQ 21.484375 6.890625 26.703125 6.890625 \nQ 35.15625 6.890625 40.078125 11.328125 \nQ 45.015625 15.765625 45.015625 23.390625 \nQ 45.015625 31 40.078125 35.4375 \nQ 35.15625 39.890625 26.703125 39.890625 \nQ 22.75 39.890625 18.8125 39.015625 \nQ 14.890625 38.140625 10.796875 36.28125 \nz\n\" id=\"DejaVuSans-53\"/>\n       </defs>\n       <use xlink:href=\"#DejaVuSans-8722\"/>\n       <use x=\"83.789062\" xlink:href=\"#DejaVuSans-49\"/>\n       <use x=\"147.412109\" xlink:href=\"#DejaVuSans-46\"/>\n       <use x=\"179.199219\" xlink:href=\"#DejaVuSans-53\"/>\n      </g>\n     </g>\n    </g>\n    <g id=\"xtick_3\">\n     <g id=\"line2d_5\">\n      <path clip-path=\"url(#p59bfe7205d)\" d=\"M 122.182812 228.439219 \nL 122.182812 10.999219 \n\" style=\"fill:none;stroke:#b0b0b0;stroke-linecap:square;stroke-width:0.8;\"/>\n     </g>\n     <g id=\"line2d_6\">\n      <g>\n       <use style=\"stroke:#000000;stroke-width:0.8;\" x=\"122.182812\" xlink:href=\"#mc0cf372c71\" y=\"228.439219\"/>\n      </g>\n     </g>\n     <g id=\"text_3\">\n      <!-- −1.0 -->\n      <g transform=\"translate(110.041406 243.037656)scale(0.1 -0.1)\">\n       <use xlink:href=\"#DejaVuSans-8722\"/>\n       <use x=\"83.789062\" xlink:href=\"#DejaVuSans-49\"/>\n       <use x=\"147.412109\" xlink:href=\"#DejaVuSans-46\"/>\n       <use x=\"179.199219\" xlink:href=\"#DejaVuSans-48\"/>\n      </g>\n     </g>\n    </g>\n    <g id=\"xtick_4\">\n     <g id=\"line2d_7\">\n      <path clip-path=\"url(#p59bfe7205d)\" d=\"M 164.032813 228.439219 \nL 164.032813 10.999219 \n\" style=\"fill:none;stroke:#b0b0b0;stroke-linecap:square;stroke-width:0.8;\"/>\n     </g>\n     <g id=\"line2d_8\">\n      <g>\n       <use style=\"stroke:#000000;stroke-width:0.8;\" x=\"164.032813\" xlink:href=\"#mc0cf372c71\" y=\"228.439219\"/>\n      </g>\n     </g>\n     <g id=\"text_4\">\n      <!-- −0.5 -->\n      <g transform=\"translate(151.891406 243.037656)scale(0.1 -0.1)\">\n       <use xlink:href=\"#DejaVuSans-8722\"/>\n       <use x=\"83.789062\" xlink:href=\"#DejaVuSans-48\"/>\n       <use x=\"147.412109\" xlink:href=\"#DejaVuSans-46\"/>\n       <use x=\"179.199219\" xlink:href=\"#DejaVuSans-53\"/>\n      </g>\n     </g>\n    </g>\n    <g id=\"xtick_5\">\n     <g id=\"line2d_9\">\n      <path clip-path=\"url(#p59bfe7205d)\" d=\"M 205.882812 228.439219 \nL 205.882812 10.999219 \n\" style=\"fill:none;stroke:#b0b0b0;stroke-linecap:square;stroke-width:0.8;\"/>\n     </g>\n     <g id=\"line2d_10\">\n      <g>\n       <use style=\"stroke:#000000;stroke-width:0.8;\" x=\"205.882812\" xlink:href=\"#mc0cf372c71\" y=\"228.439219\"/>\n      </g>\n     </g>\n     <g id=\"text_5\">\n      <!-- 0.0 -->\n      <g transform=\"translate(197.93125 243.037656)scale(0.1 -0.1)\">\n       <use xlink:href=\"#DejaVuSans-48\"/>\n       <use x=\"63.623047\" xlink:href=\"#DejaVuSans-46\"/>\n       <use x=\"95.410156\" xlink:href=\"#DejaVuSans-48\"/>\n      </g>\n     </g>\n    </g>\n    <g id=\"xtick_6\">\n     <g id=\"line2d_11\">\n      <path clip-path=\"url(#p59bfe7205d)\" d=\"M 247.732812 228.439219 \nL 247.732812 10.999219 \n\" style=\"fill:none;stroke:#b0b0b0;stroke-linecap:square;stroke-width:0.8;\"/>\n     </g>\n     <g id=\"line2d_12\">\n      <g>\n       <use style=\"stroke:#000000;stroke-width:0.8;\" x=\"247.732812\" xlink:href=\"#mc0cf372c71\" y=\"228.439219\"/>\n      </g>\n     </g>\n     <g id=\"text_6\">\n      <!-- 0.5 -->\n      <g transform=\"translate(239.78125 243.037656)scale(0.1 -0.1)\">\n       <use xlink:href=\"#DejaVuSans-48\"/>\n       <use x=\"63.623047\" xlink:href=\"#DejaVuSans-46\"/>\n       <use x=\"95.410156\" xlink:href=\"#DejaVuSans-53\"/>\n      </g>\n     </g>\n    </g>\n    <g id=\"xtick_7\">\n     <g id=\"line2d_13\">\n      <path clip-path=\"url(#p59bfe7205d)\" d=\"M 289.582812 228.439219 \nL 289.582812 10.999219 \n\" style=\"fill:none;stroke:#b0b0b0;stroke-linecap:square;stroke-width:0.8;\"/>\n     </g>\n     <g id=\"line2d_14\">\n      <g>\n       <use style=\"stroke:#000000;stroke-width:0.8;\" x=\"289.582812\" xlink:href=\"#mc0cf372c71\" y=\"228.439219\"/>\n      </g>\n     </g>\n     <g id=\"text_7\">\n      <!-- 1.0 -->\n      <g transform=\"translate(281.63125 243.037656)scale(0.1 -0.1)\">\n       <use xlink:href=\"#DejaVuSans-49\"/>\n       <use x=\"63.623047\" xlink:href=\"#DejaVuSans-46\"/>\n       <use x=\"95.410156\" xlink:href=\"#DejaVuSans-48\"/>\n      </g>\n     </g>\n    </g>\n    <g id=\"xtick_8\">\n     <g id=\"line2d_15\">\n      <path clip-path=\"url(#p59bfe7205d)\" d=\"M 331.432813 228.439219 \nL 331.432813 10.999219 \n\" style=\"fill:none;stroke:#b0b0b0;stroke-linecap:square;stroke-width:0.8;\"/>\n     </g>\n     <g id=\"line2d_16\">\n      <g>\n       <use style=\"stroke:#000000;stroke-width:0.8;\" x=\"331.432813\" xlink:href=\"#mc0cf372c71\" y=\"228.439219\"/>\n      </g>\n     </g>\n     <g id=\"text_8\">\n      <!-- 1.5 -->\n      <g transform=\"translate(323.48125 243.037656)scale(0.1 -0.1)\">\n       <use xlink:href=\"#DejaVuSans-49\"/>\n       <use x=\"63.623047\" xlink:href=\"#DejaVuSans-46\"/>\n       <use x=\"95.410156\" xlink:href=\"#DejaVuSans-53\"/>\n      </g>\n     </g>\n    </g>\n    <g id=\"xtick_9\">\n     <g id=\"line2d_17\">\n      <path clip-path=\"url(#p59bfe7205d)\" d=\"M 373.282812 228.439219 \nL 373.282812 10.999219 \n\" style=\"fill:none;stroke:#b0b0b0;stroke-linecap:square;stroke-width:0.8;\"/>\n     </g>\n     <g id=\"line2d_18\">\n      <g>\n       <use style=\"stroke:#000000;stroke-width:0.8;\" x=\"373.282812\" xlink:href=\"#mc0cf372c71\" y=\"228.439219\"/>\n      </g>\n     </g>\n     <g id=\"text_9\">\n      <!-- 2.0 -->\n      <g transform=\"translate(365.33125 243.037656)scale(0.1 -0.1)\">\n       <use xlink:href=\"#DejaVuSans-50\"/>\n       <use x=\"63.623047\" xlink:href=\"#DejaVuSans-46\"/>\n       <use x=\"95.410156\" xlink:href=\"#DejaVuSans-48\"/>\n      </g>\n     </g>\n    </g>\n   </g>\n   <g id=\"matplotlib.axis_2\">\n    <g id=\"ytick_1\">\n     <g id=\"line2d_19\">\n      <path clip-path=\"url(#p59bfe7205d)\" d=\"M 38.482813 228.439219 \nL 373.282813 228.439219 \n\" style=\"fill:none;stroke:#b0b0b0;stroke-linecap:square;stroke-width:0.8;\"/>\n     </g>\n     <g id=\"line2d_20\">\n      <defs>\n       <path d=\"M 0 0 \nL -3.5 0 \n\" id=\"m50f0da9f9d\" style=\"stroke:#000000;stroke-width:0.8;\"/>\n      </defs>\n      <g>\n       <use style=\"stroke:#000000;stroke-width:0.8;\" x=\"38.482813\" xlink:href=\"#m50f0da9f9d\" y=\"228.439219\"/>\n      </g>\n     </g>\n     <g id=\"text_10\">\n      <!-- −2.0 -->\n      <g transform=\"translate(7.2 232.238437)scale(0.1 -0.1)\">\n       <use xlink:href=\"#DejaVuSans-8722\"/>\n       <use x=\"83.789062\" xlink:href=\"#DejaVuSans-50\"/>\n       <use x=\"147.412109\" xlink:href=\"#DejaVuSans-46\"/>\n       <use x=\"179.199219\" xlink:href=\"#DejaVuSans-48\"/>\n      </g>\n     </g>\n    </g>\n    <g id=\"ytick_2\">\n     <g id=\"line2d_21\">\n      <path clip-path=\"url(#p59bfe7205d)\" d=\"M 38.482813 201.259219 \nL 373.282813 201.259219 \n\" style=\"fill:none;stroke:#b0b0b0;stroke-linecap:square;stroke-width:0.8;\"/>\n     </g>\n     <g id=\"line2d_22\">\n      <g>\n       <use style=\"stroke:#000000;stroke-width:0.8;\" x=\"38.482813\" xlink:href=\"#m50f0da9f9d\" y=\"201.259219\"/>\n      </g>\n     </g>\n     <g id=\"text_11\">\n      <!-- −1.5 -->\n      <g transform=\"translate(7.2 205.058437)scale(0.1 -0.1)\">\n       <use xlink:href=\"#DejaVuSans-8722\"/>\n       <use x=\"83.789062\" xlink:href=\"#DejaVuSans-49\"/>\n       <use x=\"147.412109\" xlink:href=\"#DejaVuSans-46\"/>\n       <use x=\"179.199219\" xlink:href=\"#DejaVuSans-53\"/>\n      </g>\n     </g>\n    </g>\n    <g id=\"ytick_3\">\n     <g id=\"line2d_23\">\n      <path clip-path=\"url(#p59bfe7205d)\" d=\"M 38.482813 174.079219 \nL 373.282813 174.079219 \n\" style=\"fill:none;stroke:#b0b0b0;stroke-linecap:square;stroke-width:0.8;\"/>\n     </g>\n     <g id=\"line2d_24\">\n      <g>\n       <use style=\"stroke:#000000;stroke-width:0.8;\" x=\"38.482813\" xlink:href=\"#m50f0da9f9d\" y=\"174.079219\"/>\n      </g>\n     </g>\n     <g id=\"text_12\">\n      <!-- −1.0 -->\n      <g transform=\"translate(7.2 177.878437)scale(0.1 -0.1)\">\n       <use xlink:href=\"#DejaVuSans-8722\"/>\n       <use x=\"83.789062\" xlink:href=\"#DejaVuSans-49\"/>\n       <use x=\"147.412109\" xlink:href=\"#DejaVuSans-46\"/>\n       <use x=\"179.199219\" xlink:href=\"#DejaVuSans-48\"/>\n      </g>\n     </g>\n    </g>\n    <g id=\"ytick_4\">\n     <g id=\"line2d_25\">\n      <path clip-path=\"url(#p59bfe7205d)\" d=\"M 38.482813 146.899219 \nL 373.282813 146.899219 \n\" style=\"fill:none;stroke:#b0b0b0;stroke-linecap:square;stroke-width:0.8;\"/>\n     </g>\n     <g id=\"line2d_26\">\n      <g>\n       <use style=\"stroke:#000000;stroke-width:0.8;\" x=\"38.482813\" xlink:href=\"#m50f0da9f9d\" y=\"146.899219\"/>\n      </g>\n     </g>\n     <g id=\"text_13\">\n      <!-- −0.5 -->\n      <g transform=\"translate(7.2 150.698437)scale(0.1 -0.1)\">\n       <use xlink:href=\"#DejaVuSans-8722\"/>\n       <use x=\"83.789062\" xlink:href=\"#DejaVuSans-48\"/>\n       <use x=\"147.412109\" xlink:href=\"#DejaVuSans-46\"/>\n       <use x=\"179.199219\" xlink:href=\"#DejaVuSans-53\"/>\n      </g>\n     </g>\n    </g>\n    <g id=\"ytick_5\">\n     <g id=\"line2d_27\">\n      <path clip-path=\"url(#p59bfe7205d)\" d=\"M 38.482813 119.719219 \nL 373.282813 119.719219 \n\" style=\"fill:none;stroke:#b0b0b0;stroke-linecap:square;stroke-width:0.8;\"/>\n     </g>\n     <g id=\"line2d_28\">\n      <g>\n       <use style=\"stroke:#000000;stroke-width:0.8;\" x=\"38.482813\" xlink:href=\"#m50f0da9f9d\" y=\"119.719219\"/>\n      </g>\n     </g>\n     <g id=\"text_14\">\n      <!-- 0.0 -->\n      <g transform=\"translate(15.579688 123.518437)scale(0.1 -0.1)\">\n       <use xlink:href=\"#DejaVuSans-48\"/>\n       <use x=\"63.623047\" xlink:href=\"#DejaVuSans-46\"/>\n       <use x=\"95.410156\" xlink:href=\"#DejaVuSans-48\"/>\n      </g>\n     </g>\n    </g>\n    <g id=\"ytick_6\">\n     <g id=\"line2d_29\">\n      <path clip-path=\"url(#p59bfe7205d)\" d=\"M 38.482813 92.539219 \nL 373.282813 92.539219 \n\" style=\"fill:none;stroke:#b0b0b0;stroke-linecap:square;stroke-width:0.8;\"/>\n     </g>\n     <g id=\"line2d_30\">\n      <g>\n       <use style=\"stroke:#000000;stroke-width:0.8;\" x=\"38.482813\" xlink:href=\"#m50f0da9f9d\" y=\"92.539219\"/>\n      </g>\n     </g>\n     <g id=\"text_15\">\n      <!-- 0.5 -->\n      <g transform=\"translate(15.579688 96.338437)scale(0.1 -0.1)\">\n       <use xlink:href=\"#DejaVuSans-48\"/>\n       <use x=\"63.623047\" xlink:href=\"#DejaVuSans-46\"/>\n       <use x=\"95.410156\" xlink:href=\"#DejaVuSans-53\"/>\n      </g>\n     </g>\n    </g>\n    <g id=\"ytick_7\">\n     <g id=\"line2d_31\">\n      <path clip-path=\"url(#p59bfe7205d)\" d=\"M 38.482813 65.359219 \nL 373.282813 65.359219 \n\" style=\"fill:none;stroke:#b0b0b0;stroke-linecap:square;stroke-width:0.8;\"/>\n     </g>\n     <g id=\"line2d_32\">\n      <g>\n       <use style=\"stroke:#000000;stroke-width:0.8;\" x=\"38.482813\" xlink:href=\"#m50f0da9f9d\" y=\"65.359219\"/>\n      </g>\n     </g>\n     <g id=\"text_16\">\n      <!-- 1.0 -->\n      <g transform=\"translate(15.579688 69.158437)scale(0.1 -0.1)\">\n       <use xlink:href=\"#DejaVuSans-49\"/>\n       <use x=\"63.623047\" xlink:href=\"#DejaVuSans-46\"/>\n       <use x=\"95.410156\" xlink:href=\"#DejaVuSans-48\"/>\n      </g>\n     </g>\n    </g>\n    <g id=\"ytick_8\">\n     <g id=\"line2d_33\">\n      <path clip-path=\"url(#p59bfe7205d)\" d=\"M 38.482813 38.179219 \nL 373.282813 38.179219 \n\" style=\"fill:none;stroke:#b0b0b0;stroke-linecap:square;stroke-width:0.8;\"/>\n     </g>\n     <g id=\"line2d_34\">\n      <g>\n       <use style=\"stroke:#000000;stroke-width:0.8;\" x=\"38.482813\" xlink:href=\"#m50f0da9f9d\" y=\"38.179219\"/>\n      </g>\n     </g>\n     <g id=\"text_17\">\n      <!-- 1.5 -->\n      <g transform=\"translate(15.579688 41.978437)scale(0.1 -0.1)\">\n       <use xlink:href=\"#DejaVuSans-49\"/>\n       <use x=\"63.623047\" xlink:href=\"#DejaVuSans-46\"/>\n       <use x=\"95.410156\" xlink:href=\"#DejaVuSans-53\"/>\n      </g>\n     </g>\n    </g>\n    <g id=\"ytick_9\">\n     <g id=\"line2d_35\">\n      <path clip-path=\"url(#p59bfe7205d)\" d=\"M 38.482813 10.999219 \nL 373.282813 10.999219 \n\" style=\"fill:none;stroke:#b0b0b0;stroke-linecap:square;stroke-width:0.8;\"/>\n     </g>\n     <g id=\"line2d_36\">\n      <g>\n       <use style=\"stroke:#000000;stroke-width:0.8;\" x=\"38.482813\" xlink:href=\"#m50f0da9f9d\" y=\"10.999219\"/>\n      </g>\n     </g>\n     <g id=\"text_18\">\n      <!-- 2.0 -->\n      <g transform=\"translate(15.579688 14.798437)scale(0.1 -0.1)\">\n       <use xlink:href=\"#DejaVuSans-50\"/>\n       <use x=\"63.623047\" xlink:href=\"#DejaVuSans-46\"/>\n       <use x=\"95.410156\" xlink:href=\"#DejaVuSans-48\"/>\n      </g>\n     </g>\n    </g>\n   </g>\n   <g id=\"line2d_37\">\n    <defs>\n     <path d=\"M -3 0 \nL 3 0 \nM 0 3 \nL 0 -3 \n\" id=\"m98c15cfee8\" style=\"stroke:#ff0000;\"/>\n    </defs>\n    <g clip-path=\"url(#p59bfe7205d)\">\n     <use style=\"fill:#ff0000;stroke:#ff0000;\" x=\"80.332812\" xlink:href=\"#m98c15cfee8\" y=\"190.387216\"/>\n     <use style=\"fill:#ff0000;stroke:#ff0000;\" x=\"222.622813\" xlink:href=\"#m98c15cfee8\" y=\"195.823217\"/>\n     <use style=\"fill:#ff0000;stroke:#ff0000;\" x=\"147.292813\" xlink:href=\"#m98c15cfee8\" y=\"146.899219\"/>\n    </g>\n   </g>\n   <g id=\"line2d_38\">\n    <defs>\n     <path d=\"M 0 1.5 \nC 0.397805 1.5 0.77937 1.341951 1.06066 1.06066 \nC 1.341951 0.77937 1.5 0.397805 1.5 0 \nC 1.5 -0.397805 1.341951 -0.77937 1.06066 -1.06066 \nC 0.77937 -1.341951 0.397805 -1.5 0 -1.5 \nC -0.397805 -1.5 -0.77937 -1.341951 -1.06066 -1.06066 \nC -1.341951 -0.77937 -1.5 -0.397805 -1.5 0 \nC -1.5 0.397805 -1.341951 0.77937 -1.06066 1.06066 \nC -0.77937 1.341951 -0.397805 1.5 0 1.5 \nz\n\" id=\"m54dde9f420\" style=\"stroke:#0000ff;\"/>\n    </defs>\n    <g clip-path=\"url(#p59bfe7205d)\">\n     <use style=\"fill:#0000ff;stroke:#0000ff;\" x=\"306.322816\" xlink:href=\"#m54dde9f420\" y=\"65.359219\"/>\n     <use style=\"fill:#0000ff;stroke:#0000ff;\" x=\"222.622813\" xlink:href=\"#m54dde9f420\" y=\"43.61522\"/>\n     <use style=\"fill:#0000ff;stroke:#0000ff;\" x=\"247.732812\" xlink:href=\"#m54dde9f420\" y=\"92.539219\"/>\n    </g>\n   </g>\n   <g id=\"line2d_39\">\n    <path clip-path=\"url(#p59bfe7205d)\" d=\"M 38.482812 246.559227 \nL 373.282812 101.599218 \n\" style=\"fill:none;stroke:#1f77b4;stroke-linecap:square;stroke-width:1.5;\"/>\n   </g>\n   <g id=\"patch_3\">\n    <path d=\"M 38.482813 228.439219 \nL 38.482813 10.999219 \n\" style=\"fill:none;stroke:#000000;stroke-linecap:square;stroke-linejoin:miter;stroke-width:0.8;\"/>\n   </g>\n   <g id=\"patch_4\">\n    <path d=\"M 373.282813 228.439219 \nL 373.282813 10.999219 \n\" style=\"fill:none;stroke:#000000;stroke-linecap:square;stroke-linejoin:miter;stroke-width:0.8;\"/>\n   </g>\n   <g id=\"patch_5\">\n    <path d=\"M 38.482812 228.439219 \nL 373.282812 228.439219 \n\" style=\"fill:none;stroke:#000000;stroke-linecap:square;stroke-linejoin:miter;stroke-width:0.8;\"/>\n   </g>\n   <g id=\"patch_6\">\n    <path d=\"M 38.482812 10.999219 \nL 373.282812 10.999219 \n\" style=\"fill:none;stroke:#000000;stroke-linecap:square;stroke-linejoin:miter;stroke-width:0.8;\"/>\n   </g>\n  </g>\n </g>\n <defs>\n  <clipPath id=\"p59bfe7205d\">\n   <rect height=\"217.44\" width=\"334.8\" x=\"38.482813\" y=\"10.999219\"/>\n  </clipPath>\n </defs>\n</svg>\n",
      "image/png": "[encoded data removed]"
     },
     "metadata": {
      "needs_background": "light"
     }
    }
   ],
   "source": [
    "import matplotlib.pyplot as plt\n",
    "\n",
    "# create some toy 2-D datapoints with binary (0/1) labels\n",
    "x = torch.tensor([[1.2, 1], [0.2, 1.4], [0.5, 0.5], \n",
    "                  [-1.5, -1.3], [0.2, -1.4], [-0.7, -0.5]])\n",
    "y = torch.tensor([0, 0, 0, 1, 1, 1 ])\n",
    "\n",
    "def plot_soln(x, y, params):\n",
    "  plt.plot(x[y==1,0], x[y==1,1], 'r+')\n",
    "  plt.plot(x[y==0,0], x[y==0,1], 'b.')\n",
    "  plt.grid(True)\n",
    "  plt.axis([-2, 2, -2, 2])\n",
    "  \n",
    "  # NOTE : This may depend on how you implement Neuron.\n",
    "  #   Change accordingly\n",
    "  w0 = params[0][0][0].item()\n",
    "  w1 = params[0][0][1].item()\n",
    "  bias = params[1][0].item()\n",
    "  \n",
    "  print(\"w0 =\", w0, \"w1 =\", w1, \"bias =\", bias)\n",
    "  dbx = torch.tensor([-2, 2])\n",
    "  dby = -(1/w1)*(w0*dbx + bias)  # plot the line corresponding to the weights and bias\n",
    "  plt.plot(dbx, dby)\n",
    "\n",
    "params = list(my_neuron.parameters())\n",
    "plot_soln(x, y, params)"
   ]
  },
  {
   "cell_type": "markdown",
   "metadata": {
    "colab_type": "text",
    "id": "CpB2AwwhckYc"
   },
   "source": [
    "**1.5.1** Declare an object `criterion` of type `nn.CrossEntropyLoss`. Note that this can be called as a function on two tensors, one representing the network outputs and the other, the targets that the network is being trained to predict, to return the loss. Print the value of the loss on the dataset using the initial weights and bias defined above in Q1.2."
   ]
  },
  {
   "cell_type": "code",
   "execution_count": 10,
   "metadata": {
    "colab": {
     "base_uri": "https://localhost:8080/",
     "height": 34
    },
    "colab_type": "code",
    "executionInfo": {
     "elapsed": 553,
     "status": "ok",
     "timestamp": 1581998912941,
     "user": {
      "displayName": "Samarth Mishra",
      "photoUrl": "",
      "userId": "00064519813488481618"
     },
     "user_tz": 300
    },
    "id": "l1M8bkH5cnVQ",
    "outputId": "8b79c853-db3e-4688-856e-1c7663195fdd"
   },
   "outputs": [
    {
     "output_type": "stream",
     "name": "stdout",
     "text": [
      "loss = 0.9425851702690125\n"
     ]
    }
   ],
   "source": [
    "my_neuron = Neuron()\n",
    "y_pred = my_neuron.forward(x)\n",
    "\n",
    "y_pred = torch.cat([y_pred, 1 - y_pred], dim=1)\n",
    "\n",
    "criterion = nn.CrossEntropyLoss()\n",
    "loss = criterion(y_pred, y)\n",
    "print(\"loss =\", loss.item())"
   ]
  },
  {
   "cell_type": "markdown",
   "metadata": {
    "colab_type": "text",
    "id": "RJqHzmDL6yYh"
   },
   "source": [
    "**1.5.2** The following prints out the chain of `grad_fn` functions backwards starting from `loss.grad_fn`  to demonstrate what backpropagation will be run on."
   ]
  },
  {
   "cell_type": "code",
   "execution_count": 11,
   "metadata": {
    "colab": {
     "base_uri": "https://localhost:8080/",
     "height": 86
    },
    "colab_type": "code",
    "executionInfo": {
     "elapsed": 404,
     "status": "ok",
     "timestamp": 1581998915620,
     "user": {
      "displayName": "Samarth Mishra",
      "photoUrl": "",
      "userId": "00064519813488481618"
     },
     "user_tz": 300
    },
    "id": "wawoYnT3U04S",
    "outputId": "cfafafbe-8cd0-48bb-c6a4-bda00371a103",
    "scrolled": true
   },
   "outputs": [
    {
     "output_type": "stream",
     "name": "stdout",
     "text": [
      "<NllLossBackward object at 0x7fef29d11d50>\n<LogSoftmaxBackward object at 0x7fef29d11ed0>\n<CatBackward object at 0x7fef29d11d50>\n<SigmoidBackward object at 0x7fef29d1a110>\n"
     ]
    }
   ],
   "source": [
    "print(loss.grad_fn)  \n",
    "print(loss.grad_fn.next_functions[0][0])  \n",
    "print(loss.grad_fn.next_functions[0][0].next_functions[0][0])  \n",
    "print(loss.grad_fn.next_functions[0][0].next_functions[0][0].next_functions[0][0])  "
   ]
  },
  {
   "cell_type": "markdown",
   "metadata": {
    "colab_type": "text",
    "id": "Og0ZO46h3UNg"
   },
   "source": [
    "**1.5.3** Run the Stochastic Gradient Descent (SGD) optimizer from the `torch.optim` package to train your classifier on the toy dataset. Use the entire dataset in each batch. Use a learning rate of $0.01$ (no other hyperparameters). You will need to write a training loop that uses the `.step()` function of the optimizer. Plot the solution and print the loss after 1000 iterations."
   ]
  },
  {
   "cell_type": "code",
   "execution_count": 12,
   "metadata": {
    "colab": {
     "base_uri": "https://localhost:8080/",
     "height": 304
    },
    "colab_type": "code",
    "executionInfo": {
     "elapsed": 1098,
     "status": "ok",
     "timestamp": 1581998918323,
     "user": {
      "displayName": "Samarth Mishra",
      "photoUrl": "",
      "userId": "00064519813488481618"
     },
     "user_tz": 300
    },
    "id": "fqxdnM-vV1DU",
    "outputId": "3699a412-a9bb-48ad-d873-53349a233a23"
   },
   "outputs": [
    {
     "output_type": "stream",
     "name": "stdout",
     "text": [
      "loss = 0.870725691318512\nw0 = 2.161842107772827 w1 = -2.233754873275757 bias = -3.3213229179382324\n"
     ]
    },
    {
     "output_type": "display_data",
     "data": {
      "text/plain": "<Figure size 432x288 with 1 Axes>",
      "image/svg+xml": "<?xml version=\"1.0\" encoding=\"utf-8\" standalone=\"no\"?>\n<!DOCTYPE svg PUBLIC \"-//W3C//DTD SVG 1.1//EN\"\n  \"http://www.w3.org/Graphics/SVG/1.1/DTD/svg11.dtd\">\n<!-- Created with matplotlib (https://matplotlib.org/) -->\n<svg height=\"252.317344pt\" version=\"1.1\" viewBox=\"0 0 388.434375 252.317344\" width=\"388.434375pt\" xmlns=\"http://www.w3.org/2000/svg\" xmlns:xlink=\"http://www.w3.org/1999/xlink\">\n <metadata>\n  <rdf:RDF xmlns:cc=\"http://creativecommons.org/ns#\" xmlns:dc=\"http://purl.org/dc/elements/1.1/\" xmlns:rdf=\"http://www.w3.org/1999/02/22-rdf-syntax-ns#\">\n   <cc:Work>\n    <dc:type rdf:resource=\"http://purl.org/dc/dcmitype/StillImage\"/>\n    <dc:date>2021-06-25T14:18:24.313263</dc:date>\n    <dc:format>image/svg+xml</dc:format>\n    <dc:creator>\n     <cc:Agent>\n      <dc:title>Matplotlib v3.3.4, https://matplotlib.org/</dc:title>\n     </cc:Agent>\n    </dc:creator>\n   </cc:Work>\n  </rdf:RDF>\n </metadata>\n <defs>\n  <style type=\"text/css\">*{stroke-linecap:butt;stroke-linejoin:round;}</style>\n </defs>\n <g id=\"figure_1\">\n  <g id=\"patch_1\">\n   <path d=\"M -0 252.317344 \nL 388.434375 252.317344 \nL 388.434375 0 \nL -0 0 \nz\n\" style=\"fill:none;\"/>\n  </g>\n  <g id=\"axes_1\">\n   <g id=\"patch_2\">\n    <path d=\"M 38.482813 228.439219 \nL 373.282813 228.439219 \nL 373.282813 10.999219 \nL 38.482813 10.999219 \nz\n\" style=\"fill:#ffffff;\"/>\n   </g>\n   <g id=\"matplotlib.axis_1\">\n    <g id=\"xtick_1\">\n     <g id=\"line2d_1\">\n      <path clip-path=\"url(#p9a158ef04e)\" d=\"M 38.482812 228.439219 \nL 38.482812 10.999219 \n\" style=\"fill:none;stroke:#b0b0b0;stroke-linecap:square;stroke-width:0.8;\"/>\n     </g>\n     <g id=\"line2d_2\">\n      <defs>\n       <path d=\"M 0 0 \nL 0 3.5 \n\" id=\"m1eec666c73\" style=\"stroke:#000000;stroke-width:0.8;\"/>\n      </defs>\n      <g>\n       <use style=\"stroke:#000000;stroke-width:0.8;\" x=\"38.482812\" xlink:href=\"#m1eec666c73\" y=\"228.439219\"/>\n      </g>\n     </g>\n     <g id=\"text_1\">\n      <!-- −2.0 -->\n      <g transform=\"translate(26.341406 243.037656)scale(0.1 -0.1)\">\n       <defs>\n        <path d=\"M 10.59375 35.5 \nL 73.1875 35.5 \nL 73.1875 27.203125 \nL 10.59375 27.203125 \nz\n\" id=\"DejaVuSans-8722\"/>\n        <path d=\"M 19.1875 8.296875 \nL 53.609375 8.296875 \nL 53.609375 0 \nL 7.328125 0 \nL 7.328125 8.296875 \nQ 12.9375 14.109375 22.625 23.890625 \nQ 32.328125 33.6875 34.8125 36.53125 \nQ 39.546875 41.84375 41.421875 45.53125 \nQ 43.3125 49.21875 43.3125 52.78125 \nQ 43.3125 58.59375 39.234375 62.25 \nQ 35.15625 65.921875 28.609375 65.921875 \nQ 23.96875 65.921875 18.8125 64.3125 \nQ 13.671875 62.703125 7.8125 59.421875 \nL 7.8125 69.390625 \nQ 13.765625 71.78125 18.9375 73 \nQ 24.125 74.21875 28.421875 74.21875 \nQ 39.75 74.21875 46.484375 68.546875 \nQ 53.21875 62.890625 53.21875 53.421875 \nQ 53.21875 48.921875 51.53125 44.890625 \nQ 49.859375 40.875 45.40625 35.40625 \nQ 44.1875 33.984375 37.640625 27.21875 \nQ 31.109375 20.453125 19.1875 8.296875 \nz\n\" id=\"DejaVuSans-50\"/>\n        <path d=\"M 10.6875 12.40625 \nL 21 12.40625 \nL 21 0 \nL 10.6875 0 \nz\n\" id=\"DejaVuSans-46\"/>\n        <path d=\"M 31.78125 66.40625 \nQ 24.171875 66.40625 20.328125 58.90625 \nQ 16.5 51.421875 16.5 36.375 \nQ 16.5 21.390625 20.328125 13.890625 \nQ 24.171875 6.390625 31.78125 6.390625 \nQ 39.453125 6.390625 43.28125 13.890625 \nQ 47.125 21.390625 47.125 36.375 \nQ 47.125 51.421875 43.28125 58.90625 \nQ 39.453125 66.40625 31.78125 66.40625 \nz\nM 31.78125 74.21875 \nQ 44.046875 74.21875 50.515625 64.515625 \nQ 56.984375 54.828125 56.984375 36.375 \nQ 56.984375 17.96875 50.515625 8.265625 \nQ 44.046875 -1.421875 31.78125 -1.421875 \nQ 19.53125 -1.421875 13.0625 8.265625 \nQ 6.59375 17.96875 6.59375 36.375 \nQ 6.59375 54.828125 13.0625 64.515625 \nQ 19.53125 74.21875 31.78125 74.21875 \nz\n\" id=\"DejaVuSans-48\"/>\n       </defs>\n       <use xlink:href=\"#DejaVuSans-8722\"/>\n       <use x=\"83.789062\" xlink:href=\"#DejaVuSans-50\"/>\n       <use x=\"147.412109\" xlink:href=\"#DejaVuSans-46\"/>\n       <use x=\"179.199219\" xlink:href=\"#DejaVuSans-48\"/>\n      </g>\n     </g>\n    </g>\n    <g id=\"xtick_2\">\n     <g id=\"line2d_3\">\n      <path clip-path=\"url(#p9a158ef04e)\" d=\"M 80.332812 228.439219 \nL 80.332812 10.999219 \n\" style=\"fill:none;stroke:#b0b0b0;stroke-linecap:square;stroke-width:0.8;\"/>\n     </g>\n     <g id=\"line2d_4\">\n      <g>\n       <use style=\"stroke:#000000;stroke-width:0.8;\" x=\"80.332812\" xlink:href=\"#m1eec666c73\" y=\"228.439219\"/>\n      </g>\n     </g>\n     <g id=\"text_2\">\n      <!-- −1.5 -->\n      <g transform=\"translate(68.191406 243.037656)scale(0.1 -0.1)\">\n       <defs>\n        <path d=\"M 12.40625 8.296875 \nL 28.515625 8.296875 \nL 28.515625 63.921875 \nL 10.984375 60.40625 \nL 10.984375 69.390625 \nL 28.421875 72.90625 \nL 38.28125 72.90625 \nL 38.28125 8.296875 \nL 54.390625 8.296875 \nL 54.390625 0 \nL 12.40625 0 \nz\n\" id=\"DejaVuSans-49\"/>\n        <path d=\"M 10.796875 72.90625 \nL 49.515625 72.90625 \nL 49.515625 64.59375 \nL 19.828125 64.59375 \nL 19.828125 46.734375 \nQ 21.96875 47.46875 24.109375 47.828125 \nQ 26.265625 48.1875 28.421875 48.1875 \nQ 40.625 48.1875 47.75 41.5 \nQ 54.890625 34.8125 54.890625 23.390625 \nQ 54.890625 11.625 47.5625 5.09375 \nQ 40.234375 -1.421875 26.90625 -1.421875 \nQ 22.3125 -1.421875 17.546875 -0.640625 \nQ 12.796875 0.140625 7.71875 1.703125 \nL 7.71875 11.625 \nQ 12.109375 9.234375 16.796875 8.0625 \nQ 21.484375 6.890625 26.703125 6.890625 \nQ 35.15625 6.890625 40.078125 11.328125 \nQ 45.015625 15.765625 45.015625 23.390625 \nQ 45.015625 31 40.078125 35.4375 \nQ 35.15625 39.890625 26.703125 39.890625 \nQ 22.75 39.890625 18.8125 39.015625 \nQ 14.890625 38.140625 10.796875 36.28125 \nz\n\" id=\"DejaVuSans-53\"/>\n       </defs>\n       <use xlink:href=\"#DejaVuSans-8722\"/>\n       <use x=\"83.789062\" xlink:href=\"#DejaVuSans-49\"/>\n       <use x=\"147.412109\" xlink:href=\"#DejaVuSans-46\"/>\n       <use x=\"179.199219\" xlink:href=\"#DejaVuSans-53\"/>\n      </g>\n     </g>\n    </g>\n    <g id=\"xtick_3\">\n     <g id=\"line2d_5\">\n      <path clip-path=\"url(#p9a158ef04e)\" d=\"M 122.182812 228.439219 \nL 122.182812 10.999219 \n\" style=\"fill:none;stroke:#b0b0b0;stroke-linecap:square;stroke-width:0.8;\"/>\n     </g>\n     <g id=\"line2d_6\">\n      <g>\n       <use style=\"stroke:#000000;stroke-width:0.8;\" x=\"122.182812\" xlink:href=\"#m1eec666c73\" y=\"228.439219\"/>\n      </g>\n     </g>\n     <g id=\"text_3\">\n      <!-- −1.0 -->\n      <g transform=\"translate(110.041406 243.037656)scale(0.1 -0.1)\">\n       <use xlink:href=\"#DejaVuSans-8722\"/>\n       <use x=\"83.789062\" xlink:href=\"#DejaVuSans-49\"/>\n       <use x=\"147.412109\" xlink:href=\"#DejaVuSans-46\"/>\n       <use x=\"179.199219\" xlink:href=\"#DejaVuSans-48\"/>\n      </g>\n     </g>\n    </g>\n    <g id=\"xtick_4\">\n     <g id=\"line2d_7\">\n      <path clip-path=\"url(#p9a158ef04e)\" d=\"M 164.032813 228.439219 \nL 164.032813 10.999219 \n\" style=\"fill:none;stroke:#b0b0b0;stroke-linecap:square;stroke-width:0.8;\"/>\n     </g>\n     <g id=\"line2d_8\">\n      <g>\n       <use style=\"stroke:#000000;stroke-width:0.8;\" x=\"164.032813\" xlink:href=\"#m1eec666c73\" y=\"228.439219\"/>\n      </g>\n     </g>\n     <g id=\"text_4\">\n      <!-- −0.5 -->\n      <g transform=\"translate(151.891406 243.037656)scale(0.1 -0.1)\">\n       <use xlink:href=\"#DejaVuSans-8722\"/>\n       <use x=\"83.789062\" xlink:href=\"#DejaVuSans-48\"/>\n       <use x=\"147.412109\" xlink:href=\"#DejaVuSans-46\"/>\n       <use x=\"179.199219\" xlink:href=\"#DejaVuSans-53\"/>\n      </g>\n     </g>\n    </g>\n    <g id=\"xtick_5\">\n     <g id=\"line2d_9\">\n      <path clip-path=\"url(#p9a158ef04e)\" d=\"M 205.882812 228.439219 \nL 205.882812 10.999219 \n\" style=\"fill:none;stroke:#b0b0b0;stroke-linecap:square;stroke-width:0.8;\"/>\n     </g>\n     <g id=\"line2d_10\">\n      <g>\n       <use style=\"stroke:#000000;stroke-width:0.8;\" x=\"205.882812\" xlink:href=\"#m1eec666c73\" y=\"228.439219\"/>\n      </g>\n     </g>\n     <g id=\"text_5\">\n      <!-- 0.0 -->\n      <g transform=\"translate(197.93125 243.037656)scale(0.1 -0.1)\">\n       <use xlink:href=\"#DejaVuSans-48\"/>\n       <use x=\"63.623047\" xlink:href=\"#DejaVuSans-46\"/>\n       <use x=\"95.410156\" xlink:href=\"#DejaVuSans-48\"/>\n      </g>\n     </g>\n    </g>\n    <g id=\"xtick_6\">\n     <g id=\"line2d_11\">\n      <path clip-path=\"url(#p9a158ef04e)\" d=\"M 247.732812 228.439219 \nL 247.732812 10.999219 \n\" style=\"fill:none;stroke:#b0b0b0;stroke-linecap:square;stroke-width:0.8;\"/>\n     </g>\n     <g id=\"line2d_12\">\n      <g>\n       <use style=\"stroke:#000000;stroke-width:0.8;\" x=\"247.732812\" xlink:href=\"#m1eec666c73\" y=\"228.439219\"/>\n      </g>\n     </g>\n     <g id=\"text_6\">\n      <!-- 0.5 -->\n      <g transform=\"translate(239.78125 243.037656)scale(0.1 -0.1)\">\n       <use xlink:href=\"#DejaVuSans-48\"/>\n       <use x=\"63.623047\" xlink:href=\"#DejaVuSans-46\"/>\n       <use x=\"95.410156\" xlink:href=\"#DejaVuSans-53\"/>\n      </g>\n     </g>\n    </g>\n    <g id=\"xtick_7\">\n     <g id=\"line2d_13\">\n      <path clip-path=\"url(#p9a158ef04e)\" d=\"M 289.582812 228.439219 \nL 289.582812 10.999219 \n\" style=\"fill:none;stroke:#b0b0b0;stroke-linecap:square;stroke-width:0.8;\"/>\n     </g>\n     <g id=\"line2d_14\">\n      <g>\n       <use style=\"stroke:#000000;stroke-width:0.8;\" x=\"289.582812\" xlink:href=\"#m1eec666c73\" y=\"228.439219\"/>\n      </g>\n     </g>\n     <g id=\"text_7\">\n      <!-- 1.0 -->\n      <g transform=\"translate(281.63125 243.037656)scale(0.1 -0.1)\">\n       <use xlink:href=\"#DejaVuSans-49\"/>\n       <use x=\"63.623047\" xlink:href=\"#DejaVuSans-46\"/>\n       <use x=\"95.410156\" xlink:href=\"#DejaVuSans-48\"/>\n      </g>\n     </g>\n    </g>\n    <g id=\"xtick_8\">\n     <g id=\"line2d_15\">\n      <path clip-path=\"url(#p9a158ef04e)\" d=\"M 331.432813 228.439219 \nL 331.432813 10.999219 \n\" style=\"fill:none;stroke:#b0b0b0;stroke-linecap:square;stroke-width:0.8;\"/>\n     </g>\n     <g id=\"line2d_16\">\n      <g>\n       <use style=\"stroke:#000000;stroke-width:0.8;\" x=\"331.432813\" xlink:href=\"#m1eec666c73\" y=\"228.439219\"/>\n      </g>\n     </g>\n     <g id=\"text_8\">\n      <!-- 1.5 -->\n      <g transform=\"translate(323.48125 243.037656)scale(0.1 -0.1)\">\n       <use xlink:href=\"#DejaVuSans-49\"/>\n       <use x=\"63.623047\" xlink:href=\"#DejaVuSans-46\"/>\n       <use x=\"95.410156\" xlink:href=\"#DejaVuSans-53\"/>\n      </g>\n     </g>\n    </g>\n    <g id=\"xtick_9\">\n     <g id=\"line2d_17\">\n      <path clip-path=\"url(#p9a158ef04e)\" d=\"M 373.282812 228.439219 \nL 373.282812 10.999219 \n\" style=\"fill:none;stroke:#b0b0b0;stroke-linecap:square;stroke-width:0.8;\"/>\n     </g>\n     <g id=\"line2d_18\">\n      <g>\n       <use style=\"stroke:#000000;stroke-width:0.8;\" x=\"373.282812\" xlink:href=\"#m1eec666c73\" y=\"228.439219\"/>\n      </g>\n     </g>\n     <g id=\"text_9\">\n      <!-- 2.0 -->\n      <g transform=\"translate(365.33125 243.037656)scale(0.1 -0.1)\">\n       <use xlink:href=\"#DejaVuSans-50\"/>\n       <use x=\"63.623047\" xlink:href=\"#DejaVuSans-46\"/>\n       <use x=\"95.410156\" xlink:href=\"#DejaVuSans-48\"/>\n      </g>\n     </g>\n    </g>\n   </g>\n   <g id=\"matplotlib.axis_2\">\n    <g id=\"ytick_1\">\n     <g id=\"line2d_19\">\n      <path clip-path=\"url(#p9a158ef04e)\" d=\"M 38.482813 228.439219 \nL 373.282813 228.439219 \n\" style=\"fill:none;stroke:#b0b0b0;stroke-linecap:square;stroke-width:0.8;\"/>\n     </g>\n     <g id=\"line2d_20\">\n      <defs>\n       <path d=\"M 0 0 \nL -3.5 0 \n\" id=\"md55026be34\" style=\"stroke:#000000;stroke-width:0.8;\"/>\n      </defs>\n      <g>\n       <use style=\"stroke:#000000;stroke-width:0.8;\" x=\"38.482813\" xlink:href=\"#md55026be34\" y=\"228.439219\"/>\n      </g>\n     </g>\n     <g id=\"text_10\">\n      <!-- −2.0 -->\n      <g transform=\"translate(7.2 232.238437)scale(0.1 -0.1)\">\n       <use xlink:href=\"#DejaVuSans-8722\"/>\n       <use x=\"83.789062\" xlink:href=\"#DejaVuSans-50\"/>\n       <use x=\"147.412109\" xlink:href=\"#DejaVuSans-46\"/>\n       <use x=\"179.199219\" xlink:href=\"#DejaVuSans-48\"/>\n      </g>\n     </g>\n    </g>\n    <g id=\"ytick_2\">\n     <g id=\"line2d_21\">\n      <path clip-path=\"url(#p9a158ef04e)\" d=\"M 38.482813 201.259219 \nL 373.282813 201.259219 \n\" style=\"fill:none;stroke:#b0b0b0;stroke-linecap:square;stroke-width:0.8;\"/>\n     </g>\n     <g id=\"line2d_22\">\n      <g>\n       <use style=\"stroke:#000000;stroke-width:0.8;\" x=\"38.482813\" xlink:href=\"#md55026be34\" y=\"201.259219\"/>\n      </g>\n     </g>\n     <g id=\"text_11\">\n      <!-- −1.5 -->\n      <g transform=\"translate(7.2 205.058437)scale(0.1 -0.1)\">\n       <use xlink:href=\"#DejaVuSans-8722\"/>\n       <use x=\"83.789062\" xlink:href=\"#DejaVuSans-49\"/>\n       <use x=\"147.412109\" xlink:href=\"#DejaVuSans-46\"/>\n       <use x=\"179.199219\" xlink:href=\"#DejaVuSans-53\"/>\n      </g>\n     </g>\n    </g>\n    <g id=\"ytick_3\">\n     <g id=\"line2d_23\">\n      <path clip-path=\"url(#p9a158ef04e)\" d=\"M 38.482813 174.079219 \nL 373.282813 174.079219 \n\" style=\"fill:none;stroke:#b0b0b0;stroke-linecap:square;stroke-width:0.8;\"/>\n     </g>\n     <g id=\"line2d_24\">\n      <g>\n       <use style=\"stroke:#000000;stroke-width:0.8;\" x=\"38.482813\" xlink:href=\"#md55026be34\" y=\"174.079219\"/>\n      </g>\n     </g>\n     <g id=\"text_12\">\n      <!-- −1.0 -->\n      <g transform=\"translate(7.2 177.878437)scale(0.1 -0.1)\">\n       <use xlink:href=\"#DejaVuSans-8722\"/>\n       <use x=\"83.789062\" xlink:href=\"#DejaVuSans-49\"/>\n       <use x=\"147.412109\" xlink:href=\"#DejaVuSans-46\"/>\n       <use x=\"179.199219\" xlink:href=\"#DejaVuSans-48\"/>\n      </g>\n     </g>\n    </g>\n    <g id=\"ytick_4\">\n     <g id=\"line2d_25\">\n      <path clip-path=\"url(#p9a158ef04e)\" d=\"M 38.482813 146.899219 \nL 373.282813 146.899219 \n\" style=\"fill:none;stroke:#b0b0b0;stroke-linecap:square;stroke-width:0.8;\"/>\n     </g>\n     <g id=\"line2d_26\">\n      <g>\n       <use style=\"stroke:#000000;stroke-width:0.8;\" x=\"38.482813\" xlink:href=\"#md55026be34\" y=\"146.899219\"/>\n      </g>\n     </g>\n     <g id=\"text_13\">\n      <!-- −0.5 -->\n      <g transform=\"translate(7.2 150.698437)scale(0.1 -0.1)\">\n       <use xlink:href=\"#DejaVuSans-8722\"/>\n       <use x=\"83.789062\" xlink:href=\"#DejaVuSans-48\"/>\n       <use x=\"147.412109\" xlink:href=\"#DejaVuSans-46\"/>\n       <use x=\"179.199219\" xlink:href=\"#DejaVuSans-53\"/>\n      </g>\n     </g>\n    </g>\n    <g id=\"ytick_5\">\n     <g id=\"line2d_27\">\n      <path clip-path=\"url(#p9a158ef04e)\" d=\"M 38.482813 119.719219 \nL 373.282813 119.719219 \n\" style=\"fill:none;stroke:#b0b0b0;stroke-linecap:square;stroke-width:0.8;\"/>\n     </g>\n     <g id=\"line2d_28\">\n      <g>\n       <use style=\"stroke:#000000;stroke-width:0.8;\" x=\"38.482813\" xlink:href=\"#md55026be34\" y=\"119.719219\"/>\n      </g>\n     </g>\n     <g id=\"text_14\">\n      <!-- 0.0 -->\n      <g transform=\"translate(15.579688 123.518437)scale(0.1 -0.1)\">\n       <use xlink:href=\"#DejaVuSans-48\"/>\n       <use x=\"63.623047\" xlink:href=\"#DejaVuSans-46\"/>\n       <use x=\"95.410156\" xlink:href=\"#DejaVuSans-48\"/>\n      </g>\n     </g>\n    </g>\n    <g id=\"ytick_6\">\n     <g id=\"line2d_29\">\n      <path clip-path=\"url(#p9a158ef04e)\" d=\"M 38.482813 92.539219 \nL 373.282813 92.539219 \n\" style=\"fill:none;stroke:#b0b0b0;stroke-linecap:square;stroke-width:0.8;\"/>\n     </g>\n     <g id=\"line2d_30\">\n      <g>\n       <use style=\"stroke:#000000;stroke-width:0.8;\" x=\"38.482813\" xlink:href=\"#md55026be34\" y=\"92.539219\"/>\n      </g>\n     </g>\n     <g id=\"text_15\">\n      <!-- 0.5 -->\n      <g transform=\"translate(15.579688 96.338437)scale(0.1 -0.1)\">\n       <use xlink:href=\"#DejaVuSans-48\"/>\n       <use x=\"63.623047\" xlink:href=\"#DejaVuSans-46\"/>\n       <use x=\"95.410156\" xlink:href=\"#DejaVuSans-53\"/>\n      </g>\n     </g>\n    </g>\n    <g id=\"ytick_7\">\n     <g id=\"line2d_31\">\n      <path clip-path=\"url(#p9a158ef04e)\" d=\"M 38.482813 65.359219 \nL 373.282813 65.359219 \n\" style=\"fill:none;stroke:#b0b0b0;stroke-linecap:square;stroke-width:0.8;\"/>\n     </g>\n     <g id=\"line2d_32\">\n      <g>\n       <use style=\"stroke:#000000;stroke-width:0.8;\" x=\"38.482813\" xlink:href=\"#md55026be34\" y=\"65.359219\"/>\n      </g>\n     </g>\n     <g id=\"text_16\">\n      <!-- 1.0 -->\n      <g transform=\"translate(15.579688 69.158437)scale(0.1 -0.1)\">\n       <use xlink:href=\"#DejaVuSans-49\"/>\n       <use x=\"63.623047\" xlink:href=\"#DejaVuSans-46\"/>\n       <use x=\"95.410156\" xlink:href=\"#DejaVuSans-48\"/>\n      </g>\n     </g>\n    </g>\n    <g id=\"ytick_8\">\n     <g id=\"line2d_33\">\n      <path clip-path=\"url(#p9a158ef04e)\" d=\"M 38.482813 38.179219 \nL 373.282813 38.179219 \n\" style=\"fill:none;stroke:#b0b0b0;stroke-linecap:square;stroke-width:0.8;\"/>\n     </g>\n     <g id=\"line2d_34\">\n      <g>\n       <use style=\"stroke:#000000;stroke-width:0.8;\" x=\"38.482813\" xlink:href=\"#md55026be34\" y=\"38.179219\"/>\n      </g>\n     </g>\n     <g id=\"text_17\">\n      <!-- 1.5 -->\n      <g transform=\"translate(15.579688 41.978437)scale(0.1 -0.1)\">\n       <use xlink:href=\"#DejaVuSans-49\"/>\n       <use x=\"63.623047\" xlink:href=\"#DejaVuSans-46\"/>\n       <use x=\"95.410156\" xlink:href=\"#DejaVuSans-53\"/>\n      </g>\n     </g>\n    </g>\n    <g id=\"ytick_9\">\n     <g id=\"line2d_35\">\n      <path clip-path=\"url(#p9a158ef04e)\" d=\"M 38.482813 10.999219 \nL 373.282813 10.999219 \n\" style=\"fill:none;stroke:#b0b0b0;stroke-linecap:square;stroke-width:0.8;\"/>\n     </g>\n     <g id=\"line2d_36\">\n      <g>\n       <use style=\"stroke:#000000;stroke-width:0.8;\" x=\"38.482813\" xlink:href=\"#md55026be34\" y=\"10.999219\"/>\n      </g>\n     </g>\n     <g id=\"text_18\">\n      <!-- 2.0 -->\n      <g transform=\"translate(15.579688 14.798437)scale(0.1 -0.1)\">\n       <use xlink:href=\"#DejaVuSans-50\"/>\n       <use x=\"63.623047\" xlink:href=\"#DejaVuSans-46\"/>\n       <use x=\"95.410156\" xlink:href=\"#DejaVuSans-48\"/>\n      </g>\n     </g>\n    </g>\n   </g>\n   <g id=\"line2d_37\">\n    <defs>\n     <path d=\"M -3 0 \nL 3 0 \nM 0 3 \nL 0 -3 \n\" id=\"m1ca96217bc\" style=\"stroke:#ff0000;\"/>\n    </defs>\n    <g clip-path=\"url(#p9a158ef04e)\">\n     <use style=\"fill:#ff0000;stroke:#ff0000;\" x=\"80.332812\" xlink:href=\"#m1ca96217bc\" y=\"190.387216\"/>\n     <use style=\"fill:#ff0000;stroke:#ff0000;\" x=\"222.622813\" xlink:href=\"#m1ca96217bc\" y=\"195.823217\"/>\n     <use style=\"fill:#ff0000;stroke:#ff0000;\" x=\"147.292813\" xlink:href=\"#m1ca96217bc\" y=\"146.899219\"/>\n    </g>\n   </g>\n   <g id=\"line2d_38\">\n    <defs>\n     <path d=\"M 0 1.5 \nC 0.397805 1.5 0.77937 1.341951 1.06066 1.06066 \nC 1.341951 0.77937 1.5 0.397805 1.5 0 \nC 1.5 -0.397805 1.341951 -0.77937 1.06066 -1.06066 \nC 0.77937 -1.341951 0.397805 -1.5 0 -1.5 \nC -0.397805 -1.5 -0.77937 -1.341951 -1.06066 -1.06066 \nC -1.341951 -0.77937 -1.5 -0.397805 -1.5 0 \nC -1.5 0.397805 -1.341951 0.77937 -1.06066 1.06066 \nC -0.77937 1.341951 -0.397805 1.5 0 1.5 \nz\n\" id=\"m6485c0abbb\" style=\"stroke:#0000ff;\"/>\n    </defs>\n    <g clip-path=\"url(#p9a158ef04e)\">\n     <use style=\"fill:#0000ff;stroke:#0000ff;\" x=\"306.322816\" xlink:href=\"#m6485c0abbb\" y=\"65.359219\"/>\n     <use style=\"fill:#0000ff;stroke:#0000ff;\" x=\"222.622813\" xlink:href=\"#m6485c0abbb\" y=\"43.61522\"/>\n     <use style=\"fill:#0000ff;stroke:#0000ff;\" x=\"247.732812\" xlink:href=\"#m6485c0abbb\" y=\"92.539219\"/>\n    </g>\n   </g>\n   <g id=\"line2d_39\">\n    <path clip-path=\"url(#p9a158ef04e)\" d=\"M 121.925974 253.317344 \nL 373.282812 95.326051 \n\" style=\"fill:none;stroke:#1f77b4;stroke-linecap:square;stroke-width:1.5;\"/>\n   </g>\n   <g id=\"patch_3\">\n    <path d=\"M 38.482813 228.439219 \nL 38.482813 10.999219 \n\" style=\"fill:none;stroke:#000000;stroke-linecap:square;stroke-linejoin:miter;stroke-width:0.8;\"/>\n   </g>\n   <g id=\"patch_4\">\n    <path d=\"M 373.282813 228.439219 \nL 373.282813 10.999219 \n\" style=\"fill:none;stroke:#000000;stroke-linecap:square;stroke-linejoin:miter;stroke-width:0.8;\"/>\n   </g>\n   <g id=\"patch_5\">\n    <path d=\"M 38.482812 228.439219 \nL 373.282812 228.439219 \n\" style=\"fill:none;stroke:#000000;stroke-linecap:square;stroke-linejoin:miter;stroke-width:0.8;\"/>\n   </g>\n   <g id=\"patch_6\">\n    <path d=\"M 38.482812 10.999219 \nL 373.282812 10.999219 \n\" style=\"fill:none;stroke:#000000;stroke-linecap:square;stroke-linejoin:miter;stroke-width:0.8;\"/>\n   </g>\n  </g>\n </g>\n <defs>\n  <clipPath id=\"p9a158ef04e\">\n   <rect height=\"217.44\" width=\"334.8\" x=\"38.482813\" y=\"10.999219\"/>\n  </clipPath>\n </defs>\n</svg>\n",
      "image/png": "[encoded data removed]"
     },
     "metadata": {
      "needs_background": "light"
     }
    }
   ],
   "source": [
    "optimiser = torch.optim.SGD(my_neuron.parameters(), lr = 0.01)\n",
    "\n",
    "for i in range(1000):\n",
    "    optimiser.zero_grad()\n",
    "    output = my_neuron(x)\n",
    "    output = torch.cat([output, 1 - output], dim=1)\n",
    "    loss = criterion(output, y)\n",
    "    loss.backward()\n",
    "    optimiser.step()\n",
    "\n",
    "print(\"loss =\", loss.item())\n",
    "params = list(my_neuron.parameters())\n",
    "plot_soln(x, y, params)\n",
    "\n",
    "# i = 0\n",
    "# accuracy = 0\n",
    "# while accuracy != 1:\n",
    "#     optimiser.zero_grad()\n",
    "#     output = my_neuron(x)\n",
    "#     output = torch.cat([output, 1 - output], dim=1)\n",
    "#     score, predicted = torch.max(output, 1)\n",
    "\n",
    "#     accuracy = (y == predicted).sum().float() / len(y)\n",
    "\n",
    "#     loss = criterion(output, y)\n",
    "#     loss.backward()\n",
    "#     optimiser.step()\n",
    "#     i = i + 1\n",
    "\n",
    "# print(\"Number of iterations to learn the data: \", i)"
   ]
  },
  {
   "cell_type": "markdown",
   "metadata": {
    "colab_type": "text",
    "id": "Z0NBjzHF6TN5"
   },
   "source": [
    "**1.5.4** How many thousands of iterations does it take (approximately) until the neuron learns to classify the data correctly?"
   ]
  },
  {
   "cell_type": "markdown",
   "metadata": {
    "colab_type": "text",
    "id": "wc4CEo9c6neD"
   },
   "source": [
    "Around about 4723 iterations"
   ]
  },
  {
   "cell_type": "markdown",
   "metadata": {
    "colab_type": "text",
    "id": "xEV3Px886zrI"
   },
   "source": [
    "\n",
    "\n",
    "---\n",
    "\n",
    "\n",
    "# Problem 2: Convolutional Networks (30 points)\n",
    "\n",
    "In this part, we will experiment with CNNs in PyTorch. You will need to read the documentation of the functions provided below to understand how they work.\n",
    "\n",
    "**GPU Training.** Smaller networks will train fine on a CPU, but you may want to use GPU training for this part of the homework. You can run your experiments on Colab's GPUs or on BU's  [Shared Computing Cluster (SCC)](http://www.bu.edu/tech/services/research/computation/scc/). "
   ]
  },
  {
   "cell_type": "markdown",
   "metadata": {
    "colab_type": "text",
    "id": "Kxl45fh6FNq6"
   },
   "source": [
    "### 2.1. Training a CNN on SVHN\n",
    "We will create and train a convolutional network on the [SVHN Dataset](http://ufldl.stanford.edu/housenumbers/).\n",
    "\n",
    "The SVHN dataset consists of photos of house numbers, collected automatically using Google's Street View. Recognizing multi-digit numbers in photographs captured at street level is an important component of modern-day map making. Google’s Street View imagery contains hundreds of millions of geo-located 360 degree panoramic images. The ability to automatically transcribe an address number from a geo-located patch of pixels and associate the transcribed number with a known street address helps pinpoint, with a high degree of accuracy, the location of the building it represents. Below are example images from the dataset. Note that for this dataset, each image (32x32 pixels) has been cropped around a single number in its center, which is the number we want to classify.\n",
    "\n",
    "![SVHN images](http://ufldl.stanford.edu/housenumbers/32x32eg.png)\n"
   ]
  },
  {
   "cell_type": "markdown",
   "metadata": {
    "colab_type": "text",
    "id": "NJa-vlG99lMr"
   },
   "source": [
    "### 2.1.2 Data Download\n",
    "The following downloads the SVHN dataset using `torchvision` and displays the images in the first batch. "
   ]
  },
  {
   "cell_type": "code",
   "execution_count": 13,
   "metadata": {
    "colab": {},
    "colab_type": "code",
    "id": "dHFWPxi6jCoB"
   },
   "outputs": [
    {
     "output_type": "stream",
     "name": "stdout",
     "text": [
      "Using downloaded and verified file: ./data/train_32x32.mat\n",
      "Using downloaded and verified file: ./data/test_32x32.mat\n"
     ]
    }
   ],
   "source": [
    "import torch\n",
    "import torchvision\n",
    "import torchvision.transforms as transforms\n",
    "\n",
    "transform = transforms.Compose(\n",
    "    [transforms.ToTensor(),\n",
    "     transforms.Normalize((0.5, 0.5, 0.5), (0.5, 0.5, 0.5))])\n",
    "\n",
    "trainset = torchvision.datasets.SVHN(root='./data', split='train',\n",
    "                                        transform=transform, download=True)\n",
    "trainloader = torch.utils.data.DataLoader(trainset, batch_size=4,\n",
    "                                          shuffle=True, num_workers=2)\n",
    "testset = torchvision.datasets.SVHN(root='./data', split='test',\n",
    "                                        transform=transform, download=True)\n",
    "testloader = torch.utils.data.DataLoader(testset, batch_size=4,\n",
    "                                         shuffle=False, num_workers=2)\n",
    "\n",
    "classes = ('0', '1', '2', '3', '4', '5', '6', '7', '8', '9')"
   ]
  },
  {
   "cell_type": "code",
   "execution_count": 14,
   "metadata": {},
   "outputs": [
    {
     "output_type": "stream",
     "name": "stdout",
     "text": [
      "    9     1     6     1\n"
     ]
    },
    {
     "output_type": "display_data",
     "data": {
      "text/plain": "<Figure size 432x288 with 1 Axes>",
      "image/svg+xml": "<?xml version=\"1.0\" encoding=\"utf-8\" standalone=\"no\"?>\n<!DOCTYPE svg PUBLIC \"-//W3C//DTD SVG 1.1//EN\"\n  \"http://www.w3.org/Graphics/SVG/1.1/DTD/svg11.dtd\">\n<!-- Created with matplotlib (https://matplotlib.org/) -->\n<svg height=\"121.003431pt\" version=\"1.1\" viewBox=\"0 0 368.925 121.003431\" width=\"368.925pt\" xmlns=\"http://www.w3.org/2000/svg\" xmlns:xlink=\"http://www.w3.org/1999/xlink\">\n <metadata>\n  <rdf:RDF xmlns:cc=\"http://creativecommons.org/ns#\" xmlns:dc=\"http://purl.org/dc/elements/1.1/\" xmlns:rdf=\"http://www.w3.org/1999/02/22-rdf-syntax-ns#\">\n   <cc:Work>\n    <dc:type rdf:resource=\"http://purl.org/dc/dcmitype/StillImage\"/>\n    <dc:date>2021-06-25T14:18:56.994513</dc:date>\n    <dc:format>image/svg+xml</dc:format>\n    <dc:creator>\n     <cc:Agent>\n      <dc:title>Matplotlib v3.3.4, https://matplotlib.org/</dc:title>\n     </cc:Agent>\n    </dc:creator>\n   </cc:Work>\n  </rdf:RDF>\n </metadata>\n <defs>\n  <style type=\"text/css\">*{stroke-linecap:butt;stroke-linejoin:round;}</style>\n </defs>\n <g id=\"figure_1\">\n  <g id=\"patch_1\">\n   <path d=\"M -0 121.003431 \nL 368.925 121.003431 \nL 368.925 0 \nL -0 0 \nz\n\" style=\"fill:none;\"/>\n  </g>\n  <g id=\"axes_1\">\n   <g id=\"patch_2\">\n    <path d=\"M 26.925 97.125306 \nL 361.725 97.125306 \nL 361.725 9.786175 \nL 26.925 9.786175 \nz\n\" style=\"fill:#ffffff;\"/>\n   </g>\n   <g clip-path=\"url(#p4fff5e75eb)\">\n    <image height=\"88\" id=\"image72750abce8\" transform=\"scale(1 -1)translate(0 -88)\" width=\"335\" x=\"26.925\" xlink:href=\"data:image/png;base64,\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\" y=\"-9.125306\"/>\n   </g>\n   <g id=\"matplotlib.axis_1\">\n    <g id=\"xtick_1\">\n     <g id=\"line2d_1\">\n      <defs>\n       <path d=\"M 0 0 \nL 0 3.5 \n\" id=\"mbd42b32899\" style=\"stroke:#000000;stroke-width:0.8;\"/>\n      </defs>\n      <g>\n       <use style=\"stroke:#000000;stroke-width:0.8;\" x=\"28.138043\" xlink:href=\"#mbd42b32899\" y=\"97.125306\"/>\n      </g>\n     </g>\n     <g id=\"text_1\">\n      <!-- 0 -->\n      <g transform=\"translate(24.956793 111.723743)scale(0.1 -0.1)\">\n       <defs>\n        <path d=\"M 31.78125 66.40625 \nQ 24.171875 66.40625 20.328125 58.90625 \nQ 16.5 51.421875 16.5 36.375 \nQ 16.5 21.390625 20.328125 13.890625 \nQ 24.171875 6.390625 31.78125 6.390625 \nQ 39.453125 6.390625 43.28125 13.890625 \nQ 47.125 21.390625 47.125 36.375 \nQ 47.125 51.421875 43.28125 58.90625 \nQ 39.453125 66.40625 31.78125 66.40625 \nz\nM 31.78125 74.21875 \nQ 44.046875 74.21875 50.515625 64.515625 \nQ 56.984375 54.828125 56.984375 36.375 \nQ 56.984375 17.96875 50.515625 8.265625 \nQ 44.046875 -1.421875 31.78125 -1.421875 \nQ 19.53125 -1.421875 13.0625 8.265625 \nQ 6.59375 17.96875 6.59375 36.375 \nQ 6.59375 54.828125 13.0625 64.515625 \nQ 19.53125 74.21875 31.78125 74.21875 \nz\n\" id=\"DejaVuSans-48\"/>\n       </defs>\n       <use xlink:href=\"#DejaVuSans-48\"/>\n      </g>\n     </g>\n    </g>\n    <g id=\"xtick_2\">\n     <g id=\"line2d_2\">\n      <g>\n       <use style=\"stroke:#000000;stroke-width:0.8;\" x=\"76.659783\" xlink:href=\"#mbd42b32899\" y=\"97.125306\"/>\n      </g>\n     </g>\n     <g id=\"text_2\">\n      <!-- 20 -->\n      <g transform=\"translate(70.297283 111.723743)scale(0.1 -0.1)\">\n       <defs>\n        <path d=\"M 19.1875 8.296875 \nL 53.609375 8.296875 \nL 53.609375 0 \nL 7.328125 0 \nL 7.328125 8.296875 \nQ 12.9375 14.109375 22.625 23.890625 \nQ 32.328125 33.6875 34.8125 36.53125 \nQ 39.546875 41.84375 41.421875 45.53125 \nQ 43.3125 49.21875 43.3125 52.78125 \nQ 43.3125 58.59375 39.234375 62.25 \nQ 35.15625 65.921875 28.609375 65.921875 \nQ 23.96875 65.921875 18.8125 64.3125 \nQ 13.671875 62.703125 7.8125 59.421875 \nL 7.8125 69.390625 \nQ 13.765625 71.78125 18.9375 73 \nQ 24.125 74.21875 28.421875 74.21875 \nQ 39.75 74.21875 46.484375 68.546875 \nQ 53.21875 62.890625 53.21875 53.421875 \nQ 53.21875 48.921875 51.53125 44.890625 \nQ 49.859375 40.875 45.40625 35.40625 \nQ 44.1875 33.984375 37.640625 27.21875 \nQ 31.109375 20.453125 19.1875 8.296875 \nz\n\" id=\"DejaVuSans-50\"/>\n       </defs>\n       <use xlink:href=\"#DejaVuSans-50\"/>\n       <use x=\"63.623047\" xlink:href=\"#DejaVuSans-48\"/>\n      </g>\n     </g>\n    </g>\n    <g id=\"xtick_3\">\n     <g id=\"line2d_3\">\n      <g>\n       <use style=\"stroke:#000000;stroke-width:0.8;\" x=\"125.181522\" xlink:href=\"#mbd42b32899\" y=\"97.125306\"/>\n      </g>\n     </g>\n     <g id=\"text_3\">\n      <!-- 40 -->\n      <g transform=\"translate(118.819022 111.723743)scale(0.1 -0.1)\">\n       <defs>\n        <path d=\"M 37.796875 64.3125 \nL 12.890625 25.390625 \nL 37.796875 25.390625 \nz\nM 35.203125 72.90625 \nL 47.609375 72.90625 \nL 47.609375 25.390625 \nL 58.015625 25.390625 \nL 58.015625 17.1875 \nL 47.609375 17.1875 \nL 47.609375 0 \nL 37.796875 0 \nL 37.796875 17.1875 \nL 4.890625 17.1875 \nL 4.890625 26.703125 \nz\n\" id=\"DejaVuSans-52\"/>\n       </defs>\n       <use xlink:href=\"#DejaVuSans-52\"/>\n       <use x=\"63.623047\" xlink:href=\"#DejaVuSans-48\"/>\n      </g>\n     </g>\n    </g>\n    <g id=\"xtick_4\">\n     <g id=\"line2d_4\">\n      <g>\n       <use style=\"stroke:#000000;stroke-width:0.8;\" x=\"173.703261\" xlink:href=\"#mbd42b32899\" y=\"97.125306\"/>\n      </g>\n     </g>\n     <g id=\"text_4\">\n      <!-- 60 -->\n      <g transform=\"translate(167.340761 111.723743)scale(0.1 -0.1)\">\n       <defs>\n        <path d=\"M 33.015625 40.375 \nQ 26.375 40.375 22.484375 35.828125 \nQ 18.609375 31.296875 18.609375 23.390625 \nQ 18.609375 15.53125 22.484375 10.953125 \nQ 26.375 6.390625 33.015625 6.390625 \nQ 39.65625 6.390625 43.53125 10.953125 \nQ 47.40625 15.53125 47.40625 23.390625 \nQ 47.40625 31.296875 43.53125 35.828125 \nQ 39.65625 40.375 33.015625 40.375 \nz\nM 52.59375 71.296875 \nL 52.59375 62.3125 \nQ 48.875 64.0625 45.09375 64.984375 \nQ 41.3125 65.921875 37.59375 65.921875 \nQ 27.828125 65.921875 22.671875 59.328125 \nQ 17.53125 52.734375 16.796875 39.40625 \nQ 19.671875 43.65625 24.015625 45.921875 \nQ 28.375 48.1875 33.59375 48.1875 \nQ 44.578125 48.1875 50.953125 41.515625 \nQ 57.328125 34.859375 57.328125 23.390625 \nQ 57.328125 12.15625 50.6875 5.359375 \nQ 44.046875 -1.421875 33.015625 -1.421875 \nQ 20.359375 -1.421875 13.671875 8.265625 \nQ 6.984375 17.96875 6.984375 36.375 \nQ 6.984375 53.65625 15.1875 63.9375 \nQ 23.390625 74.21875 37.203125 74.21875 \nQ 40.921875 74.21875 44.703125 73.484375 \nQ 48.484375 72.75 52.59375 71.296875 \nz\n\" id=\"DejaVuSans-54\"/>\n       </defs>\n       <use xlink:href=\"#DejaVuSans-54\"/>\n       <use x=\"63.623047\" xlink:href=\"#DejaVuSans-48\"/>\n      </g>\n     </g>\n    </g>\n    <g id=\"xtick_5\">\n     <g id=\"line2d_5\">\n      <g>\n       <use style=\"stroke:#000000;stroke-width:0.8;\" x=\"222.225\" xlink:href=\"#mbd42b32899\" y=\"97.125306\"/>\n      </g>\n     </g>\n     <g id=\"text_5\">\n      <!-- 80 -->\n      <g transform=\"translate(215.8625 111.723743)scale(0.1 -0.1)\">\n       <defs>\n        <path d=\"M 31.78125 34.625 \nQ 24.75 34.625 20.71875 30.859375 \nQ 16.703125 27.09375 16.703125 20.515625 \nQ 16.703125 13.921875 20.71875 10.15625 \nQ 24.75 6.390625 31.78125 6.390625 \nQ 38.8125 6.390625 42.859375 10.171875 \nQ 46.921875 13.96875 46.921875 20.515625 \nQ 46.921875 27.09375 42.890625 30.859375 \nQ 38.875 34.625 31.78125 34.625 \nz\nM 21.921875 38.8125 \nQ 15.578125 40.375 12.03125 44.71875 \nQ 8.5 49.078125 8.5 55.328125 \nQ 8.5 64.0625 14.71875 69.140625 \nQ 20.953125 74.21875 31.78125 74.21875 \nQ 42.671875 74.21875 48.875 69.140625 \nQ 55.078125 64.0625 55.078125 55.328125 \nQ 55.078125 49.078125 51.53125 44.71875 \nQ 48 40.375 41.703125 38.8125 \nQ 48.828125 37.15625 52.796875 32.3125 \nQ 56.78125 27.484375 56.78125 20.515625 \nQ 56.78125 9.90625 50.3125 4.234375 \nQ 43.84375 -1.421875 31.78125 -1.421875 \nQ 19.734375 -1.421875 13.25 4.234375 \nQ 6.78125 9.90625 6.78125 20.515625 \nQ 6.78125 27.484375 10.78125 32.3125 \nQ 14.796875 37.15625 21.921875 38.8125 \nz\nM 18.3125 54.390625 \nQ 18.3125 48.734375 21.84375 45.5625 \nQ 25.390625 42.390625 31.78125 42.390625 \nQ 38.140625 42.390625 41.71875 45.5625 \nQ 45.3125 48.734375 45.3125 54.390625 \nQ 45.3125 60.0625 41.71875 63.234375 \nQ 38.140625 66.40625 31.78125 66.40625 \nQ 25.390625 66.40625 21.84375 63.234375 \nQ 18.3125 60.0625 18.3125 54.390625 \nz\n\" id=\"DejaVuSans-56\"/>\n       </defs>\n       <use xlink:href=\"#DejaVuSans-56\"/>\n       <use x=\"63.623047\" xlink:href=\"#DejaVuSans-48\"/>\n      </g>\n     </g>\n    </g>\n    <g id=\"xtick_6\">\n     <g id=\"line2d_6\">\n      <g>\n       <use style=\"stroke:#000000;stroke-width:0.8;\" x=\"270.746739\" xlink:href=\"#mbd42b32899\" y=\"97.125306\"/>\n      </g>\n     </g>\n     <g id=\"text_6\">\n      <!-- 100 -->\n      <g transform=\"translate(261.202989 111.723743)scale(0.1 -0.1)\">\n       <defs>\n        <path d=\"M 12.40625 8.296875 \nL 28.515625 8.296875 \nL 28.515625 63.921875 \nL 10.984375 60.40625 \nL 10.984375 69.390625 \nL 28.421875 72.90625 \nL 38.28125 72.90625 \nL 38.28125 8.296875 \nL 54.390625 8.296875 \nL 54.390625 0 \nL 12.40625 0 \nz\n\" id=\"DejaVuSans-49\"/>\n       </defs>\n       <use xlink:href=\"#DejaVuSans-49\"/>\n       <use x=\"63.623047\" xlink:href=\"#DejaVuSans-48\"/>\n       <use x=\"127.246094\" xlink:href=\"#DejaVuSans-48\"/>\n      </g>\n     </g>\n    </g>\n    <g id=\"xtick_7\">\n     <g id=\"line2d_7\">\n      <g>\n       <use style=\"stroke:#000000;stroke-width:0.8;\" x=\"319.268478\" xlink:href=\"#mbd42b32899\" y=\"97.125306\"/>\n      </g>\n     </g>\n     <g id=\"text_7\">\n      <!-- 120 -->\n      <g transform=\"translate(309.724728 111.723743)scale(0.1 -0.1)\">\n       <use xlink:href=\"#DejaVuSans-49\"/>\n       <use x=\"63.623047\" xlink:href=\"#DejaVuSans-50\"/>\n       <use x=\"127.246094\" xlink:href=\"#DejaVuSans-48\"/>\n      </g>\n     </g>\n    </g>\n   </g>\n   <g id=\"matplotlib.axis_2\">\n    <g id=\"ytick_1\">\n     <g id=\"line2d_8\">\n      <defs>\n       <path d=\"M 0 0 \nL -3.5 0 \n\" id=\"m6d8ecff823\" style=\"stroke:#000000;stroke-width:0.8;\"/>\n      </defs>\n      <g>\n       <use style=\"stroke:#000000;stroke-width:0.8;\" x=\"26.925\" xlink:href=\"#m6d8ecff823\" y=\"10.999219\"/>\n      </g>\n     </g>\n     <g id=\"text_8\">\n      <!-- 0 -->\n      <g transform=\"translate(13.5625 14.798437)scale(0.1 -0.1)\">\n       <use xlink:href=\"#DejaVuSans-48\"/>\n      </g>\n     </g>\n    </g>\n    <g id=\"ytick_2\">\n     <g id=\"line2d_9\">\n      <g>\n       <use style=\"stroke:#000000;stroke-width:0.8;\" x=\"26.925\" xlink:href=\"#m6d8ecff823\" y=\"35.260088\"/>\n      </g>\n     </g>\n     <g id=\"text_9\">\n      <!-- 10 -->\n      <g transform=\"translate(7.2 39.059307)scale(0.1 -0.1)\">\n       <use xlink:href=\"#DejaVuSans-49\"/>\n       <use x=\"63.623047\" xlink:href=\"#DejaVuSans-48\"/>\n      </g>\n     </g>\n    </g>\n    <g id=\"ytick_3\">\n     <g id=\"line2d_10\">\n      <g>\n       <use style=\"stroke:#000000;stroke-width:0.8;\" x=\"26.925\" xlink:href=\"#m6d8ecff823\" y=\"59.520958\"/>\n      </g>\n     </g>\n     <g id=\"text_10\">\n      <!-- 20 -->\n      <g transform=\"translate(7.2 63.320177)scale(0.1 -0.1)\">\n       <use xlink:href=\"#DejaVuSans-50\"/>\n       <use x=\"63.623047\" xlink:href=\"#DejaVuSans-48\"/>\n      </g>\n     </g>\n    </g>\n    <g id=\"ytick_4\">\n     <g id=\"line2d_11\">\n      <g>\n       <use style=\"stroke:#000000;stroke-width:0.8;\" x=\"26.925\" xlink:href=\"#m6d8ecff823\" y=\"83.781827\"/>\n      </g>\n     </g>\n     <g id=\"text_11\">\n      <!-- 30 -->\n      <g transform=\"translate(7.2 87.581046)scale(0.1 -0.1)\">\n       <defs>\n        <path d=\"M 40.578125 39.3125 \nQ 47.65625 37.796875 51.625 33 \nQ 55.609375 28.21875 55.609375 21.1875 \nQ 55.609375 10.40625 48.1875 4.484375 \nQ 40.765625 -1.421875 27.09375 -1.421875 \nQ 22.515625 -1.421875 17.65625 -0.515625 \nQ 12.796875 0.390625 7.625 2.203125 \nL 7.625 11.71875 \nQ 11.71875 9.328125 16.59375 8.109375 \nQ 21.484375 6.890625 26.8125 6.890625 \nQ 36.078125 6.890625 40.9375 10.546875 \nQ 45.796875 14.203125 45.796875 21.1875 \nQ 45.796875 27.640625 41.28125 31.265625 \nQ 36.765625 34.90625 28.71875 34.90625 \nL 20.21875 34.90625 \nL 20.21875 43.015625 \nL 29.109375 43.015625 \nQ 36.375 43.015625 40.234375 45.921875 \nQ 44.09375 48.828125 44.09375 54.296875 \nQ 44.09375 59.90625 40.109375 62.90625 \nQ 36.140625 65.921875 28.71875 65.921875 \nQ 24.65625 65.921875 20.015625 65.03125 \nQ 15.375 64.15625 9.8125 62.3125 \nL 9.8125 71.09375 \nQ 15.4375 72.65625 20.34375 73.4375 \nQ 25.25 74.21875 29.59375 74.21875 \nQ 40.828125 74.21875 47.359375 69.109375 \nQ 53.90625 64.015625 53.90625 55.328125 \nQ 53.90625 49.265625 50.4375 45.09375 \nQ 46.96875 40.921875 40.578125 39.3125 \nz\n\" id=\"DejaVuSans-51\"/>\n       </defs>\n       <use xlink:href=\"#DejaVuSans-51\"/>\n       <use x=\"63.623047\" xlink:href=\"#DejaVuSans-48\"/>\n      </g>\n     </g>\n    </g>\n   </g>\n   <g id=\"patch_3\">\n    <path d=\"M 26.925 97.125306 \nL 26.925 9.786175 \n\" style=\"fill:none;stroke:#000000;stroke-linecap:square;stroke-linejoin:miter;stroke-width:0.8;\"/>\n   </g>\n   <g id=\"patch_4\">\n    <path d=\"M 361.725 97.125306 \nL 361.725 9.786175 \n\" style=\"fill:none;stroke:#000000;stroke-linecap:square;stroke-linejoin:miter;stroke-width:0.8;\"/>\n   </g>\n   <g id=\"patch_5\">\n    <path d=\"M 26.925 97.125306 \nL 361.725 97.125306 \n\" style=\"fill:none;stroke:#000000;stroke-linecap:square;stroke-linejoin:miter;stroke-width:0.8;\"/>\n   </g>\n   <g id=\"patch_6\">\n    <path d=\"M 26.925 9.786175 \nL 361.725 9.786175 \n\" style=\"fill:none;stroke:#000000;stroke-linecap:square;stroke-linejoin:miter;stroke-width:0.8;\"/>\n   </g>\n  </g>\n </g>\n <defs>\n  <clipPath id=\"p4fff5e75eb\">\n   <rect height=\"87.33913\" width=\"334.8\" x=\"26.925\" y=\"9.786175\"/>\n  </clipPath>\n </defs>\n</svg>\n",
      "image/png": "[encoded data removed]"
     },
     "metadata": {
      "needs_background": "light"
     }
    }
   ],
   "source": [
    "import matplotlib.pyplot as plt\n",
    "import numpy as np\n",
    "\n",
    "# functions to show an image\n",
    "\n",
    "def imshow(img):\n",
    "    img = img / 2 + 0.5     # unnormalize\n",
    "    npimg = img.numpy()\n",
    "    plt.imshow(np.transpose(npimg, (1, 2, 0)))\n",
    "\n",
    "\n",
    "# get some random training images\n",
    "dataiter = iter(trainloader)\n",
    "images, labels = dataiter.next()\n",
    "\n",
    "# show images\n",
    "imshow(torchvision.utils.make_grid(images))\n",
    "# print labels\n",
    "print(' '.join('%5s' % classes[labels[j]] for j in range(4)))"
   ]
  },
  {
   "cell_type": "markdown",
   "metadata": {
    "colab_type": "text",
    "id": "1Ob4Pvz-GuKA"
   },
   "source": [
    "### 2.1.3. CNN Model\n",
    "Next, we will train a CNN on the data. We have defined a simple CNN for you with two convolutional layers and two fully-connected layers below."
   ]
  },
  {
   "cell_type": "code",
   "execution_count": 15,
   "metadata": {
    "colab": {},
    "colab_type": "code",
    "id": "3hMXRfs8DPjx"
   },
   "outputs": [],
   "source": [
    "import torch.nn as nn\n",
    "import torch.nn.functional as F\n",
    "\n",
    "class Net(nn.Module):\n",
    "    def __init__(self):\n",
    "        super(Net, self).__init__()\n",
    "        self.conv1 = nn.Conv2d(3, 6, 5)\n",
    "        self.pool = nn.MaxPool2d(2, 2)\n",
    "        self.conv2 = nn.Conv2d(6, 16, 5)\n",
    "        self.fc1 = nn.Linear(16 * 5 * 5, 120)\n",
    "        self.fc2 = nn.Linear(120, 84)\n",
    "        self.fc3 = nn.Linear(84, 10)\n",
    "\n",
    "    def forward(self, x):\n",
    "        x = self.pool(F.relu(self.conv1(x)))\n",
    "        x = self.pool(F.relu(self.conv2(x)))\n",
    "        x = x.view(-1, 16 * 5 * 5)   # flatten features\n",
    "\n",
    "        x = F.relu(self.fc1(x))\n",
    "        x = F.relu(self.fc2(x))\n",
    "        x = self.fc3(x)\n",
    "        return x\n",
    "\n",
    "net = Net()"
   ]
  },
  {
   "cell_type": "markdown",
   "metadata": {
    "colab_type": "text",
    "id": "z325ABykG77h"
   },
   "source": [
    "Instantiate the cross-entropy loss `criterion`, and an SGD optimizer from the `torch.optim` package with learning rate $.001$ and momentum $.9$. You may also want to enable GPU training using `torch.device()`."
   ]
  },
  {
   "cell_type": "code",
   "execution_count": 16,
   "metadata": {
    "colab": {},
    "colab_type": "code",
    "id": "2wiSsTnEGCRN"
   },
   "outputs": [],
   "source": [
    "criterion = nn.CrossEntropyLoss()\n",
    "optimiser = torch.optim.SGD(net.parameters(), lr=0.001, momentum=0.9)\n",
    "device = torch.device(\"cuda:0\" if torch.cuda.is_available() else \"cpu\")\n",
    "print(device)\n",
    "\n",
    "net.to(device)"
   ]
  },
  {
   "cell_type": "markdown",
   "metadata": {
    "colab_type": "text",
    "id": "eCLHI077fl9x"
   },
   "source": [
    "### 2.1.4 Training\n",
    "Write the training loop that makes two full passes through the dataset (two epochs) using SGD. Your batch size should be 4.\n",
    "\n",
    "Go slack off for a while...\n",
    "\n",
    "![reddit xkcd comic](https://i.redd.it/5cjdqxcg07k11.png)"
   ]
  },
  {
   "cell_type": "code",
   "execution_count": 19,
   "metadata": {
    "colab": {},
    "colab_type": "code",
    "id": "u8SluNefGZgf",
    "tags": []
   },
   "outputs": [
    {
     "output_type": "stream",
     "name": "stdout",
     "text": [
      "[1,  2000] loss: 2.258\n",
      "[1,  4000] loss: 2.226\n",
      "[1,  6000] loss: 2.197\n",
      "[1,  8000] loss: 1.472\n",
      "[1, 10000] loss: 0.884\n",
      "[1, 12000] loss: 0.696\n",
      "[1, 14000] loss: 0.613\n",
      "[1, 16000] loss: 0.588\n",
      "[1, 18000] loss: 0.544\n",
      "[2,  2000] loss: 0.506\n",
      "[2,  4000] loss: 0.479\n",
      "[2,  6000] loss: 0.468\n",
      "[2,  8000] loss: 0.467\n",
      "[2, 10000] loss: 0.462\n",
      "[2, 12000] loss: 0.461\n",
      "[2, 14000] loss: 0.443\n",
      "[2, 16000] loss: 0.448\n",
      "[2, 18000] loss: 0.441\n",
      "Finished Training\n"
     ]
    }
   ],
   "source": [
    "for epoch in range(2):  # loop over the dataset multiple times\n",
    "\n",
    "    running_loss = 0.0\n",
    "    for i, data in enumerate(trainloader, 0):\n",
    "        # get the inputs\n",
    "        inputs, labels = data\n",
    "        inputs, labels = inputs.to(device), labels.to(device)\n",
    "\n",
    "        # zero the parameter gradients\n",
    "        optimiser.zero_grad()\n",
    "\n",
    "        # forward + backward + optimize\n",
    "        outputs = net(inputs)\n",
    "        loss = criterion(outputs, labels)\n",
    "        loss.backward()\n",
    "        optimiser.step()\n",
    "\n",
    "        # print statistics\n",
    "        running_loss += loss.item()\n",
    "        if i % 2000 == 1999:    # print every 2000 mini-batches\n",
    "            print('[%d, %5d] loss: %.3f' %\n",
    "                  (epoch + 1, i + 1, running_loss / 2000))\n",
    "            running_loss = 0.0\n",
    "\n",
    "print('Finished Training')"
   ]
  },
  {
   "cell_type": "markdown",
   "metadata": {
    "colab_type": "text",
    "id": "TGkQdltRh104"
   },
   "source": [
    "### 2.1.5 Test Accuracy\n",
    "Load the test data (don't forget to move it to GPU if using). Make predictions on it using the trained network and compute the accuracy. You should see an accuracy of around 84%."
   ]
  },
  {
   "cell_type": "code",
   "execution_count": 20,
   "metadata": {
    "colab": {},
    "colab_type": "code",
    "id": "zWHZOr2sHeB5"
   },
   "outputs": [
    {
     "output_type": "stream",
     "name": "stdout",
     "text": [
      "Accuracy: 86\n"
     ]
    }
   ],
   "source": [
    "correct = 0\n",
    "\n",
    "for data, target in testloader:\n",
    "    data, target = data.to(device), target.to(device)\n",
    "\n",
    "    output = net(data)\n",
    "    pred = output.data.max(1, keepdim=True)[1]\n",
    "    correct += pred.eq(target.data.view_as(pred)).cpu().sum().item()\n",
    "\n",
    "accuracy = 100. * correct / len(testloader.dataset)\n",
    "print(\"Accuracy: {:.0f}\".format(accuracy))\n"
   ]
  },
  {
   "cell_type": "markdown",
   "metadata": {
    "colab_type": "text",
    "id": "V6mCBCn8kX9W"
   },
   "source": [
    "# Problem 3: Tensorboard (Optional)\n",
    "\n",
    "Explore your network using Tensorboard. Tensorboard is a nice tool for visualizing how your network's training is progressing. The following tutorial provides an introduction to Tensorboard\n",
    "\n",
    "- [Visualizing models, data and training with Tensorboard](https://pytorch.org/tutorials/intermediate/tensorboard_tutorial.html)\n",
    "\n",
    "For using tensorboard in colab, run the following cell and it should open a tensorboard interface in the output of the cell.\n"
   ]
  },
  {
   "cell_type": "code",
   "execution_count": 19,
   "metadata": {
    "colab": {},
    "colab_type": "code",
    "id": "ILFfAGAyh8bD"
   },
   "outputs": [
    {
     "output_type": "display_data",
     "data": {
      "text/plain": "Reusing TensorBoard on port 6006 (pid 1669), started 0:11:07 ago. (Use '!kill 1669' to kill it.)"
     },
     "metadata": {}
    }
   ],
   "source": [
    "%load_ext tensorboard\n",
    "%tensorboard --logdir logs"
   ]
  },
  {
   "cell_type": "code",
   "execution_count": null,
   "metadata": {},
   "outputs": [],
   "source": []
  }
 ],
 "metadata": {
  "accelerator": "GPU",
  "colab": {
   "collapsed_sections": [],
   "name": "HW3.ipynb",
   "provenance": [
    {
     "file_id": "1siLMvcwxUl6WSTO8JNjUv5T3TXMtujiH",
     "timestamp": 1582058789500
    },
    {
     "file_id": "1fiK0rbc8iMuQQS6PDijcD2MIS95h-oZe",
     "timestamp": 1581824994288
    },
    {
     "file_id": "https://github.com/pytorch/tutorials/blob/gh-pages/_downloads/autograd_tutorial.ipynb",
     "timestamp": 1578596632955
    }
   ]
  },
  "kernelspec": {
   "name": "python3",
   "display_name": "Python 3.7.10 64-bit ('myenv': conda)"
  },
  "language_info": {
   "codemirror_mode": {
    "name": "ipython",
    "version": 3
   },
   "file_extension": ".py",
   "mimetype": "text/x-python",
   "name": "python",
   "nbconvert_exporter": "python",
   "pygments_lexer": "ipython3",
   "version": "3.7.10"
  },
  "interpreter": {
   "hash": "597612b212087843c255093bf84855b0ba72df26cf7e3e3a90439daedff78e07"
  }
 },
 "nbformat": 4,
 "nbformat_minor": 1
}