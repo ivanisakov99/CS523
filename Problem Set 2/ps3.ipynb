{
 "cells": [
  {
   "cell_type": "markdown",
   "metadata": {
    "colab_type": "text",
    "id": "ecSh-LQTDB7H"
   },
   "source": [
    "# Problem Set 2 \n",
    "*Author: Saenko*\n",
    "\n",
    "---\n",
    "\n",
    "This assignment will introduce you to:\n",
    "1. Basic functionality in PyTorch\n",
    "2. Building and training a convolutional network\n",
    "3. Visualizations using Tensorboard (optional)\n",
    "\n",
    "This code has been tested on Colab. You may want to run parts of it on a GPU.\n",
    "**Warning:** If you use the SCC, the gpu queue may be long when the deadline comes. Please start your homework early.\n",
    "\n",
    "---\n",
    "\n",
    "\n",
    "# Problem 0: Tutorials\n",
    "This homework will introduce you to [PyTorch](https://pytorch.org), currently the fastest growing deep learning library.\n",
    "\n",
    "Before starting the homework, please go over these introductory tutorials on the PyTorch webpage:\n",
    "\n",
    "*   [60-minute Blitz](https://pytorch.org/tutorials/beginner/deep_learning_60min_blitz.html)\n",
    " \n",
    "\n",
    "---\n",
    "\n"
   ]
  },
  {
   "cell_type": "markdown",
   "metadata": {
    "colab_type": "text",
    "id": "CcqKCRlM6poM"
   },
   "source": [
    "# Problem 1: Torch Intro (30 points)\n",
    "The `torch.Tensor` class is the basic building block in PyTorch and is used to hold data and parameters. The `autograd` package provides automatic differentiation for all operations on Tensors. After reading about Autograd in the tutorials above,  we will implement a few simple examples of what Autograd can do."
   ]
  },
  {
   "cell_type": "code",
   "execution_count": 2,
   "metadata": {
    "colab": {},
    "colab_type": "code",
    "id": "yUv0o0dIsLlW"
   },
   "outputs": [],
   "source": [
    "import torch"
   ]
  },
  {
   "cell_type": "markdown",
   "metadata": {
    "colab_type": "text",
    "id": "D15InPOpsLlc"
   },
   "source": [
    "### 1.1. Simple function\n",
    " Use `autograd` to do backpropagation on the simple function we saw in lecture, $f=(x+y)*z$. \n",
    "\n",
    "**1.1.1** Create the three inputs with values $x=-2$, $y=5$ and $z=-4$ as tensors and set `requires_grad=True` to track computation on them.\n",
    "\n"
   ]
  },
  {
   "cell_type": "code",
   "execution_count": 3,
   "metadata": {
    "colab": {
     "base_uri": "https://localhost:8080/",
     "height": 34
    },
    "colab_type": "code",
    "executionInfo": {
     "elapsed": 758,
     "status": "ok",
     "timestamp": 1581997995146,
     "user": {
      "displayName": "Samarth Mishra",
      "photoUrl": "",
      "userId": "00064519813488481618"
     },
     "user_tz": 300
    },
    "id": "56mcFemZuYMB",
    "outputId": "4be4f837-cc1b-4579-d97b-edad8dd68263"
   },
   "outputs": [],
   "source": [
    "# solution here\n",
    "x = torch.tensor([-2.], requires_grad=True)\n",
    "y = torch.tensor([5.], requires_grad=True)\n",
    "z = torch.tensor([-4.], requires_grad=True)"
   ]
  },
  {
   "cell_type": "markdown",
   "metadata": {
    "colab_type": "text",
    "id": "WPBbS7GWxra1"
   },
   "source": [
    "**1.1.2** Compute the $q=x+y$ and $f=q \\times z$ functions, creating tensors for them in the process. Print out $q,f$, then run `f.backward(retain_graph=True)`, to compute the gradients w.r.t. $x,y,z$. The `retain_graph` attribute tells autograd to keep the computation graph around after backward pass as opposed deleting it (freeing some memory). Print the gradients. Note that the gradient for $q$ will be `None` since it is an intermediate node, even though `requires_grad` for it is automatically set to `True`. To access gradients for intermediate nodes in PyTorch you can use hooks as mentioned in [this answer](https://discuss.pytorch.org/t/why-cant-i-see-grad-of-an-intermediate-variable/94/2). Compute the values by hand (or check the slides) to verify your solution."
   ]
  },
  {
   "cell_type": "code",
   "execution_count": 4,
   "metadata": {
    "colab": {
     "base_uri": "https://localhost:8080/",
     "height": 52
    },
    "colab_type": "code",
    "executionInfo": {
     "elapsed": 745,
     "status": "ok",
     "timestamp": 1581997998245,
     "user": {
      "displayName": "Samarth Mishra",
      "photoUrl": "",
      "userId": "00064519813488481618"
     },
     "user_tz": 300
    },
    "id": "4lj5N-fgvQ-v",
    "outputId": "296a7afc-268a-406d-b09e-61dd58b02c8a"
   },
   "outputs": [
    {
     "output_type": "stream",
     "name": "stdout",
     "text": [
      "tensor([3.], grad_fn=<AddBackward0>)\ntensor([-12.], grad_fn=<MulBackward0>)\ntensor([-4.])\ntensor([-4.])\ntensor([3.])\n"
     ]
    }
   ],
   "source": [
    "# solution here ???\n",
    "q = x + y\n",
    "f = q * z\n",
    "print(q)\n",
    "print(f)\n",
    "f.backward(retain_graph=True)\n",
    "print(x.grad)\n",
    "print(y.grad)\n",
    "print(z.grad)\n",
    "# print(q.grad)\n",
    "# print(f.grad)"
   ]
  },
  {
   "cell_type": "markdown",
   "metadata": {
    "colab_type": "text",
    "id": "EtBqrD7y3MeK"
   },
   "source": [
    "**1.1.3** If we now run `backward()` again, it will add the gradients to their previous values. Try it by running the above cell multiple times. This is useful in some cases, but if we just wanted to re-compute the gradients again, we need to zero them first, then run `backward()`. Add this step, then try running the  backward function multiple times to make sure the answer is the same each time!"
   ]
  },
  {
   "cell_type": "code",
   "execution_count": 5,
   "metadata": {
    "colab": {
     "base_uri": "https://localhost:8080/",
     "height": 34
    },
    "colab_type": "code",
    "executionInfo": {
     "elapsed": 625,
     "status": "ok",
     "timestamp": 1581998000511,
     "user": {
      "displayName": "Samarth Mishra",
      "photoUrl": "",
      "userId": "00064519813488481618"
     },
     "user_tz": 300
    },
    "id": "g6qeSVAM0w1J",
    "outputId": "048e64e9-e6c1-4f28-ee51-099a2a401e04"
   },
   "outputs": [
    {
     "output_type": "stream",
     "name": "stdout",
     "text": [
      "tensor([-8.])\ntensor([-8.])\ntensor([6.])\n"
     ]
    }
   ],
   "source": [
    "# solution here ???\n",
    "f.backward(retain_graph=True)\n",
    "print(x.grad)\n",
    "print(y.grad)\n",
    "print(z.grad)"
   ]
  },
  {
   "cell_type": "markdown",
   "metadata": {
    "colab_type": "text",
    "id": "3lEIwkbv4qNO"
   },
   "source": [
    "### 1.2 Neuron\n",
    " Implement the function corresponding to one neuron (logistic regression unit) that we saw in the lecture and compute the gradient w.r.t. $x$ and $w$. The function is $f=\\sigma(w^Tx)$ where $\\sigma()$ is the sigmoid function. Initialize $x=[-1, -2, 1]$ and the weights to $w=[2, -3, -3]$ where $w_3$ is the bias. Print out the gradients and double check their values by hand."
   ]
  },
  {
   "cell_type": "code",
   "execution_count": 311,
   "metadata": {
    "colab": {
     "base_uri": "https://localhost:8080/",
     "height": 121
    },
    "colab_type": "code",
    "executionInfo": {
     "elapsed": 585,
     "status": "ok",
     "timestamp": 1581998002809,
     "user": {
      "displayName": "Samarth Mishra",
      "photoUrl": "",
      "userId": "00064519813488481618"
     },
     "user_tz": 300
    },
    "id": "H0UBPl5Ti15G",
    "outputId": "aad7da03-7ba8-4e65-a604-259ce8df8efd"
   },
   "outputs": [
    {
     "output_type": "stream",
     "name": "stdout",
     "text": [
      "x = tensor([-1., -2.,  1.], requires_grad=True)\nw = tensor([ 2., -3., -3.], requires_grad=True)\nf(x, w) = tensor(0.7311, grad_fn=<SigmoidBackward>)\nThe gradient of f() w.r.t. x is tensor([ 0.3932, -0.5898, -0.5898])\nThe gradient of f() w.r.t. w is tensor([-0.1966, -0.3932,  0.1966])\n"
     ]
    }
   ],
   "source": [
    "# solution here\n",
    "\n",
    "x = torch.tensor([-1., -2., 1.], requires_grad=True)\n",
    "w = torch.tensor([2., -3., -3.], requires_grad=True)\n",
    "print(\"x =\", x)\n",
    "print(\"w =\", w)\n",
    "f = torch.dot(w, x)\n",
    "f = torch.sigmoid(f)\n",
    "print(\"f(x, w) =\", f)\n",
    "f.backward()\n",
    "print(\"The gradient of f() w.r.t. x is\", x.grad)\n",
    "print(\"The gradient of f() w.r.t. w is\", w.grad)"
   ]
  },
  {
   "cell_type": "markdown",
   "metadata": {
    "colab_type": "text",
    "id": "KLEQdosNk6t9"
   },
   "source": [
    "### 1.3. torch.nn\n",
    " We will now implement the same neuron function $f$ with the same variable values as in Q1.2, but using the `Linear` class from `torch.nn`, followed by the [Sigmoid](https://pytorch.org/docs/stable/nn.html#torch.nn.Sigmoid) class. In general, many useful functions are already implemented for us in this package. Compute the gradients $\\partial f/\\partial w$ by running `backward()` and print them out (they will be stored in the Linear variable, e.g. in `.weight.grad`.) "
   ]
  },
  {
   "cell_type": "code",
   "execution_count": 314,
   "metadata": {
    "colab": {
     "base_uri": "https://localhost:8080/",
     "height": 173
    },
    "colab_type": "code",
    "executionInfo": {
     "elapsed": 583,
     "status": "ok",
     "timestamp": 1581998005758,
     "user": {
      "displayName": "Samarth Mishra",
      "photoUrl": "",
      "userId": "00064519813488481618"
     },
     "user_tz": 300
    },
    "id": "zH3f8sj0ywQ3",
    "outputId": "d56c09a9-0add-40a7-da62-6cdf89ec8c63"
   },
   "outputs": [
    {
     "output_type": "error",
     "ename": "TypeError",
     "evalue": "cannot assign 'torch.FloatTensor' as parameter 'bias' (torch.nn.Parameter or None expected)",
     "traceback": [
      "\u001b[0;31m---------------------------------------------------------------------------\u001b[0m",
      "\u001b[0;31mTypeError\u001b[0m                                 Traceback (most recent call last)",
      "\u001b[0;32m<ipython-input-314-b1f17d1297c0>\u001b[0m in \u001b[0;36m<module>\u001b[0;34m\u001b[0m\n\u001b[1;32m      3\u001b[0m \u001b[0mm\u001b[0m \u001b[0;34m=\u001b[0m \u001b[0mtorch\u001b[0m\u001b[0;34m.\u001b[0m\u001b[0mnn\u001b[0m\u001b[0;34m.\u001b[0m\u001b[0mLinear\u001b[0m\u001b[0;34m(\u001b[0m\u001b[0;36m1\u001b[0m\u001b[0;34m,\u001b[0m \u001b[0;36m1\u001b[0m\u001b[0;34m,\u001b[0m \u001b[0mbias\u001b[0m\u001b[0;34m=\u001b[0m\u001b[0;32mFalse\u001b[0m\u001b[0;34m)\u001b[0m\u001b[0;34m\u001b[0m\u001b[0;34m\u001b[0m\u001b[0m\n\u001b[1;32m      4\u001b[0m \u001b[0mm\u001b[0m\u001b[0;34m.\u001b[0m\u001b[0mweight\u001b[0m\u001b[0;34m.\u001b[0m\u001b[0mdata\u001b[0m \u001b[0;34m=\u001b[0m \u001b[0mw\u001b[0m\u001b[0;34m[\u001b[0m\u001b[0;36m0\u001b[0m\u001b[0;34m:\u001b[0m\u001b[0;36m2\u001b[0m\u001b[0;34m]\u001b[0m\u001b[0;34m\u001b[0m\u001b[0;34m\u001b[0m\u001b[0m\n\u001b[0;32m----> 5\u001b[0;31m \u001b[0mm\u001b[0m\u001b[0;34m.\u001b[0m\u001b[0mbias\u001b[0m \u001b[0;34m=\u001b[0m \u001b[0mw\u001b[0m\u001b[0;34m[\u001b[0m\u001b[0;36m2\u001b[0m\u001b[0;34m:\u001b[0m\u001b[0;36m3\u001b[0m\u001b[0;34m]\u001b[0m\u001b[0;34m\u001b[0m\u001b[0;34m\u001b[0m\u001b[0m\n\u001b[0m\u001b[1;32m      6\u001b[0m \u001b[0;34m\u001b[0m\u001b[0m\n\u001b[1;32m      7\u001b[0m \u001b[0mprint\u001b[0m\u001b[0;34m(\u001b[0m\u001b[0;34m\"weights:\"\u001b[0m\u001b[0;34m,\u001b[0m \u001b[0mm\u001b[0m\u001b[0;34m.\u001b[0m\u001b[0mweight\u001b[0m\u001b[0;34m)\u001b[0m\u001b[0;34m\u001b[0m\u001b[0;34m\u001b[0m\u001b[0m\n",
      "\u001b[0;32m~/opt/anaconda3/envs/myenv/lib/python3.7/site-packages/torch/nn/modules/module.py\u001b[0m in \u001b[0;36m__setattr__\u001b[0;34m(self, name, value)\u001b[0m\n\u001b[1;32m    799\u001b[0m                 raise TypeError(\"cannot assign '{}' as parameter '{}' \"\n\u001b[1;32m    800\u001b[0m                                 \u001b[0;34m\"(torch.nn.Parameter or None expected)\"\u001b[0m\u001b[0;34m\u001b[0m\u001b[0;34m\u001b[0m\u001b[0m\n\u001b[0;32m--> 801\u001b[0;31m                                 .format(torch.typename(value), name))\n\u001b[0m\u001b[1;32m    802\u001b[0m             \u001b[0mself\u001b[0m\u001b[0;34m.\u001b[0m\u001b[0mregister_parameter\u001b[0m\u001b[0;34m(\u001b[0m\u001b[0mname\u001b[0m\u001b[0;34m,\u001b[0m \u001b[0mvalue\u001b[0m\u001b[0;34m)\u001b[0m\u001b[0;34m\u001b[0m\u001b[0;34m\u001b[0m\u001b[0m\n\u001b[1;32m    803\u001b[0m         \u001b[0;32melse\u001b[0m\u001b[0;34m:\u001b[0m\u001b[0;34m\u001b[0m\u001b[0;34m\u001b[0m\u001b[0m\n",
      "\u001b[0;31mTypeError\u001b[0m: cannot assign 'torch.FloatTensor' as parameter 'bias' (torch.nn.Parameter or None expected)"
     ]
    }
   ],
   "source": [
    "# solution here ???\n",
    "\n",
    "m = torch.nn.Linear(1, 1, bias=False)\n",
    "m.weight.data = w[0:2]\n",
    "m.bias = w[2:3]\n",
    "\n",
    "print(\"weights:\", m.weight)\n",
    "print(\"bias\", m.bias)\n",
    "\n",
    "f = m(x)\n",
    "\n",
    "f = torch.sigmoid(f)\n",
    "print(\"f:\", f)\n",
    "f.backward()\n",
    "print(\"The gradient of f() w.r.t. w is\", m.weight.grad)\n"
   ]
  },
  {
   "cell_type": "markdown",
   "metadata": {
    "colab_type": "text",
    "id": "isiTRoJuqnEL"
   },
   "source": [
    "### 1.4. Module\n",
    " Now lets put these two functions (Linear and Sigmoid) together into a \"module\". Read the [Neural Networks tutorial](https://pytorch.org/tutorials/beginner/blitz/neural_networks_tutorial.html) if you have not already.\n",
    "\n",
    "**1.4.1** This code makes a subclass of the `Module` class, called `Neuron`, and sets variables to the same values as above. \n",
    "\n"
   ]
  },
  {
   "cell_type": "code",
   "execution_count": 172,
   "metadata": {
    "colab": {},
    "colab_type": "code",
    "id": "8j_S7AQqQB8-"
   },
   "outputs": [],
   "source": [
    "import torch.nn as nn\n",
    "\n",
    "class Neuron(nn.Module):\n",
    "\n",
    "    def __init__(self):\n",
    "        super(Neuron, self).__init__()\n",
    "        # an affine operation: y = weight*x + bias, with fixed parameters\n",
    "        self.linear = nn.Linear(2, 1)\n",
    "        self.linear.weight.data = torch.tensor([[ 2., -3.]]);\n",
    "        self.linear.bias.data = torch.tensor([-3.]);\n",
    "        # a sigmoid function, elementwise\n",
    "        self.sigmoid = nn.Sigmoid()\n",
    "\n",
    "    def forward(self, x):\n",
    "        x = self.linear(x)\n",
    "        x = self.sigmoid(x)\n",
    "        return x"
   ]
  },
  {
   "cell_type": "markdown",
   "metadata": {
    "colab_type": "text",
    "id": "6Hv5iduNSLX9"
   },
   "source": [
    "**1.4.2** Now create a  variable of your `Neuron` class called `my_neuron` and run backpropagation on it. Print out the gradients again. Make sure you zero out the gradients first, by calling `.zero_grad()` function of the parent class. Even if you will not re-compute the backprop, it is good practice to do this every time to avoid accumulating gradient!"
   ]
  },
  {
   "cell_type": "code",
   "execution_count": 204,
   "metadata": {
    "colab": {
     "base_uri": "https://localhost:8080/",
     "height": 173
    },
    "colab_type": "code",
    "executionInfo": {
     "elapsed": 362,
     "status": "ok",
     "timestamp": 1581998018634,
     "user": {
      "displayName": "Samarth Mishra",
      "photoUrl": "",
      "userId": "00064519813488481618"
     },
     "user_tz": 300
    },
    "id": "AG5V8LiVSQWn",
    "outputId": "adedcde3-bf02-4e9b-da26-b813d75336c9"
   },
   "outputs": [
    {
     "output_type": "stream",
     "name": "stdout",
     "text": [
      "Neuron(\n  (linear): Linear(in_features=2, out_features=1, bias=True)\n  (sigmoid): Sigmoid()\n)\nThe weights are: Parameter containing:\ntensor([[ 2., -3.]], requires_grad=True)\n\nf(x, w) = tensor([0.7311], grad_fn=<SigmoidBackward>)\nThe gradient of f() w.r.t. w is tensor([-0.1966, -0.3932,  0.1966])\n"
     ]
    }
   ],
   "source": [
    "# solution here ???\n",
    "my_neuron = Neuron()\n",
    "print(my_neuron)\n",
    "net = my_neuron(x[0:2])\n",
    "\n",
    "params = list(my_neuron.parameters())\n",
    "print(\"The weights are:\", params[0])\n",
    "\n",
    "print(\"\\nf(x, w) =\", net)\n",
    "\n",
    "my_neuron.zero_grad()\n",
    "net.backward()\n",
    "print(\"\\nThe gradient of f() w.r.t. w is\", w.grad)\n"
   ]
  },
  {
   "cell_type": "markdown",
   "metadata": {
    "colab_type": "text",
    "id": "5A5kaQxkLsFi"
   },
   "source": [
    "### 1.5. Loss and SGD\n",
    " Now, lets train our neuron on some data. The code below creates a toy dataset containing a few inputs $x$ and outputs $y$ (a binary 0/1 label), as well as a function that plots the data and current solution."
   ]
  },
  {
   "cell_type": "code",
   "execution_count": 315,
   "metadata": {
    "colab": {
     "base_uri": "https://localhost:8080/",
     "height": 286
    },
    "colab_type": "code",
    "executionInfo": {
     "elapsed": 451,
     "status": "ok",
     "timestamp": 1581998902715,
     "user": {
      "displayName": "Samarth Mishra",
      "photoUrl": "",
      "userId": "00064519813488481618"
     },
     "user_tz": 300
    },
    "id": "4nMCQG3-L94R",
    "outputId": "48318f4f-419c-4f54-ffff-a6065573cf3e"
   },
   "outputs": [
    {
     "output_type": "stream",
     "name": "stdout",
     "text": [
      "w0 = 2.0 w1 = -3.0 bias = -3.0\n"
     ]
    },
    {
     "output_type": "display_data",
     "data": {
      "text/plain": "<Figure size 432x288 with 1 Axes>",
      "image/svg+xml": "<?xml version=\"1.0\" encoding=\"utf-8\" standalone=\"no\"?>\n<!DOCTYPE svg PUBLIC \"-//W3C//DTD SVG 1.1//EN\"\n  \"http://www.w3.org/Graphics/SVG/1.1/DTD/svg11.dtd\">\n<!-- Created with matplotlib (https://matplotlib.org/) -->\n<svg height=\"252.317344pt\" version=\"1.1\" viewBox=\"0 0 388.434375 252.317344\" width=\"388.434375pt\" xmlns=\"http://www.w3.org/2000/svg\" xmlns:xlink=\"http://www.w3.org/1999/xlink\">\n <metadata>\n  <rdf:RDF xmlns:cc=\"http://creativecommons.org/ns#\" xmlns:dc=\"http://purl.org/dc/elements/1.1/\" xmlns:rdf=\"http://www.w3.org/1999/02/22-rdf-syntax-ns#\">\n   <cc:Work>\n    <dc:type rdf:resource=\"http://purl.org/dc/dcmitype/StillImage\"/>\n    <dc:date>2021-06-13T19:56:30.831008</dc:date>\n    <dc:format>image/svg+xml</dc:format>\n    <dc:creator>\n     <cc:Agent>\n      <dc:title>Matplotlib v3.3.4, https://matplotlib.org/</dc:title>\n     </cc:Agent>\n    </dc:creator>\n   </cc:Work>\n  </rdf:RDF>\n </metadata>\n <defs>\n  <style type=\"text/css\">*{stroke-linecap:butt;stroke-linejoin:round;}</style>\n </defs>\n <g id=\"figure_1\">\n  <g id=\"patch_1\">\n   <path d=\"M -0 252.317344 \nL 388.434375 252.317344 \nL 388.434375 0 \nL -0 0 \nz\n\" style=\"fill:none;\"/>\n  </g>\n  <g id=\"axes_1\">\n   <g id=\"patch_2\">\n    <path d=\"M 38.482813 228.439219 \nL 373.282813 228.439219 \nL 373.282813 10.999219 \nL 38.482813 10.999219 \nz\n\" style=\"fill:#ffffff;\"/>\n   </g>\n   <g id=\"matplotlib.axis_1\">\n    <g id=\"xtick_1\">\n     <g id=\"line2d_1\">\n      <path clip-path=\"url(#p655d35889d)\" d=\"M 38.482812 228.439219 \nL 38.482812 10.999219 \n\" style=\"fill:none;stroke:#b0b0b0;stroke-linecap:square;stroke-width:0.8;\"/>\n     </g>\n     <g id=\"line2d_2\">\n      <defs>\n       <path d=\"M 0 0 \nL 0 3.5 \n\" id=\"mbf88989212\" style=\"stroke:#000000;stroke-width:0.8;\"/>\n      </defs>\n      <g>\n       <use style=\"stroke:#000000;stroke-width:0.8;\" x=\"38.482812\" xlink:href=\"#mbf88989212\" y=\"228.439219\"/>\n      </g>\n     </g>\n     <g id=\"text_1\">\n      <!-- −2.0 -->\n      <g transform=\"translate(26.341406 243.037656)scale(0.1 -0.1)\">\n       <defs>\n        <path d=\"M 10.59375 35.5 \nL 73.1875 35.5 \nL 73.1875 27.203125 \nL 10.59375 27.203125 \nz\n\" id=\"DejaVuSans-8722\"/>\n        <path d=\"M 19.1875 8.296875 \nL 53.609375 8.296875 \nL 53.609375 0 \nL 7.328125 0 \nL 7.328125 8.296875 \nQ 12.9375 14.109375 22.625 23.890625 \nQ 32.328125 33.6875 34.8125 36.53125 \nQ 39.546875 41.84375 41.421875 45.53125 \nQ 43.3125 49.21875 43.3125 52.78125 \nQ 43.3125 58.59375 39.234375 62.25 \nQ 35.15625 65.921875 28.609375 65.921875 \nQ 23.96875 65.921875 18.8125 64.3125 \nQ 13.671875 62.703125 7.8125 59.421875 \nL 7.8125 69.390625 \nQ 13.765625 71.78125 18.9375 73 \nQ 24.125 74.21875 28.421875 74.21875 \nQ 39.75 74.21875 46.484375 68.546875 \nQ 53.21875 62.890625 53.21875 53.421875 \nQ 53.21875 48.921875 51.53125 44.890625 \nQ 49.859375 40.875 45.40625 35.40625 \nQ 44.1875 33.984375 37.640625 27.21875 \nQ 31.109375 20.453125 19.1875 8.296875 \nz\n\" id=\"DejaVuSans-50\"/>\n        <path d=\"M 10.6875 12.40625 \nL 21 12.40625 \nL 21 0 \nL 10.6875 0 \nz\n\" id=\"DejaVuSans-46\"/>\n        <path d=\"M 31.78125 66.40625 \nQ 24.171875 66.40625 20.328125 58.90625 \nQ 16.5 51.421875 16.5 36.375 \nQ 16.5 21.390625 20.328125 13.890625 \nQ 24.171875 6.390625 31.78125 6.390625 \nQ 39.453125 6.390625 43.28125 13.890625 \nQ 47.125 21.390625 47.125 36.375 \nQ 47.125 51.421875 43.28125 58.90625 \nQ 39.453125 66.40625 31.78125 66.40625 \nz\nM 31.78125 74.21875 \nQ 44.046875 74.21875 50.515625 64.515625 \nQ 56.984375 54.828125 56.984375 36.375 \nQ 56.984375 17.96875 50.515625 8.265625 \nQ 44.046875 -1.421875 31.78125 -1.421875 \nQ 19.53125 -1.421875 13.0625 8.265625 \nQ 6.59375 17.96875 6.59375 36.375 \nQ 6.59375 54.828125 13.0625 64.515625 \nQ 19.53125 74.21875 31.78125 74.21875 \nz\n\" id=\"DejaVuSans-48\"/>\n       </defs>\n       <use xlink:href=\"#DejaVuSans-8722\"/>\n       <use x=\"83.789062\" xlink:href=\"#DejaVuSans-50\"/>\n       <use x=\"147.412109\" xlink:href=\"#DejaVuSans-46\"/>\n       <use x=\"179.199219\" xlink:href=\"#DejaVuSans-48\"/>\n      </g>\n     </g>\n    </g>\n    <g id=\"xtick_2\">\n     <g id=\"line2d_3\">\n      <path clip-path=\"url(#p655d35889d)\" d=\"M 80.332812 228.439219 \nL 80.332812 10.999219 \n\" style=\"fill:none;stroke:#b0b0b0;stroke-linecap:square;stroke-width:0.8;\"/>\n     </g>\n     <g id=\"line2d_4\">\n      <g>\n       <use style=\"stroke:#000000;stroke-width:0.8;\" x=\"80.332812\" xlink:href=\"#mbf88989212\" y=\"228.439219\"/>\n      </g>\n     </g>\n     <g id=\"text_2\">\n      <!-- −1.5 -->\n      <g transform=\"translate(68.191406 243.037656)scale(0.1 -0.1)\">\n       <defs>\n        <path d=\"M 12.40625 8.296875 \nL 28.515625 8.296875 \nL 28.515625 63.921875 \nL 10.984375 60.40625 \nL 10.984375 69.390625 \nL 28.421875 72.90625 \nL 38.28125 72.90625 \nL 38.28125 8.296875 \nL 54.390625 8.296875 \nL 54.390625 0 \nL 12.40625 0 \nz\n\" id=\"DejaVuSans-49\"/>\n        <path d=\"M 10.796875 72.90625 \nL 49.515625 72.90625 \nL 49.515625 64.59375 \nL 19.828125 64.59375 \nL 19.828125 46.734375 \nQ 21.96875 47.46875 24.109375 47.828125 \nQ 26.265625 48.1875 28.421875 48.1875 \nQ 40.625 48.1875 47.75 41.5 \nQ 54.890625 34.8125 54.890625 23.390625 \nQ 54.890625 11.625 47.5625 5.09375 \nQ 40.234375 -1.421875 26.90625 -1.421875 \nQ 22.3125 -1.421875 17.546875 -0.640625 \nQ 12.796875 0.140625 7.71875 1.703125 \nL 7.71875 11.625 \nQ 12.109375 9.234375 16.796875 8.0625 \nQ 21.484375 6.890625 26.703125 6.890625 \nQ 35.15625 6.890625 40.078125 11.328125 \nQ 45.015625 15.765625 45.015625 23.390625 \nQ 45.015625 31 40.078125 35.4375 \nQ 35.15625 39.890625 26.703125 39.890625 \nQ 22.75 39.890625 18.8125 39.015625 \nQ 14.890625 38.140625 10.796875 36.28125 \nz\n\" id=\"DejaVuSans-53\"/>\n       </defs>\n       <use xlink:href=\"#DejaVuSans-8722\"/>\n       <use x=\"83.789062\" xlink:href=\"#DejaVuSans-49\"/>\n       <use x=\"147.412109\" xlink:href=\"#DejaVuSans-46\"/>\n       <use x=\"179.199219\" xlink:href=\"#DejaVuSans-53\"/>\n      </g>\n     </g>\n    </g>\n    <g id=\"xtick_3\">\n     <g id=\"line2d_5\">\n      <path clip-path=\"url(#p655d35889d)\" d=\"M 122.182812 228.439219 \nL 122.182812 10.999219 \n\" style=\"fill:none;stroke:#b0b0b0;stroke-linecap:square;stroke-width:0.8;\"/>\n     </g>\n     <g id=\"line2d_6\">\n      <g>\n       <use style=\"stroke:#000000;stroke-width:0.8;\" x=\"122.182812\" xlink:href=\"#mbf88989212\" y=\"228.439219\"/>\n      </g>\n     </g>\n     <g id=\"text_3\">\n      <!-- −1.0 -->\n      <g transform=\"translate(110.041406 243.037656)scale(0.1 -0.1)\">\n       <use xlink:href=\"#DejaVuSans-8722\"/>\n       <use x=\"83.789062\" xlink:href=\"#DejaVuSans-49\"/>\n       <use x=\"147.412109\" xlink:href=\"#DejaVuSans-46\"/>\n       <use x=\"179.199219\" xlink:href=\"#DejaVuSans-48\"/>\n      </g>\n     </g>\n    </g>\n    <g id=\"xtick_4\">\n     <g id=\"line2d_7\">\n      <path clip-path=\"url(#p655d35889d)\" d=\"M 164.032813 228.439219 \nL 164.032813 10.999219 \n\" style=\"fill:none;stroke:#b0b0b0;stroke-linecap:square;stroke-width:0.8;\"/>\n     </g>\n     <g id=\"line2d_8\">\n      <g>\n       <use style=\"stroke:#000000;stroke-width:0.8;\" x=\"164.032813\" xlink:href=\"#mbf88989212\" y=\"228.439219\"/>\n      </g>\n     </g>\n     <g id=\"text_4\">\n      <!-- −0.5 -->\n      <g transform=\"translate(151.891406 243.037656)scale(0.1 -0.1)\">\n       <use xlink:href=\"#DejaVuSans-8722\"/>\n       <use x=\"83.789062\" xlink:href=\"#DejaVuSans-48\"/>\n       <use x=\"147.412109\" xlink:href=\"#DejaVuSans-46\"/>\n       <use x=\"179.199219\" xlink:href=\"#DejaVuSans-53\"/>\n      </g>\n     </g>\n    </g>\n    <g id=\"xtick_5\">\n     <g id=\"line2d_9\">\n      <path clip-path=\"url(#p655d35889d)\" d=\"M 205.882812 228.439219 \nL 205.882812 10.999219 \n\" style=\"fill:none;stroke:#b0b0b0;stroke-linecap:square;stroke-width:0.8;\"/>\n     </g>\n     <g id=\"line2d_10\">\n      <g>\n       <use style=\"stroke:#000000;stroke-width:0.8;\" x=\"205.882812\" xlink:href=\"#mbf88989212\" y=\"228.439219\"/>\n      </g>\n     </g>\n     <g id=\"text_5\">\n      <!-- 0.0 -->\n      <g transform=\"translate(197.93125 243.037656)scale(0.1 -0.1)\">\n       <use xlink:href=\"#DejaVuSans-48\"/>\n       <use x=\"63.623047\" xlink:href=\"#DejaVuSans-46\"/>\n       <use x=\"95.410156\" xlink:href=\"#DejaVuSans-48\"/>\n      </g>\n     </g>\n    </g>\n    <g id=\"xtick_6\">\n     <g id=\"line2d_11\">\n      <path clip-path=\"url(#p655d35889d)\" d=\"M 247.732812 228.439219 \nL 247.732812 10.999219 \n\" style=\"fill:none;stroke:#b0b0b0;stroke-linecap:square;stroke-width:0.8;\"/>\n     </g>\n     <g id=\"line2d_12\">\n      <g>\n       <use style=\"stroke:#000000;stroke-width:0.8;\" x=\"247.732812\" xlink:href=\"#mbf88989212\" y=\"228.439219\"/>\n      </g>\n     </g>\n     <g id=\"text_6\">\n      <!-- 0.5 -->\n      <g transform=\"translate(239.78125 243.037656)scale(0.1 -0.1)\">\n       <use xlink:href=\"#DejaVuSans-48\"/>\n       <use x=\"63.623047\" xlink:href=\"#DejaVuSans-46\"/>\n       <use x=\"95.410156\" xlink:href=\"#DejaVuSans-53\"/>\n      </g>\n     </g>\n    </g>\n    <g id=\"xtick_7\">\n     <g id=\"line2d_13\">\n      <path clip-path=\"url(#p655d35889d)\" d=\"M 289.582812 228.439219 \nL 289.582812 10.999219 \n\" style=\"fill:none;stroke:#b0b0b0;stroke-linecap:square;stroke-width:0.8;\"/>\n     </g>\n     <g id=\"line2d_14\">\n      <g>\n       <use style=\"stroke:#000000;stroke-width:0.8;\" x=\"289.582812\" xlink:href=\"#mbf88989212\" y=\"228.439219\"/>\n      </g>\n     </g>\n     <g id=\"text_7\">\n      <!-- 1.0 -->\n      <g transform=\"translate(281.63125 243.037656)scale(0.1 -0.1)\">\n       <use xlink:href=\"#DejaVuSans-49\"/>\n       <use x=\"63.623047\" xlink:href=\"#DejaVuSans-46\"/>\n       <use x=\"95.410156\" xlink:href=\"#DejaVuSans-48\"/>\n      </g>\n     </g>\n    </g>\n    <g id=\"xtick_8\">\n     <g id=\"line2d_15\">\n      <path clip-path=\"url(#p655d35889d)\" d=\"M 331.432813 228.439219 \nL 331.432813 10.999219 \n\" style=\"fill:none;stroke:#b0b0b0;stroke-linecap:square;stroke-width:0.8;\"/>\n     </g>\n     <g id=\"line2d_16\">\n      <g>\n       <use style=\"stroke:#000000;stroke-width:0.8;\" x=\"331.432813\" xlink:href=\"#mbf88989212\" y=\"228.439219\"/>\n      </g>\n     </g>\n     <g id=\"text_8\">\n      <!-- 1.5 -->\n      <g transform=\"translate(323.48125 243.037656)scale(0.1 -0.1)\">\n       <use xlink:href=\"#DejaVuSans-49\"/>\n       <use x=\"63.623047\" xlink:href=\"#DejaVuSans-46\"/>\n       <use x=\"95.410156\" xlink:href=\"#DejaVuSans-53\"/>\n      </g>\n     </g>\n    </g>\n    <g id=\"xtick_9\">\n     <g id=\"line2d_17\">\n      <path clip-path=\"url(#p655d35889d)\" d=\"M 373.282812 228.439219 \nL 373.282812 10.999219 \n\" style=\"fill:none;stroke:#b0b0b0;stroke-linecap:square;stroke-width:0.8;\"/>\n     </g>\n     <g id=\"line2d_18\">\n      <g>\n       <use style=\"stroke:#000000;stroke-width:0.8;\" x=\"373.282812\" xlink:href=\"#mbf88989212\" y=\"228.439219\"/>\n      </g>\n     </g>\n     <g id=\"text_9\">\n      <!-- 2.0 -->\n      <g transform=\"translate(365.33125 243.037656)scale(0.1 -0.1)\">\n       <use xlink:href=\"#DejaVuSans-50\"/>\n       <use x=\"63.623047\" xlink:href=\"#DejaVuSans-46\"/>\n       <use x=\"95.410156\" xlink:href=\"#DejaVuSans-48\"/>\n      </g>\n     </g>\n    </g>\n   </g>\n   <g id=\"matplotlib.axis_2\">\n    <g id=\"ytick_1\">\n     <g id=\"line2d_19\">\n      <path clip-path=\"url(#p655d35889d)\" d=\"M 38.482813 228.439219 \nL 373.282813 228.439219 \n\" style=\"fill:none;stroke:#b0b0b0;stroke-linecap:square;stroke-width:0.8;\"/>\n     </g>\n     <g id=\"line2d_20\">\n      <defs>\n       <path d=\"M 0 0 \nL -3.5 0 \n\" id=\"m93a23e13d3\" style=\"stroke:#000000;stroke-width:0.8;\"/>\n      </defs>\n      <g>\n       <use style=\"stroke:#000000;stroke-width:0.8;\" x=\"38.482813\" xlink:href=\"#m93a23e13d3\" y=\"228.439219\"/>\n      </g>\n     </g>\n     <g id=\"text_10\">\n      <!-- −2.0 -->\n      <g transform=\"translate(7.2 232.238437)scale(0.1 -0.1)\">\n       <use xlink:href=\"#DejaVuSans-8722\"/>\n       <use x=\"83.789062\" xlink:href=\"#DejaVuSans-50\"/>\n       <use x=\"147.412109\" xlink:href=\"#DejaVuSans-46\"/>\n       <use x=\"179.199219\" xlink:href=\"#DejaVuSans-48\"/>\n      </g>\n     </g>\n    </g>\n    <g id=\"ytick_2\">\n     <g id=\"line2d_21\">\n      <path clip-path=\"url(#p655d35889d)\" d=\"M 38.482813 201.259219 \nL 373.282813 201.259219 \n\" style=\"fill:none;stroke:#b0b0b0;stroke-linecap:square;stroke-width:0.8;\"/>\n     </g>\n     <g id=\"line2d_22\">\n      <g>\n       <use style=\"stroke:#000000;stroke-width:0.8;\" x=\"38.482813\" xlink:href=\"#m93a23e13d3\" y=\"201.259219\"/>\n      </g>\n     </g>\n     <g id=\"text_11\">\n      <!-- −1.5 -->\n      <g transform=\"translate(7.2 205.058437)scale(0.1 -0.1)\">\n       <use xlink:href=\"#DejaVuSans-8722\"/>\n       <use x=\"83.789062\" xlink:href=\"#DejaVuSans-49\"/>\n       <use x=\"147.412109\" xlink:href=\"#DejaVuSans-46\"/>\n       <use x=\"179.199219\" xlink:href=\"#DejaVuSans-53\"/>\n      </g>\n     </g>\n    </g>\n    <g id=\"ytick_3\">\n     <g id=\"line2d_23\">\n      <path clip-path=\"url(#p655d35889d)\" d=\"M 38.482813 174.079219 \nL 373.282813 174.079219 \n\" style=\"fill:none;stroke:#b0b0b0;stroke-linecap:square;stroke-width:0.8;\"/>\n     </g>\n     <g id=\"line2d_24\">\n      <g>\n       <use style=\"stroke:#000000;stroke-width:0.8;\" x=\"38.482813\" xlink:href=\"#m93a23e13d3\" y=\"174.079219\"/>\n      </g>\n     </g>\n     <g id=\"text_12\">\n      <!-- −1.0 -->\n      <g transform=\"translate(7.2 177.878437)scale(0.1 -0.1)\">\n       <use xlink:href=\"#DejaVuSans-8722\"/>\n       <use x=\"83.789062\" xlink:href=\"#DejaVuSans-49\"/>\n       <use x=\"147.412109\" xlink:href=\"#DejaVuSans-46\"/>\n       <use x=\"179.199219\" xlink:href=\"#DejaVuSans-48\"/>\n      </g>\n     </g>\n    </g>\n    <g id=\"ytick_4\">\n     <g id=\"line2d_25\">\n      <path clip-path=\"url(#p655d35889d)\" d=\"M 38.482813 146.899219 \nL 373.282813 146.899219 \n\" style=\"fill:none;stroke:#b0b0b0;stroke-linecap:square;stroke-width:0.8;\"/>\n     </g>\n     <g id=\"line2d_26\">\n      <g>\n       <use style=\"stroke:#000000;stroke-width:0.8;\" x=\"38.482813\" xlink:href=\"#m93a23e13d3\" y=\"146.899219\"/>\n      </g>\n     </g>\n     <g id=\"text_13\">\n      <!-- −0.5 -->\n      <g transform=\"translate(7.2 150.698437)scale(0.1 -0.1)\">\n       <use xlink:href=\"#DejaVuSans-8722\"/>\n       <use x=\"83.789062\" xlink:href=\"#DejaVuSans-48\"/>\n       <use x=\"147.412109\" xlink:href=\"#DejaVuSans-46\"/>\n       <use x=\"179.199219\" xlink:href=\"#DejaVuSans-53\"/>\n      </g>\n     </g>\n    </g>\n    <g id=\"ytick_5\">\n     <g id=\"line2d_27\">\n      <path clip-path=\"url(#p655d35889d)\" d=\"M 38.482813 119.719219 \nL 373.282813 119.719219 \n\" style=\"fill:none;stroke:#b0b0b0;stroke-linecap:square;stroke-width:0.8;\"/>\n     </g>\n     <g id=\"line2d_28\">\n      <g>\n       <use style=\"stroke:#000000;stroke-width:0.8;\" x=\"38.482813\" xlink:href=\"#m93a23e13d3\" y=\"119.719219\"/>\n      </g>\n     </g>\n     <g id=\"text_14\">\n      <!-- 0.0 -->\n      <g transform=\"translate(15.579688 123.518437)scale(0.1 -0.1)\">\n       <use xlink:href=\"#DejaVuSans-48\"/>\n       <use x=\"63.623047\" xlink:href=\"#DejaVuSans-46\"/>\n       <use x=\"95.410156\" xlink:href=\"#DejaVuSans-48\"/>\n      </g>\n     </g>\n    </g>\n    <g id=\"ytick_6\">\n     <g id=\"line2d_29\">\n      <path clip-path=\"url(#p655d35889d)\" d=\"M 38.482813 92.539219 \nL 373.282813 92.539219 \n\" style=\"fill:none;stroke:#b0b0b0;stroke-linecap:square;stroke-width:0.8;\"/>\n     </g>\n     <g id=\"line2d_30\">\n      <g>\n       <use style=\"stroke:#000000;stroke-width:0.8;\" x=\"38.482813\" xlink:href=\"#m93a23e13d3\" y=\"92.539219\"/>\n      </g>\n     </g>\n     <g id=\"text_15\">\n      <!-- 0.5 -->\n      <g transform=\"translate(15.579688 96.338437)scale(0.1 -0.1)\">\n       <use xlink:href=\"#DejaVuSans-48\"/>\n       <use x=\"63.623047\" xlink:href=\"#DejaVuSans-46\"/>\n       <use x=\"95.410156\" xlink:href=\"#DejaVuSans-53\"/>\n      </g>\n     </g>\n    </g>\n    <g id=\"ytick_7\">\n     <g id=\"line2d_31\">\n      <path clip-path=\"url(#p655d35889d)\" d=\"M 38.482813 65.359219 \nL 373.282813 65.359219 \n\" style=\"fill:none;stroke:#b0b0b0;stroke-linecap:square;stroke-width:0.8;\"/>\n     </g>\n     <g id=\"line2d_32\">\n      <g>\n       <use style=\"stroke:#000000;stroke-width:0.8;\" x=\"38.482813\" xlink:href=\"#m93a23e13d3\" y=\"65.359219\"/>\n      </g>\n     </g>\n     <g id=\"text_16\">\n      <!-- 1.0 -->\n      <g transform=\"translate(15.579688 69.158437)scale(0.1 -0.1)\">\n       <use xlink:href=\"#DejaVuSans-49\"/>\n       <use x=\"63.623047\" xlink:href=\"#DejaVuSans-46\"/>\n       <use x=\"95.410156\" xlink:href=\"#DejaVuSans-48\"/>\n      </g>\n     </g>\n    </g>\n    <g id=\"ytick_8\">\n     <g id=\"line2d_33\">\n      <path clip-path=\"url(#p655d35889d)\" d=\"M 38.482813 38.179219 \nL 373.282813 38.179219 \n\" style=\"fill:none;stroke:#b0b0b0;stroke-linecap:square;stroke-width:0.8;\"/>\n     </g>\n     <g id=\"line2d_34\">\n      <g>\n       <use style=\"stroke:#000000;stroke-width:0.8;\" x=\"38.482813\" xlink:href=\"#m93a23e13d3\" y=\"38.179219\"/>\n      </g>\n     </g>\n     <g id=\"text_17\">\n      <!-- 1.5 -->\n      <g transform=\"translate(15.579688 41.978437)scale(0.1 -0.1)\">\n       <use xlink:href=\"#DejaVuSans-49\"/>\n       <use x=\"63.623047\" xlink:href=\"#DejaVuSans-46\"/>\n       <use x=\"95.410156\" xlink:href=\"#DejaVuSans-53\"/>\n      </g>\n     </g>\n    </g>\n    <g id=\"ytick_9\">\n     <g id=\"line2d_35\">\n      <path clip-path=\"url(#p655d35889d)\" d=\"M 38.482813 10.999219 \nL 373.282813 10.999219 \n\" style=\"fill:none;stroke:#b0b0b0;stroke-linecap:square;stroke-width:0.8;\"/>\n     </g>\n     <g id=\"line2d_36\">\n      <g>\n       <use style=\"stroke:#000000;stroke-width:0.8;\" x=\"38.482813\" xlink:href=\"#m93a23e13d3\" y=\"10.999219\"/>\n      </g>\n     </g>\n     <g id=\"text_18\">\n      <!-- 2.0 -->\n      <g transform=\"translate(15.579688 14.798437)scale(0.1 -0.1)\">\n       <use xlink:href=\"#DejaVuSans-50\"/>\n       <use x=\"63.623047\" xlink:href=\"#DejaVuSans-46\"/>\n       <use x=\"95.410156\" xlink:href=\"#DejaVuSans-48\"/>\n      </g>\n     </g>\n    </g>\n   </g>\n   <g id=\"line2d_37\">\n    <defs>\n     <path d=\"M -3 0 \nL 3 0 \nM 0 3 \nL 0 -3 \n\" id=\"m3e3a3749cd\" style=\"stroke:#ff0000;\"/>\n    </defs>\n    <g clip-path=\"url(#p655d35889d)\">\n     <use style=\"fill:#ff0000;stroke:#ff0000;\" x=\"80.332812\" xlink:href=\"#m3e3a3749cd\" y=\"190.387216\"/>\n     <use style=\"fill:#ff0000;stroke:#ff0000;\" x=\"222.622813\" xlink:href=\"#m3e3a3749cd\" y=\"195.823217\"/>\n     <use style=\"fill:#ff0000;stroke:#ff0000;\" x=\"147.292813\" xlink:href=\"#m3e3a3749cd\" y=\"146.899219\"/>\n    </g>\n   </g>\n   <g id=\"line2d_38\">\n    <defs>\n     <path d=\"M 0 1.5 \nC 0.397805 1.5 0.77937 1.341951 1.06066 1.06066 \nC 1.341951 0.77937 1.5 0.397805 1.5 0 \nC 1.5 -0.397805 1.341951 -0.77937 1.06066 -1.06066 \nC 0.77937 -1.341951 0.397805 -1.5 0 -1.5 \nC -0.397805 -1.5 -0.77937 -1.341951 -1.06066 -1.06066 \nC -1.341951 -0.77937 -1.5 -0.397805 -1.5 0 \nC -1.5 0.397805 -1.341951 0.77937 -1.06066 1.06066 \nC -0.77937 1.341951 -0.397805 1.5 0 1.5 \nz\n\" id=\"m9b3bfaa620\" style=\"stroke:#0000ff;\"/>\n    </defs>\n    <g clip-path=\"url(#p655d35889d)\">\n     <use style=\"fill:#0000ff;stroke:#0000ff;\" x=\"306.322816\" xlink:href=\"#m9b3bfaa620\" y=\"65.359219\"/>\n     <use style=\"fill:#0000ff;stroke:#0000ff;\" x=\"222.622813\" xlink:href=\"#m9b3bfaa620\" y=\"43.61522\"/>\n     <use style=\"fill:#0000ff;stroke:#0000ff;\" x=\"247.732812\" xlink:href=\"#m9b3bfaa620\" y=\"92.539219\"/>\n    </g>\n   </g>\n   <g id=\"line2d_39\">\n    <path clip-path=\"url(#p655d35889d)\" d=\"M 38.482812 246.559227 \nL 373.282812 101.599218 \n\" style=\"fill:none;stroke:#1f77b4;stroke-linecap:square;stroke-width:1.5;\"/>\n   </g>\n   <g id=\"patch_3\">\n    <path d=\"M 38.482813 228.439219 \nL 38.482813 10.999219 \n\" style=\"fill:none;stroke:#000000;stroke-linecap:square;stroke-linejoin:miter;stroke-width:0.8;\"/>\n   </g>\n   <g id=\"patch_4\">\n    <path d=\"M 373.282813 228.439219 \nL 373.282813 10.999219 \n\" style=\"fill:none;stroke:#000000;stroke-linecap:square;stroke-linejoin:miter;stroke-width:0.8;\"/>\n   </g>\n   <g id=\"patch_5\">\n    <path d=\"M 38.482812 228.439219 \nL 373.282812 228.439219 \n\" style=\"fill:none;stroke:#000000;stroke-linecap:square;stroke-linejoin:miter;stroke-width:0.8;\"/>\n   </g>\n   <g id=\"patch_6\">\n    <path d=\"M 38.482812 10.999219 \nL 373.282812 10.999219 \n\" style=\"fill:none;stroke:#000000;stroke-linecap:square;stroke-linejoin:miter;stroke-width:0.8;\"/>\n   </g>\n  </g>\n </g>\n <defs>\n  <clipPath id=\"p655d35889d\">\n   <rect height=\"217.44\" width=\"334.8\" x=\"38.482813\" y=\"10.999219\"/>\n  </clipPath>\n </defs>\n</svg>\n",
      "image/png": "[encoded data removed]"
     },
     "metadata": {
      "needs_background": "light"
     }
    }
   ],
   "source": [
    "import matplotlib.pyplot as plt\n",
    "\n",
    "# create some toy 2-D datapoints with binary (0/1) labels\n",
    "x = torch.tensor([[1.2, 1], [0.2, 1.4], [0.5, 0.5], \n",
    "                  [-1.5, -1.3], [0.2, -1.4], [-0.7, -0.5]])\n",
    "y = torch.tensor([0, 0, 0, 1, 1, 1 ])\n",
    "\n",
    "def plot_soln(x, y, params):\n",
    "  plt.plot(x[y==1,0], x[y==1,1], 'r+')\n",
    "  plt.plot(x[y==0,0], x[y==0,1], 'b.')\n",
    "  plt.grid(True)\n",
    "  plt.axis([-2, 2, -2, 2])\n",
    "  \n",
    "  # NOTE : This may depend on how you implement Neuron.\n",
    "  #   Change accordingly\n",
    "  w0 = params[0][0][0].item()\n",
    "  w1 = params[0][0][1].item()\n",
    "  bias = params[1][0].item()\n",
    "  \n",
    "  print(\"w0 =\", w0, \"w1 =\", w1, \"bias =\", bias)\n",
    "  dbx = torch.tensor([-2, 2])\n",
    "  dby = -(1/w1)*(w0*dbx + bias)  # plot the line corresponding to the weights and bias\n",
    "  plt.plot(dbx, dby)\n",
    "\n",
    "params = list(my_neuron.parameters())\n",
    "plot_soln(x, y, params)"
   ]
  },
  {
   "cell_type": "markdown",
   "metadata": {
    "colab_type": "text",
    "id": "CpB2AwwhckYc"
   },
   "source": [
    "**1.5.1** Declare an object `criterion` of type `nn.CrossEntropyLoss`. Note that this can be called as a function on two tensors, one representing the network outputs and the other, the targets that the network is being trained to predict, to return the loss. Print the value of the loss on the dataset using the initial weights and bias defined above in Q1.2."
   ]
  },
  {
   "cell_type": "code",
   "execution_count": 324,
   "metadata": {
    "colab": {
     "base_uri": "https://localhost:8080/",
     "height": 34
    },
    "colab_type": "code",
    "executionInfo": {
     "elapsed": 553,
     "status": "ok",
     "timestamp": 1581998912941,
     "user": {
      "displayName": "Samarth Mishra",
      "photoUrl": "",
      "userId": "00064519813488481618"
     },
     "user_tz": 300
    },
    "id": "l1M8bkH5cnVQ",
    "outputId": "8b79c853-db3e-4688-856e-1c7663195fdd"
   },
   "outputs": [
    {
     "output_type": "stream",
     "name": "stdout",
     "text": [
      "torch.Size([6, 1])\ntorch.Size([6, 2])\ntorch.Size([6])\n"
     ]
    },
    {
     "output_type": "error",
     "ename": "IndexError",
     "evalue": "Dimension out of range (expected to be in range of [-1, 0], but got 1)",
     "traceback": [
      "\u001b[0;31m---------------------------------------------------------------------------\u001b[0m",
      "\u001b[0;31mIndexError\u001b[0m                                Traceback (most recent call last)",
      "\u001b[0;32m<ipython-input-324-d02337f460e2>\u001b[0m in \u001b[0;36m<module>\u001b[0;34m\u001b[0m\n\u001b[1;32m      9\u001b[0m \u001b[0;31m# print(tensor.shape)\u001b[0m\u001b[0;34m\u001b[0m\u001b[0;34m\u001b[0m\u001b[0;34m\u001b[0m\u001b[0m\n\u001b[1;32m     10\u001b[0m \u001b[0mprint\u001b[0m\u001b[0;34m(\u001b[0m\u001b[0my\u001b[0m\u001b[0;34m.\u001b[0m\u001b[0mshape\u001b[0m\u001b[0;34m)\u001b[0m\u001b[0;34m\u001b[0m\u001b[0;34m\u001b[0m\u001b[0m\n\u001b[0;32m---> 11\u001b[0;31m \u001b[0mloss\u001b[0m \u001b[0;34m=\u001b[0m \u001b[0mcriterion\u001b[0m\u001b[0;34m(\u001b[0m\u001b[0my\u001b[0m\u001b[0;34m,\u001b[0m \u001b[0mnet\u001b[0m\u001b[0;34m)\u001b[0m\u001b[0;34m\u001b[0m\u001b[0;34m\u001b[0m\u001b[0m\n\u001b[0m\u001b[1;32m     12\u001b[0m \u001b[0mprint\u001b[0m\u001b[0;34m(\u001b[0m\u001b[0;34m\"loss =\"\u001b[0m\u001b[0;34m,\u001b[0m \u001b[0mloss\u001b[0m\u001b[0;34m.\u001b[0m\u001b[0mitem\u001b[0m\u001b[0;34m(\u001b[0m\u001b[0;34m)\u001b[0m\u001b[0;34m)\u001b[0m\u001b[0;34m\u001b[0m\u001b[0;34m\u001b[0m\u001b[0m\n",
      "\u001b[0;32m~/opt/anaconda3/envs/myenv/lib/python3.7/site-packages/torch/nn/modules/module.py\u001b[0m in \u001b[0;36m_call_impl\u001b[0;34m(self, *input, **kwargs)\u001b[0m\n\u001b[1;32m    725\u001b[0m             \u001b[0mresult\u001b[0m \u001b[0;34m=\u001b[0m \u001b[0mself\u001b[0m\u001b[0;34m.\u001b[0m\u001b[0m_slow_forward\u001b[0m\u001b[0;34m(\u001b[0m\u001b[0;34m*\u001b[0m\u001b[0minput\u001b[0m\u001b[0;34m,\u001b[0m \u001b[0;34m**\u001b[0m\u001b[0mkwargs\u001b[0m\u001b[0;34m)\u001b[0m\u001b[0;34m\u001b[0m\u001b[0;34m\u001b[0m\u001b[0m\n\u001b[1;32m    726\u001b[0m         \u001b[0;32melse\u001b[0m\u001b[0;34m:\u001b[0m\u001b[0;34m\u001b[0m\u001b[0;34m\u001b[0m\u001b[0m\n\u001b[0;32m--> 727\u001b[0;31m             \u001b[0mresult\u001b[0m \u001b[0;34m=\u001b[0m \u001b[0mself\u001b[0m\u001b[0;34m.\u001b[0m\u001b[0mforward\u001b[0m\u001b[0;34m(\u001b[0m\u001b[0;34m*\u001b[0m\u001b[0minput\u001b[0m\u001b[0;34m,\u001b[0m \u001b[0;34m**\u001b[0m\u001b[0mkwargs\u001b[0m\u001b[0;34m)\u001b[0m\u001b[0;34m\u001b[0m\u001b[0;34m\u001b[0m\u001b[0m\n\u001b[0m\u001b[1;32m    728\u001b[0m         for hook in itertools.chain(\n\u001b[1;32m    729\u001b[0m                 \u001b[0m_global_forward_hooks\u001b[0m\u001b[0;34m.\u001b[0m\u001b[0mvalues\u001b[0m\u001b[0;34m(\u001b[0m\u001b[0;34m)\u001b[0m\u001b[0;34m,\u001b[0m\u001b[0;34m\u001b[0m\u001b[0;34m\u001b[0m\u001b[0m\n",
      "\u001b[0;32m~/opt/anaconda3/envs/myenv/lib/python3.7/site-packages/torch/nn/modules/loss.py\u001b[0m in \u001b[0;36mforward\u001b[0;34m(self, input, target)\u001b[0m\n\u001b[1;32m    960\u001b[0m     \u001b[0;32mdef\u001b[0m \u001b[0mforward\u001b[0m\u001b[0;34m(\u001b[0m\u001b[0mself\u001b[0m\u001b[0;34m,\u001b[0m \u001b[0minput\u001b[0m\u001b[0;34m:\u001b[0m \u001b[0mTensor\u001b[0m\u001b[0;34m,\u001b[0m \u001b[0mtarget\u001b[0m\u001b[0;34m:\u001b[0m \u001b[0mTensor\u001b[0m\u001b[0;34m)\u001b[0m \u001b[0;34m->\u001b[0m \u001b[0mTensor\u001b[0m\u001b[0;34m:\u001b[0m\u001b[0;34m\u001b[0m\u001b[0;34m\u001b[0m\u001b[0m\n\u001b[1;32m    961\u001b[0m         return F.cross_entropy(input, target, weight=self.weight,\n\u001b[0;32m--> 962\u001b[0;31m                                ignore_index=self.ignore_index, reduction=self.reduction)\n\u001b[0m\u001b[1;32m    963\u001b[0m \u001b[0;34m\u001b[0m\u001b[0m\n\u001b[1;32m    964\u001b[0m \u001b[0;34m\u001b[0m\u001b[0m\n",
      "\u001b[0;32m~/opt/anaconda3/envs/myenv/lib/python3.7/site-packages/torch/nn/functional.py\u001b[0m in \u001b[0;36mcross_entropy\u001b[0;34m(input, target, weight, size_average, ignore_index, reduce, reduction)\u001b[0m\n\u001b[1;32m   2466\u001b[0m     \u001b[0;32mif\u001b[0m \u001b[0msize_average\u001b[0m \u001b[0;32mis\u001b[0m \u001b[0;32mnot\u001b[0m \u001b[0;32mNone\u001b[0m \u001b[0;32mor\u001b[0m \u001b[0mreduce\u001b[0m \u001b[0;32mis\u001b[0m \u001b[0;32mnot\u001b[0m \u001b[0;32mNone\u001b[0m\u001b[0;34m:\u001b[0m\u001b[0;34m\u001b[0m\u001b[0;34m\u001b[0m\u001b[0m\n\u001b[1;32m   2467\u001b[0m         \u001b[0mreduction\u001b[0m \u001b[0;34m=\u001b[0m \u001b[0m_Reduction\u001b[0m\u001b[0;34m.\u001b[0m\u001b[0mlegacy_get_string\u001b[0m\u001b[0;34m(\u001b[0m\u001b[0msize_average\u001b[0m\u001b[0;34m,\u001b[0m \u001b[0mreduce\u001b[0m\u001b[0;34m)\u001b[0m\u001b[0;34m\u001b[0m\u001b[0;34m\u001b[0m\u001b[0m\n\u001b[0;32m-> 2468\u001b[0;31m     \u001b[0;32mreturn\u001b[0m \u001b[0mnll_loss\u001b[0m\u001b[0;34m(\u001b[0m\u001b[0mlog_softmax\u001b[0m\u001b[0;34m(\u001b[0m\u001b[0minput\u001b[0m\u001b[0;34m,\u001b[0m \u001b[0;36m1\u001b[0m\u001b[0;34m)\u001b[0m\u001b[0;34m,\u001b[0m \u001b[0mtarget\u001b[0m\u001b[0;34m,\u001b[0m \u001b[0mweight\u001b[0m\u001b[0;34m,\u001b[0m \u001b[0;32mNone\u001b[0m\u001b[0;34m,\u001b[0m \u001b[0mignore_index\u001b[0m\u001b[0;34m,\u001b[0m \u001b[0;32mNone\u001b[0m\u001b[0;34m,\u001b[0m \u001b[0mreduction\u001b[0m\u001b[0;34m)\u001b[0m\u001b[0;34m\u001b[0m\u001b[0;34m\u001b[0m\u001b[0m\n\u001b[0m\u001b[1;32m   2469\u001b[0m \u001b[0;34m\u001b[0m\u001b[0m\n\u001b[1;32m   2470\u001b[0m \u001b[0;34m\u001b[0m\u001b[0m\n",
      "\u001b[0;32m~/opt/anaconda3/envs/myenv/lib/python3.7/site-packages/torch/nn/functional.py\u001b[0m in \u001b[0;36mlog_softmax\u001b[0;34m(input, dim, _stacklevel, dtype)\u001b[0m\n\u001b[1;32m   1603\u001b[0m         \u001b[0mdim\u001b[0m \u001b[0;34m=\u001b[0m \u001b[0m_get_softmax_dim\u001b[0m\u001b[0;34m(\u001b[0m\u001b[0;34m'log_softmax'\u001b[0m\u001b[0;34m,\u001b[0m \u001b[0minput\u001b[0m\u001b[0;34m.\u001b[0m\u001b[0mdim\u001b[0m\u001b[0;34m(\u001b[0m\u001b[0;34m)\u001b[0m\u001b[0;34m,\u001b[0m \u001b[0m_stacklevel\u001b[0m\u001b[0;34m)\u001b[0m\u001b[0;34m\u001b[0m\u001b[0;34m\u001b[0m\u001b[0m\n\u001b[1;32m   1604\u001b[0m     \u001b[0;32mif\u001b[0m \u001b[0mdtype\u001b[0m \u001b[0;32mis\u001b[0m \u001b[0;32mNone\u001b[0m\u001b[0;34m:\u001b[0m\u001b[0;34m\u001b[0m\u001b[0;34m\u001b[0m\u001b[0m\n\u001b[0;32m-> 1605\u001b[0;31m         \u001b[0mret\u001b[0m \u001b[0;34m=\u001b[0m \u001b[0minput\u001b[0m\u001b[0;34m.\u001b[0m\u001b[0mlog_softmax\u001b[0m\u001b[0;34m(\u001b[0m\u001b[0mdim\u001b[0m\u001b[0;34m)\u001b[0m\u001b[0;34m\u001b[0m\u001b[0;34m\u001b[0m\u001b[0m\n\u001b[0m\u001b[1;32m   1606\u001b[0m     \u001b[0;32melse\u001b[0m\u001b[0;34m:\u001b[0m\u001b[0;34m\u001b[0m\u001b[0;34m\u001b[0m\u001b[0m\n\u001b[1;32m   1607\u001b[0m         \u001b[0mret\u001b[0m \u001b[0;34m=\u001b[0m \u001b[0minput\u001b[0m\u001b[0;34m.\u001b[0m\u001b[0mlog_softmax\u001b[0m\u001b[0;34m(\u001b[0m\u001b[0mdim\u001b[0m\u001b[0;34m,\u001b[0m \u001b[0mdtype\u001b[0m\u001b[0;34m=\u001b[0m\u001b[0mdtype\u001b[0m\u001b[0;34m)\u001b[0m\u001b[0;34m\u001b[0m\u001b[0;34m\u001b[0m\u001b[0m\n",
      "\u001b[0;31mIndexError\u001b[0m: Dimension out of range (expected to be in range of [-1, 0], but got 1)"
     ]
    }
   ],
   "source": [
    "# solution here\n",
    "my_neuron = Neuron()\n",
    "net = my_neuron(x)\n",
    "criterion = nn.CrossEntropyLoss()\n",
    "# net = net[:, 0]\n",
    "print(net.shape)\n",
    "print(x.shape)\n",
    "# tensor = torch.zeros(6)\n",
    "# print(tensor.shape)\n",
    "print(y.shape)\n",
    "loss = criterion(y, net)\n",
    "print(\"loss =\", loss.item())"
   ]
  },
  {
   "cell_type": "markdown",
   "metadata": {
    "colab_type": "text",
    "id": "RJqHzmDL6yYh"
   },
   "source": [
    "**1.5.2** The following prints out the chain of `grad_fn` functions backwards starting from `loss.grad_fn`  to demonstrate what backpropagation will be run on."
   ]
  },
  {
   "cell_type": "code",
   "execution_count": 290,
   "metadata": {
    "colab": {
     "base_uri": "https://localhost:8080/",
     "height": 86
    },
    "colab_type": "code",
    "executionInfo": {
     "elapsed": 404,
     "status": "ok",
     "timestamp": 1581998915620,
     "user": {
      "displayName": "Samarth Mishra",
      "photoUrl": "",
      "userId": "00064519813488481618"
     },
     "user_tz": 300
    },
    "id": "wawoYnT3U04S",
    "outputId": "cfafafbe-8cd0-48bb-c6a4-bda00371a103",
    "scrolled": true
   },
   "outputs": [
    {
     "output_type": "stream",
     "name": "stdout",
     "text": [
      "None\n"
     ]
    },
    {
     "output_type": "error",
     "ename": "AttributeError",
     "evalue": "'NoneType' object has no attribute 'next_functions'",
     "traceback": [
      "\u001b[0;31m---------------------------------------------------------------------------\u001b[0m",
      "\u001b[0;31mAttributeError\u001b[0m                            Traceback (most recent call last)",
      "\u001b[0;32m<ipython-input-290-bed0e68ac95e>\u001b[0m in \u001b[0;36m<module>\u001b[0;34m\u001b[0m\n\u001b[1;32m      1\u001b[0m \u001b[0mprint\u001b[0m\u001b[0;34m(\u001b[0m\u001b[0mloss\u001b[0m\u001b[0;34m.\u001b[0m\u001b[0mgrad_fn\u001b[0m\u001b[0;34m)\u001b[0m\u001b[0;34m\u001b[0m\u001b[0;34m\u001b[0m\u001b[0m\n\u001b[0;32m----> 2\u001b[0;31m \u001b[0mprint\u001b[0m\u001b[0;34m(\u001b[0m\u001b[0mloss\u001b[0m\u001b[0;34m.\u001b[0m\u001b[0mgrad_fn\u001b[0m\u001b[0;34m.\u001b[0m\u001b[0mnext_functions\u001b[0m\u001b[0;34m[\u001b[0m\u001b[0;36m0\u001b[0m\u001b[0;34m]\u001b[0m\u001b[0;34m[\u001b[0m\u001b[0;36m0\u001b[0m\u001b[0;34m]\u001b[0m\u001b[0;34m)\u001b[0m\u001b[0;34m\u001b[0m\u001b[0;34m\u001b[0m\u001b[0m\n\u001b[0m\u001b[1;32m      3\u001b[0m \u001b[0mprint\u001b[0m\u001b[0;34m(\u001b[0m\u001b[0mloss\u001b[0m\u001b[0;34m.\u001b[0m\u001b[0mgrad_fn\u001b[0m\u001b[0;34m.\u001b[0m\u001b[0mnext_functions\u001b[0m\u001b[0;34m[\u001b[0m\u001b[0;36m0\u001b[0m\u001b[0;34m]\u001b[0m\u001b[0;34m[\u001b[0m\u001b[0;36m0\u001b[0m\u001b[0;34m]\u001b[0m\u001b[0;34m.\u001b[0m\u001b[0mnext_functions\u001b[0m\u001b[0;34m[\u001b[0m\u001b[0;36m0\u001b[0m\u001b[0;34m]\u001b[0m\u001b[0;34m[\u001b[0m\u001b[0;36m0\u001b[0m\u001b[0;34m]\u001b[0m\u001b[0;34m)\u001b[0m\u001b[0;34m\u001b[0m\u001b[0;34m\u001b[0m\u001b[0m\n\u001b[1;32m      4\u001b[0m \u001b[0mprint\u001b[0m\u001b[0;34m(\u001b[0m\u001b[0mloss\u001b[0m\u001b[0;34m.\u001b[0m\u001b[0mgrad_fn\u001b[0m\u001b[0;34m.\u001b[0m\u001b[0mnext_functions\u001b[0m\u001b[0;34m[\u001b[0m\u001b[0;36m0\u001b[0m\u001b[0;34m]\u001b[0m\u001b[0;34m[\u001b[0m\u001b[0;36m0\u001b[0m\u001b[0;34m]\u001b[0m\u001b[0;34m.\u001b[0m\u001b[0mnext_functions\u001b[0m\u001b[0;34m[\u001b[0m\u001b[0;36m0\u001b[0m\u001b[0;34m]\u001b[0m\u001b[0;34m[\u001b[0m\u001b[0;36m0\u001b[0m\u001b[0;34m]\u001b[0m\u001b[0;34m.\u001b[0m\u001b[0mnext_functions\u001b[0m\u001b[0;34m[\u001b[0m\u001b[0;36m0\u001b[0m\u001b[0;34m]\u001b[0m\u001b[0;34m[\u001b[0m\u001b[0;36m0\u001b[0m\u001b[0;34m]\u001b[0m\u001b[0;34m)\u001b[0m\u001b[0;34m\u001b[0m\u001b[0;34m\u001b[0m\u001b[0m\n",
      "\u001b[0;31mAttributeError\u001b[0m: 'NoneType' object has no attribute 'next_functions'"
     ]
    }
   ],
   "source": [
    "print(loss.grad_fn)  \n",
    "print(loss.grad_fn.next_functions[0][0])  \n",
    "print(loss.grad_fn.next_functions[0][0].next_functions[0][0])  \n",
    "print(loss.grad_fn.next_functions[0][0].next_functions[0][0].next_functions[0][0])  "
   ]
  },
  {
   "cell_type": "markdown",
   "metadata": {
    "colab_type": "text",
    "id": "Og0ZO46h3UNg"
   },
   "source": [
    "**1.5.3** Run the Stochastic Gradient Descent (SGD) optimizer from the `torch.optim` package to train your classifier on the toy dataset. Use the entire dataset in each batch. Use a learning rate of $0.01$ (no other hyperparameters). You will need to write a training loop that uses the `.step()` function of the optimizer. Plot the solution and print the loss after 1000 iterations."
   ]
  },
  {
   "cell_type": "code",
   "execution_count": 0,
   "metadata": {
    "colab": {
     "base_uri": "https://localhost:8080/",
     "height": 304
    },
    "colab_type": "code",
    "executionInfo": {
     "elapsed": 1098,
     "status": "ok",
     "timestamp": 1581998918323,
     "user": {
      "displayName": "Samarth Mishra",
      "photoUrl": "",
      "userId": "00064519813488481618"
     },
     "user_tz": 300
    },
    "id": "fqxdnM-vV1DU",
    "outputId": "3699a412-a9bb-48ad-d873-53349a233a23"
   },
   "outputs": [
    {
     "name": "stdout",
     "output_type": "stream",
     "text": [
      "loss = 0.870725691318512\n",
      "w0 = 2.161842107772827 w1 = -2.233754873275757 bias = -3.3213229179382324\n"
     ]
    },
    {
     "data": {
      "image/png": "[encoded data removed]",
      "text/plain": [
       "<Figure size 432x288 with 1 Axes>"
      ]
     },
     "metadata": {
      "tags": []
     },
     "output_type": "display_data"
    }
   ],
   "source": [
    "# solution here"
   ]
  },
  {
   "cell_type": "markdown",
   "metadata": {
    "colab_type": "text",
    "id": "Z0NBjzHF6TN5"
   },
   "source": [
    "**1.5.4** How many thousands of iterations does it take (approximately) until the neuron learns to classify the data correctly?"
   ]
  },
  {
   "cell_type": "markdown",
   "metadata": {
    "colab_type": "text",
    "id": "wc4CEo9c6neD"
   },
   "source": [
    "**[ double click to enter solution ]**"
   ]
  },
  {
   "cell_type": "markdown",
   "metadata": {
    "colab_type": "text",
    "id": "xEV3Px886zrI"
   },
   "source": [
    "\n",
    "\n",
    "---\n",
    "\n",
    "\n",
    "# Problem 2: Convolutional Networks (30 points)\n",
    "\n",
    "In this part, we will experiment with CNNs in PyTorch. You will need to read the documentation of the functions provided below to understand how they work.\n",
    "\n",
    "**GPU Training.** Smaller networks will train fine on a CPU, but you may want to use GPU training for this part of the homework. You can run your experiments on Colab's GPUs or on BU's  [Shared Computing Cluster (SCC)](http://www.bu.edu/tech/services/research/computation/scc/). "
   ]
  },
  {
   "cell_type": "markdown",
   "metadata": {
    "colab_type": "text",
    "id": "Kxl45fh6FNq6"
   },
   "source": [
    "### 2.1. Training a CNN on SVHN\n",
    "We will create and train a convolutional network on the [SVHN Dataset](http://ufldl.stanford.edu/housenumbers/).\n",
    "\n",
    "The SVHN dataset consists of photos of house numbers, collected automatically using Google's Street View. Recognizing multi-digit numbers in photographs captured at street level is an important component of modern-day map making. Google’s Street View imagery contains hundreds of millions of geo-located 360 degree panoramic images. The ability to automatically transcribe an address number from a geo-located patch of pixels and associate the transcribed number with a known street address helps pinpoint, with a high degree of accuracy, the location of the building it represents. Below are example images from the dataset. Note that for this dataset, each image (32x32 pixels) has been cropped around a single number in its center, which is the number we want to classify.\n",
    "\n",
    "![SVHN images](http://ufldl.stanford.edu/housenumbers/32x32eg.png)\n"
   ]
  },
  {
   "cell_type": "markdown",
   "metadata": {
    "colab_type": "text",
    "id": "NJa-vlG99lMr"
   },
   "source": [
    "### 2.1.2 Data Download\n",
    "The following downloads the SVHN dataset using `torchvision` and displays the images in the first batch. "
   ]
  },
  {
   "cell_type": "code",
   "execution_count": 291,
   "metadata": {
    "colab": {},
    "colab_type": "code",
    "id": "dHFWPxi6jCoB"
   },
   "outputs": [
    {
     "output_type": "stream",
     "name": "stdout",
     "text": [
      "Downloading http://ufldl.stanford.edu/housenumbers/train_32x32.mat to ./data/train_32x32.mat\n",
      "0.0%Downloading http://ufldl.stanford.edu/housenumbers/test_32x32.mat to ./data/test_32x32.mat\n",
      "100.0%"
     ]
    }
   ],
   "source": [
    "import torch\n",
    "import torchvision\n",
    "import torchvision.transforms as transforms\n",
    "\n",
    "transform = transforms.Compose(\n",
    "    [transforms.ToTensor(),\n",
    "     transforms.Normalize((0.5, 0.5, 0.5), (0.5, 0.5, 0.5))])\n",
    "\n",
    "trainset = torchvision.datasets.SVHN(root='./data', split='train',\n",
    "                                        transform=transform, download=True)\n",
    "trainloader = torch.utils.data.DataLoader(trainset, batch_size=4,\n",
    "                                          shuffle=True, num_workers=2)\n",
    "testset = torchvision.datasets.SVHN(root='./data', split='test',\n",
    "                                        transform=transform, download=True)\n",
    "testloader = torch.utils.data.DataLoader(testset, batch_size=4,\n",
    "                                         shuffle=False, num_workers=2)\n",
    "\n",
    "classes = ('0', '1', '2', '3', '4', '5', '6', '7', '8', '9')"
   ]
  },
  {
   "cell_type": "code",
   "execution_count": 292,
   "metadata": {},
   "outputs": [
    {
     "output_type": "stream",
     "name": "stdout",
     "text": [
      "    5     3     3     2\n"
     ]
    },
    {
     "output_type": "display_data",
     "data": {
      "text/plain": "<Figure size 432x288 with 1 Axes>",
      "image/svg+xml": "<?xml version=\"1.0\" encoding=\"utf-8\" standalone=\"no\"?>\n<!DOCTYPE svg PUBLIC \"-//W3C//DTD SVG 1.1//EN\"\n  \"http://www.w3.org/Graphics/SVG/1.1/DTD/svg11.dtd\">\n<!-- Created with matplotlib (https://matplotlib.org/) -->\n<svg height=\"121.003431pt\" version=\"1.1\" viewBox=\"0 0 368.925 121.003431\" width=\"368.925pt\" xmlns=\"http://www.w3.org/2000/svg\" xmlns:xlink=\"http://www.w3.org/1999/xlink\">\n <metadata>\n  <rdf:RDF xmlns:cc=\"http://creativecommons.org/ns#\" xmlns:dc=\"http://purl.org/dc/elements/1.1/\" xmlns:rdf=\"http://www.w3.org/1999/02/22-rdf-syntax-ns#\">\n   <cc:Work>\n    <dc:type rdf:resource=\"http://purl.org/dc/dcmitype/StillImage\"/>\n    <dc:date>2021-06-13T17:42:06.436396</dc:date>\n    <dc:format>image/svg+xml</dc:format>\n    <dc:creator>\n     <cc:Agent>\n      <dc:title>Matplotlib v3.3.4, https://matplotlib.org/</dc:title>\n     </cc:Agent>\n    </dc:creator>\n   </cc:Work>\n  </rdf:RDF>\n </metadata>\n <defs>\n  <style type=\"text/css\">*{stroke-linecap:butt;stroke-linejoin:round;}</style>\n </defs>\n <g id=\"figure_1\">\n  <g id=\"patch_1\">\n   <path d=\"M -0 121.003431 \nL 368.925 121.003431 \nL 368.925 0 \nL -0 0 \nz\n\" style=\"fill:none;\"/>\n  </g>\n  <g id=\"axes_1\">\n   <g id=\"patch_2\">\n    <path d=\"M 26.925 97.125306 \nL 361.725 97.125306 \nL 361.725 9.786175 \nL 26.925 9.786175 \nz\n\" style=\"fill:#ffffff;\"/>\n   </g>\n   <g clip-path=\"url(#pe1c0c14273)\">\n    <image height=\"88\" id=\"image507f29c50a\" transform=\"scale(1 -1)translate(0 -88)\" width=\"335\" x=\"26.925\" xlink:href=\"data:image/png;base64,\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\" y=\"-9.125306\"/>\n   </g>\n   <g id=\"matplotlib.axis_1\">\n    <g id=\"xtick_1\">\n     <g id=\"line2d_1\">\n      <defs>\n       <path d=\"M 0 0 \nL 0 3.5 \n\" id=\"maa3fac1c83\" style=\"stroke:#000000;stroke-width:0.8;\"/>\n      </defs>\n      <g>\n       <use style=\"stroke:#000000;stroke-width:0.8;\" x=\"28.138043\" xlink:href=\"#maa3fac1c83\" y=\"97.125306\"/>\n      </g>\n     </g>\n     <g id=\"text_1\">\n      <!-- 0 -->\n      <g transform=\"translate(24.956793 111.723743)scale(0.1 -0.1)\">\n       <defs>\n        <path d=\"M 31.78125 66.40625 \nQ 24.171875 66.40625 20.328125 58.90625 \nQ 16.5 51.421875 16.5 36.375 \nQ 16.5 21.390625 20.328125 13.890625 \nQ 24.171875 6.390625 31.78125 6.390625 \nQ 39.453125 6.390625 43.28125 13.890625 \nQ 47.125 21.390625 47.125 36.375 \nQ 47.125 51.421875 43.28125 58.90625 \nQ 39.453125 66.40625 31.78125 66.40625 \nz\nM 31.78125 74.21875 \nQ 44.046875 74.21875 50.515625 64.515625 \nQ 56.984375 54.828125 56.984375 36.375 \nQ 56.984375 17.96875 50.515625 8.265625 \nQ 44.046875 -1.421875 31.78125 -1.421875 \nQ 19.53125 -1.421875 13.0625 8.265625 \nQ 6.59375 17.96875 6.59375 36.375 \nQ 6.59375 54.828125 13.0625 64.515625 \nQ 19.53125 74.21875 31.78125 74.21875 \nz\n\" id=\"DejaVuSans-48\"/>\n       </defs>\n       <use xlink:href=\"#DejaVuSans-48\"/>\n      </g>\n     </g>\n    </g>\n    <g id=\"xtick_2\">\n     <g id=\"line2d_2\">\n      <g>\n       <use style=\"stroke:#000000;stroke-width:0.8;\" x=\"76.659783\" xlink:href=\"#maa3fac1c83\" y=\"97.125306\"/>\n      </g>\n     </g>\n     <g id=\"text_2\">\n      <!-- 20 -->\n      <g transform=\"translate(70.297283 111.723743)scale(0.1 -0.1)\">\n       <defs>\n        <path d=\"M 19.1875 8.296875 \nL 53.609375 8.296875 \nL 53.609375 0 \nL 7.328125 0 \nL 7.328125 8.296875 \nQ 12.9375 14.109375 22.625 23.890625 \nQ 32.328125 33.6875 34.8125 36.53125 \nQ 39.546875 41.84375 41.421875 45.53125 \nQ 43.3125 49.21875 43.3125 52.78125 \nQ 43.3125 58.59375 39.234375 62.25 \nQ 35.15625 65.921875 28.609375 65.921875 \nQ 23.96875 65.921875 18.8125 64.3125 \nQ 13.671875 62.703125 7.8125 59.421875 \nL 7.8125 69.390625 \nQ 13.765625 71.78125 18.9375 73 \nQ 24.125 74.21875 28.421875 74.21875 \nQ 39.75 74.21875 46.484375 68.546875 \nQ 53.21875 62.890625 53.21875 53.421875 \nQ 53.21875 48.921875 51.53125 44.890625 \nQ 49.859375 40.875 45.40625 35.40625 \nQ 44.1875 33.984375 37.640625 27.21875 \nQ 31.109375 20.453125 19.1875 8.296875 \nz\n\" id=\"DejaVuSans-50\"/>\n       </defs>\n       <use xlink:href=\"#DejaVuSans-50\"/>\n       <use x=\"63.623047\" xlink:href=\"#DejaVuSans-48\"/>\n      </g>\n     </g>\n    </g>\n    <g id=\"xtick_3\">\n     <g id=\"line2d_3\">\n      <g>\n       <use style=\"stroke:#000000;stroke-width:0.8;\" x=\"125.181522\" xlink:href=\"#maa3fac1c83\" y=\"97.125306\"/>\n      </g>\n     </g>\n     <g id=\"text_3\">\n      <!-- 40 -->\n      <g transform=\"translate(118.819022 111.723743)scale(0.1 -0.1)\">\n       <defs>\n        <path d=\"M 37.796875 64.3125 \nL 12.890625 25.390625 \nL 37.796875 25.390625 \nz\nM 35.203125 72.90625 \nL 47.609375 72.90625 \nL 47.609375 25.390625 \nL 58.015625 25.390625 \nL 58.015625 17.1875 \nL 47.609375 17.1875 \nL 47.609375 0 \nL 37.796875 0 \nL 37.796875 17.1875 \nL 4.890625 17.1875 \nL 4.890625 26.703125 \nz\n\" id=\"DejaVuSans-52\"/>\n       </defs>\n       <use xlink:href=\"#DejaVuSans-52\"/>\n       <use x=\"63.623047\" xlink:href=\"#DejaVuSans-48\"/>\n      </g>\n     </g>\n    </g>\n    <g id=\"xtick_4\">\n     <g id=\"line2d_4\">\n      <g>\n       <use style=\"stroke:#000000;stroke-width:0.8;\" x=\"173.703261\" xlink:href=\"#maa3fac1c83\" y=\"97.125306\"/>\n      </g>\n     </g>\n     <g id=\"text_4\">\n      <!-- 60 -->\n      <g transform=\"translate(167.340761 111.723743)scale(0.1 -0.1)\">\n       <defs>\n        <path d=\"M 33.015625 40.375 \nQ 26.375 40.375 22.484375 35.828125 \nQ 18.609375 31.296875 18.609375 23.390625 \nQ 18.609375 15.53125 22.484375 10.953125 \nQ 26.375 6.390625 33.015625 6.390625 \nQ 39.65625 6.390625 43.53125 10.953125 \nQ 47.40625 15.53125 47.40625 23.390625 \nQ 47.40625 31.296875 43.53125 35.828125 \nQ 39.65625 40.375 33.015625 40.375 \nz\nM 52.59375 71.296875 \nL 52.59375 62.3125 \nQ 48.875 64.0625 45.09375 64.984375 \nQ 41.3125 65.921875 37.59375 65.921875 \nQ 27.828125 65.921875 22.671875 59.328125 \nQ 17.53125 52.734375 16.796875 39.40625 \nQ 19.671875 43.65625 24.015625 45.921875 \nQ 28.375 48.1875 33.59375 48.1875 \nQ 44.578125 48.1875 50.953125 41.515625 \nQ 57.328125 34.859375 57.328125 23.390625 \nQ 57.328125 12.15625 50.6875 5.359375 \nQ 44.046875 -1.421875 33.015625 -1.421875 \nQ 20.359375 -1.421875 13.671875 8.265625 \nQ 6.984375 17.96875 6.984375 36.375 \nQ 6.984375 53.65625 15.1875 63.9375 \nQ 23.390625 74.21875 37.203125 74.21875 \nQ 40.921875 74.21875 44.703125 73.484375 \nQ 48.484375 72.75 52.59375 71.296875 \nz\n\" id=\"DejaVuSans-54\"/>\n       </defs>\n       <use xlink:href=\"#DejaVuSans-54\"/>\n       <use x=\"63.623047\" xlink:href=\"#DejaVuSans-48\"/>\n      </g>\n     </g>\n    </g>\n    <g id=\"xtick_5\">\n     <g id=\"line2d_5\">\n      <g>\n       <use style=\"stroke:#000000;stroke-width:0.8;\" x=\"222.225\" xlink:href=\"#maa3fac1c83\" y=\"97.125306\"/>\n      </g>\n     </g>\n     <g id=\"text_5\">\n      <!-- 80 -->\n      <g transform=\"translate(215.8625 111.723743)scale(0.1 -0.1)\">\n       <defs>\n        <path d=\"M 31.78125 34.625 \nQ 24.75 34.625 20.71875 30.859375 \nQ 16.703125 27.09375 16.703125 20.515625 \nQ 16.703125 13.921875 20.71875 10.15625 \nQ 24.75 6.390625 31.78125 6.390625 \nQ 38.8125 6.390625 42.859375 10.171875 \nQ 46.921875 13.96875 46.921875 20.515625 \nQ 46.921875 27.09375 42.890625 30.859375 \nQ 38.875 34.625 31.78125 34.625 \nz\nM 21.921875 38.8125 \nQ 15.578125 40.375 12.03125 44.71875 \nQ 8.5 49.078125 8.5 55.328125 \nQ 8.5 64.0625 14.71875 69.140625 \nQ 20.953125 74.21875 31.78125 74.21875 \nQ 42.671875 74.21875 48.875 69.140625 \nQ 55.078125 64.0625 55.078125 55.328125 \nQ 55.078125 49.078125 51.53125 44.71875 \nQ 48 40.375 41.703125 38.8125 \nQ 48.828125 37.15625 52.796875 32.3125 \nQ 56.78125 27.484375 56.78125 20.515625 \nQ 56.78125 9.90625 50.3125 4.234375 \nQ 43.84375 -1.421875 31.78125 -1.421875 \nQ 19.734375 -1.421875 13.25 4.234375 \nQ 6.78125 9.90625 6.78125 20.515625 \nQ 6.78125 27.484375 10.78125 32.3125 \nQ 14.796875 37.15625 21.921875 38.8125 \nz\nM 18.3125 54.390625 \nQ 18.3125 48.734375 21.84375 45.5625 \nQ 25.390625 42.390625 31.78125 42.390625 \nQ 38.140625 42.390625 41.71875 45.5625 \nQ 45.3125 48.734375 45.3125 54.390625 \nQ 45.3125 60.0625 41.71875 63.234375 \nQ 38.140625 66.40625 31.78125 66.40625 \nQ 25.390625 66.40625 21.84375 63.234375 \nQ 18.3125 60.0625 18.3125 54.390625 \nz\n\" id=\"DejaVuSans-56\"/>\n       </defs>\n       <use xlink:href=\"#DejaVuSans-56\"/>\n       <use x=\"63.623047\" xlink:href=\"#DejaVuSans-48\"/>\n      </g>\n     </g>\n    </g>\n    <g id=\"xtick_6\">\n     <g id=\"line2d_6\">\n      <g>\n       <use style=\"stroke:#000000;stroke-width:0.8;\" x=\"270.746739\" xlink:href=\"#maa3fac1c83\" y=\"97.125306\"/>\n      </g>\n     </g>\n     <g id=\"text_6\">\n      <!-- 100 -->\n      <g transform=\"translate(261.202989 111.723743)scale(0.1 -0.1)\">\n       <defs>\n        <path d=\"M 12.40625 8.296875 \nL 28.515625 8.296875 \nL 28.515625 63.921875 \nL 10.984375 60.40625 \nL 10.984375 69.390625 \nL 28.421875 72.90625 \nL 38.28125 72.90625 \nL 38.28125 8.296875 \nL 54.390625 8.296875 \nL 54.390625 0 \nL 12.40625 0 \nz\n\" id=\"DejaVuSans-49\"/>\n       </defs>\n       <use xlink:href=\"#DejaVuSans-49\"/>\n       <use x=\"63.623047\" xlink:href=\"#DejaVuSans-48\"/>\n       <use x=\"127.246094\" xlink:href=\"#DejaVuSans-48\"/>\n      </g>\n     </g>\n    </g>\n    <g id=\"xtick_7\">\n     <g id=\"line2d_7\">\n      <g>\n       <use style=\"stroke:#000000;stroke-width:0.8;\" x=\"319.268478\" xlink:href=\"#maa3fac1c83\" y=\"97.125306\"/>\n      </g>\n     </g>\n     <g id=\"text_7\">\n      <!-- 120 -->\n      <g transform=\"translate(309.724728 111.723743)scale(0.1 -0.1)\">\n       <use xlink:href=\"#DejaVuSans-49\"/>\n       <use x=\"63.623047\" xlink:href=\"#DejaVuSans-50\"/>\n       <use x=\"127.246094\" xlink:href=\"#DejaVuSans-48\"/>\n      </g>\n     </g>\n    </g>\n   </g>\n   <g id=\"matplotlib.axis_2\">\n    <g id=\"ytick_1\">\n     <g id=\"line2d_8\">\n      <defs>\n       <path d=\"M 0 0 \nL -3.5 0 \n\" id=\"m11c6c85b48\" style=\"stroke:#000000;stroke-width:0.8;\"/>\n      </defs>\n      <g>\n       <use style=\"stroke:#000000;stroke-width:0.8;\" x=\"26.925\" xlink:href=\"#m11c6c85b48\" y=\"10.999219\"/>\n      </g>\n     </g>\n     <g id=\"text_8\">\n      <!-- 0 -->\n      <g transform=\"translate(13.5625 14.798437)scale(0.1 -0.1)\">\n       <use xlink:href=\"#DejaVuSans-48\"/>\n      </g>\n     </g>\n    </g>\n    <g id=\"ytick_2\">\n     <g id=\"line2d_9\">\n      <g>\n       <use style=\"stroke:#000000;stroke-width:0.8;\" x=\"26.925\" xlink:href=\"#m11c6c85b48\" y=\"35.260088\"/>\n      </g>\n     </g>\n     <g id=\"text_9\">\n      <!-- 10 -->\n      <g transform=\"translate(7.2 39.059307)scale(0.1 -0.1)\">\n       <use xlink:href=\"#DejaVuSans-49\"/>\n       <use x=\"63.623047\" xlink:href=\"#DejaVuSans-48\"/>\n      </g>\n     </g>\n    </g>\n    <g id=\"ytick_3\">\n     <g id=\"line2d_10\">\n      <g>\n       <use style=\"stroke:#000000;stroke-width:0.8;\" x=\"26.925\" xlink:href=\"#m11c6c85b48\" y=\"59.520958\"/>\n      </g>\n     </g>\n     <g id=\"text_10\">\n      <!-- 20 -->\n      <g transform=\"translate(7.2 63.320177)scale(0.1 -0.1)\">\n       <use xlink:href=\"#DejaVuSans-50\"/>\n       <use x=\"63.623047\" xlink:href=\"#DejaVuSans-48\"/>\n      </g>\n     </g>\n    </g>\n    <g id=\"ytick_4\">\n     <g id=\"line2d_11\">\n      <g>\n       <use style=\"stroke:#000000;stroke-width:0.8;\" x=\"26.925\" xlink:href=\"#m11c6c85b48\" y=\"83.781827\"/>\n      </g>\n     </g>\n     <g id=\"text_11\">\n      <!-- 30 -->\n      <g transform=\"translate(7.2 87.581046)scale(0.1 -0.1)\">\n       <defs>\n        <path d=\"M 40.578125 39.3125 \nQ 47.65625 37.796875 51.625 33 \nQ 55.609375 28.21875 55.609375 21.1875 \nQ 55.609375 10.40625 48.1875 4.484375 \nQ 40.765625 -1.421875 27.09375 -1.421875 \nQ 22.515625 -1.421875 17.65625 -0.515625 \nQ 12.796875 0.390625 7.625 2.203125 \nL 7.625 11.71875 \nQ 11.71875 9.328125 16.59375 8.109375 \nQ 21.484375 6.890625 26.8125 6.890625 \nQ 36.078125 6.890625 40.9375 10.546875 \nQ 45.796875 14.203125 45.796875 21.1875 \nQ 45.796875 27.640625 41.28125 31.265625 \nQ 36.765625 34.90625 28.71875 34.90625 \nL 20.21875 34.90625 \nL 20.21875 43.015625 \nL 29.109375 43.015625 \nQ 36.375 43.015625 40.234375 45.921875 \nQ 44.09375 48.828125 44.09375 54.296875 \nQ 44.09375 59.90625 40.109375 62.90625 \nQ 36.140625 65.921875 28.71875 65.921875 \nQ 24.65625 65.921875 20.015625 65.03125 \nQ 15.375 64.15625 9.8125 62.3125 \nL 9.8125 71.09375 \nQ 15.4375 72.65625 20.34375 73.4375 \nQ 25.25 74.21875 29.59375 74.21875 \nQ 40.828125 74.21875 47.359375 69.109375 \nQ 53.90625 64.015625 53.90625 55.328125 \nQ 53.90625 49.265625 50.4375 45.09375 \nQ 46.96875 40.921875 40.578125 39.3125 \nz\n\" id=\"DejaVuSans-51\"/>\n       </defs>\n       <use xlink:href=\"#DejaVuSans-51\"/>\n       <use x=\"63.623047\" xlink:href=\"#DejaVuSans-48\"/>\n      </g>\n     </g>\n    </g>\n   </g>\n   <g id=\"patch_3\">\n    <path d=\"M 26.925 97.125306 \nL 26.925 9.786175 \n\" style=\"fill:none;stroke:#000000;stroke-linecap:square;stroke-linejoin:miter;stroke-width:0.8;\"/>\n   </g>\n   <g id=\"patch_4\">\n    <path d=\"M 361.725 97.125306 \nL 361.725 9.786175 \n\" style=\"fill:none;stroke:#000000;stroke-linecap:square;stroke-linejoin:miter;stroke-width:0.8;\"/>\n   </g>\n   <g id=\"patch_5\">\n    <path d=\"M 26.925 97.125306 \nL 361.725 97.125306 \n\" style=\"fill:none;stroke:#000000;stroke-linecap:square;stroke-linejoin:miter;stroke-width:0.8;\"/>\n   </g>\n   <g id=\"patch_6\">\n    <path d=\"M 26.925 9.786175 \nL 361.725 9.786175 \n\" style=\"fill:none;stroke:#000000;stroke-linecap:square;stroke-linejoin:miter;stroke-width:0.8;\"/>\n   </g>\n  </g>\n </g>\n <defs>\n  <clipPath id=\"pe1c0c14273\">\n   <rect height=\"87.33913\" width=\"334.8\" x=\"26.925\" y=\"9.786175\"/>\n  </clipPath>\n </defs>\n</svg>\n",
      "image/png": "[encoded data removed]"
     },
     "metadata": {
      "needs_background": "light"
     }
    }
   ],
   "source": [
    "import matplotlib.pyplot as plt\n",
    "import numpy as np\n",
    "\n",
    "# functions to show an image\n",
    "\n",
    "def imshow(img):\n",
    "    img = img / 2 + 0.5     # unnormalize\n",
    "    npimg = img.numpy()\n",
    "    plt.imshow(np.transpose(npimg, (1, 2, 0)))\n",
    "\n",
    "\n",
    "# get some random training images\n",
    "dataiter = iter(trainloader)\n",
    "images, labels = dataiter.next()\n",
    "\n",
    "# show images\n",
    "imshow(torchvision.utils.make_grid(images))\n",
    "# print labels\n",
    "print(' '.join('%5s' % classes[labels[j]] for j in range(4)))"
   ]
  },
  {
   "cell_type": "markdown",
   "metadata": {
    "colab_type": "text",
    "id": "1Ob4Pvz-GuKA"
   },
   "source": [
    "### 2.1.3. CNN Model\n",
    "Next, we will train a CNN on the data. We have defined a simple CNN for you with two convolutional layers and two fully-connected layers below."
   ]
  },
  {
   "cell_type": "code",
   "execution_count": 293,
   "metadata": {
    "colab": {},
    "colab_type": "code",
    "id": "3hMXRfs8DPjx"
   },
   "outputs": [],
   "source": [
    "import torch.nn as nn\n",
    "import torch.nn.functional as F\n",
    "\n",
    "class Net(nn.Module):\n",
    "    def __init__(self):\n",
    "        super(Net, self).__init__()\n",
    "        self.conv1 = nn.Conv2d(3, 6, 5)\n",
    "        self.pool = nn.MaxPool2d(2, 2)\n",
    "        self.conv2 = nn.Conv2d(6, 16, 5)\n",
    "        self.fc1 = nn.Linear(16 * 5 * 5, 120)\n",
    "        self.fc2 = nn.Linear(120, 84)\n",
    "        self.fc3 = nn.Linear(84, 10)\n",
    "\n",
    "    def forward(self, x):\n",
    "        x = self.pool(F.relu(self.conv1(x)))\n",
    "        x = self.pool(F.relu(self.conv2(x)))\n",
    "        x = x.view(-1, 16 * 5 * 5)   # flatten features\n",
    "\n",
    "        x = F.relu(self.fc1(x))\n",
    "        x = F.relu(self.fc2(x))\n",
    "        x = self.fc3(x)\n",
    "        return x\n",
    "\n",
    "net = Net()"
   ]
  },
  {
   "cell_type": "markdown",
   "metadata": {
    "colab_type": "text",
    "id": "z325ABykG77h"
   },
   "source": [
    "Instantiate the cross-entropy loss `criterion`, and an SGD optimizer from the `torch.optim` package with learning rate $.001$ and momentum $.9$. You may also want to enable GPU training using `torch.device()`."
   ]
  },
  {
   "cell_type": "code",
   "execution_count": 0,
   "metadata": {
    "colab": {},
    "colab_type": "code",
    "id": "2wiSsTnEGCRN"
   },
   "outputs": [],
   "source": [
    "# solution here\n",
    "criterion = nn.CrossEntropyLoss()\n"
   ]
  },
  {
   "cell_type": "markdown",
   "metadata": {
    "colab_type": "text",
    "id": "eCLHI077fl9x"
   },
   "source": [
    "### 2.1.4 Training\n",
    "Write the training loop that makes two full passes through the dataset (two epochs) using SGD. Your batch size should be 4.\n",
    "\n",
    "Go slack off for a while...\n",
    "\n",
    "![reddit xkcd comic](https://i.redd.it/5cjdqxcg07k11.png)"
   ]
  },
  {
   "cell_type": "code",
   "execution_count": 0,
   "metadata": {
    "colab": {},
    "colab_type": "code",
    "id": "u8SluNefGZgf"
   },
   "outputs": [],
   "source": [
    "# solution here\n"
   ]
  },
  {
   "cell_type": "markdown",
   "metadata": {
    "colab_type": "text",
    "id": "TGkQdltRh104"
   },
   "source": [
    "### 2.1.5 Test Accuracy\n",
    "Load the test data (don't forget to move it to GPU if using). Make predictions on it using the trained network and compute the accuracy. You should see an accuracy of around 84%."
   ]
  },
  {
   "cell_type": "code",
   "execution_count": 0,
   "metadata": {
    "colab": {},
    "colab_type": "code",
    "id": "zWHZOr2sHeB5"
   },
   "outputs": [],
   "source": [
    "# solution here\n"
   ]
  },
  {
   "cell_type": "markdown",
   "metadata": {
    "colab_type": "text",
    "id": "V6mCBCn8kX9W"
   },
   "source": [
    "# Problem 3: Tensorboard (Optional)\n",
    "\n",
    "Explore your network using Tensorboard. Tensorboard is a nice tool for visualizing how your network's training is progressing. The following tutorial provides an introduction to Tensorboard\n",
    "\n",
    "- [Visualizing models, data and training with Tensorboard](https://pytorch.org/tutorials/intermediate/tensorboard_tutorial.html)\n",
    "\n",
    "For using tensorboard in colab, run the following cell and it should open a tensorboard interface in the output of the cell.\n"
   ]
  },
  {
   "cell_type": "code",
   "execution_count": 0,
   "metadata": {
    "colab": {},
    "colab_type": "code",
    "id": "ILFfAGAyh8bD"
   },
   "outputs": [],
   "source": [
    "%load_ext tensorboard\n",
    "%tensorboard --logdir logs"
   ]
  }
 ],
 "metadata": {
  "accelerator": "GPU",
  "colab": {
   "collapsed_sections": [],
   "name": "HW3.ipynb",
   "provenance": [
    {
     "file_id": "1siLMvcwxUl6WSTO8JNjUv5T3TXMtujiH",
     "timestamp": 1582058789500
    },
    {
     "file_id": "1fiK0rbc8iMuQQS6PDijcD2MIS95h-oZe",
     "timestamp": 1581824994288
    },
    {
     "file_id": "https://github.com/pytorch/tutorials/blob/gh-pages/_downloads/autograd_tutorial.ipynb",
     "timestamp": 1578596632955
    }
   ]
  },
  "kernelspec": {
   "name": "python3",
   "display_name": "Python 3.7.10 64-bit ('myenv': conda)"
  },
  "language_info": {
   "codemirror_mode": {
    "name": "ipython",
    "version": 3
   },
   "file_extension": ".py",
   "mimetype": "text/x-python",
   "name": "python",
   "nbconvert_exporter": "python",
   "pygments_lexer": "ipython3",
   "version": "3.7.10"
  },
  "interpreter": {
   "hash": "597612b212087843c255093bf84855b0ba72df26cf7e3e3a90439daedff78e07"
  }
 },
 "nbformat": 4,
 "nbformat_minor": 1
}