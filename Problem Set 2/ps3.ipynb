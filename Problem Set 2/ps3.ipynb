{
 "cells": [
  {
   "cell_type": "markdown",
   "metadata": {
    "colab_type": "text",
    "id": "ecSh-LQTDB7H"
   },
   "source": [
    "# Problem Set 2 \n",
    "*Author: Saenko*\n",
    "\n",
    "---\n",
    "\n",
    "This assignment will introduce you to:\n",
    "1. Basic functionality in PyTorch\n",
    "2. Building and training a convolutional network\n",
    "3. Visualizations using Tensorboard (optional)\n",
    "\n",
    "This code has been tested on Colab. You may want to run parts of it on a GPU.\n",
    "**Warning:** If you use the SCC, the gpu queue may be long when the deadline comes. Please start your homework early.\n",
    "\n",
    "---\n",
    "\n",
    "\n",
    "# Problem 0: Tutorials\n",
    "This homework will introduce you to [PyTorch](https://pytorch.org), currently the fastest growing deep learning library.\n",
    "\n",
    "Before starting the homework, please go over these introductory tutorials on the PyTorch webpage:\n",
    "\n",
    "*   [60-minute Blitz](https://pytorch.org/tutorials/beginner/deep_learning_60min_blitz.html)\n",
    " \n",
    "\n",
    "---\n",
    "\n"
   ]
  },
  {
   "cell_type": "markdown",
   "metadata": {
    "colab_type": "text",
    "id": "CcqKCRlM6poM"
   },
   "source": [
    "# Problem 1: Torch Intro (30 points)\n",
    "The `torch.Tensor` class is the basic building block in PyTorch and is used to hold data and parameters. The `autograd` package provides automatic differentiation for all operations on Tensors. After reading about Autograd in the tutorials above,  we will implement a few simple examples of what Autograd can do."
   ]
  },
  {
   "cell_type": "code",
   "execution_count": 1,
   "metadata": {
    "colab": {},
    "colab_type": "code",
    "id": "yUv0o0dIsLlW"
   },
   "outputs": [],
   "source": [
    "import torch"
   ]
  },
  {
   "cell_type": "markdown",
   "metadata": {
    "colab_type": "text",
    "id": "D15InPOpsLlc"
   },
   "source": [
    "### 1.1. Simple function\n",
    " Use `autograd` to do backpropagation on the simple function we saw in lecture, $f=(x+y)*z$. \n",
    "\n",
    "**1.1.1** Create the three inputs with values $x=-2$, $y=5$ and $z=-4$ as tensors and set `requires_grad=True` to track computation on them.\n",
    "\n"
   ]
  },
  {
   "cell_type": "code",
   "execution_count": 2,
   "metadata": {
    "colab": {
     "base_uri": "https://localhost:8080/",
     "height": 34
    },
    "colab_type": "code",
    "executionInfo": {
     "elapsed": 758,
     "status": "ok",
     "timestamp": 1581997995146,
     "user": {
      "displayName": "Samarth Mishra",
      "photoUrl": "",
      "userId": "00064519813488481618"
     },
     "user_tz": 300
    },
    "id": "56mcFemZuYMB",
    "outputId": "4be4f837-cc1b-4579-d97b-edad8dd68263"
   },
   "outputs": [],
   "source": [
    "# solution here\n",
    "x = torch.tensor([-2.], requires_grad=True)\n",
    "y = torch.tensor([5.], requires_grad=True)\n",
    "z = torch.tensor([-4.], requires_grad=True)"
   ]
  },
  {
   "cell_type": "markdown",
   "metadata": {
    "colab_type": "text",
    "id": "WPBbS7GWxra1"
   },
   "source": [
    "**1.1.2** Compute the $q=x+y$ and $f=q \\times z$ functions, creating tensors for them in the process. Print out $q,f$, then run `f.backward(retain_graph=True)`, to compute the gradients w.r.t. $x,y,z$. The `retain_graph` attribute tells autograd to keep the computation graph around after backward pass as opposed deleting it (freeing some memory). Print the gradients. Note that the gradient for $q$ will be `None` since it is an intermediate node, even though `requires_grad` for it is automatically set to `True`. To access gradients for intermediate nodes in PyTorch you can use hooks as mentioned in [this answer](https://discuss.pytorch.org/t/why-cant-i-see-grad-of-an-intermediate-variable/94/2). Compute the values by hand (or check the slides) to verify your solution."
   ]
  },
  {
   "cell_type": "code",
   "execution_count": 3,
   "metadata": {
    "colab": {
     "base_uri": "https://localhost:8080/",
     "height": 52
    },
    "colab_type": "code",
    "executionInfo": {
     "elapsed": 745,
     "status": "ok",
     "timestamp": 1581997998245,
     "user": {
      "displayName": "Samarth Mishra",
      "photoUrl": "",
      "userId": "00064519813488481618"
     },
     "user_tz": 300
    },
    "id": "4lj5N-fgvQ-v",
    "outputId": "296a7afc-268a-406d-b09e-61dd58b02c8a"
   },
   "outputs": [
    {
     "output_type": "stream",
     "name": "stdout",
     "text": [
      "tensor([3.], grad_fn=<AddBackward0>)\ntensor([-12.], grad_fn=<MulBackward0>)\ntensor([-4.])\ntensor([-4.])\ntensor([3.])\n"
     ]
    }
   ],
   "source": [
    "# solution here ???\n",
    "q = x + y\n",
    "f = q * z\n",
    "print(q)\n",
    "print(f)\n",
    "f.backward(retain_graph=True)\n",
    "print(x.grad)\n",
    "print(y.grad)\n",
    "print(z.grad)\n",
    "# print(q.grad)\n",
    "# print(f.grad)"
   ]
  },
  {
   "cell_type": "markdown",
   "metadata": {
    "colab_type": "text",
    "id": "EtBqrD7y3MeK"
   },
   "source": [
    "**1.1.3** If we now run `backward()` again, it will add the gradients to their previous values. Try it by running the above cell multiple times. This is useful in some cases, but if we just wanted to re-compute the gradients again, we need to zero them first, then run `backward()`. Add this step, then try running the  backward function multiple times to make sure the answer is the same each time!"
   ]
  },
  {
   "cell_type": "code",
   "execution_count": 4,
   "metadata": {
    "colab": {
     "base_uri": "https://localhost:8080/",
     "height": 34
    },
    "colab_type": "code",
    "executionInfo": {
     "elapsed": 625,
     "status": "ok",
     "timestamp": 1581998000511,
     "user": {
      "displayName": "Samarth Mishra",
      "photoUrl": "",
      "userId": "00064519813488481618"
     },
     "user_tz": 300
    },
    "id": "g6qeSVAM0w1J",
    "outputId": "048e64e9-e6c1-4f28-ee51-099a2a401e04"
   },
   "outputs": [
    {
     "output_type": "stream",
     "name": "stdout",
     "text": [
      "tensor([-8.])\ntensor([-8.])\ntensor([6.])\n"
     ]
    }
   ],
   "source": [
    "# solution here ???\n",
    "f.backward(retain_graph=True)\n",
    "print(x.grad)\n",
    "print(y.grad)\n",
    "print(z.grad)"
   ]
  },
  {
   "cell_type": "markdown",
   "metadata": {
    "colab_type": "text",
    "id": "3lEIwkbv4qNO"
   },
   "source": [
    "### 1.2 Neuron\n",
    " Implement the function corresponding to one neuron (logistic regression unit) that we saw in the lecture and compute the gradient w.r.t. $x$ and $w$. The function is $f=\\sigma(w^Tx)$ where $\\sigma()$ is the sigmoid function. Initialize $x=[-1, -2, 1]$ and the weights to $w=[2, -3, -3]$ where $w_3$ is the bias. Print out the gradients and double check their values by hand."
   ]
  },
  {
   "cell_type": "code",
   "execution_count": 5,
   "metadata": {
    "colab": {
     "base_uri": "https://localhost:8080/",
     "height": 121
    },
    "colab_type": "code",
    "executionInfo": {
     "elapsed": 585,
     "status": "ok",
     "timestamp": 1581998002809,
     "user": {
      "displayName": "Samarth Mishra",
      "photoUrl": "",
      "userId": "00064519813488481618"
     },
     "user_tz": 300
    },
    "id": "H0UBPl5Ti15G",
    "outputId": "aad7da03-7ba8-4e65-a604-259ce8df8efd"
   },
   "outputs": [
    {
     "output_type": "stream",
     "name": "stdout",
     "text": [
      "x = tensor([-1., -2.,  1.], requires_grad=True)\nw = tensor([ 2., -3., -3.], requires_grad=True)\nf(x, w) = tensor(0.7311, grad_fn=<SigmoidBackward>)\nThe gradient of f() w.r.t. x is tensor([ 0.3932, -0.5898, -0.5898])\nThe gradient of f() w.r.t. w is tensor([-0.1966, -0.3932,  0.1966])\n"
     ]
    }
   ],
   "source": [
    "# solution here\n",
    "\n",
    "x = torch.tensor([-1., -2., 1.], requires_grad=True)\n",
    "w = torch.tensor([2., -3., -3.], requires_grad=True)\n",
    "print(\"x =\", x)\n",
    "print(\"w =\", w)\n",
    "f = torch.dot(w, x)\n",
    "f = torch.sigmoid(f)\n",
    "print(\"f(x, w) =\", f)\n",
    "f.backward()\n",
    "print(\"The gradient of f() w.r.t. x is\", x.grad)\n",
    "print(\"The gradient of f() w.r.t. w is\", w.grad)"
   ]
  },
  {
   "cell_type": "markdown",
   "metadata": {
    "colab_type": "text",
    "id": "KLEQdosNk6t9"
   },
   "source": [
    "### 1.3. torch.nn\n",
    " We will now implement the same neuron function $f$ with the same variable values as in Q1.2, but using the `Linear` class from `torch.nn`, followed by the [Sigmoid](https://pytorch.org/docs/stable/nn.html#torch.nn.Sigmoid) class. In general, many useful functions are already implemented for us in this package. Compute the gradients $\\partial f/\\partial w$ by running `backward()` and print them out (they will be stored in the Linear variable, e.g. in `.weight.grad`.) "
   ]
  },
  {
   "cell_type": "code",
   "execution_count": 6,
   "metadata": {
    "colab": {
     "base_uri": "https://localhost:8080/",
     "height": 173
    },
    "colab_type": "code",
    "executionInfo": {
     "elapsed": 583,
     "status": "ok",
     "timestamp": 1581998005758,
     "user": {
      "displayName": "Samarth Mishra",
      "photoUrl": "",
      "userId": "00064519813488481618"
     },
     "user_tz": 300
    },
    "id": "zH3f8sj0ywQ3",
    "outputId": "d56c09a9-0add-40a7-da62-6cdf89ec8c63"
   },
   "outputs": [
    {
     "output_type": "stream",
     "name": "stdout",
     "text": [
      "weights: Parameter containing:\ntensor([ 2., -3., -3.], requires_grad=True)\nbias None\nf: tensor(0.7311, grad_fn=<SigmoidBackward>)\nThe gradient of f() w.r.t. w is tensor([-0.1966, -0.3932,  0.1966])\n"
     ]
    }
   ],
   "source": [
    "# solution here ???\n",
    "\n",
    "m = torch.nn.Linear(1, 1, bias=False)\n",
    "m.weight.data = w\n",
    "# m.bias = w[2:3]\n",
    "\n",
    "print(\"weights:\", m.weight)\n",
    "print(\"bias\", m.bias)\n",
    "\n",
    "f = m(x)\n",
    "\n",
    "f = torch.sigmoid(f)\n",
    "print(\"f:\", f)\n",
    "f.backward()\n",
    "print(\"The gradient of f() w.r.t. w is\", m.weight.grad)\n"
   ]
  },
  {
   "cell_type": "markdown",
   "metadata": {
    "colab_type": "text",
    "id": "isiTRoJuqnEL"
   },
   "source": [
    "### 1.4. Module\n",
    " Now lets put these two functions (Linear and Sigmoid) together into a \"module\". Read the [Neural Networks tutorial](https://pytorch.org/tutorials/beginner/blitz/neural_networks_tutorial.html) if you have not already.\n",
    "\n",
    "**1.4.1** This code makes a subclass of the `Module` class, called `Neuron`, and sets variables to the same values as above. \n",
    "\n"
   ]
  },
  {
   "cell_type": "code",
   "execution_count": 7,
   "metadata": {
    "colab": {},
    "colab_type": "code",
    "id": "8j_S7AQqQB8-"
   },
   "outputs": [],
   "source": [
    "import torch.nn as nn\n",
    "\n",
    "class Neuron(nn.Module):\n",
    "\n",
    "    def __init__(self):\n",
    "        super(Neuron, self).__init__()\n",
    "        # an affine operation: y = weight*x + bias, with fixed parameters\n",
    "        self.linear = nn.Linear(2, 1)\n",
    "        self.linear.weight.data = torch.tensor([[ 2., -3.]]);\n",
    "        self.linear.bias.data = torch.tensor([-3.]);\n",
    "        # a sigmoid function, elementwise\n",
    "        self.sigmoid = nn.Sigmoid()\n",
    "\n",
    "    def forward(self, x):\n",
    "        x = self.linear(x)\n",
    "        x = self.sigmoid(x)\n",
    "        return x"
   ]
  },
  {
   "cell_type": "markdown",
   "metadata": {
    "colab_type": "text",
    "id": "6Hv5iduNSLX9"
   },
   "source": [
    "**1.4.2** Now create a  variable of your `Neuron` class called `my_neuron` and run backpropagation on it. Print out the gradients again. Make sure you zero out the gradients first, by calling `.zero_grad()` function of the parent class. Even if you will not re-compute the backprop, it is good practice to do this every time to avoid accumulating gradient!"
   ]
  },
  {
   "cell_type": "code",
   "execution_count": 8,
   "metadata": {
    "colab": {
     "base_uri": "https://localhost:8080/",
     "height": 173
    },
    "colab_type": "code",
    "executionInfo": {
     "elapsed": 362,
     "status": "ok",
     "timestamp": 1581998018634,
     "user": {
      "displayName": "Samarth Mishra",
      "photoUrl": "",
      "userId": "00064519813488481618"
     },
     "user_tz": 300
    },
    "id": "AG5V8LiVSQWn",
    "outputId": "adedcde3-bf02-4e9b-da26-b813d75336c9"
   },
   "outputs": [
    {
     "output_type": "stream",
     "name": "stdout",
     "text": [
      "Neuron(\n  (linear): Linear(in_features=2, out_features=1, bias=True)\n  (sigmoid): Sigmoid()\n)\nThe weights are: Parameter containing:\ntensor([[ 2., -3.]], requires_grad=True)\n\nf(x, w) = tensor([0.7311], grad_fn=<SigmoidBackward>)\n\nThe gradient of f() w.r.t. w is tensor([-0.1966, -0.3932,  0.1966])\n"
     ]
    }
   ],
   "source": [
    "# solution here ???\n",
    "my_neuron = Neuron()\n",
    "print(my_neuron)\n",
    "net = my_neuron(x[0:2])\n",
    "\n",
    "params = list(my_neuron.parameters())\n",
    "print(\"The weights are:\", params[0])\n",
    "\n",
    "print(\"\\nf(x, w) =\", net)\n",
    "\n",
    "my_neuron.zero_grad()\n",
    "net.backward()\n",
    "print(\"\\nThe gradient of f() w.r.t. w is\", w.grad)\n"
   ]
  },
  {
   "cell_type": "markdown",
   "metadata": {
    "colab_type": "text",
    "id": "5A5kaQxkLsFi"
   },
   "source": [
    "### 1.5. Loss and SGD\n",
    " Now, lets train our neuron on some data. The code below creates a toy dataset containing a few inputs $x$ and outputs $y$ (a binary 0/1 label), as well as a function that plots the data and current solution."
   ]
  },
  {
   "cell_type": "code",
   "execution_count": 9,
   "metadata": {
    "colab": {
     "base_uri": "https://localhost:8080/",
     "height": 286
    },
    "colab_type": "code",
    "executionInfo": {
     "elapsed": 451,
     "status": "ok",
     "timestamp": 1581998902715,
     "user": {
      "displayName": "Samarth Mishra",
      "photoUrl": "",
      "userId": "00064519813488481618"
     },
     "user_tz": 300
    },
    "id": "4nMCQG3-L94R",
    "outputId": "48318f4f-419c-4f54-ffff-a6065573cf3e"
   },
   "outputs": [
    {
     "output_type": "stream",
     "name": "stdout",
     "text": [
      "w0 = 2.0 w1 = -3.0 bias = -3.0\n"
     ]
    },
    {
     "output_type": "display_data",
     "data": {
      "text/plain": "<Figure size 432x288 with 1 Axes>",
      "image/svg+xml": "<?xml version=\"1.0\" encoding=\"utf-8\" standalone=\"no\"?>\n<!DOCTYPE svg PUBLIC \"-//W3C//DTD SVG 1.1//EN\"\n  \"http://www.w3.org/Graphics/SVG/1.1/DTD/svg11.dtd\">\n<!-- Created with matplotlib (https://matplotlib.org/) -->\n<svg height=\"252.332188pt\" version=\"1.1\" viewBox=\"0 0 387.871094 252.332188\" width=\"387.871094pt\" xmlns=\"http://www.w3.org/2000/svg\" xmlns:xlink=\"http://www.w3.org/1999/xlink\">\n <metadata>\n  <rdf:RDF xmlns:cc=\"http://creativecommons.org/ns#\" xmlns:dc=\"http://purl.org/dc/elements/1.1/\" xmlns:rdf=\"http://www.w3.org/1999/02/22-rdf-syntax-ns#\">\n   <cc:Work>\n    <dc:type rdf:resource=\"http://purl.org/dc/dcmitype/StillImage\"/>\n    <dc:date>2021-06-14T14:23:31.077994</dc:date>\n    <dc:format>image/svg+xml</dc:format>\n    <dc:creator>\n     <cc:Agent>\n      <dc:title>Matplotlib v3.3.4, https://matplotlib.org/</dc:title>\n     </cc:Agent>\n    </dc:creator>\n   </cc:Work>\n  </rdf:RDF>\n </metadata>\n <defs>\n  <style type=\"text/css\">*{stroke-linecap:butt;stroke-linejoin:round;}</style>\n </defs>\n <g id=\"figure_1\">\n  <g id=\"patch_1\">\n   <path d=\"M 0 252.332188 \nL 387.871094 252.332188 \nL 387.871094 0 \nL 0 0 \nz\n\" style=\"fill:none;\"/>\n  </g>\n  <g id=\"axes_1\">\n   <g id=\"patch_2\">\n    <path d=\"M 37.965625 228.494687 \nL 372.765625 228.494687 \nL 372.765625 11.054688 \nL 37.965625 11.054688 \nz\n\" style=\"fill:#ffffff;\"/>\n   </g>\n   <g id=\"matplotlib.axis_1\">\n    <g id=\"xtick_1\">\n     <g id=\"line2d_1\">\n      <path clip-path=\"url(#p02bbc8102d)\" d=\"M 37.965625 228.494687 \nL 37.965625 11.054688 \n\" style=\"fill:none;stroke:#b0b0b0;stroke-linecap:square;stroke-width:0.8;\"/>\n     </g>\n     <g id=\"line2d_2\">\n      <defs>\n       <path d=\"M 0 0 \nL 0 3.5 \n\" id=\"m8a532edd01\" style=\"stroke:#000000;stroke-width:0.8;\"/>\n      </defs>\n      <g>\n       <use style=\"stroke:#000000;stroke-width:0.8;\" x=\"37.965625\" xlink:href=\"#m8a532edd01\" y=\"228.494687\"/>\n      </g>\n     </g>\n     <g id=\"text_1\">\n      <!-- −2.0 -->\n      <g transform=\"translate(26.082813 243.204062)scale(0.1 -0.1)\">\n       <defs>\n        <path d=\"M 10.84375 25.296875 \nL 10.84375 32.515625 \nL 68.65625 32.515625 \nL 68.65625 25.296875 \nz\n\" id=\"LucidaGrande-8722\"/>\n        <path d=\"M 8.296875 0 \nL 8.296875 8.453125 \nQ 12.5 18.265625 25.296875 29.828125 \nL 30.8125 34.765625 \nQ 41.453125 44.390625 41.453125 53.859375 \nQ 41.453125 59.90625 37.8125 63.375 \nQ 34.1875 66.84375 27.828125 66.84375 \nQ 20.3125 66.84375 10.109375 61.03125 \nL 10.109375 69.53125 \nQ 19.734375 74.078125 29.203125 74.078125 \nQ 39.359375 74.078125 45.5 68.609375 \nQ 51.65625 63.140625 51.65625 54.109375 \nQ 51.65625 47.609375 48.546875 42.578125 \nQ 45.453125 37.546875 37.015625 30.375 \nL 33.296875 27.203125 \nQ 21.734375 17.390625 19.921875 8.453125 \nL 51.3125 8.453125 \nL 51.3125 0 \nz\n\" id=\"LucidaGrande-50\"/>\n        <path d=\"M 9.765625 0 \nL 9.765625 12.0625 \nL 21.828125 12.0625 \nL 21.828125 0 \nz\n\" id=\"LucidaGrande-46\"/>\n        <path d=\"M 31.34375 -1.8125 \nQ 20.171875 -1.8125 13.25 8.703125 \nQ 6.34375 19.234375 6.34375 36.1875 \nQ 6.34375 53.265625 13.296875 63.671875 \nQ 20.265625 74.078125 31.640625 74.078125 \nQ 43.015625 74.078125 49.96875 63.671875 \nQ 56.9375 53.265625 56.9375 36.328125 \nQ 56.9375 18.953125 49.96875 8.5625 \nQ 43.015625 -1.8125 31.34375 -1.8125 \nz\nM 31.453125 5.421875 \nQ 46.734375 5.421875 46.734375 36.46875 \nQ 46.734375 66.84375 31.640625 66.84375 \nQ 16.609375 66.84375 16.609375 36.1875 \nQ 16.609375 5.421875 31.453125 5.421875 \nz\n\" id=\"LucidaGrande-48\"/>\n       </defs>\n       <use xlink:href=\"#LucidaGrande-8722\"/>\n       <use x=\"79.541016\" xlink:href=\"#LucidaGrande-50\"/>\n       <use x=\"142.773438\" xlink:href=\"#LucidaGrande-46\"/>\n       <use x=\"174.414062\" xlink:href=\"#LucidaGrande-48\"/>\n      </g>\n     </g>\n    </g>\n    <g id=\"xtick_2\">\n     <g id=\"line2d_3\">\n      <path clip-path=\"url(#p02bbc8102d)\" d=\"M 79.815625 228.494687 \nL 79.815625 11.054688 \n\" style=\"fill:none;stroke:#b0b0b0;stroke-linecap:square;stroke-width:0.8;\"/>\n     </g>\n     <g id=\"line2d_4\">\n      <g>\n       <use style=\"stroke:#000000;stroke-width:0.8;\" x=\"79.815625\" xlink:href=\"#m8a532edd01\" y=\"228.494687\"/>\n      </g>\n     </g>\n     <g id=\"text_2\">\n      <!-- −1.5 -->\n      <g transform=\"translate(67.932813 243.204062)scale(0.1 -0.1)\">\n       <defs>\n        <path d=\"M 15.046875 0 \nL 15.046875 7.234375 \nL 29.5 7.234375 \nL 29.5 64.265625 \nL 15.046875 60.640625 \nL 15.046875 68.0625 \nL 39.15625 74.078125 \nL 39.15625 7.234375 \nL 53.609375 7.234375 \nL 53.609375 0 \nz\n\" id=\"LucidaGrande-49\"/>\n        <path d=\"M 12.15625 -0.296875 \nL 12.15625 8.296875 \nQ 19.34375 5.421875 25.828125 5.421875 \nQ 32.953125 5.421875 37.03125 9.609375 \nQ 41.109375 13.8125 41.109375 21.1875 \nQ 41.109375 37.453125 18.703125 37.453125 \nQ 16.15625 37.453125 13.375 37.109375 \nL 13.375 72.265625 \nL 49.953125 72.265625 \nL 49.953125 63.875 \nL 21.828125 63.875 \nL 21.828125 44.828125 \nQ 35.75 44.828125 43.5625 38.421875 \nQ 51.375 32.03125 51.375 20.703125 \nQ 51.375 10.15625 44.265625 4.171875 \nQ 37.15625 -1.8125 24.5625 -1.8125 \nQ 19.09375 -1.8125 12.15625 -0.296875 \nz\n\" id=\"LucidaGrande-53\"/>\n       </defs>\n       <use xlink:href=\"#LucidaGrande-8722\"/>\n       <use x=\"79.541016\" xlink:href=\"#LucidaGrande-49\"/>\n       <use x=\"142.773438\" xlink:href=\"#LucidaGrande-46\"/>\n       <use x=\"174.414062\" xlink:href=\"#LucidaGrande-53\"/>\n      </g>\n     </g>\n    </g>\n    <g id=\"xtick_3\">\n     <g id=\"line2d_5\">\n      <path clip-path=\"url(#p02bbc8102d)\" d=\"M 121.665625 228.494687 \nL 121.665625 11.054688 \n\" style=\"fill:none;stroke:#b0b0b0;stroke-linecap:square;stroke-width:0.8;\"/>\n     </g>\n     <g id=\"line2d_6\">\n      <g>\n       <use style=\"stroke:#000000;stroke-width:0.8;\" x=\"121.665625\" xlink:href=\"#m8a532edd01\" y=\"228.494687\"/>\n      </g>\n     </g>\n     <g id=\"text_3\">\n      <!-- −1.0 -->\n      <g transform=\"translate(109.782813 243.204062)scale(0.1 -0.1)\">\n       <use xlink:href=\"#LucidaGrande-8722\"/>\n       <use x=\"79.541016\" xlink:href=\"#LucidaGrande-49\"/>\n       <use x=\"142.773438\" xlink:href=\"#LucidaGrande-46\"/>\n       <use x=\"174.414062\" xlink:href=\"#LucidaGrande-48\"/>\n      </g>\n     </g>\n    </g>\n    <g id=\"xtick_4\">\n     <g id=\"line2d_7\">\n      <path clip-path=\"url(#p02bbc8102d)\" d=\"M 163.515625 228.494687 \nL 163.515625 11.054688 \n\" style=\"fill:none;stroke:#b0b0b0;stroke-linecap:square;stroke-width:0.8;\"/>\n     </g>\n     <g id=\"line2d_8\">\n      <g>\n       <use style=\"stroke:#000000;stroke-width:0.8;\" x=\"163.515625\" xlink:href=\"#m8a532edd01\" y=\"228.494687\"/>\n      </g>\n     </g>\n     <g id=\"text_4\">\n      <!-- −0.5 -->\n      <g transform=\"translate(151.632813 243.204062)scale(0.1 -0.1)\">\n       <use xlink:href=\"#LucidaGrande-8722\"/>\n       <use x=\"79.541016\" xlink:href=\"#LucidaGrande-48\"/>\n       <use x=\"142.773438\" xlink:href=\"#LucidaGrande-46\"/>\n       <use x=\"174.414062\" xlink:href=\"#LucidaGrande-53\"/>\n      </g>\n     </g>\n    </g>\n    <g id=\"xtick_5\">\n     <g id=\"line2d_9\">\n      <path clip-path=\"url(#p02bbc8102d)\" d=\"M 205.365625 228.494687 \nL 205.365625 11.054688 \n\" style=\"fill:none;stroke:#b0b0b0;stroke-linecap:square;stroke-width:0.8;\"/>\n     </g>\n     <g id=\"line2d_10\">\n      <g>\n       <use style=\"stroke:#000000;stroke-width:0.8;\" x=\"205.365625\" xlink:href=\"#m8a532edd01\" y=\"228.494687\"/>\n      </g>\n     </g>\n     <g id=\"text_5\">\n      <!-- 0.0 -->\n      <g transform=\"translate(197.460156 243.204062)scale(0.1 -0.1)\">\n       <use xlink:href=\"#LucidaGrande-48\"/>\n       <use x=\"63.232422\" xlink:href=\"#LucidaGrande-46\"/>\n       <use x=\"94.873047\" xlink:href=\"#LucidaGrande-48\"/>\n      </g>\n     </g>\n    </g>\n    <g id=\"xtick_6\">\n     <g id=\"line2d_11\">\n      <path clip-path=\"url(#p02bbc8102d)\" d=\"M 247.215625 228.494687 \nL 247.215625 11.054688 \n\" style=\"fill:none;stroke:#b0b0b0;stroke-linecap:square;stroke-width:0.8;\"/>\n     </g>\n     <g id=\"line2d_12\">\n      <g>\n       <use style=\"stroke:#000000;stroke-width:0.8;\" x=\"247.215625\" xlink:href=\"#m8a532edd01\" y=\"228.494687\"/>\n      </g>\n     </g>\n     <g id=\"text_6\">\n      <!-- 0.5 -->\n      <g transform=\"translate(239.310156 243.204062)scale(0.1 -0.1)\">\n       <use xlink:href=\"#LucidaGrande-48\"/>\n       <use x=\"63.232422\" xlink:href=\"#LucidaGrande-46\"/>\n       <use x=\"94.873047\" xlink:href=\"#LucidaGrande-53\"/>\n      </g>\n     </g>\n    </g>\n    <g id=\"xtick_7\">\n     <g id=\"line2d_13\">\n      <path clip-path=\"url(#p02bbc8102d)\" d=\"M 289.065625 228.494687 \nL 289.065625 11.054688 \n\" style=\"fill:none;stroke:#b0b0b0;stroke-linecap:square;stroke-width:0.8;\"/>\n     </g>\n     <g id=\"line2d_14\">\n      <g>\n       <use style=\"stroke:#000000;stroke-width:0.8;\" x=\"289.065625\" xlink:href=\"#m8a532edd01\" y=\"228.494687\"/>\n      </g>\n     </g>\n     <g id=\"text_7\">\n      <!-- 1.0 -->\n      <g transform=\"translate(281.160156 243.204062)scale(0.1 -0.1)\">\n       <use xlink:href=\"#LucidaGrande-49\"/>\n       <use x=\"63.232422\" xlink:href=\"#LucidaGrande-46\"/>\n       <use x=\"94.873047\" xlink:href=\"#LucidaGrande-48\"/>\n      </g>\n     </g>\n    </g>\n    <g id=\"xtick_8\">\n     <g id=\"line2d_15\">\n      <path clip-path=\"url(#p02bbc8102d)\" d=\"M 330.915625 228.494687 \nL 330.915625 11.054688 \n\" style=\"fill:none;stroke:#b0b0b0;stroke-linecap:square;stroke-width:0.8;\"/>\n     </g>\n     <g id=\"line2d_16\">\n      <g>\n       <use style=\"stroke:#000000;stroke-width:0.8;\" x=\"330.915625\" xlink:href=\"#m8a532edd01\" y=\"228.494687\"/>\n      </g>\n     </g>\n     <g id=\"text_8\">\n      <!-- 1.5 -->\n      <g transform=\"translate(323.010156 243.204062)scale(0.1 -0.1)\">\n       <use xlink:href=\"#LucidaGrande-49\"/>\n       <use x=\"63.232422\" xlink:href=\"#LucidaGrande-46\"/>\n       <use x=\"94.873047\" xlink:href=\"#LucidaGrande-53\"/>\n      </g>\n     </g>\n    </g>\n    <g id=\"xtick_9\">\n     <g id=\"line2d_17\">\n      <path clip-path=\"url(#p02bbc8102d)\" d=\"M 372.765625 228.494687 \nL 372.765625 11.054688 \n\" style=\"fill:none;stroke:#b0b0b0;stroke-linecap:square;stroke-width:0.8;\"/>\n     </g>\n     <g id=\"line2d_18\">\n      <g>\n       <use style=\"stroke:#000000;stroke-width:0.8;\" x=\"372.765625\" xlink:href=\"#m8a532edd01\" y=\"228.494687\"/>\n      </g>\n     </g>\n     <g id=\"text_9\">\n      <!-- 2.0 -->\n      <g transform=\"translate(364.860156 243.204062)scale(0.1 -0.1)\">\n       <use xlink:href=\"#LucidaGrande-50\"/>\n       <use x=\"63.232422\" xlink:href=\"#LucidaGrande-46\"/>\n       <use x=\"94.873047\" xlink:href=\"#LucidaGrande-48\"/>\n      </g>\n     </g>\n    </g>\n   </g>\n   <g id=\"matplotlib.axis_2\">\n    <g id=\"ytick_1\">\n     <g id=\"line2d_19\">\n      <path clip-path=\"url(#p02bbc8102d)\" d=\"M 37.965625 228.494687 \nL 372.765625 228.494687 \n\" style=\"fill:none;stroke:#b0b0b0;stroke-linecap:square;stroke-width:0.8;\"/>\n     </g>\n     <g id=\"line2d_20\">\n      <defs>\n       <path d=\"M 0 0 \nL -3.5 0 \n\" id=\"me14ac8c0b5\" style=\"stroke:#000000;stroke-width:0.8;\"/>\n      </defs>\n      <g>\n       <use style=\"stroke:#000000;stroke-width:0.8;\" x=\"37.965625\" xlink:href=\"#me14ac8c0b5\" y=\"228.494687\"/>\n      </g>\n     </g>\n     <g id=\"text_10\">\n      <!-- −2.0 -->\n      <g transform=\"translate(7.2 232.349375)scale(0.1 -0.1)\">\n       <use xlink:href=\"#LucidaGrande-8722\"/>\n       <use x=\"79.541016\" xlink:href=\"#LucidaGrande-50\"/>\n       <use x=\"142.773438\" xlink:href=\"#LucidaGrande-46\"/>\n       <use x=\"174.414062\" xlink:href=\"#LucidaGrande-48\"/>\n      </g>\n     </g>\n    </g>\n    <g id=\"ytick_2\">\n     <g id=\"line2d_21\">\n      <path clip-path=\"url(#p02bbc8102d)\" d=\"M 37.965625 201.314687 \nL 372.765625 201.314687 \n\" style=\"fill:none;stroke:#b0b0b0;stroke-linecap:square;stroke-width:0.8;\"/>\n     </g>\n     <g id=\"line2d_22\">\n      <g>\n       <use style=\"stroke:#000000;stroke-width:0.8;\" x=\"37.965625\" xlink:href=\"#me14ac8c0b5\" y=\"201.314687\"/>\n      </g>\n     </g>\n     <g id=\"text_11\">\n      <!-- −1.5 -->\n      <g transform=\"translate(7.2 205.169375)scale(0.1 -0.1)\">\n       <use xlink:href=\"#LucidaGrande-8722\"/>\n       <use x=\"79.541016\" xlink:href=\"#LucidaGrande-49\"/>\n       <use x=\"142.773438\" xlink:href=\"#LucidaGrande-46\"/>\n       <use x=\"174.414062\" xlink:href=\"#LucidaGrande-53\"/>\n      </g>\n     </g>\n    </g>\n    <g id=\"ytick_3\">\n     <g id=\"line2d_23\">\n      <path clip-path=\"url(#p02bbc8102d)\" d=\"M 37.965625 174.134687 \nL 372.765625 174.134687 \n\" style=\"fill:none;stroke:#b0b0b0;stroke-linecap:square;stroke-width:0.8;\"/>\n     </g>\n     <g id=\"line2d_24\">\n      <g>\n       <use style=\"stroke:#000000;stroke-width:0.8;\" x=\"37.965625\" xlink:href=\"#me14ac8c0b5\" y=\"174.134687\"/>\n      </g>\n     </g>\n     <g id=\"text_12\">\n      <!-- −1.0 -->\n      <g transform=\"translate(7.2 177.989375)scale(0.1 -0.1)\">\n       <use xlink:href=\"#LucidaGrande-8722\"/>\n       <use x=\"79.541016\" xlink:href=\"#LucidaGrande-49\"/>\n       <use x=\"142.773438\" xlink:href=\"#LucidaGrande-46\"/>\n       <use x=\"174.414062\" xlink:href=\"#LucidaGrande-48\"/>\n      </g>\n     </g>\n    </g>\n    <g id=\"ytick_4\">\n     <g id=\"line2d_25\">\n      <path clip-path=\"url(#p02bbc8102d)\" d=\"M 37.965625 146.954688 \nL 372.765625 146.954688 \n\" style=\"fill:none;stroke:#b0b0b0;stroke-linecap:square;stroke-width:0.8;\"/>\n     </g>\n     <g id=\"line2d_26\">\n      <g>\n       <use style=\"stroke:#000000;stroke-width:0.8;\" x=\"37.965625\" xlink:href=\"#me14ac8c0b5\" y=\"146.954688\"/>\n      </g>\n     </g>\n     <g id=\"text_13\">\n      <!-- −0.5 -->\n      <g transform=\"translate(7.2 150.809375)scale(0.1 -0.1)\">\n       <use xlink:href=\"#LucidaGrande-8722\"/>\n       <use x=\"79.541016\" xlink:href=\"#LucidaGrande-48\"/>\n       <use x=\"142.773438\" xlink:href=\"#LucidaGrande-46\"/>\n       <use x=\"174.414062\" xlink:href=\"#LucidaGrande-53\"/>\n      </g>\n     </g>\n    </g>\n    <g id=\"ytick_5\">\n     <g id=\"line2d_27\">\n      <path clip-path=\"url(#p02bbc8102d)\" d=\"M 37.965625 119.774687 \nL 372.765625 119.774687 \n\" style=\"fill:none;stroke:#b0b0b0;stroke-linecap:square;stroke-width:0.8;\"/>\n     </g>\n     <g id=\"line2d_28\">\n      <g>\n       <use style=\"stroke:#000000;stroke-width:0.8;\" x=\"37.965625\" xlink:href=\"#me14ac8c0b5\" y=\"119.774687\"/>\n      </g>\n     </g>\n     <g id=\"text_14\">\n      <!-- 0.0 -->\n      <g transform=\"translate(15.154688 123.629375)scale(0.1 -0.1)\">\n       <use xlink:href=\"#LucidaGrande-48\"/>\n       <use x=\"63.232422\" xlink:href=\"#LucidaGrande-46\"/>\n       <use x=\"94.873047\" xlink:href=\"#LucidaGrande-48\"/>\n      </g>\n     </g>\n    </g>\n    <g id=\"ytick_6\">\n     <g id=\"line2d_29\">\n      <path clip-path=\"url(#p02bbc8102d)\" d=\"M 37.965625 92.594687 \nL 372.765625 92.594687 \n\" style=\"fill:none;stroke:#b0b0b0;stroke-linecap:square;stroke-width:0.8;\"/>\n     </g>\n     <g id=\"line2d_30\">\n      <g>\n       <use style=\"stroke:#000000;stroke-width:0.8;\" x=\"37.965625\" xlink:href=\"#me14ac8c0b5\" y=\"92.594687\"/>\n      </g>\n     </g>\n     <g id=\"text_15\">\n      <!-- 0.5 -->\n      <g transform=\"translate(15.154688 96.449375)scale(0.1 -0.1)\">\n       <use xlink:href=\"#LucidaGrande-48\"/>\n       <use x=\"63.232422\" xlink:href=\"#LucidaGrande-46\"/>\n       <use x=\"94.873047\" xlink:href=\"#LucidaGrande-53\"/>\n      </g>\n     </g>\n    </g>\n    <g id=\"ytick_7\">\n     <g id=\"line2d_31\">\n      <path clip-path=\"url(#p02bbc8102d)\" d=\"M 37.965625 65.414687 \nL 372.765625 65.414687 \n\" style=\"fill:none;stroke:#b0b0b0;stroke-linecap:square;stroke-width:0.8;\"/>\n     </g>\n     <g id=\"line2d_32\">\n      <g>\n       <use style=\"stroke:#000000;stroke-width:0.8;\" x=\"37.965625\" xlink:href=\"#me14ac8c0b5\" y=\"65.414687\"/>\n      </g>\n     </g>\n     <g id=\"text_16\">\n      <!-- 1.0 -->\n      <g transform=\"translate(15.154688 69.269375)scale(0.1 -0.1)\">\n       <use xlink:href=\"#LucidaGrande-49\"/>\n       <use x=\"63.232422\" xlink:href=\"#LucidaGrande-46\"/>\n       <use x=\"94.873047\" xlink:href=\"#LucidaGrande-48\"/>\n      </g>\n     </g>\n    </g>\n    <g id=\"ytick_8\">\n     <g id=\"line2d_33\">\n      <path clip-path=\"url(#p02bbc8102d)\" d=\"M 37.965625 38.234688 \nL 372.765625 38.234688 \n\" style=\"fill:none;stroke:#b0b0b0;stroke-linecap:square;stroke-width:0.8;\"/>\n     </g>\n     <g id=\"line2d_34\">\n      <g>\n       <use style=\"stroke:#000000;stroke-width:0.8;\" x=\"37.965625\" xlink:href=\"#me14ac8c0b5\" y=\"38.234688\"/>\n      </g>\n     </g>\n     <g id=\"text_17\">\n      <!-- 1.5 -->\n      <g transform=\"translate(15.154688 42.089375)scale(0.1 -0.1)\">\n       <use xlink:href=\"#LucidaGrande-49\"/>\n       <use x=\"63.232422\" xlink:href=\"#LucidaGrande-46\"/>\n       <use x=\"94.873047\" xlink:href=\"#LucidaGrande-53\"/>\n      </g>\n     </g>\n    </g>\n    <g id=\"ytick_9\">\n     <g id=\"line2d_35\">\n      <path clip-path=\"url(#p02bbc8102d)\" d=\"M 37.965625 11.054688 \nL 372.765625 11.054688 \n\" style=\"fill:none;stroke:#b0b0b0;stroke-linecap:square;stroke-width:0.8;\"/>\n     </g>\n     <g id=\"line2d_36\">\n      <g>\n       <use style=\"stroke:#000000;stroke-width:0.8;\" x=\"37.965625\" xlink:href=\"#me14ac8c0b5\" y=\"11.054688\"/>\n      </g>\n     </g>\n     <g id=\"text_18\">\n      <!-- 2.0 -->\n      <g transform=\"translate(15.154688 14.909375)scale(0.1 -0.1)\">\n       <use xlink:href=\"#LucidaGrande-50\"/>\n       <use x=\"63.232422\" xlink:href=\"#LucidaGrande-46\"/>\n       <use x=\"94.873047\" xlink:href=\"#LucidaGrande-48\"/>\n      </g>\n     </g>\n    </g>\n   </g>\n   <g id=\"line2d_37\">\n    <defs>\n     <path d=\"M -3 0 \nL 3 0 \nM 0 3 \nL 0 -3 \n\" id=\"md1a64c6559\" style=\"stroke:#ff0000;\"/>\n    </defs>\n    <g clip-path=\"url(#p02bbc8102d)\">\n     <use style=\"fill:#ff0000;stroke:#ff0000;\" x=\"79.815625\" xlink:href=\"#md1a64c6559\" y=\"190.442685\"/>\n     <use style=\"fill:#ff0000;stroke:#ff0000;\" x=\"222.105625\" xlink:href=\"#md1a64c6559\" y=\"195.878686\"/>\n     <use style=\"fill:#ff0000;stroke:#ff0000;\" x=\"146.775626\" xlink:href=\"#md1a64c6559\" y=\"146.954688\"/>\n    </g>\n   </g>\n   <g id=\"line2d_38\">\n    <defs>\n     <path d=\"M 0 1.5 \nC 0.397805 1.5 0.77937 1.341951 1.06066 1.06066 \nC 1.341951 0.77937 1.5 0.397805 1.5 0 \nC 1.5 -0.397805 1.341951 -0.77937 1.06066 -1.06066 \nC 0.77937 -1.341951 0.397805 -1.5 0 -1.5 \nC -0.397805 -1.5 -0.77937 -1.341951 -1.06066 -1.06066 \nC -1.341951 -0.77937 -1.5 -0.397805 -1.5 0 \nC -1.5 0.397805 -1.341951 0.77937 -1.06066 1.06066 \nC -0.77937 1.341951 -0.397805 1.5 0 1.5 \nz\n\" id=\"m5ec497adec\" style=\"stroke:#0000ff;\"/>\n    </defs>\n    <g clip-path=\"url(#p02bbc8102d)\">\n     <use style=\"fill:#0000ff;stroke:#0000ff;\" x=\"305.805629\" xlink:href=\"#m5ec497adec\" y=\"65.414687\"/>\n     <use style=\"fill:#0000ff;stroke:#0000ff;\" x=\"222.105625\" xlink:href=\"#m5ec497adec\" y=\"43.670689\"/>\n     <use style=\"fill:#0000ff;stroke:#0000ff;\" x=\"247.215625\" xlink:href=\"#m5ec497adec\" y=\"92.594687\"/>\n    </g>\n   </g>\n   <g id=\"line2d_39\">\n    <path clip-path=\"url(#p02bbc8102d)\" d=\"M 37.965625 246.614696 \nL 372.765625 101.654687 \n\" style=\"fill:none;stroke:#1f77b4;stroke-linecap:square;stroke-width:1.5;\"/>\n   </g>\n   <g id=\"patch_3\">\n    <path d=\"M 37.965625 228.494687 \nL 37.965625 11.054688 \n\" style=\"fill:none;stroke:#000000;stroke-linecap:square;stroke-linejoin:miter;stroke-width:0.8;\"/>\n   </g>\n   <g id=\"patch_4\">\n    <path d=\"M 372.765625 228.494687 \nL 372.765625 11.054688 \n\" style=\"fill:none;stroke:#000000;stroke-linecap:square;stroke-linejoin:miter;stroke-width:0.8;\"/>\n   </g>\n   <g id=\"patch_5\">\n    <path d=\"M 37.965625 228.494687 \nL 372.765625 228.494687 \n\" style=\"fill:none;stroke:#000000;stroke-linecap:square;stroke-linejoin:miter;stroke-width:0.8;\"/>\n   </g>\n   <g id=\"patch_6\">\n    <path d=\"M 37.965625 11.054688 \nL 372.765625 11.054688 \n\" style=\"fill:none;stroke:#000000;stroke-linecap:square;stroke-linejoin:miter;stroke-width:0.8;\"/>\n   </g>\n  </g>\n </g>\n <defs>\n  <clipPath id=\"p02bbc8102d\">\n   <rect height=\"217.44\" width=\"334.8\" x=\"37.965625\" y=\"11.054688\"/>\n  </clipPath>\n </defs>\n</svg>\n",
      "image/png": "[encoded data removed]"
     },
     "metadata": {
      "needs_background": "light"
     }
    }
   ],
   "source": [
    "import matplotlib.pyplot as plt\n",
    "\n",
    "# create some toy 2-D datapoints with binary (0/1) labels\n",
    "x = torch.tensor([[1.2, 1], [0.2, 1.4], [0.5, 0.5], \n",
    "                  [-1.5, -1.3], [0.2, -1.4], [-0.7, -0.5]])\n",
    "y = torch.tensor([0, 0, 0, 1, 1, 1 ])\n",
    "\n",
    "def plot_soln(x, y, params):\n",
    "  plt.plot(x[y==1,0], x[y==1,1], 'r+')\n",
    "  plt.plot(x[y==0,0], x[y==0,1], 'b.')\n",
    "  plt.grid(True)\n",
    "  plt.axis([-2, 2, -2, 2])\n",
    "  \n",
    "  # NOTE : This may depend on how you implement Neuron.\n",
    "  #   Change accordingly\n",
    "  w0 = params[0][0][0].item()\n",
    "  w1 = params[0][0][1].item()\n",
    "  bias = params[1][0].item()\n",
    "  \n",
    "  print(\"w0 =\", w0, \"w1 =\", w1, \"bias =\", bias)\n",
    "  dbx = torch.tensor([-2, 2])\n",
    "  dby = -(1/w1)*(w0*dbx + bias)  # plot the line corresponding to the weights and bias\n",
    "  plt.plot(dbx, dby)\n",
    "\n",
    "params = list(my_neuron.parameters())\n",
    "plot_soln(x, y, params)"
   ]
  },
  {
   "cell_type": "markdown",
   "metadata": {
    "colab_type": "text",
    "id": "CpB2AwwhckYc"
   },
   "source": [
    "**1.5.1** Declare an object `criterion` of type `nn.CrossEntropyLoss`. Note that this can be called as a function on two tensors, one representing the network outputs and the other, the targets that the network is being trained to predict, to return the loss. Print the value of the loss on the dataset using the initial weights and bias defined above in Q1.2."
   ]
  },
  {
   "cell_type": "code",
   "execution_count": 27,
   "metadata": {
    "colab": {
     "base_uri": "https://localhost:8080/",
     "height": 34
    },
    "colab_type": "code",
    "executionInfo": {
     "elapsed": 553,
     "status": "ok",
     "timestamp": 1581998912941,
     "user": {
      "displayName": "Samarth Mishra",
      "photoUrl": "",
      "userId": "00064519813488481618"
     },
     "user_tz": 300
    },
    "id": "l1M8bkH5cnVQ",
    "outputId": "8b79c853-db3e-4688-856e-1c7663195fdd"
   },
   "outputs": [
    {
     "output_type": "stream",
     "name": "stdout",
     "text": [
      "torch.Size([6, 1])\ntorch.Size([6])\n"
     ]
    },
    {
     "output_type": "error",
     "ename": "IndexError",
     "evalue": "Target 1 is out of bounds.",
     "traceback": [
      "\u001b[0;31m---------------------------------------------------------------------------\u001b[0m",
      "\u001b[0;31mIndexError\u001b[0m                                Traceback (most recent call last)",
      "\u001b[0;32m<ipython-input-27-9e55cd00db33>\u001b[0m in \u001b[0;36m<module>\u001b[0;34m\u001b[0m\n\u001b[1;32m      8\u001b[0m \u001b[0;31m# print(tensor.shape)\u001b[0m\u001b[0;34m\u001b[0m\u001b[0;34m\u001b[0m\u001b[0;34m\u001b[0m\u001b[0m\n\u001b[1;32m      9\u001b[0m \u001b[0mprint\u001b[0m\u001b[0;34m(\u001b[0m\u001b[0my\u001b[0m\u001b[0;34m.\u001b[0m\u001b[0mshape\u001b[0m\u001b[0;34m)\u001b[0m\u001b[0;34m\u001b[0m\u001b[0;34m\u001b[0m\u001b[0m\n\u001b[0;32m---> 10\u001b[0;31m \u001b[0mloss\u001b[0m \u001b[0;34m=\u001b[0m \u001b[0mcriterion\u001b[0m\u001b[0;34m(\u001b[0m\u001b[0my_pred\u001b[0m\u001b[0;34m,\u001b[0m \u001b[0my\u001b[0m\u001b[0;34m)\u001b[0m\u001b[0;34m\u001b[0m\u001b[0;34m\u001b[0m\u001b[0m\n\u001b[0m\u001b[1;32m     11\u001b[0m \u001b[0mprint\u001b[0m\u001b[0;34m(\u001b[0m\u001b[0;34m\"loss =\"\u001b[0m\u001b[0;34m,\u001b[0m \u001b[0mloss\u001b[0m\u001b[0;34m.\u001b[0m\u001b[0mitem\u001b[0m\u001b[0;34m(\u001b[0m\u001b[0;34m)\u001b[0m\u001b[0;34m)\u001b[0m\u001b[0;34m\u001b[0m\u001b[0;34m\u001b[0m\u001b[0m\n",
      "\u001b[0;32m/opt/anaconda3/envs/myenv/lib/python3.9/site-packages/torch/nn/modules/module.py\u001b[0m in \u001b[0;36m_call_impl\u001b[0;34m(self, *input, **kwargs)\u001b[0m\n\u001b[1;32m    725\u001b[0m             \u001b[0mresult\u001b[0m \u001b[0;34m=\u001b[0m \u001b[0mself\u001b[0m\u001b[0;34m.\u001b[0m\u001b[0m_slow_forward\u001b[0m\u001b[0;34m(\u001b[0m\u001b[0;34m*\u001b[0m\u001b[0minput\u001b[0m\u001b[0;34m,\u001b[0m \u001b[0;34m**\u001b[0m\u001b[0mkwargs\u001b[0m\u001b[0;34m)\u001b[0m\u001b[0;34m\u001b[0m\u001b[0;34m\u001b[0m\u001b[0m\n\u001b[1;32m    726\u001b[0m         \u001b[0;32melse\u001b[0m\u001b[0;34m:\u001b[0m\u001b[0;34m\u001b[0m\u001b[0;34m\u001b[0m\u001b[0m\n\u001b[0;32m--> 727\u001b[0;31m             \u001b[0mresult\u001b[0m \u001b[0;34m=\u001b[0m \u001b[0mself\u001b[0m\u001b[0;34m.\u001b[0m\u001b[0mforward\u001b[0m\u001b[0;34m(\u001b[0m\u001b[0;34m*\u001b[0m\u001b[0minput\u001b[0m\u001b[0;34m,\u001b[0m \u001b[0;34m**\u001b[0m\u001b[0mkwargs\u001b[0m\u001b[0;34m)\u001b[0m\u001b[0;34m\u001b[0m\u001b[0;34m\u001b[0m\u001b[0m\n\u001b[0m\u001b[1;32m    728\u001b[0m         for hook in itertools.chain(\n\u001b[1;32m    729\u001b[0m                 \u001b[0m_global_forward_hooks\u001b[0m\u001b[0;34m.\u001b[0m\u001b[0mvalues\u001b[0m\u001b[0;34m(\u001b[0m\u001b[0;34m)\u001b[0m\u001b[0;34m,\u001b[0m\u001b[0;34m\u001b[0m\u001b[0;34m\u001b[0m\u001b[0m\n",
      "\u001b[0;32m/opt/anaconda3/envs/myenv/lib/python3.9/site-packages/torch/nn/modules/loss.py\u001b[0m in \u001b[0;36mforward\u001b[0;34m(self, input, target)\u001b[0m\n\u001b[1;32m    959\u001b[0m \u001b[0;34m\u001b[0m\u001b[0m\n\u001b[1;32m    960\u001b[0m     \u001b[0;32mdef\u001b[0m \u001b[0mforward\u001b[0m\u001b[0;34m(\u001b[0m\u001b[0mself\u001b[0m\u001b[0;34m,\u001b[0m \u001b[0minput\u001b[0m\u001b[0;34m:\u001b[0m \u001b[0mTensor\u001b[0m\u001b[0;34m,\u001b[0m \u001b[0mtarget\u001b[0m\u001b[0;34m:\u001b[0m \u001b[0mTensor\u001b[0m\u001b[0;34m)\u001b[0m \u001b[0;34m->\u001b[0m \u001b[0mTensor\u001b[0m\u001b[0;34m:\u001b[0m\u001b[0;34m\u001b[0m\u001b[0;34m\u001b[0m\u001b[0m\n\u001b[0;32m--> 961\u001b[0;31m         return F.cross_entropy(input, target, weight=self.weight,\n\u001b[0m\u001b[1;32m    962\u001b[0m                                ignore_index=self.ignore_index, reduction=self.reduction)\n\u001b[1;32m    963\u001b[0m \u001b[0;34m\u001b[0m\u001b[0m\n",
      "\u001b[0;32m/opt/anaconda3/envs/myenv/lib/python3.9/site-packages/torch/nn/functional.py\u001b[0m in \u001b[0;36mcross_entropy\u001b[0;34m(input, target, weight, size_average, ignore_index, reduce, reduction)\u001b[0m\n\u001b[1;32m   2466\u001b[0m     \u001b[0;32mif\u001b[0m \u001b[0msize_average\u001b[0m \u001b[0;32mis\u001b[0m \u001b[0;32mnot\u001b[0m \u001b[0;32mNone\u001b[0m \u001b[0;32mor\u001b[0m \u001b[0mreduce\u001b[0m \u001b[0;32mis\u001b[0m \u001b[0;32mnot\u001b[0m \u001b[0;32mNone\u001b[0m\u001b[0;34m:\u001b[0m\u001b[0;34m\u001b[0m\u001b[0;34m\u001b[0m\u001b[0m\n\u001b[1;32m   2467\u001b[0m         \u001b[0mreduction\u001b[0m \u001b[0;34m=\u001b[0m \u001b[0m_Reduction\u001b[0m\u001b[0;34m.\u001b[0m\u001b[0mlegacy_get_string\u001b[0m\u001b[0;34m(\u001b[0m\u001b[0msize_average\u001b[0m\u001b[0;34m,\u001b[0m \u001b[0mreduce\u001b[0m\u001b[0;34m)\u001b[0m\u001b[0;34m\u001b[0m\u001b[0;34m\u001b[0m\u001b[0m\n\u001b[0;32m-> 2468\u001b[0;31m     \u001b[0;32mreturn\u001b[0m \u001b[0mnll_loss\u001b[0m\u001b[0;34m(\u001b[0m\u001b[0mlog_softmax\u001b[0m\u001b[0;34m(\u001b[0m\u001b[0minput\u001b[0m\u001b[0;34m,\u001b[0m \u001b[0;36m1\u001b[0m\u001b[0;34m)\u001b[0m\u001b[0;34m,\u001b[0m \u001b[0mtarget\u001b[0m\u001b[0;34m,\u001b[0m \u001b[0mweight\u001b[0m\u001b[0;34m,\u001b[0m \u001b[0;32mNone\u001b[0m\u001b[0;34m,\u001b[0m \u001b[0mignore_index\u001b[0m\u001b[0;34m,\u001b[0m \u001b[0;32mNone\u001b[0m\u001b[0;34m,\u001b[0m \u001b[0mreduction\u001b[0m\u001b[0;34m)\u001b[0m\u001b[0;34m\u001b[0m\u001b[0;34m\u001b[0m\u001b[0m\n\u001b[0m\u001b[1;32m   2469\u001b[0m \u001b[0;34m\u001b[0m\u001b[0m\n\u001b[1;32m   2470\u001b[0m \u001b[0;34m\u001b[0m\u001b[0m\n",
      "\u001b[0;32m/opt/anaconda3/envs/myenv/lib/python3.9/site-packages/torch/nn/functional.py\u001b[0m in \u001b[0;36mnll_loss\u001b[0;34m(input, target, weight, size_average, ignore_index, reduce, reduction)\u001b[0m\n\u001b[1;32m   2262\u001b[0m                          .format(input.size(0), target.size(0)))\n\u001b[1;32m   2263\u001b[0m     \u001b[0;32mif\u001b[0m \u001b[0mdim\u001b[0m \u001b[0;34m==\u001b[0m \u001b[0;36m2\u001b[0m\u001b[0;34m:\u001b[0m\u001b[0;34m\u001b[0m\u001b[0;34m\u001b[0m\u001b[0m\n\u001b[0;32m-> 2264\u001b[0;31m         \u001b[0mret\u001b[0m \u001b[0;34m=\u001b[0m \u001b[0mtorch\u001b[0m\u001b[0;34m.\u001b[0m\u001b[0m_C\u001b[0m\u001b[0;34m.\u001b[0m\u001b[0m_nn\u001b[0m\u001b[0;34m.\u001b[0m\u001b[0mnll_loss\u001b[0m\u001b[0;34m(\u001b[0m\u001b[0minput\u001b[0m\u001b[0;34m,\u001b[0m \u001b[0mtarget\u001b[0m\u001b[0;34m,\u001b[0m \u001b[0mweight\u001b[0m\u001b[0;34m,\u001b[0m \u001b[0m_Reduction\u001b[0m\u001b[0;34m.\u001b[0m\u001b[0mget_enum\u001b[0m\u001b[0;34m(\u001b[0m\u001b[0mreduction\u001b[0m\u001b[0;34m)\u001b[0m\u001b[0;34m,\u001b[0m \u001b[0mignore_index\u001b[0m\u001b[0;34m)\u001b[0m\u001b[0;34m\u001b[0m\u001b[0;34m\u001b[0m\u001b[0m\n\u001b[0m\u001b[1;32m   2265\u001b[0m     \u001b[0;32melif\u001b[0m \u001b[0mdim\u001b[0m \u001b[0;34m==\u001b[0m \u001b[0;36m4\u001b[0m\u001b[0;34m:\u001b[0m\u001b[0;34m\u001b[0m\u001b[0;34m\u001b[0m\u001b[0m\n\u001b[1;32m   2266\u001b[0m         \u001b[0mret\u001b[0m \u001b[0;34m=\u001b[0m \u001b[0mtorch\u001b[0m\u001b[0;34m.\u001b[0m\u001b[0m_C\u001b[0m\u001b[0;34m.\u001b[0m\u001b[0m_nn\u001b[0m\u001b[0;34m.\u001b[0m\u001b[0mnll_loss2d\u001b[0m\u001b[0;34m(\u001b[0m\u001b[0minput\u001b[0m\u001b[0;34m,\u001b[0m \u001b[0mtarget\u001b[0m\u001b[0;34m,\u001b[0m \u001b[0mweight\u001b[0m\u001b[0;34m,\u001b[0m \u001b[0m_Reduction\u001b[0m\u001b[0;34m.\u001b[0m\u001b[0mget_enum\u001b[0m\u001b[0;34m(\u001b[0m\u001b[0mreduction\u001b[0m\u001b[0;34m)\u001b[0m\u001b[0;34m,\u001b[0m \u001b[0mignore_index\u001b[0m\u001b[0;34m)\u001b[0m\u001b[0;34m\u001b[0m\u001b[0;34m\u001b[0m\u001b[0m\n",
      "\u001b[0;31mIndexError\u001b[0m: Target 1 is out of bounds."
     ]
    }
   ],
   "source": [
    "# solution here\n",
    "my_neuron = Neuron()\n",
    "y_pred = my_neuron.forward(x)\n",
    "criterion = nn.CrossEntropyLoss()\n",
    "# y_pred = torch.cat([y_pred, y], dim=1)\n",
    "print(y_pred.shape)\n",
    "# tensor = torch.zeros(6)\n",
    "# print(tensor.shape)\n",
    "print(y.shape)\n",
    "loss = criterion(y_pred, y)\n",
    "print(\"loss =\", loss.item())"
   ]
  },
  {
   "cell_type": "markdown",
   "metadata": {
    "colab_type": "text",
    "id": "RJqHzmDL6yYh"
   },
   "source": [
    "**1.5.2** The following prints out the chain of `grad_fn` functions backwards starting from `loss.grad_fn`  to demonstrate what backpropagation will be run on."
   ]
  },
  {
   "cell_type": "code",
   "execution_count": 290,
   "metadata": {
    "colab": {
     "base_uri": "https://localhost:8080/",
     "height": 86
    },
    "colab_type": "code",
    "executionInfo": {
     "elapsed": 404,
     "status": "ok",
     "timestamp": 1581998915620,
     "user": {
      "displayName": "Samarth Mishra",
      "photoUrl": "",
      "userId": "00064519813488481618"
     },
     "user_tz": 300
    },
    "id": "wawoYnT3U04S",
    "outputId": "cfafafbe-8cd0-48bb-c6a4-bda00371a103",
    "scrolled": true
   },
   "outputs": [
    {
     "output_type": "stream",
     "name": "stdout",
     "text": [
      "None\n"
     ]
    },
    {
     "output_type": "error",
     "ename": "AttributeError",
     "evalue": "'NoneType' object has no attribute 'next_functions'",
     "traceback": [
      "\u001b[0;31m---------------------------------------------------------------------------\u001b[0m",
      "\u001b[0;31mAttributeError\u001b[0m                            Traceback (most recent call last)",
      "\u001b[0;32m<ipython-input-290-bed0e68ac95e>\u001b[0m in \u001b[0;36m<module>\u001b[0;34m\u001b[0m\n\u001b[1;32m      1\u001b[0m \u001b[0mprint\u001b[0m\u001b[0;34m(\u001b[0m\u001b[0mloss\u001b[0m\u001b[0;34m.\u001b[0m\u001b[0mgrad_fn\u001b[0m\u001b[0;34m)\u001b[0m\u001b[0;34m\u001b[0m\u001b[0;34m\u001b[0m\u001b[0m\n\u001b[0;32m----> 2\u001b[0;31m \u001b[0mprint\u001b[0m\u001b[0;34m(\u001b[0m\u001b[0mloss\u001b[0m\u001b[0;34m.\u001b[0m\u001b[0mgrad_fn\u001b[0m\u001b[0;34m.\u001b[0m\u001b[0mnext_functions\u001b[0m\u001b[0;34m[\u001b[0m\u001b[0;36m0\u001b[0m\u001b[0;34m]\u001b[0m\u001b[0;34m[\u001b[0m\u001b[0;36m0\u001b[0m\u001b[0;34m]\u001b[0m\u001b[0;34m)\u001b[0m\u001b[0;34m\u001b[0m\u001b[0;34m\u001b[0m\u001b[0m\n\u001b[0m\u001b[1;32m      3\u001b[0m \u001b[0mprint\u001b[0m\u001b[0;34m(\u001b[0m\u001b[0mloss\u001b[0m\u001b[0;34m.\u001b[0m\u001b[0mgrad_fn\u001b[0m\u001b[0;34m.\u001b[0m\u001b[0mnext_functions\u001b[0m\u001b[0;34m[\u001b[0m\u001b[0;36m0\u001b[0m\u001b[0;34m]\u001b[0m\u001b[0;34m[\u001b[0m\u001b[0;36m0\u001b[0m\u001b[0;34m]\u001b[0m\u001b[0;34m.\u001b[0m\u001b[0mnext_functions\u001b[0m\u001b[0;34m[\u001b[0m\u001b[0;36m0\u001b[0m\u001b[0;34m]\u001b[0m\u001b[0;34m[\u001b[0m\u001b[0;36m0\u001b[0m\u001b[0;34m]\u001b[0m\u001b[0;34m)\u001b[0m\u001b[0;34m\u001b[0m\u001b[0;34m\u001b[0m\u001b[0m\n\u001b[1;32m      4\u001b[0m \u001b[0mprint\u001b[0m\u001b[0;34m(\u001b[0m\u001b[0mloss\u001b[0m\u001b[0;34m.\u001b[0m\u001b[0mgrad_fn\u001b[0m\u001b[0;34m.\u001b[0m\u001b[0mnext_functions\u001b[0m\u001b[0;34m[\u001b[0m\u001b[0;36m0\u001b[0m\u001b[0;34m]\u001b[0m\u001b[0;34m[\u001b[0m\u001b[0;36m0\u001b[0m\u001b[0;34m]\u001b[0m\u001b[0;34m.\u001b[0m\u001b[0mnext_functions\u001b[0m\u001b[0;34m[\u001b[0m\u001b[0;36m0\u001b[0m\u001b[0;34m]\u001b[0m\u001b[0;34m[\u001b[0m\u001b[0;36m0\u001b[0m\u001b[0;34m]\u001b[0m\u001b[0;34m.\u001b[0m\u001b[0mnext_functions\u001b[0m\u001b[0;34m[\u001b[0m\u001b[0;36m0\u001b[0m\u001b[0;34m]\u001b[0m\u001b[0;34m[\u001b[0m\u001b[0;36m0\u001b[0m\u001b[0;34m]\u001b[0m\u001b[0;34m)\u001b[0m\u001b[0;34m\u001b[0m\u001b[0;34m\u001b[0m\u001b[0m\n",
      "\u001b[0;31mAttributeError\u001b[0m: 'NoneType' object has no attribute 'next_functions'"
     ]
    }
   ],
   "source": [
    "print(loss.grad_fn)  \n",
    "print(loss.grad_fn.next_functions[0][0])  \n",
    "print(loss.grad_fn.next_functions[0][0].next_functions[0][0])  \n",
    "print(loss.grad_fn.next_functions[0][0].next_functions[0][0].next_functions[0][0])  "
   ]
  },
  {
   "cell_type": "markdown",
   "metadata": {
    "colab_type": "text",
    "id": "Og0ZO46h3UNg"
   },
   "source": [
    "**1.5.3** Run the Stochastic Gradient Descent (SGD) optimizer from the `torch.optim` package to train your classifier on the toy dataset. Use the entire dataset in each batch. Use a learning rate of $0.01$ (no other hyperparameters). You will need to write a training loop that uses the `.step()` function of the optimizer. Plot the solution and print the loss after 1000 iterations."
   ]
  },
  {
   "cell_type": "code",
   "execution_count": 0,
   "metadata": {
    "colab": {
     "base_uri": "https://localhost:8080/",
     "height": 304
    },
    "colab_type": "code",
    "executionInfo": {
     "elapsed": 1098,
     "status": "ok",
     "timestamp": 1581998918323,
     "user": {
      "displayName": "Samarth Mishra",
      "photoUrl": "",
      "userId": "00064519813488481618"
     },
     "user_tz": 300
    },
    "id": "fqxdnM-vV1DU",
    "outputId": "3699a412-a9bb-48ad-d873-53349a233a23"
   },
   "outputs": [
    {
     "name": "stdout",
     "output_type": "stream",
     "text": [
      "loss = 0.870725691318512\n",
      "w0 = 2.161842107772827 w1 = -2.233754873275757 bias = -3.3213229179382324\n"
     ]
    },
    {
     "data": {
      "image/png": "[encoded data removed]",
      "text/plain": [
       "<Figure size 432x288 with 1 Axes>"
      ]
     },
     "metadata": {
      "tags": []
     },
     "output_type": "display_data"
    }
   ],
   "source": [
    "# solution here\n",
    "optimiser = torch.optim.SGD(my_neuron.parameters(), lr = 0.01)\n",
    "\n",
    "for i in range(1000):\n",
    "    y_pred = my_neuron(x)\n",
    "    # \n",
    "    # \n",
    "    optimiser.zero_grad()\n",
    "    loss.backward()\n",
    "    optimiser.step()\n",
    "\n",
    "print(\"loss =\", loss.item())\n",
    "params = list(my_neuron.parameters())\n",
    "plot_soln(x, y, params)"
   ]
  },
  {
   "cell_type": "markdown",
   "metadata": {
    "colab_type": "text",
    "id": "Z0NBjzHF6TN5"
   },
   "source": [
    "**1.5.4** How many thousands of iterations does it take (approximately) until the neuron learns to classify the data correctly?"
   ]
  },
  {
   "cell_type": "markdown",
   "metadata": {
    "colab_type": "text",
    "id": "wc4CEo9c6neD"
   },
   "source": [
    "**[ double click to enter solution ]**\n",
    "\n",
    "Fill in"
   ]
  },
  {
   "cell_type": "markdown",
   "metadata": {
    "colab_type": "text",
    "id": "xEV3Px886zrI"
   },
   "source": [
    "\n",
    "\n",
    "---\n",
    "\n",
    "\n",
    "# Problem 2: Convolutional Networks (30 points)\n",
    "\n",
    "In this part, we will experiment with CNNs in PyTorch. You will need to read the documentation of the functions provided below to understand how they work.\n",
    "\n",
    "**GPU Training.** Smaller networks will train fine on a CPU, but you may want to use GPU training for this part of the homework. You can run your experiments on Colab's GPUs or on BU's  [Shared Computing Cluster (SCC)](http://www.bu.edu/tech/services/research/computation/scc/). "
   ]
  },
  {
   "cell_type": "markdown",
   "metadata": {
    "colab_type": "text",
    "id": "Kxl45fh6FNq6"
   },
   "source": [
    "### 2.1. Training a CNN on SVHN\n",
    "We will create and train a convolutional network on the [SVHN Dataset](http://ufldl.stanford.edu/housenumbers/).\n",
    "\n",
    "The SVHN dataset consists of photos of house numbers, collected automatically using Google's Street View. Recognizing multi-digit numbers in photographs captured at street level is an important component of modern-day map making. Google’s Street View imagery contains hundreds of millions of geo-located 360 degree panoramic images. The ability to automatically transcribe an address number from a geo-located patch of pixels and associate the transcribed number with a known street address helps pinpoint, with a high degree of accuracy, the location of the building it represents. Below are example images from the dataset. Note that for this dataset, each image (32x32 pixels) has been cropped around a single number in its center, which is the number we want to classify.\n",
    "\n",
    "![SVHN images](http://ufldl.stanford.edu/housenumbers/32x32eg.png)\n"
   ]
  },
  {
   "cell_type": "markdown",
   "metadata": {
    "colab_type": "text",
    "id": "NJa-vlG99lMr"
   },
   "source": [
    "### 2.1.2 Data Download\n",
    "The following downloads the SVHN dataset using `torchvision` and displays the images in the first batch. "
   ]
  },
  {
   "cell_type": "code",
   "execution_count": 2,
   "metadata": {
    "colab": {},
    "colab_type": "code",
    "id": "dHFWPxi6jCoB"
   },
   "outputs": [
    {
     "output_type": "stream",
     "name": "stdout",
     "text": [
      "Using downloaded and verified file: ./data/train_32x32.mat\n",
      "Using downloaded and verified file: ./data/test_32x32.mat\n"
     ]
    }
   ],
   "source": [
    "import torch\n",
    "import torchvision\n",
    "import torchvision.transforms as transforms\n",
    "\n",
    "transform = transforms.Compose(\n",
    "    [transforms.ToTensor(),\n",
    "     transforms.Normalize((0.5, 0.5, 0.5), (0.5, 0.5, 0.5))])\n",
    "\n",
    "trainset = torchvision.datasets.SVHN(root='./data', split='train',\n",
    "                                        transform=transform, download=True)\n",
    "trainloader = torch.utils.data.DataLoader(trainset, batch_size=4,\n",
    "                                          shuffle=True, num_workers=2)\n",
    "testset = torchvision.datasets.SVHN(root='./data', split='test',\n",
    "                                        transform=transform, download=True)\n",
    "testloader = torch.utils.data.DataLoader(testset, batch_size=4,\n",
    "                                         shuffle=False, num_workers=2)\n",
    "\n",
    "classes = ('0', '1', '2', '3', '4', '5', '6', '7', '8', '9')"
   ]
  },
  {
   "cell_type": "code",
   "execution_count": 3,
   "metadata": {},
   "outputs": [
    {
     "output_type": "stream",
     "name": "stdout",
     "text": [
      "    5     5     3     1\n"
     ]
    },
    {
     "output_type": "display_data",
     "data": {
      "text/plain": "<Figure size 432x288 with 1 Axes>",
      "image/svg+xml": "<?xml version=\"1.0\" encoding=\"utf-8\" standalone=\"no\"?>\n<!DOCTYPE svg PUBLIC \"-//W3C//DTD SVG 1.1//EN\"\n  \"http://www.w3.org/Graphics/SVG/1.1/DTD/svg11.dtd\">\n<!-- Created with matplotlib (https://matplotlib.org/) -->\n<svg height=\"121.018274pt\" version=\"1.1\" viewBox=\"0 0 368.846875 121.018274\" width=\"368.846875pt\" xmlns=\"http://www.w3.org/2000/svg\" xmlns:xlink=\"http://www.w3.org/1999/xlink\">\n <metadata>\n  <rdf:RDF xmlns:cc=\"http://creativecommons.org/ns#\" xmlns:dc=\"http://purl.org/dc/elements/1.1/\" xmlns:rdf=\"http://www.w3.org/1999/02/22-rdf-syntax-ns#\">\n   <cc:Work>\n    <dc:type rdf:resource=\"http://purl.org/dc/dcmitype/StillImage\"/>\n    <dc:date>2021-06-14T15:27:03.268432</dc:date>\n    <dc:format>image/svg+xml</dc:format>\n    <dc:creator>\n     <cc:Agent>\n      <dc:title>Matplotlib v3.3.4, https://matplotlib.org/</dc:title>\n     </cc:Agent>\n    </dc:creator>\n   </cc:Work>\n  </rdf:RDF>\n </metadata>\n <defs>\n  <style type=\"text/css\">*{stroke-linecap:butt;stroke-linejoin:round;}</style>\n </defs>\n <g id=\"figure_1\">\n  <g id=\"patch_1\">\n   <path d=\"M 0 121.018274 \nL 368.846875 121.018274 \nL 368.846875 0 \nL 0 0 \nz\n\" style=\"fill:none;\"/>\n  </g>\n  <g id=\"axes_1\">\n   <g id=\"patch_2\">\n    <path d=\"M 26.846875 97.180774 \nL 361.646875 97.180774 \nL 361.646875 9.841644 \nL 26.846875 9.841644 \nz\n\" style=\"fill:#ffffff;\"/>\n   </g>\n   <g clip-path=\"url(#p37515c2ba5)\">\n    <image height=\"88\" id=\"image3298c10e9f\" transform=\"scale(1 -1)translate(0 -88)\" width=\"335\" x=\"26.846875\" xlink:href=\"data:image/png;base64,\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\" y=\"-9.180774\"/>\n   </g>\n   <g id=\"matplotlib.axis_1\">\n    <g id=\"xtick_1\">\n     <g id=\"line2d_1\">\n      <defs>\n       <path d=\"M 0 0 \nL 0 3.5 \n\" id=\"m5f2bf07e94\" style=\"stroke:#000000;stroke-width:0.8;\"/>\n      </defs>\n      <g>\n       <use style=\"stroke:#000000;stroke-width:0.8;\" x=\"28.059918\" xlink:href=\"#m5f2bf07e94\" y=\"97.180774\"/>\n      </g>\n     </g>\n     <g id=\"text_1\">\n      <!-- 0 -->\n      <g transform=\"translate(24.8982 111.890149)scale(0.1 -0.1)\">\n       <defs>\n        <path d=\"M 31.34375 -1.8125 \nQ 20.171875 -1.8125 13.25 8.703125 \nQ 6.34375 19.234375 6.34375 36.1875 \nQ 6.34375 53.265625 13.296875 63.671875 \nQ 20.265625 74.078125 31.640625 74.078125 \nQ 43.015625 74.078125 49.96875 63.671875 \nQ 56.9375 53.265625 56.9375 36.328125 \nQ 56.9375 18.953125 49.96875 8.5625 \nQ 43.015625 -1.8125 31.34375 -1.8125 \nz\nM 31.453125 5.421875 \nQ 46.734375 5.421875 46.734375 36.46875 \nQ 46.734375 66.84375 31.640625 66.84375 \nQ 16.609375 66.84375 16.609375 36.1875 \nQ 16.609375 5.421875 31.453125 5.421875 \nz\n\" id=\"LucidaGrande-48\"/>\n       </defs>\n       <use xlink:href=\"#LucidaGrande-48\"/>\n      </g>\n     </g>\n    </g>\n    <g id=\"xtick_2\">\n     <g id=\"line2d_2\">\n      <g>\n       <use style=\"stroke:#000000;stroke-width:0.8;\" x=\"76.581658\" xlink:href=\"#m5f2bf07e94\" y=\"97.180774\"/>\n      </g>\n     </g>\n     <g id=\"text_2\">\n      <!-- 20 -->\n      <g transform=\"translate(70.25822 111.890149)scale(0.1 -0.1)\">\n       <defs>\n        <path d=\"M 8.296875 0 \nL 8.296875 8.453125 \nQ 12.5 18.265625 25.296875 29.828125 \nL 30.8125 34.765625 \nQ 41.453125 44.390625 41.453125 53.859375 \nQ 41.453125 59.90625 37.8125 63.375 \nQ 34.1875 66.84375 27.828125 66.84375 \nQ 20.3125 66.84375 10.109375 61.03125 \nL 10.109375 69.53125 \nQ 19.734375 74.078125 29.203125 74.078125 \nQ 39.359375 74.078125 45.5 68.609375 \nQ 51.65625 63.140625 51.65625 54.109375 \nQ 51.65625 47.609375 48.546875 42.578125 \nQ 45.453125 37.546875 37.015625 30.375 \nL 33.296875 27.203125 \nQ 21.734375 17.390625 19.921875 8.453125 \nL 51.3125 8.453125 \nL 51.3125 0 \nz\n\" id=\"LucidaGrande-50\"/>\n       </defs>\n       <use xlink:href=\"#LucidaGrande-50\"/>\n       <use x=\"63.232422\" xlink:href=\"#LucidaGrande-48\"/>\n      </g>\n     </g>\n    </g>\n    <g id=\"xtick_3\">\n     <g id=\"line2d_3\">\n      <g>\n       <use style=\"stroke:#000000;stroke-width:0.8;\" x=\"125.103397\" xlink:href=\"#m5f2bf07e94\" y=\"97.180774\"/>\n      </g>\n     </g>\n     <g id=\"text_3\">\n      <!-- 40 -->\n      <g transform=\"translate(118.779959 111.890149)scale(0.1 -0.1)\">\n       <defs>\n        <path d=\"M 37.640625 0 \nL 37.640625 20.453125 \nL 5.125 20.453125 \nL 5.125 27.734375 \nL 37.640625 72.265625 \nL 46.6875 72.265625 \nL 46.6875 28.328125 \nL 56.34375 28.328125 \nL 56.34375 20.453125 \nL 46.6875 20.453125 \nL 46.6875 0 \nz\nM 14.546875 28.328125 \nL 38.28125 28.328125 \nL 38.28125 60.453125 \nz\n\" id=\"LucidaGrande-52\"/>\n       </defs>\n       <use xlink:href=\"#LucidaGrande-52\"/>\n       <use x=\"63.232422\" xlink:href=\"#LucidaGrande-48\"/>\n      </g>\n     </g>\n    </g>\n    <g id=\"xtick_4\">\n     <g id=\"line2d_4\">\n      <g>\n       <use style=\"stroke:#000000;stroke-width:0.8;\" x=\"173.625136\" xlink:href=\"#m5f2bf07e94\" y=\"97.180774\"/>\n      </g>\n     </g>\n     <g id=\"text_4\">\n      <!-- 60 -->\n      <g transform=\"translate(167.301698 111.890149)scale(0.1 -0.1)\">\n       <defs>\n        <path d=\"M 17.1875 37.453125 \nQ 24.078125 46.390625 34.515625 46.390625 \nQ 44 46.390625 50.03125 40.109375 \nQ 56.0625 33.84375 56.0625 24.03125 \nQ 56.0625 12.75 49.296875 5.46875 \nQ 42.53125 -1.8125 32.125 -1.8125 \nQ 20.171875 -1.8125 13.421875 7.8125 \nQ 6.6875 17.4375 6.6875 34.515625 \nQ 6.6875 53.328125 14.421875 63.71875 \nQ 22.171875 74.125 36.234375 74.125 \nQ 42.671875 74.125 52.34375 71.390625 \nL 52.34375 62.984375 \nQ 42.140625 66.890625 35.640625 66.890625 \nQ 17.1875 66.890625 17.1875 37.453125 \nz\nM 46.390625 21.875 \nQ 46.390625 30.078125 42.703125 34.765625 \nQ 39.015625 39.453125 32.46875 39.453125 \nQ 26.375 39.453125 21.96875 35.34375 \nQ 17.578125 31.25 17.578125 25.484375 \nQ 17.578125 16.40625 21.75 10.90625 \nQ 25.921875 5.421875 32.8125 5.421875 \nQ 39.015625 5.421875 42.703125 9.890625 \nQ 46.390625 14.359375 46.390625 21.875 \nz\n\" id=\"LucidaGrande-54\"/>\n       </defs>\n       <use xlink:href=\"#LucidaGrande-54\"/>\n       <use x=\"63.232422\" xlink:href=\"#LucidaGrande-48\"/>\n      </g>\n     </g>\n    </g>\n    <g id=\"xtick_5\">\n     <g id=\"line2d_5\">\n      <g>\n       <use style=\"stroke:#000000;stroke-width:0.8;\" x=\"222.146875\" xlink:href=\"#m5f2bf07e94\" y=\"97.180774\"/>\n      </g>\n     </g>\n     <g id=\"text_5\">\n      <!-- 80 -->\n      <g transform=\"translate(215.823438 111.890149)scale(0.1 -0.1)\">\n       <defs>\n        <path d=\"M 23 39.359375 \nQ 12.40625 46.734375 12.40625 55.671875 \nQ 12.40625 63.875 18.40625 69 \nQ 24.421875 74.125 34.078125 74.125 \nQ 43.015625 74.125 48.5625 69.78125 \nQ 54.109375 65.4375 54.109375 58.5 \nQ 54.109375 48 40.625 39.359375 \nQ 56.984375 31.34375 56.984375 18.703125 \nQ 56.984375 9.625 50.125 3.90625 \nQ 43.265625 -1.8125 32.421875 -1.8125 \nQ 21.78125 -1.8125 15.203125 3.578125 \nQ 8.640625 8.984375 8.640625 17.78125 \nQ 8.640625 30.765625 23 39.359375 \nz\nM 35.25 42.390625 \nQ 45.359375 49.03125 45.359375 57.171875 \nQ 45.359375 61.53125 41.984375 64.1875 \nQ 38.625 66.84375 33.109375 66.84375 \nQ 27.78125 66.84375 24.453125 64.234375 \nQ 21.140625 61.625 21.140625 57.46875 \nQ 21.140625 53.421875 24.140625 50.21875 \nQ 27.15625 47.015625 35.25 42.390625 \nz\nM 28.21875 35.453125 \nQ 22.40625 30.953125 20.328125 27.609375 \nQ 18.265625 24.265625 18.265625 19.28125 \nQ 18.265625 13.09375 22.265625 9.25 \nQ 26.265625 5.421875 32.8125 5.421875 \nQ 39.109375 5.421875 43.09375 8.6875 \nQ 47.078125 11.96875 47.078125 17.1875 \nQ 47.078125 21.390625 44.609375 24.296875 \nQ 42.140625 27.203125 35.0625 31.390625 \nz\n\" id=\"LucidaGrande-56\"/>\n       </defs>\n       <use xlink:href=\"#LucidaGrande-56\"/>\n       <use x=\"63.232422\" xlink:href=\"#LucidaGrande-48\"/>\n      </g>\n     </g>\n    </g>\n    <g id=\"xtick_6\">\n     <g id=\"line2d_6\">\n      <g>\n       <use style=\"stroke:#000000;stroke-width:0.8;\" x=\"270.668614\" xlink:href=\"#m5f2bf07e94\" y=\"97.180774\"/>\n      </g>\n     </g>\n     <g id=\"text_6\">\n      <!-- 100 -->\n      <g transform=\"translate(261.183458 111.890149)scale(0.1 -0.1)\">\n       <defs>\n        <path d=\"M 15.046875 0 \nL 15.046875 7.234375 \nL 29.5 7.234375 \nL 29.5 64.265625 \nL 15.046875 60.640625 \nL 15.046875 68.0625 \nL 39.15625 74.078125 \nL 39.15625 7.234375 \nL 53.609375 7.234375 \nL 53.609375 0 \nz\n\" id=\"LucidaGrande-49\"/>\n       </defs>\n       <use xlink:href=\"#LucidaGrande-49\"/>\n       <use x=\"63.232422\" xlink:href=\"#LucidaGrande-48\"/>\n       <use x=\"126.464844\" xlink:href=\"#LucidaGrande-48\"/>\n      </g>\n     </g>\n    </g>\n    <g id=\"xtick_7\">\n     <g id=\"line2d_7\">\n      <g>\n       <use style=\"stroke:#000000;stroke-width:0.8;\" x=\"319.190353\" xlink:href=\"#m5f2bf07e94\" y=\"97.180774\"/>\n      </g>\n     </g>\n     <g id=\"text_7\">\n      <!-- 120 -->\n      <g transform=\"translate(309.705197 111.890149)scale(0.1 -0.1)\">\n       <use xlink:href=\"#LucidaGrande-49\"/>\n       <use x=\"63.232422\" xlink:href=\"#LucidaGrande-50\"/>\n       <use x=\"126.464844\" xlink:href=\"#LucidaGrande-48\"/>\n      </g>\n     </g>\n    </g>\n   </g>\n   <g id=\"matplotlib.axis_2\">\n    <g id=\"ytick_1\">\n     <g id=\"line2d_8\">\n      <defs>\n       <path d=\"M 0 0 \nL -3.5 0 \n\" id=\"md3077ff8a2\" style=\"stroke:#000000;stroke-width:0.8;\"/>\n      </defs>\n      <g>\n       <use style=\"stroke:#000000;stroke-width:0.8;\" x=\"26.846875\" xlink:href=\"#md3077ff8a2\" y=\"11.054687\"/>\n      </g>\n     </g>\n     <g id=\"text_8\">\n      <!-- 0 -->\n      <g transform=\"translate(13.523438 14.909375)scale(0.1 -0.1)\">\n       <use xlink:href=\"#LucidaGrande-48\"/>\n      </g>\n     </g>\n    </g>\n    <g id=\"ytick_2\">\n     <g id=\"line2d_9\">\n      <g>\n       <use style=\"stroke:#000000;stroke-width:0.8;\" x=\"26.846875\" xlink:href=\"#md3077ff8a2\" y=\"35.315557\"/>\n      </g>\n     </g>\n     <g id=\"text_9\">\n      <!-- 10 -->\n      <g transform=\"translate(7.2 39.170245)scale(0.1 -0.1)\">\n       <use xlink:href=\"#LucidaGrande-49\"/>\n       <use x=\"63.232422\" xlink:href=\"#LucidaGrande-48\"/>\n      </g>\n     </g>\n    </g>\n    <g id=\"ytick_3\">\n     <g id=\"line2d_10\">\n      <g>\n       <use style=\"stroke:#000000;stroke-width:0.8;\" x=\"26.846875\" xlink:href=\"#md3077ff8a2\" y=\"59.576427\"/>\n      </g>\n     </g>\n     <g id=\"text_10\">\n      <!-- 20 -->\n      <g transform=\"translate(7.2 63.431114)scale(0.1 -0.1)\">\n       <use xlink:href=\"#LucidaGrande-50\"/>\n       <use x=\"63.232422\" xlink:href=\"#LucidaGrande-48\"/>\n      </g>\n     </g>\n    </g>\n    <g id=\"ytick_4\">\n     <g id=\"line2d_11\">\n      <g>\n       <use style=\"stroke:#000000;stroke-width:0.8;\" x=\"26.846875\" xlink:href=\"#md3077ff8a2\" y=\"83.837296\"/>\n      </g>\n     </g>\n     <g id=\"text_11\">\n      <!-- 30 -->\n      <g transform=\"translate(7.2 87.691984)scale(0.1 -0.1)\">\n       <defs>\n        <path d=\"M 10.15625 0.53125 \nL 10.15625 9.515625 \nQ 20.515625 5.421875 26.46875 5.421875 \nQ 33.34375 5.421875 37.671875 9.453125 \nQ 42 13.484375 42 19.875 \nQ 42 35.109375 20.65625 35.109375 \nL 16.84375 35.109375 \nL 16.84375 41.609375 \nL 20.21875 41.65625 \nQ 40.234375 41.65625 40.234375 55.765625 \nQ 40.234375 66.84375 27.046875 66.84375 \nQ 19.828125 66.84375 11.140625 62.796875 \nL 11.140625 71.1875 \nQ 19.671875 74.078125 27.734375 74.078125 \nQ 49.90625 74.078125 49.90625 57.328125 \nQ 49.90625 44.578125 34.8125 39.15625 \nQ 52.296875 35.109375 52.296875 20.015625 \nQ 52.296875 9.8125 45.546875 4 \nQ 38.8125 -1.8125 27.046875 -1.8125 \nQ 20.359375 -1.8125 10.15625 0.53125 \nz\n\" id=\"LucidaGrande-51\"/>\n       </defs>\n       <use xlink:href=\"#LucidaGrande-51\"/>\n       <use x=\"63.232422\" xlink:href=\"#LucidaGrande-48\"/>\n      </g>\n     </g>\n    </g>\n   </g>\n   <g id=\"patch_3\">\n    <path d=\"M 26.846875 97.180774 \nL 26.846875 9.841644 \n\" style=\"fill:none;stroke:#000000;stroke-linecap:square;stroke-linejoin:miter;stroke-width:0.8;\"/>\n   </g>\n   <g id=\"patch_4\">\n    <path d=\"M 361.646875 97.180774 \nL 361.646875 9.841644 \n\" style=\"fill:none;stroke:#000000;stroke-linecap:square;stroke-linejoin:miter;stroke-width:0.8;\"/>\n   </g>\n   <g id=\"patch_5\">\n    <path d=\"M 26.846875 97.180774 \nL 361.646875 97.180774 \n\" style=\"fill:none;stroke:#000000;stroke-linecap:square;stroke-linejoin:miter;stroke-width:0.8;\"/>\n   </g>\n   <g id=\"patch_6\">\n    <path d=\"M 26.846875 9.841644 \nL 361.646875 9.841644 \n\" style=\"fill:none;stroke:#000000;stroke-linecap:square;stroke-linejoin:miter;stroke-width:0.8;\"/>\n   </g>\n  </g>\n </g>\n <defs>\n  <clipPath id=\"p37515c2ba5\">\n   <rect height=\"87.33913\" width=\"334.8\" x=\"26.846875\" y=\"9.841644\"/>\n  </clipPath>\n </defs>\n</svg>\n",
      "image/png": "[encoded data removed]"
     },
     "metadata": {
      "needs_background": "light"
     }
    }
   ],
   "source": [
    "import matplotlib.pyplot as plt\n",
    "import numpy as np\n",
    "\n",
    "# functions to show an image\n",
    "\n",
    "def imshow(img):\n",
    "    img = img / 2 + 0.5     # unnormalize\n",
    "    npimg = img.numpy()\n",
    "    plt.imshow(np.transpose(npimg, (1, 2, 0)))\n",
    "\n",
    "\n",
    "# get some random training images\n",
    "dataiter = iter(trainloader)\n",
    "images, labels = dataiter.next()\n",
    "\n",
    "# show images\n",
    "imshow(torchvision.utils.make_grid(images))\n",
    "# print labels\n",
    "print(' '.join('%5s' % classes[labels[j]] for j in range(4)))"
   ]
  },
  {
   "cell_type": "markdown",
   "metadata": {
    "colab_type": "text",
    "id": "1Ob4Pvz-GuKA"
   },
   "source": [
    "### 2.1.3. CNN Model\n",
    "Next, we will train a CNN on the data. We have defined a simple CNN for you with two convolutional layers and two fully-connected layers below."
   ]
  },
  {
   "cell_type": "code",
   "execution_count": 4,
   "metadata": {
    "colab": {},
    "colab_type": "code",
    "id": "3hMXRfs8DPjx"
   },
   "outputs": [],
   "source": [
    "import torch.nn as nn\n",
    "import torch.nn.functional as F\n",
    "\n",
    "class Net(nn.Module):\n",
    "    def __init__(self):\n",
    "        super(Net, self).__init__()\n",
    "        self.conv1 = nn.Conv2d(3, 6, 5)\n",
    "        self.pool = nn.MaxPool2d(2, 2)\n",
    "        self.conv2 = nn.Conv2d(6, 16, 5)\n",
    "        self.fc1 = nn.Linear(16 * 5 * 5, 120)\n",
    "        self.fc2 = nn.Linear(120, 84)\n",
    "        self.fc3 = nn.Linear(84, 10)\n",
    "\n",
    "    def forward(self, x):\n",
    "        x = self.pool(F.relu(self.conv1(x)))\n",
    "        x = self.pool(F.relu(self.conv2(x)))\n",
    "        x = x.view(-1, 16 * 5 * 5)   # flatten features\n",
    "\n",
    "        x = F.relu(self.fc1(x))\n",
    "        x = F.relu(self.fc2(x))\n",
    "        x = self.fc3(x)\n",
    "        return x\n",
    "\n",
    "net = Net()"
   ]
  },
  {
   "cell_type": "markdown",
   "metadata": {
    "colab_type": "text",
    "id": "z325ABykG77h"
   },
   "source": [
    "Instantiate the cross-entropy loss `criterion`, and an SGD optimizer from the `torch.optim` package with learning rate $.001$ and momentum $.9$. You may also want to enable GPU training using `torch.device()`."
   ]
  },
  {
   "cell_type": "code",
   "execution_count": 5,
   "metadata": {
    "colab": {},
    "colab_type": "code",
    "id": "2wiSsTnEGCRN"
   },
   "outputs": [],
   "source": [
    "# solution here\n",
    "criterion = nn.CrossEntropyLoss()\n",
    "optimiser = torch.optim.SGD(net.parameters(), lr=0.001, momentum=0.9)\n",
    "device = torch.device(\"cuda:0\" if torch.cuda.is_available() else \"cpu\")\n",
    "# net.to(device)"
   ]
  },
  {
   "cell_type": "markdown",
   "metadata": {
    "colab_type": "text",
    "id": "eCLHI077fl9x"
   },
   "source": [
    "### 2.1.4 Training\n",
    "Write the training loop that makes two full passes through the dataset (two epochs) using SGD. Your batch size should be 4.\n",
    "\n",
    "Go slack off for a while...\n",
    "\n",
    "![reddit xkcd comic](https://i.redd.it/5cjdqxcg07k11.png)"
   ]
  },
  {
   "cell_type": "code",
   "execution_count": 6,
   "metadata": {
    "colab": {},
    "colab_type": "code",
    "id": "u8SluNefGZgf",
    "tags": []
   },
   "outputs": [
    {
     "output_type": "stream",
     "name": "stdout",
     "text": [
      "Training epoch: 0, batch_index: 0\n",
      "Training epoch: 0, batch_index: 100\n",
      "Training epoch: 0, batch_index: 200\n",
      "Training epoch: 0, batch_index: 300\n",
      "Training epoch: 0, batch_index: 400\n",
      "Training epoch: 0, batch_index: 500\n",
      "Training epoch: 0, batch_index: 600\n",
      "Training epoch: 0, batch_index: 700\n",
      "Training epoch: 0, batch_index: 800\n",
      "Training epoch: 0, batch_index: 900\n",
      "Training epoch: 0, batch_index: 1000\n",
      "Training epoch: 0, batch_index: 1100\n",
      "Training epoch: 0, batch_index: 1200\n",
      "Training epoch: 0, batch_index: 1300\n",
      "Training epoch: 0, batch_index: 1400\n",
      "Training epoch: 0, batch_index: 1500\n",
      "Training epoch: 0, batch_index: 1600\n",
      "Training epoch: 0, batch_index: 1700\n",
      "Training epoch: 0, batch_index: 1800\n",
      "Training epoch: 0, batch_index: 1900\n",
      "Training epoch: 0, batch_index: 2000\n",
      "Training epoch: 0, batch_index: 2100\n",
      "Training epoch: 0, batch_index: 2200\n",
      "Training epoch: 0, batch_index: 2300\n",
      "Training epoch: 0, batch_index: 2400\n",
      "Training epoch: 0, batch_index: 2500\n",
      "Training epoch: 0, batch_index: 2600\n",
      "Training epoch: 0, batch_index: 2700\n",
      "Training epoch: 0, batch_index: 2800\n",
      "Training epoch: 0, batch_index: 2900\n",
      "Training epoch: 0, batch_index: 3000\n",
      "Training epoch: 0, batch_index: 3100\n",
      "Training epoch: 0, batch_index: 3200\n",
      "Training epoch: 0, batch_index: 3300\n",
      "Training epoch: 0, batch_index: 3400\n",
      "Training epoch: 0, batch_index: 3500\n",
      "Training epoch: 0, batch_index: 3600\n",
      "Training epoch: 0, batch_index: 3700\n",
      "Training epoch: 0, batch_index: 3800\n",
      "Training epoch: 0, batch_index: 3900\n",
      "Training epoch: 0, batch_index: 4000\n",
      "Training epoch: 0, batch_index: 4100\n",
      "Training epoch: 0, batch_index: 4200\n",
      "Training epoch: 0, batch_index: 4300\n",
      "Training epoch: 0, batch_index: 4400\n",
      "Training epoch: 0, batch_index: 4500\n",
      "Training epoch: 0, batch_index: 4600\n",
      "Training epoch: 0, batch_index: 4700\n",
      "Training epoch: 0, batch_index: 4800\n",
      "Training epoch: 0, batch_index: 4900\n",
      "Training epoch: 0, batch_index: 5000\n",
      "Training epoch: 0, batch_index: 5100\n",
      "Training epoch: 0, batch_index: 5200\n",
      "Training epoch: 0, batch_index: 5300\n",
      "Training epoch: 0, batch_index: 5400\n",
      "Training epoch: 0, batch_index: 5500\n",
      "Training epoch: 0, batch_index: 5600\n",
      "Training epoch: 0, batch_index: 5700\n",
      "Training epoch: 0, batch_index: 5800\n",
      "Training epoch: 0, batch_index: 5900\n",
      "Training epoch: 0, batch_index: 6000\n",
      "Training epoch: 0, batch_index: 6100\n",
      "Training epoch: 0, batch_index: 6200\n",
      "Training epoch: 0, batch_index: 6300\n",
      "Training epoch: 0, batch_index: 6400\n",
      "Training epoch: 0, batch_index: 6500\n",
      "Training epoch: 0, batch_index: 6600\n",
      "Training epoch: 0, batch_index: 6700\n",
      "Training epoch: 0, batch_index: 6800\n",
      "Training epoch: 0, batch_index: 6900\n",
      "Training epoch: 0, batch_index: 7000\n",
      "Training epoch: 0, batch_index: 7100\n",
      "Training epoch: 0, batch_index: 7200\n",
      "Training epoch: 0, batch_index: 7300\n",
      "Training epoch: 0, batch_index: 7400\n",
      "Training epoch: 0, batch_index: 7500\n",
      "Training epoch: 0, batch_index: 7600\n",
      "Training epoch: 0, batch_index: 7700\n",
      "Training epoch: 0, batch_index: 7800\n",
      "Training epoch: 0, batch_index: 7900\n",
      "Training epoch: 0, batch_index: 8000\n",
      "Training epoch: 0, batch_index: 8100\n",
      "Training epoch: 0, batch_index: 8200\n",
      "Training epoch: 0, batch_index: 8300\n",
      "Training epoch: 0, batch_index: 8400\n",
      "Training epoch: 0, batch_index: 8500\n",
      "Training epoch: 0, batch_index: 8600\n",
      "Training epoch: 0, batch_index: 8700\n",
      "Training epoch: 0, batch_index: 8800\n",
      "Training epoch: 0, batch_index: 8900\n",
      "Training epoch: 0, batch_index: 9000\n",
      "Training epoch: 0, batch_index: 9100\n",
      "Training epoch: 0, batch_index: 9200\n",
      "Training epoch: 0, batch_index: 9300\n",
      "Training epoch: 0, batch_index: 9400\n",
      "Training epoch: 0, batch_index: 9500\n",
      "Training epoch: 0, batch_index: 9600\n",
      "Training epoch: 0, batch_index: 9700\n",
      "Training epoch: 0, batch_index: 9800\n",
      "Training epoch: 0, batch_index: 9900\n",
      "Training epoch: 0, batch_index: 10000\n",
      "Training epoch: 0, batch_index: 10100\n",
      "Training epoch: 0, batch_index: 10200\n",
      "Training epoch: 0, batch_index: 10300\n",
      "Training epoch: 0, batch_index: 10400\n",
      "Training epoch: 0, batch_index: 10500\n",
      "Training epoch: 0, batch_index: 10600\n",
      "Training epoch: 0, batch_index: 10700\n",
      "Training epoch: 0, batch_index: 10800\n",
      "Training epoch: 0, batch_index: 10900\n",
      "Training epoch: 0, batch_index: 11000\n",
      "Training epoch: 0, batch_index: 11100\n",
      "Training epoch: 0, batch_index: 11200\n",
      "Training epoch: 0, batch_index: 11300\n",
      "Training epoch: 0, batch_index: 11400\n",
      "Training epoch: 0, batch_index: 11500\n",
      "Training epoch: 0, batch_index: 11600\n",
      "Training epoch: 0, batch_index: 11700\n",
      "Training epoch: 0, batch_index: 11800\n",
      "Training epoch: 0, batch_index: 11900\n",
      "Training epoch: 0, batch_index: 12000\n",
      "Training epoch: 0, batch_index: 12100\n",
      "Training epoch: 0, batch_index: 12200\n",
      "Training epoch: 0, batch_index: 12300\n",
      "Training epoch: 0, batch_index: 12400\n",
      "Training epoch: 0, batch_index: 12500\n",
      "Training epoch: 0, batch_index: 12600\n",
      "Training epoch: 0, batch_index: 12700\n",
      "Training epoch: 0, batch_index: 12800\n",
      "Training epoch: 0, batch_index: 12900\n",
      "Training epoch: 0, batch_index: 13000\n",
      "Training epoch: 0, batch_index: 13100\n",
      "Training epoch: 0, batch_index: 13200\n",
      "Training epoch: 0, batch_index: 13300\n",
      "Training epoch: 0, batch_index: 13400\n",
      "Training epoch: 0, batch_index: 13500\n",
      "Training epoch: 0, batch_index: 13600\n",
      "Training epoch: 0, batch_index: 13700\n",
      "Training epoch: 0, batch_index: 13800\n",
      "Training epoch: 0, batch_index: 13900\n",
      "Training epoch: 0, batch_index: 14000\n",
      "Training epoch: 0, batch_index: 14100\n",
      "Training epoch: 0, batch_index: 14200\n",
      "Training epoch: 0, batch_index: 14300\n",
      "Training epoch: 0, batch_index: 14400\n",
      "Training epoch: 0, batch_index: 14500\n",
      "Training epoch: 0, batch_index: 14600\n",
      "Training epoch: 0, batch_index: 14700\n",
      "Training epoch: 0, batch_index: 14800\n",
      "Training epoch: 0, batch_index: 14900\n",
      "Training epoch: 0, batch_index: 15000\n",
      "Training epoch: 0, batch_index: 15100\n",
      "Training epoch: 0, batch_index: 15200\n",
      "Training epoch: 0, batch_index: 15300\n",
      "Training epoch: 0, batch_index: 15400\n",
      "Training epoch: 0, batch_index: 15500\n",
      "Training epoch: 0, batch_index: 15600\n",
      "Training epoch: 0, batch_index: 15700\n",
      "Training epoch: 0, batch_index: 15800\n",
      "Training epoch: 0, batch_index: 15900\n",
      "Training epoch: 0, batch_index: 16000\n",
      "Training epoch: 0, batch_index: 16100\n",
      "Training epoch: 0, batch_index: 16200\n",
      "Training epoch: 0, batch_index: 16300\n",
      "Training epoch: 0, batch_index: 16400\n",
      "Training epoch: 0, batch_index: 16500\n",
      "Training epoch: 0, batch_index: 16600\n",
      "Training epoch: 0, batch_index: 16700\n",
      "Training epoch: 0, batch_index: 16800\n",
      "Training epoch: 0, batch_index: 16900\n",
      "Training epoch: 0, batch_index: 17000\n",
      "Training epoch: 0, batch_index: 17100\n",
      "Training epoch: 0, batch_index: 17200\n",
      "Training epoch: 0, batch_index: 17300\n",
      "Training epoch: 0, batch_index: 17400\n",
      "Training epoch: 0, batch_index: 17500\n",
      "Training epoch: 0, batch_index: 17600\n",
      "Training epoch: 0, batch_index: 17700\n",
      "Training epoch: 0, batch_index: 17800\n",
      "Training epoch: 0, batch_index: 17900\n",
      "Training epoch: 0, batch_index: 18000\n",
      "Training epoch: 0, batch_index: 18100\n",
      "Training epoch: 0, batch_index: 18200\n",
      "Training epoch: 0, batch_index: 18300\n",
      "Training epoch: 1, batch_index: 0\n",
      "Training epoch: 1, batch_index: 100\n",
      "Training epoch: 1, batch_index: 200\n",
      "Training epoch: 1, batch_index: 300\n",
      "Training epoch: 1, batch_index: 400\n",
      "Training epoch: 1, batch_index: 500\n",
      "Training epoch: 1, batch_index: 600\n",
      "Training epoch: 1, batch_index: 700\n",
      "Training epoch: 1, batch_index: 800\n",
      "Training epoch: 1, batch_index: 900\n",
      "Training epoch: 1, batch_index: 1000\n",
      "Training epoch: 1, batch_index: 1100\n",
      "Training epoch: 1, batch_index: 1200\n",
      "Training epoch: 1, batch_index: 1300\n",
      "Training epoch: 1, batch_index: 1400\n",
      "Training epoch: 1, batch_index: 1500\n",
      "Training epoch: 1, batch_index: 1600\n",
      "Training epoch: 1, batch_index: 1700\n",
      "Training epoch: 1, batch_index: 1800\n",
      "Training epoch: 1, batch_index: 1900\n",
      "Training epoch: 1, batch_index: 2000\n",
      "Training epoch: 1, batch_index: 2100\n",
      "Training epoch: 1, batch_index: 2200\n",
      "Training epoch: 1, batch_index: 2300\n",
      "Training epoch: 1, batch_index: 2400\n",
      "Training epoch: 1, batch_index: 2500\n",
      "Training epoch: 1, batch_index: 2600\n",
      "Training epoch: 1, batch_index: 2700\n",
      "Training epoch: 1, batch_index: 2800\n",
      "Training epoch: 1, batch_index: 2900\n",
      "Training epoch: 1, batch_index: 3000\n",
      "Training epoch: 1, batch_index: 3100\n",
      "Training epoch: 1, batch_index: 3200\n",
      "Training epoch: 1, batch_index: 3300\n",
      "Training epoch: 1, batch_index: 3400\n",
      "Training epoch: 1, batch_index: 3500\n",
      "Training epoch: 1, batch_index: 3600\n",
      "Training epoch: 1, batch_index: 3700\n",
      "Training epoch: 1, batch_index: 3800\n",
      "Training epoch: 1, batch_index: 3900\n",
      "Training epoch: 1, batch_index: 4000\n",
      "Training epoch: 1, batch_index: 4100\n",
      "Training epoch: 1, batch_index: 4200\n",
      "Training epoch: 1, batch_index: 4300\n",
      "Training epoch: 1, batch_index: 4400\n",
      "Training epoch: 1, batch_index: 4500\n",
      "Training epoch: 1, batch_index: 4600\n",
      "Training epoch: 1, batch_index: 4700\n",
      "Training epoch: 1, batch_index: 4800\n",
      "Training epoch: 1, batch_index: 4900\n",
      "Training epoch: 1, batch_index: 5000\n",
      "Training epoch: 1, batch_index: 5100\n",
      "Training epoch: 1, batch_index: 5200\n",
      "Training epoch: 1, batch_index: 5300\n",
      "Training epoch: 1, batch_index: 5400\n",
      "Training epoch: 1, batch_index: 5500\n",
      "Training epoch: 1, batch_index: 5600\n",
      "Training epoch: 1, batch_index: 5700\n",
      "Training epoch: 1, batch_index: 5800\n",
      "Training epoch: 1, batch_index: 5900\n",
      "Training epoch: 1, batch_index: 6000\n",
      "Training epoch: 1, batch_index: 6100\n",
      "Training epoch: 1, batch_index: 6200\n",
      "Training epoch: 1, batch_index: 6300\n",
      "Training epoch: 1, batch_index: 6400\n",
      "Training epoch: 1, batch_index: 6500\n",
      "Training epoch: 1, batch_index: 6600\n",
      "Training epoch: 1, batch_index: 6700\n",
      "Training epoch: 1, batch_index: 6800\n",
      "Training epoch: 1, batch_index: 6900\n",
      "Training epoch: 1, batch_index: 7000\n",
      "Training epoch: 1, batch_index: 7100\n",
      "Training epoch: 1, batch_index: 7200\n",
      "Training epoch: 1, batch_index: 7300\n",
      "Training epoch: 1, batch_index: 7400\n",
      "Training epoch: 1, batch_index: 7500\n",
      "Training epoch: 1, batch_index: 7600\n",
      "Training epoch: 1, batch_index: 7700\n",
      "Training epoch: 1, batch_index: 7800\n",
      "Training epoch: 1, batch_index: 7900\n",
      "Training epoch: 1, batch_index: 8000\n",
      "Training epoch: 1, batch_index: 8100\n",
      "Training epoch: 1, batch_index: 8200\n",
      "Training epoch: 1, batch_index: 8300\n",
      "Training epoch: 1, batch_index: 8400\n",
      "Training epoch: 1, batch_index: 8500\n",
      "Training epoch: 1, batch_index: 8600\n",
      "Training epoch: 1, batch_index: 8700\n",
      "Training epoch: 1, batch_index: 8800\n",
      "Training epoch: 1, batch_index: 8900\n",
      "Training epoch: 1, batch_index: 9000\n",
      "Training epoch: 1, batch_index: 9100\n",
      "Training epoch: 1, batch_index: 9200\n",
      "Training epoch: 1, batch_index: 9300\n",
      "Training epoch: 1, batch_index: 9400\n",
      "Training epoch: 1, batch_index: 9500\n",
      "Training epoch: 1, batch_index: 9600\n",
      "Training epoch: 1, batch_index: 9700\n",
      "Training epoch: 1, batch_index: 9800\n",
      "Training epoch: 1, batch_index: 9900\n",
      "Training epoch: 1, batch_index: 10000\n",
      "Training epoch: 1, batch_index: 10100\n",
      "Training epoch: 1, batch_index: 10200\n",
      "Training epoch: 1, batch_index: 10300\n",
      "Training epoch: 1, batch_index: 10400\n",
      "Training epoch: 1, batch_index: 10500\n",
      "Training epoch: 1, batch_index: 10600\n",
      "Training epoch: 1, batch_index: 10700\n",
      "Training epoch: 1, batch_index: 10800\n",
      "Training epoch: 1, batch_index: 10900\n",
      "Training epoch: 1, batch_index: 11000\n",
      "Training epoch: 1, batch_index: 11100\n",
      "Training epoch: 1, batch_index: 11200\n",
      "Training epoch: 1, batch_index: 11300\n",
      "Training epoch: 1, batch_index: 11400\n",
      "Training epoch: 1, batch_index: 11500\n",
      "Training epoch: 1, batch_index: 11600\n",
      "Training epoch: 1, batch_index: 11700\n",
      "Training epoch: 1, batch_index: 11800\n",
      "Training epoch: 1, batch_index: 11900\n",
      "Training epoch: 1, batch_index: 12000\n",
      "Training epoch: 1, batch_index: 12100\n",
      "Training epoch: 1, batch_index: 12200\n",
      "Training epoch: 1, batch_index: 12300\n",
      "Training epoch: 1, batch_index: 12400\n",
      "Training epoch: 1, batch_index: 12500\n",
      "Training epoch: 1, batch_index: 12600\n",
      "Training epoch: 1, batch_index: 12700\n",
      "Training epoch: 1, batch_index: 12800\n",
      "Training epoch: 1, batch_index: 12900\n",
      "Training epoch: 1, batch_index: 13000\n",
      "Training epoch: 1, batch_index: 13100\n",
      "Training epoch: 1, batch_index: 13200\n",
      "Training epoch: 1, batch_index: 13300\n",
      "Training epoch: 1, batch_index: 13400\n",
      "Training epoch: 1, batch_index: 13500\n",
      "Training epoch: 1, batch_index: 13600\n",
      "Training epoch: 1, batch_index: 13700\n",
      "Training epoch: 1, batch_index: 13800\n",
      "Training epoch: 1, batch_index: 13900\n",
      "Training epoch: 1, batch_index: 14000\n",
      "Training epoch: 1, batch_index: 14100\n",
      "Training epoch: 1, batch_index: 14200\n",
      "Training epoch: 1, batch_index: 14300\n",
      "Training epoch: 1, batch_index: 14400\n",
      "Training epoch: 1, batch_index: 14500\n",
      "Training epoch: 1, batch_index: 14600\n",
      "Training epoch: 1, batch_index: 14700\n",
      "Training epoch: 1, batch_index: 14800\n",
      "Training epoch: 1, batch_index: 14900\n",
      "Training epoch: 1, batch_index: 15000\n",
      "Training epoch: 1, batch_index: 15100\n",
      "Training epoch: 1, batch_index: 15200\n",
      "Training epoch: 1, batch_index: 15300\n",
      "Training epoch: 1, batch_index: 15400\n",
      "Training epoch: 1, batch_index: 15500\n",
      "Training epoch: 1, batch_index: 15600\n",
      "Training epoch: 1, batch_index: 15700\n",
      "Training epoch: 1, batch_index: 15800\n",
      "Training epoch: 1, batch_index: 15900\n",
      "Training epoch: 1, batch_index: 16000\n",
      "Training epoch: 1, batch_index: 16100\n",
      "Training epoch: 1, batch_index: 16200\n",
      "Training epoch: 1, batch_index: 16300\n",
      "Training epoch: 1, batch_index: 16400\n",
      "Training epoch: 1, batch_index: 16500\n",
      "Training epoch: 1, batch_index: 16600\n",
      "Training epoch: 1, batch_index: 16700\n",
      "Training epoch: 1, batch_index: 16800\n",
      "Training epoch: 1, batch_index: 16900\n",
      "Training epoch: 1, batch_index: 17000\n",
      "Training epoch: 1, batch_index: 17100\n",
      "Training epoch: 1, batch_index: 17200\n",
      "Training epoch: 1, batch_index: 17300\n",
      "Training epoch: 1, batch_index: 17400\n",
      "Training epoch: 1, batch_index: 17500\n",
      "Training epoch: 1, batch_index: 17600\n",
      "Training epoch: 1, batch_index: 17700\n",
      "Training epoch: 1, batch_index: 17800\n",
      "Training epoch: 1, batch_index: 17900\n",
      "Training epoch: 1, batch_index: 18000\n",
      "Training epoch: 1, batch_index: 18100\n",
      "Training epoch: 1, batch_index: 18200\n",
      "Training epoch: 1, batch_index: 18300\n"
     ]
    }
   ],
   "source": [
    "# solution here\n",
    "perm = torch.arange(0, 1024)\n",
    "\n",
    "for epoch in range(2):\n",
    "    for batch_index, (data, target) in enumerate(trainloader):\n",
    "        data, target = data.to(device), target.to(device)\n",
    "\n",
    "        # data = data.view(-1, 32*32)\n",
    "        # data = data[:, perm]\n",
    "        # data = data.view(-1, 1, 32, 32)\n",
    "\n",
    "        optimiser.zero_grad()\n",
    "        output = net(data)\n",
    "        loss = criterion(output, target)\n",
    "        loss.backward()\n",
    "        optimiser.step()\n",
    "\n",
    "        if batch_index % 1000 == 0:\n",
    "            print(\"Training epoch: {}, batch_index: {}, loss: {}\".format(epoch, batch_index, loss.item()))\n",
    "\n",
    "\n"
   ]
  },
  {
   "cell_type": "markdown",
   "metadata": {
    "colab_type": "text",
    "id": "TGkQdltRh104"
   },
   "source": [
    "### 2.1.5 Test Accuracy\n",
    "Load the test data (don't forget to move it to GPU if using). Make predictions on it using the trained network and compute the accuracy. You should see an accuracy of around 84%."
   ]
  },
  {
   "cell_type": "code",
   "execution_count": 7,
   "metadata": {
    "colab": {},
    "colab_type": "code",
    "id": "zWHZOr2sHeB5"
   },
   "outputs": [
    {
     "output_type": "stream",
     "name": "stdout",
     "text": [
      "Accuracy: 86.17086662569146\n"
     ]
    }
   ],
   "source": [
    "# solution here\n",
    "# loss_test = 0\n",
    "correct = 0\n",
    "\n",
    "for data, target in testloader:\n",
    "    data, target = data.to(device), target.to(device)\n",
    "\n",
    "    output = net(data)\n",
    "    pred = output.data.max(1, keepdim=True)[1]\n",
    "    correct += pred.eq(target.data.view_as(pred)).cpu().sum().item()\n",
    "\n",
    "accuracy = 100. * correct / len(testloader.dataset)\n",
    "print(\"Accuracy: {}\".format(accuracy))\n"
   ]
  },
  {
   "cell_type": "markdown",
   "metadata": {
    "colab_type": "text",
    "id": "V6mCBCn8kX9W"
   },
   "source": [
    "# Problem 3: Tensorboard (Optional)\n",
    "\n",
    "Explore your network using Tensorboard. Tensorboard is a nice tool for visualizing how your network's training is progressing. The following tutorial provides an introduction to Tensorboard\n",
    "\n",
    "- [Visualizing models, data and training with Tensorboard](https://pytorch.org/tutorials/intermediate/tensorboard_tutorial.html)\n",
    "\n",
    "For using tensorboard in colab, run the following cell and it should open a tensorboard interface in the output of the cell.\n"
   ]
  },
  {
   "cell_type": "code",
   "execution_count": 0,
   "metadata": {
    "colab": {},
    "colab_type": "code",
    "id": "ILFfAGAyh8bD"
   },
   "outputs": [],
   "source": [
    "%load_ext tensorboard\n",
    "%tensorboard --logdir logs"
   ]
  }
 ],
 "metadata": {
  "accelerator": "GPU",
  "colab": {
   "collapsed_sections": [],
   "name": "HW3.ipynb",
   "provenance": [
    {
     "file_id": "1siLMvcwxUl6WSTO8JNjUv5T3TXMtujiH",
     "timestamp": 1582058789500
    },
    {
     "file_id": "1fiK0rbc8iMuQQS6PDijcD2MIS95h-oZe",
     "timestamp": 1581824994288
    },
    {
     "file_id": "https://github.com/pytorch/tutorials/blob/gh-pages/_downloads/autograd_tutorial.ipynb",
     "timestamp": 1578596632955
    }
   ]
  },
  "kernelspec": {
   "name": "python3",
   "display_name": "Python 3.9.5 64-bit ('myenv': conda)"
  },
  "language_info": {
   "codemirror_mode": {
    "name": "ipython",
    "version": 3
   },
   "file_extension": ".py",
   "mimetype": "text/x-python",
   "name": "python",
   "nbconvert_exporter": "python",
   "pygments_lexer": "ipython3",
   "version": "3.9.5"
  },
  "interpreter": {
   "hash": "f5c9dfabb21bd2a91b63810df81acbdc6b5e617e45414f0ef050ca96090c868f"
  }
 },
 "nbformat": 4,
 "nbformat_minor": 1
}