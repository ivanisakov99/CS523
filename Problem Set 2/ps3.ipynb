{
 "cells": [
  {
   "cell_type": "markdown",
   "metadata": {
    "colab_type": "text",
    "id": "ecSh-LQTDB7H"
   },
   "source": [
    "# Problem Set 2 \n",
    "*Author: Saenko*\n",
    "\n",
    "---\n",
    "\n",
    "This assignment will introduce you to:\n",
    "1. Basic functionality in PyTorch\n",
    "2. Building and training a convolutional network\n",
    "3. Visualizations using Tensorboard (optional)\n",
    "\n",
    "This code has been tested on Colab. You may want to run parts of it on a GPU.\n",
    "**Warning:** If you use the SCC, the gpu queue may be long when the deadline comes. Please start your homework early.\n",
    "\n",
    "---\n",
    "\n",
    "\n",
    "# Problem 0: Tutorials\n",
    "This homework will introduce you to [PyTorch](https://pytorch.org), currently the fastest growing deep learning library.\n",
    "\n",
    "Before starting the homework, please go over these introductory tutorials on the PyTorch webpage:\n",
    "\n",
    "*   [60-minute Blitz](https://pytorch.org/tutorials/beginner/deep_learning_60min_blitz.html)\n",
    " \n",
    "\n",
    "---\n",
    "\n"
   ]
  },
  {
   "cell_type": "markdown",
   "metadata": {
    "colab_type": "text",
    "id": "CcqKCRlM6poM"
   },
   "source": [
    "# Problem 1: Torch Intro (30 points)\n",
    "The `torch.Tensor` class is the basic building block in PyTorch and is used to hold data and parameters. The `autograd` package provides automatic differentiation for all operations on Tensors. After reading about Autograd in the tutorials above,  we will implement a few simple examples of what Autograd can do."
   ]
  },
  {
   "cell_type": "code",
   "execution_count": 1,
   "metadata": {
    "colab": {},
    "colab_type": "code",
    "id": "yUv0o0dIsLlW"
   },
   "outputs": [],
   "source": [
    "import torch"
   ]
  },
  {
   "cell_type": "markdown",
   "metadata": {
    "colab_type": "text",
    "id": "D15InPOpsLlc"
   },
   "source": [
    "### 1.1. Simple function\n",
    " Use `autograd` to do backpropagation on the simple function we saw in lecture, $f=(x+y)*z$. \n",
    "\n",
    "**1.1.1** Create the three inputs with values $x=-2$, $y=5$ and $z=-4$ as tensors and set `requires_grad=True` to track computation on them.\n",
    "\n"
   ]
  },
  {
   "cell_type": "code",
   "execution_count": 2,
   "metadata": {
    "colab": {
     "base_uri": "https://localhost:8080/",
     "height": 34
    },
    "colab_type": "code",
    "executionInfo": {
     "elapsed": 758,
     "status": "ok",
     "timestamp": 1581997995146,
     "user": {
      "displayName": "Samarth Mishra",
      "photoUrl": "",
      "userId": "00064519813488481618"
     },
     "user_tz": 300
    },
    "id": "56mcFemZuYMB",
    "outputId": "4be4f837-cc1b-4579-d97b-edad8dd68263"
   },
   "outputs": [],
   "source": [
    "# solution here\n",
    "x = torch.tensor([-2.], requires_grad=True)\n",
    "y = torch.tensor([5.], requires_grad=True)\n",
    "z = torch.tensor([-4.], requires_grad=True)"
   ]
  },
  {
   "cell_type": "markdown",
   "metadata": {
    "colab_type": "text",
    "id": "WPBbS7GWxra1"
   },
   "source": [
    "**1.1.2** Compute the $q=x+y$ and $f=q \\times z$ functions, creating tensors for them in the process. Print out $q,f$, then run `f.backward(retain_graph=True)`, to compute the gradients w.r.t. $x,y,z$. The `retain_graph` attribute tells autograd to keep the computation graph around after backward pass as opposed deleting it (freeing some memory). Print the gradients. Note that the gradient for $q$ will be `None` since it is an intermediate node, even though `requires_grad` for it is automatically set to `True`. To access gradients for intermediate nodes in PyTorch you can use hooks as mentioned in [this answer](https://discuss.pytorch.org/t/why-cant-i-see-grad-of-an-intermediate-variable/94/2). Compute the values by hand (or check the slides) to verify your solution."
   ]
  },
  {
   "cell_type": "code",
   "execution_count": 3,
   "metadata": {
    "colab": {
     "base_uri": "https://localhost:8080/",
     "height": 52
    },
    "colab_type": "code",
    "executionInfo": {
     "elapsed": 745,
     "status": "ok",
     "timestamp": 1581997998245,
     "user": {
      "displayName": "Samarth Mishra",
      "photoUrl": "",
      "userId": "00064519813488481618"
     },
     "user_tz": 300
    },
    "id": "4lj5N-fgvQ-v",
    "outputId": "296a7afc-268a-406d-b09e-61dd58b02c8a"
   },
   "outputs": [
    {
     "output_type": "stream",
     "name": "stdout",
     "text": [
      "tensor([3.], grad_fn=<AddBackward0>)\ntensor([-12.], grad_fn=<MulBackward0>)\ntensor([-4.])\ntensor([-4.])\ntensor([3.])\n"
     ]
    }
   ],
   "source": [
    "# solution here ???\n",
    "q = x + y\n",
    "f = q * z\n",
    "print(q)\n",
    "print(f)\n",
    "f.backward(retain_graph=True)\n",
    "print(x.grad)\n",
    "print(y.grad)\n",
    "print(z.grad)\n",
    "# print(q.grad)\n",
    "# print(f.grad)"
   ]
  },
  {
   "cell_type": "markdown",
   "metadata": {
    "colab_type": "text",
    "id": "EtBqrD7y3MeK"
   },
   "source": [
    "**1.1.3** If we now run `backward()` again, it will add the gradients to their previous values. Try it by running the above cell multiple times. This is useful in some cases, but if we just wanted to re-compute the gradients again, we need to zero them first, then run `backward()`. Add this step, then try running the  backward function multiple times to make sure the answer is the same each time!"
   ]
  },
  {
   "cell_type": "code",
   "execution_count": 4,
   "metadata": {
    "colab": {
     "base_uri": "https://localhost:8080/",
     "height": 34
    },
    "colab_type": "code",
    "executionInfo": {
     "elapsed": 625,
     "status": "ok",
     "timestamp": 1581998000511,
     "user": {
      "displayName": "Samarth Mishra",
      "photoUrl": "",
      "userId": "00064519813488481618"
     },
     "user_tz": 300
    },
    "id": "g6qeSVAM0w1J",
    "outputId": "048e64e9-e6c1-4f28-ee51-099a2a401e04"
   },
   "outputs": [
    {
     "output_type": "stream",
     "name": "stdout",
     "text": [
      "tensor([-8.])\ntensor([-8.])\ntensor([6.])\n"
     ]
    }
   ],
   "source": [
    "# solution here ???\n",
    "f.backward(retain_graph=True)\n",
    "print(x.grad)\n",
    "print(y.grad)\n",
    "print(z.grad)"
   ]
  },
  {
   "cell_type": "markdown",
   "metadata": {
    "colab_type": "text",
    "id": "3lEIwkbv4qNO"
   },
   "source": [
    "### 1.2 Neuron\n",
    " Implement the function corresponding to one neuron (logistic regression unit) that we saw in the lecture and compute the gradient w.r.t. $x$ and $w$. The function is $f=\\sigma(w^Tx)$ where $\\sigma()$ is the sigmoid function. Initialize $x=[-1, -2, 1]$ and the weights to $w=[2, -3, -3]$ where $w_3$ is the bias. Print out the gradients and double check their values by hand."
   ]
  },
  {
   "cell_type": "code",
   "execution_count": 5,
   "metadata": {
    "colab": {
     "base_uri": "https://localhost:8080/",
     "height": 121
    },
    "colab_type": "code",
    "executionInfo": {
     "elapsed": 585,
     "status": "ok",
     "timestamp": 1581998002809,
     "user": {
      "displayName": "Samarth Mishra",
      "photoUrl": "",
      "userId": "00064519813488481618"
     },
     "user_tz": 300
    },
    "id": "H0UBPl5Ti15G",
    "outputId": "aad7da03-7ba8-4e65-a604-259ce8df8efd"
   },
   "outputs": [
    {
     "output_type": "stream",
     "name": "stdout",
     "text": [
      "x = tensor([-1., -2.,  1.], requires_grad=True)\nw = tensor([ 2., -3., -3.], requires_grad=True)\nf(x, w) = tensor(0.7311, grad_fn=<SigmoidBackward>)\nThe gradient of f() w.r.t. x is tensor([ 0.3932, -0.5898, -0.5898])\nThe gradient of f() w.r.t. w is tensor([-0.1966, -0.3932,  0.1966])\n"
     ]
    }
   ],
   "source": [
    "# solution here\n",
    "\n",
    "x = torch.tensor([-1., -2., 1.], requires_grad=True)\n",
    "w = torch.tensor([2., -3., -3.], requires_grad=True)\n",
    "print(\"x =\", x)\n",
    "print(\"w =\", w)\n",
    "f = torch.dot(w, x)\n",
    "f = torch.sigmoid(f)\n",
    "print(\"f(x, w) =\", f)\n",
    "f.backward()\n",
    "print(\"The gradient of f() w.r.t. x is\", x.grad)\n",
    "print(\"The gradient of f() w.r.t. w is\", w.grad)"
   ]
  },
  {
   "cell_type": "markdown",
   "metadata": {
    "colab_type": "text",
    "id": "KLEQdosNk6t9"
   },
   "source": [
    "### 1.3. torch.nn\n",
    " We will now implement the same neuron function $f$ with the same variable values as in Q1.2, but using the `Linear` class from `torch.nn`, followed by the [Sigmoid](https://pytorch.org/docs/stable/nn.html#torch.nn.Sigmoid) class. In general, many useful functions are already implemented for us in this package. Compute the gradients $\\partial f/\\partial w$ by running `backward()` and print them out (they will be stored in the Linear variable, e.g. in `.weight.grad`.) "
   ]
  },
  {
   "cell_type": "code",
   "execution_count": 6,
   "metadata": {
    "colab": {
     "base_uri": "https://localhost:8080/",
     "height": 173
    },
    "colab_type": "code",
    "executionInfo": {
     "elapsed": 583,
     "status": "ok",
     "timestamp": 1581998005758,
     "user": {
      "displayName": "Samarth Mishra",
      "photoUrl": "",
      "userId": "00064519813488481618"
     },
     "user_tz": 300
    },
    "id": "zH3f8sj0ywQ3",
    "outputId": "d56c09a9-0add-40a7-da62-6cdf89ec8c63"
   },
   "outputs": [
    {
     "output_type": "stream",
     "name": "stdout",
     "text": [
      "weights: Parameter containing:\ntensor([ 2., -3., -3.], requires_grad=True)\nbias None\nf: tensor(0.7311, grad_fn=<SigmoidBackward>)\nThe gradient of f() w.r.t. w is tensor([-0.1966, -0.3932,  0.1966])\n"
     ]
    }
   ],
   "source": [
    "# solution here ???\n",
    "\n",
    "m = torch.nn.Linear(1, 1, bias=False)\n",
    "m.weight.data = w\n",
    "# m.bias = w[2:3]\n",
    "\n",
    "print(\"weights:\", m.weight)\n",
    "print(\"bias\", m.bias)\n",
    "\n",
    "f = m(x)\n",
    "\n",
    "f = torch.sigmoid(f)\n",
    "print(\"f:\", f)\n",
    "f.backward()\n",
    "print(\"The gradient of f() w.r.t. w is\", m.weight.grad)\n"
   ]
  },
  {
   "cell_type": "markdown",
   "metadata": {
    "colab_type": "text",
    "id": "isiTRoJuqnEL"
   },
   "source": [
    "### 1.4. Module\n",
    " Now lets put these two functions (Linear and Sigmoid) together into a \"module\". Read the [Neural Networks tutorial](https://pytorch.org/tutorials/beginner/blitz/neural_networks_tutorial.html) if you have not already.\n",
    "\n",
    "**1.4.1** This code makes a subclass of the `Module` class, called `Neuron`, and sets variables to the same values as above. \n",
    "\n"
   ]
  },
  {
   "cell_type": "code",
   "execution_count": 7,
   "metadata": {
    "colab": {},
    "colab_type": "code",
    "id": "8j_S7AQqQB8-"
   },
   "outputs": [],
   "source": [
    "import torch.nn as nn\n",
    "\n",
    "class Neuron(nn.Module):\n",
    "\n",
    "    def __init__(self):\n",
    "        super(Neuron, self).__init__()\n",
    "        # an affine operation: y = weight*x + bias, with fixed parameters\n",
    "        self.linear = nn.Linear(2, 1)\n",
    "        self.linear.weight.data = torch.tensor([[ 2., -3.]])\n",
    "        self.linear.bias.data = torch.tensor([-3.])\n",
    "        # a sigmoid function, elementwise\n",
    "        self.sigmoid = nn.Sigmoid()\n",
    "\n",
    "    def forward(self, x):\n",
    "        x = self.linear(x)\n",
    "        x = self.sigmoid(x)\n",
    "        return x"
   ]
  },
  {
   "cell_type": "markdown",
   "metadata": {
    "colab_type": "text",
    "id": "6Hv5iduNSLX9"
   },
   "source": [
    "**1.4.2** Now create a  variable of your `Neuron` class called `my_neuron` and run backpropagation on it. Print out the gradients again. Make sure you zero out the gradients first, by calling `.zero_grad()` function of the parent class. Even if you will not re-compute the backprop, it is good practice to do this every time to avoid accumulating gradient!"
   ]
  },
  {
   "cell_type": "code",
   "execution_count": 8,
   "metadata": {
    "colab": {
     "base_uri": "https://localhost:8080/",
     "height": 173
    },
    "colab_type": "code",
    "executionInfo": {
     "elapsed": 362,
     "status": "ok",
     "timestamp": 1581998018634,
     "user": {
      "displayName": "Samarth Mishra",
      "photoUrl": "",
      "userId": "00064519813488481618"
     },
     "user_tz": 300
    },
    "id": "AG5V8LiVSQWn",
    "outputId": "adedcde3-bf02-4e9b-da26-b813d75336c9"
   },
   "outputs": [
    {
     "output_type": "stream",
     "name": "stdout",
     "text": [
      "Neuron(\n  (linear): Linear(in_features=2, out_features=1, bias=True)\n  (sigmoid): Sigmoid()\n)\nThe weights are: Parameter containing:\ntensor([[ 2., -3.]], requires_grad=True)\n\nf(x, w) = tensor([0.7311], grad_fn=<SigmoidBackward>)\n\nThe gradient of f() w.r.t. w is tensor([-0.1966, -0.3932,  0.1966])\n"
     ]
    }
   ],
   "source": [
    "# solution here ???\n",
    "my_neuron = Neuron()\n",
    "print(my_neuron)\n",
    "net = my_neuron(x[0:2])\n",
    "\n",
    "params = list(my_neuron.parameters())\n",
    "print(\"The weights are:\", params[0])\n",
    "\n",
    "print(\"\\nf(x, w) =\", net)\n",
    "\n",
    "my_neuron.zero_grad()\n",
    "net.backward()\n",
    "print(\"\\nThe gradient of f() w.r.t. w is\", w.grad)\n"
   ]
  },
  {
   "cell_type": "markdown",
   "metadata": {
    "colab_type": "text",
    "id": "5A5kaQxkLsFi"
   },
   "source": [
    "### 1.5. Loss and SGD\n",
    " Now, lets train our neuron on some data. The code below creates a toy dataset containing a few inputs $x$ and outputs $y$ (a binary 0/1 label), as well as a function that plots the data and current solution."
   ]
  },
  {
   "cell_type": "code",
   "execution_count": 9,
   "metadata": {
    "colab": {
     "base_uri": "https://localhost:8080/",
     "height": 286
    },
    "colab_type": "code",
    "executionInfo": {
     "elapsed": 451,
     "status": "ok",
     "timestamp": 1581998902715,
     "user": {
      "displayName": "Samarth Mishra",
      "photoUrl": "",
      "userId": "00064519813488481618"
     },
     "user_tz": 300
    },
    "id": "4nMCQG3-L94R",
    "outputId": "48318f4f-419c-4f54-ffff-a6065573cf3e"
   },
   "outputs": [
    {
     "output_type": "stream",
     "name": "stdout",
     "text": [
      "w0 = 2.0 w1 = -3.0 bias = -3.0\n"
     ]
    },
    {
     "output_type": "display_data",
     "data": {
      "text/plain": "<Figure size 432x288 with 1 Axes>",
      "image/svg+xml": "<?xml version=\"1.0\" encoding=\"utf-8\" standalone=\"no\"?>\n<!DOCTYPE svg PUBLIC \"-//W3C//DTD SVG 1.1//EN\"\n  \"http://www.w3.org/Graphics/SVG/1.1/DTD/svg11.dtd\">\n<!-- Created with matplotlib (https://matplotlib.org/) -->\n<svg height=\"252.332188pt\" version=\"1.1\" viewBox=\"0 0 387.871094 252.332188\" width=\"387.871094pt\" xmlns=\"http://www.w3.org/2000/svg\" xmlns:xlink=\"http://www.w3.org/1999/xlink\">\n <metadata>\n  <rdf:RDF xmlns:cc=\"http://creativecommons.org/ns#\" xmlns:dc=\"http://purl.org/dc/elements/1.1/\" xmlns:rdf=\"http://www.w3.org/1999/02/22-rdf-syntax-ns#\">\n   <cc:Work>\n    <dc:type rdf:resource=\"http://purl.org/dc/dcmitype/StillImage\"/>\n    <dc:date>2021-06-14T16:19:07.144457</dc:date>\n    <dc:format>image/svg+xml</dc:format>\n    <dc:creator>\n     <cc:Agent>\n      <dc:title>Matplotlib v3.3.4, https://matplotlib.org/</dc:title>\n     </cc:Agent>\n    </dc:creator>\n   </cc:Work>\n  </rdf:RDF>\n </metadata>\n <defs>\n  <style type=\"text/css\">*{stroke-linecap:butt;stroke-linejoin:round;}</style>\n </defs>\n <g id=\"figure_1\">\n  <g id=\"patch_1\">\n   <path d=\"M 0 252.332188 \nL 387.871094 252.332188 \nL 387.871094 0 \nL 0 0 \nz\n\" style=\"fill:none;\"/>\n  </g>\n  <g id=\"axes_1\">\n   <g id=\"patch_2\">\n    <path d=\"M 37.965625 228.494687 \nL 372.765625 228.494687 \nL 372.765625 11.054688 \nL 37.965625 11.054688 \nz\n\" style=\"fill:#ffffff;\"/>\n   </g>\n   <g id=\"matplotlib.axis_1\">\n    <g id=\"xtick_1\">\n     <g id=\"line2d_1\">\n      <path clip-path=\"url(#p256a9555a6)\" d=\"M 37.965625 228.494687 \nL 37.965625 11.054688 \n\" style=\"fill:none;stroke:#b0b0b0;stroke-linecap:square;stroke-width:0.8;\"/>\n     </g>\n     <g id=\"line2d_2\">\n      <defs>\n       <path d=\"M 0 0 \nL 0 3.5 \n\" id=\"mb8f4a7a54a\" style=\"stroke:#000000;stroke-width:0.8;\"/>\n      </defs>\n      <g>\n       <use style=\"stroke:#000000;stroke-width:0.8;\" x=\"37.965625\" xlink:href=\"#mb8f4a7a54a\" y=\"228.494687\"/>\n      </g>\n     </g>\n     <g id=\"text_1\">\n      <!-- −2.0 -->\n      <g transform=\"translate(26.082813 243.204062)scale(0.1 -0.1)\">\n       <defs>\n        <path d=\"M 10.84375 25.296875 \nL 10.84375 32.515625 \nL 68.65625 32.515625 \nL 68.65625 25.296875 \nz\n\" id=\"LucidaGrande-8722\"/>\n        <path d=\"M 8.296875 0 \nL 8.296875 8.453125 \nQ 12.5 18.265625 25.296875 29.828125 \nL 30.8125 34.765625 \nQ 41.453125 44.390625 41.453125 53.859375 \nQ 41.453125 59.90625 37.8125 63.375 \nQ 34.1875 66.84375 27.828125 66.84375 \nQ 20.3125 66.84375 10.109375 61.03125 \nL 10.109375 69.53125 \nQ 19.734375 74.078125 29.203125 74.078125 \nQ 39.359375 74.078125 45.5 68.609375 \nQ 51.65625 63.140625 51.65625 54.109375 \nQ 51.65625 47.609375 48.546875 42.578125 \nQ 45.453125 37.546875 37.015625 30.375 \nL 33.296875 27.203125 \nQ 21.734375 17.390625 19.921875 8.453125 \nL 51.3125 8.453125 \nL 51.3125 0 \nz\n\" id=\"LucidaGrande-50\"/>\n        <path d=\"M 9.765625 0 \nL 9.765625 12.0625 \nL 21.828125 12.0625 \nL 21.828125 0 \nz\n\" id=\"LucidaGrande-46\"/>\n        <path d=\"M 31.34375 -1.8125 \nQ 20.171875 -1.8125 13.25 8.703125 \nQ 6.34375 19.234375 6.34375 36.1875 \nQ 6.34375 53.265625 13.296875 63.671875 \nQ 20.265625 74.078125 31.640625 74.078125 \nQ 43.015625 74.078125 49.96875 63.671875 \nQ 56.9375 53.265625 56.9375 36.328125 \nQ 56.9375 18.953125 49.96875 8.5625 \nQ 43.015625 -1.8125 31.34375 -1.8125 \nz\nM 31.453125 5.421875 \nQ 46.734375 5.421875 46.734375 36.46875 \nQ 46.734375 66.84375 31.640625 66.84375 \nQ 16.609375 66.84375 16.609375 36.1875 \nQ 16.609375 5.421875 31.453125 5.421875 \nz\n\" id=\"LucidaGrande-48\"/>\n       </defs>\n       <use xlink:href=\"#LucidaGrande-8722\"/>\n       <use x=\"79.541016\" xlink:href=\"#LucidaGrande-50\"/>\n       <use x=\"142.773438\" xlink:href=\"#LucidaGrande-46\"/>\n       <use x=\"174.414062\" xlink:href=\"#LucidaGrande-48\"/>\n      </g>\n     </g>\n    </g>\n    <g id=\"xtick_2\">\n     <g id=\"line2d_3\">\n      <path clip-path=\"url(#p256a9555a6)\" d=\"M 79.815625 228.494687 \nL 79.815625 11.054688 \n\" style=\"fill:none;stroke:#b0b0b0;stroke-linecap:square;stroke-width:0.8;\"/>\n     </g>\n     <g id=\"line2d_4\">\n      <g>\n       <use style=\"stroke:#000000;stroke-width:0.8;\" x=\"79.815625\" xlink:href=\"#mb8f4a7a54a\" y=\"228.494687\"/>\n      </g>\n     </g>\n     <g id=\"text_2\">\n      <!-- −1.5 -->\n      <g transform=\"translate(67.932813 243.204062)scale(0.1 -0.1)\">\n       <defs>\n        <path d=\"M 15.046875 0 \nL 15.046875 7.234375 \nL 29.5 7.234375 \nL 29.5 64.265625 \nL 15.046875 60.640625 \nL 15.046875 68.0625 \nL 39.15625 74.078125 \nL 39.15625 7.234375 \nL 53.609375 7.234375 \nL 53.609375 0 \nz\n\" id=\"LucidaGrande-49\"/>\n        <path d=\"M 12.15625 -0.296875 \nL 12.15625 8.296875 \nQ 19.34375 5.421875 25.828125 5.421875 \nQ 32.953125 5.421875 37.03125 9.609375 \nQ 41.109375 13.8125 41.109375 21.1875 \nQ 41.109375 37.453125 18.703125 37.453125 \nQ 16.15625 37.453125 13.375 37.109375 \nL 13.375 72.265625 \nL 49.953125 72.265625 \nL 49.953125 63.875 \nL 21.828125 63.875 \nL 21.828125 44.828125 \nQ 35.75 44.828125 43.5625 38.421875 \nQ 51.375 32.03125 51.375 20.703125 \nQ 51.375 10.15625 44.265625 4.171875 \nQ 37.15625 -1.8125 24.5625 -1.8125 \nQ 19.09375 -1.8125 12.15625 -0.296875 \nz\n\" id=\"LucidaGrande-53\"/>\n       </defs>\n       <use xlink:href=\"#LucidaGrande-8722\"/>\n       <use x=\"79.541016\" xlink:href=\"#LucidaGrande-49\"/>\n       <use x=\"142.773438\" xlink:href=\"#LucidaGrande-46\"/>\n       <use x=\"174.414062\" xlink:href=\"#LucidaGrande-53\"/>\n      </g>\n     </g>\n    </g>\n    <g id=\"xtick_3\">\n     <g id=\"line2d_5\">\n      <path clip-path=\"url(#p256a9555a6)\" d=\"M 121.665625 228.494687 \nL 121.665625 11.054688 \n\" style=\"fill:none;stroke:#b0b0b0;stroke-linecap:square;stroke-width:0.8;\"/>\n     </g>\n     <g id=\"line2d_6\">\n      <g>\n       <use style=\"stroke:#000000;stroke-width:0.8;\" x=\"121.665625\" xlink:href=\"#mb8f4a7a54a\" y=\"228.494687\"/>\n      </g>\n     </g>\n     <g id=\"text_3\">\n      <!-- −1.0 -->\n      <g transform=\"translate(109.782813 243.204062)scale(0.1 -0.1)\">\n       <use xlink:href=\"#LucidaGrande-8722\"/>\n       <use x=\"79.541016\" xlink:href=\"#LucidaGrande-49\"/>\n       <use x=\"142.773438\" xlink:href=\"#LucidaGrande-46\"/>\n       <use x=\"174.414062\" xlink:href=\"#LucidaGrande-48\"/>\n      </g>\n     </g>\n    </g>\n    <g id=\"xtick_4\">\n     <g id=\"line2d_7\">\n      <path clip-path=\"url(#p256a9555a6)\" d=\"M 163.515625 228.494687 \nL 163.515625 11.054688 \n\" style=\"fill:none;stroke:#b0b0b0;stroke-linecap:square;stroke-width:0.8;\"/>\n     </g>\n     <g id=\"line2d_8\">\n      <g>\n       <use style=\"stroke:#000000;stroke-width:0.8;\" x=\"163.515625\" xlink:href=\"#mb8f4a7a54a\" y=\"228.494687\"/>\n      </g>\n     </g>\n     <g id=\"text_4\">\n      <!-- −0.5 -->\n      <g transform=\"translate(151.632813 243.204062)scale(0.1 -0.1)\">\n       <use xlink:href=\"#LucidaGrande-8722\"/>\n       <use x=\"79.541016\" xlink:href=\"#LucidaGrande-48\"/>\n       <use x=\"142.773438\" xlink:href=\"#LucidaGrande-46\"/>\n       <use x=\"174.414062\" xlink:href=\"#LucidaGrande-53\"/>\n      </g>\n     </g>\n    </g>\n    <g id=\"xtick_5\">\n     <g id=\"line2d_9\">\n      <path clip-path=\"url(#p256a9555a6)\" d=\"M 205.365625 228.494687 \nL 205.365625 11.054688 \n\" style=\"fill:none;stroke:#b0b0b0;stroke-linecap:square;stroke-width:0.8;\"/>\n     </g>\n     <g id=\"line2d_10\">\n      <g>\n       <use style=\"stroke:#000000;stroke-width:0.8;\" x=\"205.365625\" xlink:href=\"#mb8f4a7a54a\" y=\"228.494687\"/>\n      </g>\n     </g>\n     <g id=\"text_5\">\n      <!-- 0.0 -->\n      <g transform=\"translate(197.460156 243.204062)scale(0.1 -0.1)\">\n       <use xlink:href=\"#LucidaGrande-48\"/>\n       <use x=\"63.232422\" xlink:href=\"#LucidaGrande-46\"/>\n       <use x=\"94.873047\" xlink:href=\"#LucidaGrande-48\"/>\n      </g>\n     </g>\n    </g>\n    <g id=\"xtick_6\">\n     <g id=\"line2d_11\">\n      <path clip-path=\"url(#p256a9555a6)\" d=\"M 247.215625 228.494687 \nL 247.215625 11.054688 \n\" style=\"fill:none;stroke:#b0b0b0;stroke-linecap:square;stroke-width:0.8;\"/>\n     </g>\n     <g id=\"line2d_12\">\n      <g>\n       <use style=\"stroke:#000000;stroke-width:0.8;\" x=\"247.215625\" xlink:href=\"#mb8f4a7a54a\" y=\"228.494687\"/>\n      </g>\n     </g>\n     <g id=\"text_6\">\n      <!-- 0.5 -->\n      <g transform=\"translate(239.310156 243.204062)scale(0.1 -0.1)\">\n       <use xlink:href=\"#LucidaGrande-48\"/>\n       <use x=\"63.232422\" xlink:href=\"#LucidaGrande-46\"/>\n       <use x=\"94.873047\" xlink:href=\"#LucidaGrande-53\"/>\n      </g>\n     </g>\n    </g>\n    <g id=\"xtick_7\">\n     <g id=\"line2d_13\">\n      <path clip-path=\"url(#p256a9555a6)\" d=\"M 289.065625 228.494687 \nL 289.065625 11.054688 \n\" style=\"fill:none;stroke:#b0b0b0;stroke-linecap:square;stroke-width:0.8;\"/>\n     </g>\n     <g id=\"line2d_14\">\n      <g>\n       <use style=\"stroke:#000000;stroke-width:0.8;\" x=\"289.065625\" xlink:href=\"#mb8f4a7a54a\" y=\"228.494687\"/>\n      </g>\n     </g>\n     <g id=\"text_7\">\n      <!-- 1.0 -->\n      <g transform=\"translate(281.160156 243.204062)scale(0.1 -0.1)\">\n       <use xlink:href=\"#LucidaGrande-49\"/>\n       <use x=\"63.232422\" xlink:href=\"#LucidaGrande-46\"/>\n       <use x=\"94.873047\" xlink:href=\"#LucidaGrande-48\"/>\n      </g>\n     </g>\n    </g>\n    <g id=\"xtick_8\">\n     <g id=\"line2d_15\">\n      <path clip-path=\"url(#p256a9555a6)\" d=\"M 330.915625 228.494687 \nL 330.915625 11.054688 \n\" style=\"fill:none;stroke:#b0b0b0;stroke-linecap:square;stroke-width:0.8;\"/>\n     </g>\n     <g id=\"line2d_16\">\n      <g>\n       <use style=\"stroke:#000000;stroke-width:0.8;\" x=\"330.915625\" xlink:href=\"#mb8f4a7a54a\" y=\"228.494687\"/>\n      </g>\n     </g>\n     <g id=\"text_8\">\n      <!-- 1.5 -->\n      <g transform=\"translate(323.010156 243.204062)scale(0.1 -0.1)\">\n       <use xlink:href=\"#LucidaGrande-49\"/>\n       <use x=\"63.232422\" xlink:href=\"#LucidaGrande-46\"/>\n       <use x=\"94.873047\" xlink:href=\"#LucidaGrande-53\"/>\n      </g>\n     </g>\n    </g>\n    <g id=\"xtick_9\">\n     <g id=\"line2d_17\">\n      <path clip-path=\"url(#p256a9555a6)\" d=\"M 372.765625 228.494687 \nL 372.765625 11.054688 \n\" style=\"fill:none;stroke:#b0b0b0;stroke-linecap:square;stroke-width:0.8;\"/>\n     </g>\n     <g id=\"line2d_18\">\n      <g>\n       <use style=\"stroke:#000000;stroke-width:0.8;\" x=\"372.765625\" xlink:href=\"#mb8f4a7a54a\" y=\"228.494687\"/>\n      </g>\n     </g>\n     <g id=\"text_9\">\n      <!-- 2.0 -->\n      <g transform=\"translate(364.860156 243.204062)scale(0.1 -0.1)\">\n       <use xlink:href=\"#LucidaGrande-50\"/>\n       <use x=\"63.232422\" xlink:href=\"#LucidaGrande-46\"/>\n       <use x=\"94.873047\" xlink:href=\"#LucidaGrande-48\"/>\n      </g>\n     </g>\n    </g>\n   </g>\n   <g id=\"matplotlib.axis_2\">\n    <g id=\"ytick_1\">\n     <g id=\"line2d_19\">\n      <path clip-path=\"url(#p256a9555a6)\" d=\"M 37.965625 228.494687 \nL 372.765625 228.494687 \n\" style=\"fill:none;stroke:#b0b0b0;stroke-linecap:square;stroke-width:0.8;\"/>\n     </g>\n     <g id=\"line2d_20\">\n      <defs>\n       <path d=\"M 0 0 \nL -3.5 0 \n\" id=\"m7c24b4c1d9\" style=\"stroke:#000000;stroke-width:0.8;\"/>\n      </defs>\n      <g>\n       <use style=\"stroke:#000000;stroke-width:0.8;\" x=\"37.965625\" xlink:href=\"#m7c24b4c1d9\" y=\"228.494687\"/>\n      </g>\n     </g>\n     <g id=\"text_10\">\n      <!-- −2.0 -->\n      <g transform=\"translate(7.2 232.349375)scale(0.1 -0.1)\">\n       <use xlink:href=\"#LucidaGrande-8722\"/>\n       <use x=\"79.541016\" xlink:href=\"#LucidaGrande-50\"/>\n       <use x=\"142.773438\" xlink:href=\"#LucidaGrande-46\"/>\n       <use x=\"174.414062\" xlink:href=\"#LucidaGrande-48\"/>\n      </g>\n     </g>\n    </g>\n    <g id=\"ytick_2\">\n     <g id=\"line2d_21\">\n      <path clip-path=\"url(#p256a9555a6)\" d=\"M 37.965625 201.314687 \nL 372.765625 201.314687 \n\" style=\"fill:none;stroke:#b0b0b0;stroke-linecap:square;stroke-width:0.8;\"/>\n     </g>\n     <g id=\"line2d_22\">\n      <g>\n       <use style=\"stroke:#000000;stroke-width:0.8;\" x=\"37.965625\" xlink:href=\"#m7c24b4c1d9\" y=\"201.314687\"/>\n      </g>\n     </g>\n     <g id=\"text_11\">\n      <!-- −1.5 -->\n      <g transform=\"translate(7.2 205.169375)scale(0.1 -0.1)\">\n       <use xlink:href=\"#LucidaGrande-8722\"/>\n       <use x=\"79.541016\" xlink:href=\"#LucidaGrande-49\"/>\n       <use x=\"142.773438\" xlink:href=\"#LucidaGrande-46\"/>\n       <use x=\"174.414062\" xlink:href=\"#LucidaGrande-53\"/>\n      </g>\n     </g>\n    </g>\n    <g id=\"ytick_3\">\n     <g id=\"line2d_23\">\n      <path clip-path=\"url(#p256a9555a6)\" d=\"M 37.965625 174.134687 \nL 372.765625 174.134687 \n\" style=\"fill:none;stroke:#b0b0b0;stroke-linecap:square;stroke-width:0.8;\"/>\n     </g>\n     <g id=\"line2d_24\">\n      <g>\n       <use style=\"stroke:#000000;stroke-width:0.8;\" x=\"37.965625\" xlink:href=\"#m7c24b4c1d9\" y=\"174.134687\"/>\n      </g>\n     </g>\n     <g id=\"text_12\">\n      <!-- −1.0 -->\n      <g transform=\"translate(7.2 177.989375)scale(0.1 -0.1)\">\n       <use xlink:href=\"#LucidaGrande-8722\"/>\n       <use x=\"79.541016\" xlink:href=\"#LucidaGrande-49\"/>\n       <use x=\"142.773438\" xlink:href=\"#LucidaGrande-46\"/>\n       <use x=\"174.414062\" xlink:href=\"#LucidaGrande-48\"/>\n      </g>\n     </g>\n    </g>\n    <g id=\"ytick_4\">\n     <g id=\"line2d_25\">\n      <path clip-path=\"url(#p256a9555a6)\" d=\"M 37.965625 146.954688 \nL 372.765625 146.954688 \n\" style=\"fill:none;stroke:#b0b0b0;stroke-linecap:square;stroke-width:0.8;\"/>\n     </g>\n     <g id=\"line2d_26\">\n      <g>\n       <use style=\"stroke:#000000;stroke-width:0.8;\" x=\"37.965625\" xlink:href=\"#m7c24b4c1d9\" y=\"146.954688\"/>\n      </g>\n     </g>\n     <g id=\"text_13\">\n      <!-- −0.5 -->\n      <g transform=\"translate(7.2 150.809375)scale(0.1 -0.1)\">\n       <use xlink:href=\"#LucidaGrande-8722\"/>\n       <use x=\"79.541016\" xlink:href=\"#LucidaGrande-48\"/>\n       <use x=\"142.773438\" xlink:href=\"#LucidaGrande-46\"/>\n       <use x=\"174.414062\" xlink:href=\"#LucidaGrande-53\"/>\n      </g>\n     </g>\n    </g>\n    <g id=\"ytick_5\">\n     <g id=\"line2d_27\">\n      <path clip-path=\"url(#p256a9555a6)\" d=\"M 37.965625 119.774687 \nL 372.765625 119.774687 \n\" style=\"fill:none;stroke:#b0b0b0;stroke-linecap:square;stroke-width:0.8;\"/>\n     </g>\n     <g id=\"line2d_28\">\n      <g>\n       <use style=\"stroke:#000000;stroke-width:0.8;\" x=\"37.965625\" xlink:href=\"#m7c24b4c1d9\" y=\"119.774687\"/>\n      </g>\n     </g>\n     <g id=\"text_14\">\n      <!-- 0.0 -->\n      <g transform=\"translate(15.154688 123.629375)scale(0.1 -0.1)\">\n       <use xlink:href=\"#LucidaGrande-48\"/>\n       <use x=\"63.232422\" xlink:href=\"#LucidaGrande-46\"/>\n       <use x=\"94.873047\" xlink:href=\"#LucidaGrande-48\"/>\n      </g>\n     </g>\n    </g>\n    <g id=\"ytick_6\">\n     <g id=\"line2d_29\">\n      <path clip-path=\"url(#p256a9555a6)\" d=\"M 37.965625 92.594687 \nL 372.765625 92.594687 \n\" style=\"fill:none;stroke:#b0b0b0;stroke-linecap:square;stroke-width:0.8;\"/>\n     </g>\n     <g id=\"line2d_30\">\n      <g>\n       <use style=\"stroke:#000000;stroke-width:0.8;\" x=\"37.965625\" xlink:href=\"#m7c24b4c1d9\" y=\"92.594687\"/>\n      </g>\n     </g>\n     <g id=\"text_15\">\n      <!-- 0.5 -->\n      <g transform=\"translate(15.154688 96.449375)scale(0.1 -0.1)\">\n       <use xlink:href=\"#LucidaGrande-48\"/>\n       <use x=\"63.232422\" xlink:href=\"#LucidaGrande-46\"/>\n       <use x=\"94.873047\" xlink:href=\"#LucidaGrande-53\"/>\n      </g>\n     </g>\n    </g>\n    <g id=\"ytick_7\">\n     <g id=\"line2d_31\">\n      <path clip-path=\"url(#p256a9555a6)\" d=\"M 37.965625 65.414687 \nL 372.765625 65.414687 \n\" style=\"fill:none;stroke:#b0b0b0;stroke-linecap:square;stroke-width:0.8;\"/>\n     </g>\n     <g id=\"line2d_32\">\n      <g>\n       <use style=\"stroke:#000000;stroke-width:0.8;\" x=\"37.965625\" xlink:href=\"#m7c24b4c1d9\" y=\"65.414687\"/>\n      </g>\n     </g>\n     <g id=\"text_16\">\n      <!-- 1.0 -->\n      <g transform=\"translate(15.154688 69.269375)scale(0.1 -0.1)\">\n       <use xlink:href=\"#LucidaGrande-49\"/>\n       <use x=\"63.232422\" xlink:href=\"#LucidaGrande-46\"/>\n       <use x=\"94.873047\" xlink:href=\"#LucidaGrande-48\"/>\n      </g>\n     </g>\n    </g>\n    <g id=\"ytick_8\">\n     <g id=\"line2d_33\">\n      <path clip-path=\"url(#p256a9555a6)\" d=\"M 37.965625 38.234688 \nL 372.765625 38.234688 \n\" style=\"fill:none;stroke:#b0b0b0;stroke-linecap:square;stroke-width:0.8;\"/>\n     </g>\n     <g id=\"line2d_34\">\n      <g>\n       <use style=\"stroke:#000000;stroke-width:0.8;\" x=\"37.965625\" xlink:href=\"#m7c24b4c1d9\" y=\"38.234688\"/>\n      </g>\n     </g>\n     <g id=\"text_17\">\n      <!-- 1.5 -->\n      <g transform=\"translate(15.154688 42.089375)scale(0.1 -0.1)\">\n       <use xlink:href=\"#LucidaGrande-49\"/>\n       <use x=\"63.232422\" xlink:href=\"#LucidaGrande-46\"/>\n       <use x=\"94.873047\" xlink:href=\"#LucidaGrande-53\"/>\n      </g>\n     </g>\n    </g>\n    <g id=\"ytick_9\">\n     <g id=\"line2d_35\">\n      <path clip-path=\"url(#p256a9555a6)\" d=\"M 37.965625 11.054688 \nL 372.765625 11.054688 \n\" style=\"fill:none;stroke:#b0b0b0;stroke-linecap:square;stroke-width:0.8;\"/>\n     </g>\n     <g id=\"line2d_36\">\n      <g>\n       <use style=\"stroke:#000000;stroke-width:0.8;\" x=\"37.965625\" xlink:href=\"#m7c24b4c1d9\" y=\"11.054688\"/>\n      </g>\n     </g>\n     <g id=\"text_18\">\n      <!-- 2.0 -->\n      <g transform=\"translate(15.154688 14.909375)scale(0.1 -0.1)\">\n       <use xlink:href=\"#LucidaGrande-50\"/>\n       <use x=\"63.232422\" xlink:href=\"#LucidaGrande-46\"/>\n       <use x=\"94.873047\" xlink:href=\"#LucidaGrande-48\"/>\n      </g>\n     </g>\n    </g>\n   </g>\n   <g id=\"line2d_37\">\n    <defs>\n     <path d=\"M -3 0 \nL 3 0 \nM 0 3 \nL 0 -3 \n\" id=\"md69a7a7a91\" style=\"stroke:#ff0000;\"/>\n    </defs>\n    <g clip-path=\"url(#p256a9555a6)\">\n     <use style=\"fill:#ff0000;stroke:#ff0000;\" x=\"79.815625\" xlink:href=\"#md69a7a7a91\" y=\"190.442685\"/>\n     <use style=\"fill:#ff0000;stroke:#ff0000;\" x=\"222.105625\" xlink:href=\"#md69a7a7a91\" y=\"195.878686\"/>\n     <use style=\"fill:#ff0000;stroke:#ff0000;\" x=\"146.775626\" xlink:href=\"#md69a7a7a91\" y=\"146.954688\"/>\n    </g>\n   </g>\n   <g id=\"line2d_38\">\n    <defs>\n     <path d=\"M 0 1.5 \nC 0.397805 1.5 0.77937 1.341951 1.06066 1.06066 \nC 1.341951 0.77937 1.5 0.397805 1.5 0 \nC 1.5 -0.397805 1.341951 -0.77937 1.06066 -1.06066 \nC 0.77937 -1.341951 0.397805 -1.5 0 -1.5 \nC -0.397805 -1.5 -0.77937 -1.341951 -1.06066 -1.06066 \nC -1.341951 -0.77937 -1.5 -0.397805 -1.5 0 \nC -1.5 0.397805 -1.341951 0.77937 -1.06066 1.06066 \nC -0.77937 1.341951 -0.397805 1.5 0 1.5 \nz\n\" id=\"m01740b06c1\" style=\"stroke:#0000ff;\"/>\n    </defs>\n    <g clip-path=\"url(#p256a9555a6)\">\n     <use style=\"fill:#0000ff;stroke:#0000ff;\" x=\"305.805629\" xlink:href=\"#m01740b06c1\" y=\"65.414687\"/>\n     <use style=\"fill:#0000ff;stroke:#0000ff;\" x=\"222.105625\" xlink:href=\"#m01740b06c1\" y=\"43.670689\"/>\n     <use style=\"fill:#0000ff;stroke:#0000ff;\" x=\"247.215625\" xlink:href=\"#m01740b06c1\" y=\"92.594687\"/>\n    </g>\n   </g>\n   <g id=\"line2d_39\">\n    <path clip-path=\"url(#p256a9555a6)\" d=\"M 37.965625 246.614696 \nL 372.765625 101.654687 \n\" style=\"fill:none;stroke:#1f77b4;stroke-linecap:square;stroke-width:1.5;\"/>\n   </g>\n   <g id=\"patch_3\">\n    <path d=\"M 37.965625 228.494687 \nL 37.965625 11.054688 \n\" style=\"fill:none;stroke:#000000;stroke-linecap:square;stroke-linejoin:miter;stroke-width:0.8;\"/>\n   </g>\n   <g id=\"patch_4\">\n    <path d=\"M 372.765625 228.494687 \nL 372.765625 11.054688 \n\" style=\"fill:none;stroke:#000000;stroke-linecap:square;stroke-linejoin:miter;stroke-width:0.8;\"/>\n   </g>\n   <g id=\"patch_5\">\n    <path d=\"M 37.965625 228.494687 \nL 372.765625 228.494687 \n\" style=\"fill:none;stroke:#000000;stroke-linecap:square;stroke-linejoin:miter;stroke-width:0.8;\"/>\n   </g>\n   <g id=\"patch_6\">\n    <path d=\"M 37.965625 11.054688 \nL 372.765625 11.054688 \n\" style=\"fill:none;stroke:#000000;stroke-linecap:square;stroke-linejoin:miter;stroke-width:0.8;\"/>\n   </g>\n  </g>\n </g>\n <defs>\n  <clipPath id=\"p256a9555a6\">\n   <rect height=\"217.44\" width=\"334.8\" x=\"37.965625\" y=\"11.054688\"/>\n  </clipPath>\n </defs>\n</svg>\n",
      "image/png": "[encoded data removed]"
     },
     "metadata": {
      "needs_background": "light"
     }
    }
   ],
   "source": [
    "import matplotlib.pyplot as plt\n",
    "\n",
    "# create some toy 2-D datapoints with binary (0/1) labels\n",
    "x = torch.tensor([[1.2, 1], [0.2, 1.4], [0.5, 0.5], \n",
    "                  [-1.5, -1.3], [0.2, -1.4], [-0.7, -0.5]])\n",
    "y = torch.tensor([0, 0, 0, 1, 1, 1 ])\n",
    "\n",
    "def plot_soln(x, y, params):\n",
    "  plt.plot(x[y==1,0], x[y==1,1], 'r+')\n",
    "  plt.plot(x[y==0,0], x[y==0,1], 'b.')\n",
    "  plt.grid(True)\n",
    "  plt.axis([-2, 2, -2, 2])\n",
    "  \n",
    "  # NOTE : This may depend on how you implement Neuron.\n",
    "  #   Change accordingly\n",
    "  w0 = params[0][0][0].item()\n",
    "  w1 = params[0][0][1].item()\n",
    "  bias = params[1][0].item()\n",
    "  \n",
    "  print(\"w0 =\", w0, \"w1 =\", w1, \"bias =\", bias)\n",
    "  dbx = torch.tensor([-2, 2])\n",
    "  dby = -(1/w1)*(w0*dbx + bias)  # plot the line corresponding to the weights and bias\n",
    "  plt.plot(dbx, dby)\n",
    "\n",
    "params = list(my_neuron.parameters())\n",
    "plot_soln(x, y, params)"
   ]
  },
  {
   "cell_type": "markdown",
   "metadata": {
    "colab_type": "text",
    "id": "CpB2AwwhckYc"
   },
   "source": [
    "**1.5.1** Declare an object `criterion` of type `nn.CrossEntropyLoss`. Note that this can be called as a function on two tensors, one representing the network outputs and the other, the targets that the network is being trained to predict, to return the loss. Print the value of the loss on the dataset using the initial weights and bias defined above in Q1.2."
   ]
  },
  {
   "cell_type": "code",
   "execution_count": 16,
   "metadata": {
    "colab": {
     "base_uri": "https://localhost:8080/",
     "height": 34
    },
    "colab_type": "code",
    "executionInfo": {
     "elapsed": 553,
     "status": "ok",
     "timestamp": 1581998912941,
     "user": {
      "displayName": "Samarth Mishra",
      "photoUrl": "",
      "userId": "00064519813488481618"
     },
     "user_tz": 300
    },
    "id": "l1M8bkH5cnVQ",
    "outputId": "8b79c853-db3e-4688-856e-1c7663195fdd"
   },
   "outputs": [
    {
     "output_type": "stream",
     "name": "stdout",
     "text": [
      "torch.Size([1])\ntorch.Size([1, 1])\n"
     ]
    },
    {
     "output_type": "error",
     "ename": "IndexError",
     "evalue": "Dimension out of range (expected to be in range of [-1, 0], but got 1)",
     "traceback": [
      "\u001b[0;31m---------------------------------------------------------------------------\u001b[0m",
      "\u001b[0;31mIndexError\u001b[0m                                Traceback (most recent call last)",
      "\u001b[0;32m<ipython-input-16-1d5f9ecad9dc>\u001b[0m in \u001b[0;36m<module>\u001b[0;34m\u001b[0m\n\u001b[1;32m      7\u001b[0m \u001b[0my\u001b[0m \u001b[0;34m=\u001b[0m \u001b[0my\u001b[0m\u001b[0;34m.\u001b[0m\u001b[0munsqueeze\u001b[0m\u001b[0;34m(\u001b[0m\u001b[0mdim\u001b[0m\u001b[0;34m=\u001b[0m\u001b[0;36m1\u001b[0m\u001b[0;34m)\u001b[0m\u001b[0;34m\u001b[0m\u001b[0;34m\u001b[0m\u001b[0m\n\u001b[1;32m      8\u001b[0m \u001b[0mprint\u001b[0m\u001b[0;34m(\u001b[0m\u001b[0my\u001b[0m\u001b[0;34m[\u001b[0m\u001b[0;36m0\u001b[0m\u001b[0;34m]\u001b[0m\u001b[0;34m.\u001b[0m\u001b[0mshape\u001b[0m\u001b[0;34m)\u001b[0m\u001b[0;34m\u001b[0m\u001b[0;34m\u001b[0m\u001b[0m\n\u001b[0;32m----> 9\u001b[0;31m \u001b[0mloss\u001b[0m \u001b[0;34m=\u001b[0m \u001b[0mcriterion\u001b[0m\u001b[0;34m(\u001b[0m\u001b[0my_pred\u001b[0m\u001b[0;34m[\u001b[0m\u001b[0;36m0\u001b[0m\u001b[0;34m]\u001b[0m\u001b[0;34m,\u001b[0m \u001b[0my\u001b[0m\u001b[0;34m[\u001b[0m\u001b[0;36m0\u001b[0m\u001b[0;34m]\u001b[0m\u001b[0;34m)\u001b[0m\u001b[0;34m\u001b[0m\u001b[0;34m\u001b[0m\u001b[0m\n\u001b[0m\u001b[1;32m     10\u001b[0m \u001b[0mprint\u001b[0m\u001b[0;34m(\u001b[0m\u001b[0;34m\"loss =\"\u001b[0m\u001b[0;34m,\u001b[0m \u001b[0mloss\u001b[0m\u001b[0;34m.\u001b[0m\u001b[0mitem\u001b[0m\u001b[0;34m(\u001b[0m\u001b[0;34m)\u001b[0m\u001b[0;34m)\u001b[0m\u001b[0;34m\u001b[0m\u001b[0;34m\u001b[0m\u001b[0m\n",
      "\u001b[0;32m/opt/anaconda3/envs/myenv/lib/python3.9/site-packages/torch/nn/modules/module.py\u001b[0m in \u001b[0;36m_call_impl\u001b[0;34m(self, *input, **kwargs)\u001b[0m\n\u001b[1;32m    725\u001b[0m             \u001b[0mresult\u001b[0m \u001b[0;34m=\u001b[0m \u001b[0mself\u001b[0m\u001b[0;34m.\u001b[0m\u001b[0m_slow_forward\u001b[0m\u001b[0;34m(\u001b[0m\u001b[0;34m*\u001b[0m\u001b[0minput\u001b[0m\u001b[0;34m,\u001b[0m \u001b[0;34m**\u001b[0m\u001b[0mkwargs\u001b[0m\u001b[0;34m)\u001b[0m\u001b[0;34m\u001b[0m\u001b[0;34m\u001b[0m\u001b[0m\n\u001b[1;32m    726\u001b[0m         \u001b[0;32melse\u001b[0m\u001b[0;34m:\u001b[0m\u001b[0;34m\u001b[0m\u001b[0;34m\u001b[0m\u001b[0m\n\u001b[0;32m--> 727\u001b[0;31m             \u001b[0mresult\u001b[0m \u001b[0;34m=\u001b[0m \u001b[0mself\u001b[0m\u001b[0;34m.\u001b[0m\u001b[0mforward\u001b[0m\u001b[0;34m(\u001b[0m\u001b[0;34m*\u001b[0m\u001b[0minput\u001b[0m\u001b[0;34m,\u001b[0m \u001b[0;34m**\u001b[0m\u001b[0mkwargs\u001b[0m\u001b[0;34m)\u001b[0m\u001b[0;34m\u001b[0m\u001b[0;34m\u001b[0m\u001b[0m\n\u001b[0m\u001b[1;32m    728\u001b[0m         for hook in itertools.chain(\n\u001b[1;32m    729\u001b[0m                 \u001b[0m_global_forward_hooks\u001b[0m\u001b[0;34m.\u001b[0m\u001b[0mvalues\u001b[0m\u001b[0;34m(\u001b[0m\u001b[0;34m)\u001b[0m\u001b[0;34m,\u001b[0m\u001b[0;34m\u001b[0m\u001b[0;34m\u001b[0m\u001b[0m\n",
      "\u001b[0;32m/opt/anaconda3/envs/myenv/lib/python3.9/site-packages/torch/nn/modules/loss.py\u001b[0m in \u001b[0;36mforward\u001b[0;34m(self, input, target)\u001b[0m\n\u001b[1;32m    959\u001b[0m \u001b[0;34m\u001b[0m\u001b[0m\n\u001b[1;32m    960\u001b[0m     \u001b[0;32mdef\u001b[0m \u001b[0mforward\u001b[0m\u001b[0;34m(\u001b[0m\u001b[0mself\u001b[0m\u001b[0;34m,\u001b[0m \u001b[0minput\u001b[0m\u001b[0;34m:\u001b[0m \u001b[0mTensor\u001b[0m\u001b[0;34m,\u001b[0m \u001b[0mtarget\u001b[0m\u001b[0;34m:\u001b[0m \u001b[0mTensor\u001b[0m\u001b[0;34m)\u001b[0m \u001b[0;34m->\u001b[0m \u001b[0mTensor\u001b[0m\u001b[0;34m:\u001b[0m\u001b[0;34m\u001b[0m\u001b[0;34m\u001b[0m\u001b[0m\n\u001b[0;32m--> 961\u001b[0;31m         return F.cross_entropy(input, target, weight=self.weight,\n\u001b[0m\u001b[1;32m    962\u001b[0m                                ignore_index=self.ignore_index, reduction=self.reduction)\n\u001b[1;32m    963\u001b[0m \u001b[0;34m\u001b[0m\u001b[0m\n",
      "\u001b[0;32m/opt/anaconda3/envs/myenv/lib/python3.9/site-packages/torch/nn/functional.py\u001b[0m in \u001b[0;36mcross_entropy\u001b[0;34m(input, target, weight, size_average, ignore_index, reduce, reduction)\u001b[0m\n\u001b[1;32m   2466\u001b[0m     \u001b[0;32mif\u001b[0m \u001b[0msize_average\u001b[0m \u001b[0;32mis\u001b[0m \u001b[0;32mnot\u001b[0m \u001b[0;32mNone\u001b[0m \u001b[0;32mor\u001b[0m \u001b[0mreduce\u001b[0m \u001b[0;32mis\u001b[0m \u001b[0;32mnot\u001b[0m \u001b[0;32mNone\u001b[0m\u001b[0;34m:\u001b[0m\u001b[0;34m\u001b[0m\u001b[0;34m\u001b[0m\u001b[0m\n\u001b[1;32m   2467\u001b[0m         \u001b[0mreduction\u001b[0m \u001b[0;34m=\u001b[0m \u001b[0m_Reduction\u001b[0m\u001b[0;34m.\u001b[0m\u001b[0mlegacy_get_string\u001b[0m\u001b[0;34m(\u001b[0m\u001b[0msize_average\u001b[0m\u001b[0;34m,\u001b[0m \u001b[0mreduce\u001b[0m\u001b[0;34m)\u001b[0m\u001b[0;34m\u001b[0m\u001b[0;34m\u001b[0m\u001b[0m\n\u001b[0;32m-> 2468\u001b[0;31m     \u001b[0;32mreturn\u001b[0m \u001b[0mnll_loss\u001b[0m\u001b[0;34m(\u001b[0m\u001b[0mlog_softmax\u001b[0m\u001b[0;34m(\u001b[0m\u001b[0minput\u001b[0m\u001b[0;34m,\u001b[0m \u001b[0;36m1\u001b[0m\u001b[0;34m)\u001b[0m\u001b[0;34m,\u001b[0m \u001b[0mtarget\u001b[0m\u001b[0;34m,\u001b[0m \u001b[0mweight\u001b[0m\u001b[0;34m,\u001b[0m \u001b[0;32mNone\u001b[0m\u001b[0;34m,\u001b[0m \u001b[0mignore_index\u001b[0m\u001b[0;34m,\u001b[0m \u001b[0;32mNone\u001b[0m\u001b[0;34m,\u001b[0m \u001b[0mreduction\u001b[0m\u001b[0;34m)\u001b[0m\u001b[0;34m\u001b[0m\u001b[0;34m\u001b[0m\u001b[0m\n\u001b[0m\u001b[1;32m   2469\u001b[0m \u001b[0;34m\u001b[0m\u001b[0m\n\u001b[1;32m   2470\u001b[0m \u001b[0;34m\u001b[0m\u001b[0m\n",
      "\u001b[0;32m/opt/anaconda3/envs/myenv/lib/python3.9/site-packages/torch/nn/functional.py\u001b[0m in \u001b[0;36mlog_softmax\u001b[0;34m(input, dim, _stacklevel, dtype)\u001b[0m\n\u001b[1;32m   1603\u001b[0m         \u001b[0mdim\u001b[0m \u001b[0;34m=\u001b[0m \u001b[0m_get_softmax_dim\u001b[0m\u001b[0;34m(\u001b[0m\u001b[0;34m'log_softmax'\u001b[0m\u001b[0;34m,\u001b[0m \u001b[0minput\u001b[0m\u001b[0;34m.\u001b[0m\u001b[0mdim\u001b[0m\u001b[0;34m(\u001b[0m\u001b[0;34m)\u001b[0m\u001b[0;34m,\u001b[0m \u001b[0m_stacklevel\u001b[0m\u001b[0;34m)\u001b[0m\u001b[0;34m\u001b[0m\u001b[0;34m\u001b[0m\u001b[0m\n\u001b[1;32m   1604\u001b[0m     \u001b[0;32mif\u001b[0m \u001b[0mdtype\u001b[0m \u001b[0;32mis\u001b[0m \u001b[0;32mNone\u001b[0m\u001b[0;34m:\u001b[0m\u001b[0;34m\u001b[0m\u001b[0;34m\u001b[0m\u001b[0m\n\u001b[0;32m-> 1605\u001b[0;31m         \u001b[0mret\u001b[0m \u001b[0;34m=\u001b[0m \u001b[0minput\u001b[0m\u001b[0;34m.\u001b[0m\u001b[0mlog_softmax\u001b[0m\u001b[0;34m(\u001b[0m\u001b[0mdim\u001b[0m\u001b[0;34m)\u001b[0m\u001b[0;34m\u001b[0m\u001b[0;34m\u001b[0m\u001b[0m\n\u001b[0m\u001b[1;32m   1606\u001b[0m     \u001b[0;32melse\u001b[0m\u001b[0;34m:\u001b[0m\u001b[0;34m\u001b[0m\u001b[0;34m\u001b[0m\u001b[0m\n\u001b[1;32m   1607\u001b[0m         \u001b[0mret\u001b[0m \u001b[0;34m=\u001b[0m \u001b[0minput\u001b[0m\u001b[0;34m.\u001b[0m\u001b[0mlog_softmax\u001b[0m\u001b[0;34m(\u001b[0m\u001b[0mdim\u001b[0m\u001b[0;34m,\u001b[0m \u001b[0mdtype\u001b[0m\u001b[0;34m=\u001b[0m\u001b[0mdtype\u001b[0m\u001b[0;34m)\u001b[0m\u001b[0;34m\u001b[0m\u001b[0;34m\u001b[0m\u001b[0m\n",
      "\u001b[0;31mIndexError\u001b[0m: Dimension out of range (expected to be in range of [-1, 0], but got 1)"
     ]
    }
   ],
   "source": [
    "# solution here\n",
    "my_neuron = Neuron()\n",
    "y_pred = my_neuron.forward(x)\n",
    "criterion = nn.CrossEntropyLoss()\n",
    "# y_pred = torch.cat([y_pred, y], dim=1)\n",
    "print(y_pred[0].shape)\n",
    "y = y.unsqueeze(dim=1)\n",
    "print(y[0].shape)\n",
    "loss = criterion(y_pred[0], y[0])\n",
    "print(\"loss =\", loss.item())"
   ]
  },
  {
   "cell_type": "markdown",
   "metadata": {
    "colab_type": "text",
    "id": "RJqHzmDL6yYh"
   },
   "source": [
    "**1.5.2** The following prints out the chain of `grad_fn` functions backwards starting from `loss.grad_fn`  to demonstrate what backpropagation will be run on."
   ]
  },
  {
   "cell_type": "code",
   "execution_count": 290,
   "metadata": {
    "colab": {
     "base_uri": "https://localhost:8080/",
     "height": 86
    },
    "colab_type": "code",
    "executionInfo": {
     "elapsed": 404,
     "status": "ok",
     "timestamp": 1581998915620,
     "user": {
      "displayName": "Samarth Mishra",
      "photoUrl": "",
      "userId": "00064519813488481618"
     },
     "user_tz": 300
    },
    "id": "wawoYnT3U04S",
    "outputId": "cfafafbe-8cd0-48bb-c6a4-bda00371a103",
    "scrolled": true
   },
   "outputs": [
    {
     "output_type": "stream",
     "name": "stdout",
     "text": [
      "None\n"
     ]
    },
    {
     "output_type": "error",
     "ename": "AttributeError",
     "evalue": "'NoneType' object has no attribute 'next_functions'",
     "traceback": [
      "\u001b[0;31m---------------------------------------------------------------------------\u001b[0m",
      "\u001b[0;31mAttributeError\u001b[0m                            Traceback (most recent call last)",
      "\u001b[0;32m<ipython-input-290-bed0e68ac95e>\u001b[0m in \u001b[0;36m<module>\u001b[0;34m\u001b[0m\n\u001b[1;32m      1\u001b[0m \u001b[0mprint\u001b[0m\u001b[0;34m(\u001b[0m\u001b[0mloss\u001b[0m\u001b[0;34m.\u001b[0m\u001b[0mgrad_fn\u001b[0m\u001b[0;34m)\u001b[0m\u001b[0;34m\u001b[0m\u001b[0;34m\u001b[0m\u001b[0m\n\u001b[0;32m----> 2\u001b[0;31m \u001b[0mprint\u001b[0m\u001b[0;34m(\u001b[0m\u001b[0mloss\u001b[0m\u001b[0;34m.\u001b[0m\u001b[0mgrad_fn\u001b[0m\u001b[0;34m.\u001b[0m\u001b[0mnext_functions\u001b[0m\u001b[0;34m[\u001b[0m\u001b[0;36m0\u001b[0m\u001b[0;34m]\u001b[0m\u001b[0;34m[\u001b[0m\u001b[0;36m0\u001b[0m\u001b[0;34m]\u001b[0m\u001b[0;34m)\u001b[0m\u001b[0;34m\u001b[0m\u001b[0;34m\u001b[0m\u001b[0m\n\u001b[0m\u001b[1;32m      3\u001b[0m \u001b[0mprint\u001b[0m\u001b[0;34m(\u001b[0m\u001b[0mloss\u001b[0m\u001b[0;34m.\u001b[0m\u001b[0mgrad_fn\u001b[0m\u001b[0;34m.\u001b[0m\u001b[0mnext_functions\u001b[0m\u001b[0;34m[\u001b[0m\u001b[0;36m0\u001b[0m\u001b[0;34m]\u001b[0m\u001b[0;34m[\u001b[0m\u001b[0;36m0\u001b[0m\u001b[0;34m]\u001b[0m\u001b[0;34m.\u001b[0m\u001b[0mnext_functions\u001b[0m\u001b[0;34m[\u001b[0m\u001b[0;36m0\u001b[0m\u001b[0;34m]\u001b[0m\u001b[0;34m[\u001b[0m\u001b[0;36m0\u001b[0m\u001b[0;34m]\u001b[0m\u001b[0;34m)\u001b[0m\u001b[0;34m\u001b[0m\u001b[0;34m\u001b[0m\u001b[0m\n\u001b[1;32m      4\u001b[0m \u001b[0mprint\u001b[0m\u001b[0;34m(\u001b[0m\u001b[0mloss\u001b[0m\u001b[0;34m.\u001b[0m\u001b[0mgrad_fn\u001b[0m\u001b[0;34m.\u001b[0m\u001b[0mnext_functions\u001b[0m\u001b[0;34m[\u001b[0m\u001b[0;36m0\u001b[0m\u001b[0;34m]\u001b[0m\u001b[0;34m[\u001b[0m\u001b[0;36m0\u001b[0m\u001b[0;34m]\u001b[0m\u001b[0;34m.\u001b[0m\u001b[0mnext_functions\u001b[0m\u001b[0;34m[\u001b[0m\u001b[0;36m0\u001b[0m\u001b[0;34m]\u001b[0m\u001b[0;34m[\u001b[0m\u001b[0;36m0\u001b[0m\u001b[0;34m]\u001b[0m\u001b[0;34m.\u001b[0m\u001b[0mnext_functions\u001b[0m\u001b[0;34m[\u001b[0m\u001b[0;36m0\u001b[0m\u001b[0;34m]\u001b[0m\u001b[0;34m[\u001b[0m\u001b[0;36m0\u001b[0m\u001b[0;34m]\u001b[0m\u001b[0;34m)\u001b[0m\u001b[0;34m\u001b[0m\u001b[0;34m\u001b[0m\u001b[0m\n",
      "\u001b[0;31mAttributeError\u001b[0m: 'NoneType' object has no attribute 'next_functions'"
     ]
    }
   ],
   "source": [
    "print(loss.grad_fn)  \n",
    "print(loss.grad_fn.next_functions[0][0])  \n",
    "print(loss.grad_fn.next_functions[0][0].next_functions[0][0])  \n",
    "print(loss.grad_fn.next_functions[0][0].next_functions[0][0].next_functions[0][0])  "
   ]
  },
  {
   "cell_type": "markdown",
   "metadata": {
    "colab_type": "text",
    "id": "Og0ZO46h3UNg"
   },
   "source": [
    "**1.5.3** Run the Stochastic Gradient Descent (SGD) optimizer from the `torch.optim` package to train your classifier on the toy dataset. Use the entire dataset in each batch. Use a learning rate of $0.01$ (no other hyperparameters). You will need to write a training loop that uses the `.step()` function of the optimizer. Plot the solution and print the loss after 1000 iterations."
   ]
  },
  {
   "cell_type": "code",
   "execution_count": 0,
   "metadata": {
    "colab": {
     "base_uri": "https://localhost:8080/",
     "height": 304
    },
    "colab_type": "code",
    "executionInfo": {
     "elapsed": 1098,
     "status": "ok",
     "timestamp": 1581998918323,
     "user": {
      "displayName": "Samarth Mishra",
      "photoUrl": "",
      "userId": "00064519813488481618"
     },
     "user_tz": 300
    },
    "id": "fqxdnM-vV1DU",
    "outputId": "3699a412-a9bb-48ad-d873-53349a233a23"
   },
   "outputs": [
    {
     "name": "stdout",
     "output_type": "stream",
     "text": [
      "loss = 0.870725691318512\n",
      "w0 = 2.161842107772827 w1 = -2.233754873275757 bias = -3.3213229179382324\n"
     ]
    },
    {
     "data": {
      "image/png": "[encoded data removed]",
      "text/plain": [
       "<Figure size 432x288 with 1 Axes>"
      ]
     },
     "metadata": {
      "tags": []
     },
     "output_type": "display_data"
    }
   ],
   "source": [
    "# solution here\n",
    "optimiser = torch.optim.SGD(my_neuron.parameters(), lr = 0.01)\n",
    "\n",
    "for i in range(1000):\n",
    "    y_pred = my_neuron(x)\n",
    "    # \n",
    "    # \n",
    "    optimiser.zero_grad()\n",
    "    loss.backward()\n",
    "    optimiser.step()\n",
    "\n",
    "print(\"loss =\", loss.item())\n",
    "params = list(my_neuron.parameters())\n",
    "plot_soln(x, y, params)"
   ]
  },
  {
   "cell_type": "markdown",
   "metadata": {
    "colab_type": "text",
    "id": "Z0NBjzHF6TN5"
   },
   "source": [
    "**1.5.4** How many thousands of iterations does it take (approximately) until the neuron learns to classify the data correctly?"
   ]
  },
  {
   "cell_type": "markdown",
   "metadata": {
    "colab_type": "text",
    "id": "wc4CEo9c6neD"
   },
   "source": [
    "**[ double click to enter solution ]**\n",
    "\n",
    "Fill in"
   ]
  },
  {
   "cell_type": "markdown",
   "metadata": {
    "colab_type": "text",
    "id": "xEV3Px886zrI"
   },
   "source": [
    "\n",
    "\n",
    "---\n",
    "\n",
    "\n",
    "# Problem 2: Convolutional Networks (30 points)\n",
    "\n",
    "In this part, we will experiment with CNNs in PyTorch. You will need to read the documentation of the functions provided below to understand how they work.\n",
    "\n",
    "**GPU Training.** Smaller networks will train fine on a CPU, but you may want to use GPU training for this part of the homework. You can run your experiments on Colab's GPUs or on BU's  [Shared Computing Cluster (SCC)](http://www.bu.edu/tech/services/research/computation/scc/). "
   ]
  },
  {
   "cell_type": "markdown",
   "metadata": {
    "colab_type": "text",
    "id": "Kxl45fh6FNq6"
   },
   "source": [
    "### 2.1. Training a CNN on SVHN\n",
    "We will create and train a convolutional network on the [SVHN Dataset](http://ufldl.stanford.edu/housenumbers/).\n",
    "\n",
    "The SVHN dataset consists of photos of house numbers, collected automatically using Google's Street View. Recognizing multi-digit numbers in photographs captured at street level is an important component of modern-day map making. Google’s Street View imagery contains hundreds of millions of geo-located 360 degree panoramic images. The ability to automatically transcribe an address number from a geo-located patch of pixels and associate the transcribed number with a known street address helps pinpoint, with a high degree of accuracy, the location of the building it represents. Below are example images from the dataset. Note that for this dataset, each image (32x32 pixels) has been cropped around a single number in its center, which is the number we want to classify.\n",
    "\n",
    "![SVHN images](http://ufldl.stanford.edu/housenumbers/32x32eg.png)\n"
   ]
  },
  {
   "cell_type": "markdown",
   "metadata": {
    "colab_type": "text",
    "id": "NJa-vlG99lMr"
   },
   "source": [
    "### 2.1.2 Data Download\n",
    "The following downloads the SVHN dataset using `torchvision` and displays the images in the first batch. "
   ]
  },
  {
   "cell_type": "code",
   "execution_count": 1,
   "metadata": {
    "colab": {},
    "colab_type": "code",
    "id": "dHFWPxi6jCoB"
   },
   "outputs": [
    {
     "output_type": "stream",
     "name": "stdout",
     "text": [
      "Using downloaded and verified file: ./data/train_32x32.mat\n",
      "Using downloaded and verified file: ./data/test_32x32.mat\n"
     ]
    }
   ],
   "source": [
    "import torch\n",
    "import torchvision\n",
    "import torchvision.transforms as transforms\n",
    "\n",
    "transform = transforms.Compose(\n",
    "    [transforms.ToTensor(),\n",
    "     transforms.Normalize((0.5, 0.5, 0.5), (0.5, 0.5, 0.5))])\n",
    "\n",
    "trainset = torchvision.datasets.SVHN(root='./data', split='train',\n",
    "                                        transform=transform, download=True)\n",
    "trainloader = torch.utils.data.DataLoader(trainset, batch_size=4,\n",
    "                                          shuffle=True, num_workers=2)\n",
    "testset = torchvision.datasets.SVHN(root='./data', split='test',\n",
    "                                        transform=transform, download=True)\n",
    "testloader = torch.utils.data.DataLoader(testset, batch_size=4,\n",
    "                                         shuffle=False, num_workers=2)\n",
    "\n",
    "classes = ('0', '1', '2', '3', '4', '5', '6', '7', '8', '9')"
   ]
  },
  {
   "cell_type": "code",
   "execution_count": 2,
   "metadata": {},
   "outputs": [
    {
     "output_type": "stream",
     "name": "stdout",
     "text": [
      "    7     9     4     7\n"
     ]
    },
    {
     "output_type": "display_data",
     "data": {
      "text/plain": "<Figure size 432x288 with 1 Axes>",
      "image/svg+xml": "<?xml version=\"1.0\" encoding=\"utf-8\" standalone=\"no\"?>\n<!DOCTYPE svg PUBLIC \"-//W3C//DTD SVG 1.1//EN\"\n  \"http://www.w3.org/Graphics/SVG/1.1/DTD/svg11.dtd\">\n<!-- Created with matplotlib (https://matplotlib.org/) -->\n<svg height=\"121.018274pt\" version=\"1.1\" viewBox=\"0 0 368.846875 121.018274\" width=\"368.846875pt\" xmlns=\"http://www.w3.org/2000/svg\" xmlns:xlink=\"http://www.w3.org/1999/xlink\">\n <metadata>\n  <rdf:RDF xmlns:cc=\"http://creativecommons.org/ns#\" xmlns:dc=\"http://purl.org/dc/elements/1.1/\" xmlns:rdf=\"http://www.w3.org/1999/02/22-rdf-syntax-ns#\">\n   <cc:Work>\n    <dc:type rdf:resource=\"http://purl.org/dc/dcmitype/StillImage\"/>\n    <dc:date>2021-06-14T16:31:09.936190</dc:date>\n    <dc:format>image/svg+xml</dc:format>\n    <dc:creator>\n     <cc:Agent>\n      <dc:title>Matplotlib v3.3.4, https://matplotlib.org/</dc:title>\n     </cc:Agent>\n    </dc:creator>\n   </cc:Work>\n  </rdf:RDF>\n </metadata>\n <defs>\n  <style type=\"text/css\">*{stroke-linecap:butt;stroke-linejoin:round;}</style>\n </defs>\n <g id=\"figure_1\">\n  <g id=\"patch_1\">\n   <path d=\"M 0 121.018274 \nL 368.846875 121.018274 \nL 368.846875 0 \nL 0 0 \nz\n\" style=\"fill:none;\"/>\n  </g>\n  <g id=\"axes_1\">\n   <g id=\"patch_2\">\n    <path d=\"M 26.846875 97.180774 \nL 361.646875 97.180774 \nL 361.646875 9.841644 \nL 26.846875 9.841644 \nz\n\" style=\"fill:#ffffff;\"/>\n   </g>\n   <g clip-path=\"url(#p8f9c3dfb5c)\">\n    <image height=\"88\" id=\"image3781b04ff4\" transform=\"scale(1 -1)translate(0 -88)\" width=\"335\" x=\"26.846875\" xlink:href=\"data:image/png;base64,\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\" y=\"-9.180774\"/>\n   </g>\n   <g id=\"matplotlib.axis_1\">\n    <g id=\"xtick_1\">\n     <g id=\"line2d_1\">\n      <defs>\n       <path d=\"M 0 0 \nL 0 3.5 \n\" id=\"mf47c3cbf76\" style=\"stroke:#000000;stroke-width:0.8;\"/>\n      </defs>\n      <g>\n       <use style=\"stroke:#000000;stroke-width:0.8;\" x=\"28.059918\" xlink:href=\"#mf47c3cbf76\" y=\"97.180774\"/>\n      </g>\n     </g>\n     <g id=\"text_1\">\n      <!-- 0 -->\n      <g transform=\"translate(24.8982 111.890149)scale(0.1 -0.1)\">\n       <defs>\n        <path d=\"M 31.34375 -1.8125 \nQ 20.171875 -1.8125 13.25 8.703125 \nQ 6.34375 19.234375 6.34375 36.1875 \nQ 6.34375 53.265625 13.296875 63.671875 \nQ 20.265625 74.078125 31.640625 74.078125 \nQ 43.015625 74.078125 49.96875 63.671875 \nQ 56.9375 53.265625 56.9375 36.328125 \nQ 56.9375 18.953125 49.96875 8.5625 \nQ 43.015625 -1.8125 31.34375 -1.8125 \nz\nM 31.453125 5.421875 \nQ 46.734375 5.421875 46.734375 36.46875 \nQ 46.734375 66.84375 31.640625 66.84375 \nQ 16.609375 66.84375 16.609375 36.1875 \nQ 16.609375 5.421875 31.453125 5.421875 \nz\n\" id=\"LucidaGrande-48\"/>\n       </defs>\n       <use xlink:href=\"#LucidaGrande-48\"/>\n      </g>\n     </g>\n    </g>\n    <g id=\"xtick_2\">\n     <g id=\"line2d_2\">\n      <g>\n       <use style=\"stroke:#000000;stroke-width:0.8;\" x=\"76.581658\" xlink:href=\"#mf47c3cbf76\" y=\"97.180774\"/>\n      </g>\n     </g>\n     <g id=\"text_2\">\n      <!-- 20 -->\n      <g transform=\"translate(70.25822 111.890149)scale(0.1 -0.1)\">\n       <defs>\n        <path d=\"M 8.296875 0 \nL 8.296875 8.453125 \nQ 12.5 18.265625 25.296875 29.828125 \nL 30.8125 34.765625 \nQ 41.453125 44.390625 41.453125 53.859375 \nQ 41.453125 59.90625 37.8125 63.375 \nQ 34.1875 66.84375 27.828125 66.84375 \nQ 20.3125 66.84375 10.109375 61.03125 \nL 10.109375 69.53125 \nQ 19.734375 74.078125 29.203125 74.078125 \nQ 39.359375 74.078125 45.5 68.609375 \nQ 51.65625 63.140625 51.65625 54.109375 \nQ 51.65625 47.609375 48.546875 42.578125 \nQ 45.453125 37.546875 37.015625 30.375 \nL 33.296875 27.203125 \nQ 21.734375 17.390625 19.921875 8.453125 \nL 51.3125 8.453125 \nL 51.3125 0 \nz\n\" id=\"LucidaGrande-50\"/>\n       </defs>\n       <use xlink:href=\"#LucidaGrande-50\"/>\n       <use x=\"63.232422\" xlink:href=\"#LucidaGrande-48\"/>\n      </g>\n     </g>\n    </g>\n    <g id=\"xtick_3\">\n     <g id=\"line2d_3\">\n      <g>\n       <use style=\"stroke:#000000;stroke-width:0.8;\" x=\"125.103397\" xlink:href=\"#mf47c3cbf76\" y=\"97.180774\"/>\n      </g>\n     </g>\n     <g id=\"text_3\">\n      <!-- 40 -->\n      <g transform=\"translate(118.779959 111.890149)scale(0.1 -0.1)\">\n       <defs>\n        <path d=\"M 37.640625 0 \nL 37.640625 20.453125 \nL 5.125 20.453125 \nL 5.125 27.734375 \nL 37.640625 72.265625 \nL 46.6875 72.265625 \nL 46.6875 28.328125 \nL 56.34375 28.328125 \nL 56.34375 20.453125 \nL 46.6875 20.453125 \nL 46.6875 0 \nz\nM 14.546875 28.328125 \nL 38.28125 28.328125 \nL 38.28125 60.453125 \nz\n\" id=\"LucidaGrande-52\"/>\n       </defs>\n       <use xlink:href=\"#LucidaGrande-52\"/>\n       <use x=\"63.232422\" xlink:href=\"#LucidaGrande-48\"/>\n      </g>\n     </g>\n    </g>\n    <g id=\"xtick_4\">\n     <g id=\"line2d_4\">\n      <g>\n       <use style=\"stroke:#000000;stroke-width:0.8;\" x=\"173.625136\" xlink:href=\"#mf47c3cbf76\" y=\"97.180774\"/>\n      </g>\n     </g>\n     <g id=\"text_4\">\n      <!-- 60 -->\n      <g transform=\"translate(167.301698 111.890149)scale(0.1 -0.1)\">\n       <defs>\n        <path d=\"M 17.1875 37.453125 \nQ 24.078125 46.390625 34.515625 46.390625 \nQ 44 46.390625 50.03125 40.109375 \nQ 56.0625 33.84375 56.0625 24.03125 \nQ 56.0625 12.75 49.296875 5.46875 \nQ 42.53125 -1.8125 32.125 -1.8125 \nQ 20.171875 -1.8125 13.421875 7.8125 \nQ 6.6875 17.4375 6.6875 34.515625 \nQ 6.6875 53.328125 14.421875 63.71875 \nQ 22.171875 74.125 36.234375 74.125 \nQ 42.671875 74.125 52.34375 71.390625 \nL 52.34375 62.984375 \nQ 42.140625 66.890625 35.640625 66.890625 \nQ 17.1875 66.890625 17.1875 37.453125 \nz\nM 46.390625 21.875 \nQ 46.390625 30.078125 42.703125 34.765625 \nQ 39.015625 39.453125 32.46875 39.453125 \nQ 26.375 39.453125 21.96875 35.34375 \nQ 17.578125 31.25 17.578125 25.484375 \nQ 17.578125 16.40625 21.75 10.90625 \nQ 25.921875 5.421875 32.8125 5.421875 \nQ 39.015625 5.421875 42.703125 9.890625 \nQ 46.390625 14.359375 46.390625 21.875 \nz\n\" id=\"LucidaGrande-54\"/>\n       </defs>\n       <use xlink:href=\"#LucidaGrande-54\"/>\n       <use x=\"63.232422\" xlink:href=\"#LucidaGrande-48\"/>\n      </g>\n     </g>\n    </g>\n    <g id=\"xtick_5\">\n     <g id=\"line2d_5\">\n      <g>\n       <use style=\"stroke:#000000;stroke-width:0.8;\" x=\"222.146875\" xlink:href=\"#mf47c3cbf76\" y=\"97.180774\"/>\n      </g>\n     </g>\n     <g id=\"text_5\">\n      <!-- 80 -->\n      <g transform=\"translate(215.823438 111.890149)scale(0.1 -0.1)\">\n       <defs>\n        <path d=\"M 23 39.359375 \nQ 12.40625 46.734375 12.40625 55.671875 \nQ 12.40625 63.875 18.40625 69 \nQ 24.421875 74.125 34.078125 74.125 \nQ 43.015625 74.125 48.5625 69.78125 \nQ 54.109375 65.4375 54.109375 58.5 \nQ 54.109375 48 40.625 39.359375 \nQ 56.984375 31.34375 56.984375 18.703125 \nQ 56.984375 9.625 50.125 3.90625 \nQ 43.265625 -1.8125 32.421875 -1.8125 \nQ 21.78125 -1.8125 15.203125 3.578125 \nQ 8.640625 8.984375 8.640625 17.78125 \nQ 8.640625 30.765625 23 39.359375 \nz\nM 35.25 42.390625 \nQ 45.359375 49.03125 45.359375 57.171875 \nQ 45.359375 61.53125 41.984375 64.1875 \nQ 38.625 66.84375 33.109375 66.84375 \nQ 27.78125 66.84375 24.453125 64.234375 \nQ 21.140625 61.625 21.140625 57.46875 \nQ 21.140625 53.421875 24.140625 50.21875 \nQ 27.15625 47.015625 35.25 42.390625 \nz\nM 28.21875 35.453125 \nQ 22.40625 30.953125 20.328125 27.609375 \nQ 18.265625 24.265625 18.265625 19.28125 \nQ 18.265625 13.09375 22.265625 9.25 \nQ 26.265625 5.421875 32.8125 5.421875 \nQ 39.109375 5.421875 43.09375 8.6875 \nQ 47.078125 11.96875 47.078125 17.1875 \nQ 47.078125 21.390625 44.609375 24.296875 \nQ 42.140625 27.203125 35.0625 31.390625 \nz\n\" id=\"LucidaGrande-56\"/>\n       </defs>\n       <use xlink:href=\"#LucidaGrande-56\"/>\n       <use x=\"63.232422\" xlink:href=\"#LucidaGrande-48\"/>\n      </g>\n     </g>\n    </g>\n    <g id=\"xtick_6\">\n     <g id=\"line2d_6\">\n      <g>\n       <use style=\"stroke:#000000;stroke-width:0.8;\" x=\"270.668614\" xlink:href=\"#mf47c3cbf76\" y=\"97.180774\"/>\n      </g>\n     </g>\n     <g id=\"text_6\">\n      <!-- 100 -->\n      <g transform=\"translate(261.183458 111.890149)scale(0.1 -0.1)\">\n       <defs>\n        <path d=\"M 15.046875 0 \nL 15.046875 7.234375 \nL 29.5 7.234375 \nL 29.5 64.265625 \nL 15.046875 60.640625 \nL 15.046875 68.0625 \nL 39.15625 74.078125 \nL 39.15625 7.234375 \nL 53.609375 7.234375 \nL 53.609375 0 \nz\n\" id=\"LucidaGrande-49\"/>\n       </defs>\n       <use xlink:href=\"#LucidaGrande-49\"/>\n       <use x=\"63.232422\" xlink:href=\"#LucidaGrande-48\"/>\n       <use x=\"126.464844\" xlink:href=\"#LucidaGrande-48\"/>\n      </g>\n     </g>\n    </g>\n    <g id=\"xtick_7\">\n     <g id=\"line2d_7\">\n      <g>\n       <use style=\"stroke:#000000;stroke-width:0.8;\" x=\"319.190353\" xlink:href=\"#mf47c3cbf76\" y=\"97.180774\"/>\n      </g>\n     </g>\n     <g id=\"text_7\">\n      <!-- 120 -->\n      <g transform=\"translate(309.705197 111.890149)scale(0.1 -0.1)\">\n       <use xlink:href=\"#LucidaGrande-49\"/>\n       <use x=\"63.232422\" xlink:href=\"#LucidaGrande-50\"/>\n       <use x=\"126.464844\" xlink:href=\"#LucidaGrande-48\"/>\n      </g>\n     </g>\n    </g>\n   </g>\n   <g id=\"matplotlib.axis_2\">\n    <g id=\"ytick_1\">\n     <g id=\"line2d_8\">\n      <defs>\n       <path d=\"M 0 0 \nL -3.5 0 \n\" id=\"mb9eca05658\" style=\"stroke:#000000;stroke-width:0.8;\"/>\n      </defs>\n      <g>\n       <use style=\"stroke:#000000;stroke-width:0.8;\" x=\"26.846875\" xlink:href=\"#mb9eca05658\" y=\"11.054687\"/>\n      </g>\n     </g>\n     <g id=\"text_8\">\n      <!-- 0 -->\n      <g transform=\"translate(13.523438 14.909375)scale(0.1 -0.1)\">\n       <use xlink:href=\"#LucidaGrande-48\"/>\n      </g>\n     </g>\n    </g>\n    <g id=\"ytick_2\">\n     <g id=\"line2d_9\">\n      <g>\n       <use style=\"stroke:#000000;stroke-width:0.8;\" x=\"26.846875\" xlink:href=\"#mb9eca05658\" y=\"35.315557\"/>\n      </g>\n     </g>\n     <g id=\"text_9\">\n      <!-- 10 -->\n      <g transform=\"translate(7.2 39.170245)scale(0.1 -0.1)\">\n       <use xlink:href=\"#LucidaGrande-49\"/>\n       <use x=\"63.232422\" xlink:href=\"#LucidaGrande-48\"/>\n      </g>\n     </g>\n    </g>\n    <g id=\"ytick_3\">\n     <g id=\"line2d_10\">\n      <g>\n       <use style=\"stroke:#000000;stroke-width:0.8;\" x=\"26.846875\" xlink:href=\"#mb9eca05658\" y=\"59.576427\"/>\n      </g>\n     </g>\n     <g id=\"text_10\">\n      <!-- 20 -->\n      <g transform=\"translate(7.2 63.431114)scale(0.1 -0.1)\">\n       <use xlink:href=\"#LucidaGrande-50\"/>\n       <use x=\"63.232422\" xlink:href=\"#LucidaGrande-48\"/>\n      </g>\n     </g>\n    </g>\n    <g id=\"ytick_4\">\n     <g id=\"line2d_11\">\n      <g>\n       <use style=\"stroke:#000000;stroke-width:0.8;\" x=\"26.846875\" xlink:href=\"#mb9eca05658\" y=\"83.837296\"/>\n      </g>\n     </g>\n     <g id=\"text_11\">\n      <!-- 30 -->\n      <g transform=\"translate(7.2 87.691984)scale(0.1 -0.1)\">\n       <defs>\n        <path d=\"M 10.15625 0.53125 \nL 10.15625 9.515625 \nQ 20.515625 5.421875 26.46875 5.421875 \nQ 33.34375 5.421875 37.671875 9.453125 \nQ 42 13.484375 42 19.875 \nQ 42 35.109375 20.65625 35.109375 \nL 16.84375 35.109375 \nL 16.84375 41.609375 \nL 20.21875 41.65625 \nQ 40.234375 41.65625 40.234375 55.765625 \nQ 40.234375 66.84375 27.046875 66.84375 \nQ 19.828125 66.84375 11.140625 62.796875 \nL 11.140625 71.1875 \nQ 19.671875 74.078125 27.734375 74.078125 \nQ 49.90625 74.078125 49.90625 57.328125 \nQ 49.90625 44.578125 34.8125 39.15625 \nQ 52.296875 35.109375 52.296875 20.015625 \nQ 52.296875 9.8125 45.546875 4 \nQ 38.8125 -1.8125 27.046875 -1.8125 \nQ 20.359375 -1.8125 10.15625 0.53125 \nz\n\" id=\"LucidaGrande-51\"/>\n       </defs>\n       <use xlink:href=\"#LucidaGrande-51\"/>\n       <use x=\"63.232422\" xlink:href=\"#LucidaGrande-48\"/>\n      </g>\n     </g>\n    </g>\n   </g>\n   <g id=\"patch_3\">\n    <path d=\"M 26.846875 97.180774 \nL 26.846875 9.841644 \n\" style=\"fill:none;stroke:#000000;stroke-linecap:square;stroke-linejoin:miter;stroke-width:0.8;\"/>\n   </g>\n   <g id=\"patch_4\">\n    <path d=\"M 361.646875 97.180774 \nL 361.646875 9.841644 \n\" style=\"fill:none;stroke:#000000;stroke-linecap:square;stroke-linejoin:miter;stroke-width:0.8;\"/>\n   </g>\n   <g id=\"patch_5\">\n    <path d=\"M 26.846875 97.180774 \nL 361.646875 97.180774 \n\" style=\"fill:none;stroke:#000000;stroke-linecap:square;stroke-linejoin:miter;stroke-width:0.8;\"/>\n   </g>\n   <g id=\"patch_6\">\n    <path d=\"M 26.846875 9.841644 \nL 361.646875 9.841644 \n\" style=\"fill:none;stroke:#000000;stroke-linecap:square;stroke-linejoin:miter;stroke-width:0.8;\"/>\n   </g>\n  </g>\n </g>\n <defs>\n  <clipPath id=\"p8f9c3dfb5c\">\n   <rect height=\"87.33913\" width=\"334.8\" x=\"26.846875\" y=\"9.841644\"/>\n  </clipPath>\n </defs>\n</svg>\n",
      "image/png": "[encoded data removed]"
     },
     "metadata": {
      "needs_background": "light"
     }
    }
   ],
   "source": [
    "import matplotlib.pyplot as plt\n",
    "import numpy as np\n",
    "\n",
    "# functions to show an image\n",
    "\n",
    "def imshow(img):\n",
    "    img = img / 2 + 0.5     # unnormalize\n",
    "    npimg = img.numpy()\n",
    "    plt.imshow(np.transpose(npimg, (1, 2, 0)))\n",
    "\n",
    "\n",
    "# get some random training images\n",
    "dataiter = iter(trainloader)\n",
    "images, labels = dataiter.next()\n",
    "\n",
    "# show images\n",
    "imshow(torchvision.utils.make_grid(images))\n",
    "# print labels\n",
    "print(' '.join('%5s' % classes[labels[j]] for j in range(4)))"
   ]
  },
  {
   "cell_type": "markdown",
   "metadata": {
    "colab_type": "text",
    "id": "1Ob4Pvz-GuKA"
   },
   "source": [
    "### 2.1.3. CNN Model\n",
    "Next, we will train a CNN on the data. We have defined a simple CNN for you with two convolutional layers and two fully-connected layers below."
   ]
  },
  {
   "cell_type": "code",
   "execution_count": 3,
   "metadata": {
    "colab": {},
    "colab_type": "code",
    "id": "3hMXRfs8DPjx"
   },
   "outputs": [],
   "source": [
    "import torch.nn as nn\n",
    "import torch.nn.functional as F\n",
    "\n",
    "class Net(nn.Module):\n",
    "    def __init__(self):\n",
    "        super(Net, self).__init__()\n",
    "        self.conv1 = nn.Conv2d(3, 6, 5)\n",
    "        self.pool = nn.MaxPool2d(2, 2)\n",
    "        self.conv2 = nn.Conv2d(6, 16, 5)\n",
    "        self.fc1 = nn.Linear(16 * 5 * 5, 120)\n",
    "        self.fc2 = nn.Linear(120, 84)\n",
    "        self.fc3 = nn.Linear(84, 10)\n",
    "\n",
    "    def forward(self, x):\n",
    "        x = self.pool(F.relu(self.conv1(x)))\n",
    "        x = self.pool(F.relu(self.conv2(x)))\n",
    "        x = x.view(-1, 16 * 5 * 5)   # flatten features\n",
    "\n",
    "        x = F.relu(self.fc1(x))\n",
    "        x = F.relu(self.fc2(x))\n",
    "        x = self.fc3(x)\n",
    "        return x\n",
    "\n",
    "net = Net()"
   ]
  },
  {
   "cell_type": "markdown",
   "metadata": {
    "colab_type": "text",
    "id": "z325ABykG77h"
   },
   "source": [
    "Instantiate the cross-entropy loss `criterion`, and an SGD optimizer from the `torch.optim` package with learning rate $.001$ and momentum $.9$. You may also want to enable GPU training using `torch.device()`."
   ]
  },
  {
   "cell_type": "code",
   "execution_count": 4,
   "metadata": {
    "colab": {},
    "colab_type": "code",
    "id": "2wiSsTnEGCRN"
   },
   "outputs": [],
   "source": [
    "# solution here\n",
    "criterion = nn.CrossEntropyLoss()\n",
    "optimiser = torch.optim.SGD(net.parameters(), lr=0.001, momentum=0.9)\n",
    "device = torch.device(\"cuda:0\" if torch.cuda.is_available() else \"cpu\")\n",
    "# net.to(device)"
   ]
  },
  {
   "cell_type": "markdown",
   "metadata": {
    "colab_type": "text",
    "id": "eCLHI077fl9x"
   },
   "source": [
    "### 2.1.4 Training\n",
    "Write the training loop that makes two full passes through the dataset (two epochs) using SGD. Your batch size should be 4.\n",
    "\n",
    "Go slack off for a while...\n",
    "\n",
    "![reddit xkcd comic](https://i.redd.it/5cjdqxcg07k11.png)"
   ]
  },
  {
   "cell_type": "code",
   "execution_count": 5,
   "metadata": {
    "colab": {},
    "colab_type": "code",
    "id": "u8SluNefGZgf",
    "tags": []
   },
   "outputs": [
    {
     "output_type": "stream",
     "name": "stdout",
     "text": [
      "Training epoch: 0, batch_index: 0, loss: 2.286435604095459\n",
      "Training epoch: 0, batch_index: 1000, loss: 2.500183343887329\n",
      "Training epoch: 0, batch_index: 2000, loss: 2.274012565612793\n",
      "Training epoch: 0, batch_index: 3000, loss: 2.447643995285034\n",
      "Training epoch: 0, batch_index: 4000, loss: 1.6540067195892334\n",
      "Training epoch: 0, batch_index: 5000, loss: 2.3049347400665283\n",
      "Training epoch: 0, batch_index: 6000, loss: 2.2202844619750977\n",
      "Training epoch: 0, batch_index: 7000, loss: 0.8809053301811218\n",
      "Training epoch: 0, batch_index: 8000, loss: 1.7152912616729736\n",
      "Training epoch: 0, batch_index: 9000, loss: 0.6613553166389465\n",
      "Training epoch: 0, batch_index: 10000, loss: 0.013163173571228981\n",
      "Training epoch: 0, batch_index: 11000, loss: 1.568328619003296\n",
      "Training epoch: 0, batch_index: 12000, loss: 1.2638026475906372\n",
      "Training epoch: 0, batch_index: 13000, loss: 0.2602156698703766\n",
      "Training epoch: 0, batch_index: 14000, loss: 0.4074237644672394\n",
      "Training epoch: 0, batch_index: 15000, loss: 0.027469011023640633\n",
      "Training epoch: 0, batch_index: 16000, loss: 0.041768770664930344\n",
      "Training epoch: 0, batch_index: 17000, loss: 0.03776959329843521\n",
      "Training epoch: 0, batch_index: 18000, loss: 0.028521742671728134\n",
      "Training epoch: 1, batch_index: 0, loss: 0.15885482728481293\n",
      "Training epoch: 1, batch_index: 1000, loss: 0.6157922744750977\n",
      "Training epoch: 1, batch_index: 2000, loss: 0.0018791365437209606\n",
      "Training epoch: 1, batch_index: 3000, loss: 0.3345019817352295\n",
      "Training epoch: 1, batch_index: 4000, loss: 0.5310561656951904\n",
      "Training epoch: 1, batch_index: 5000, loss: 1.2710121870040894\n",
      "Training epoch: 1, batch_index: 6000, loss: 0.08837445825338364\n",
      "Training epoch: 1, batch_index: 7000, loss: 0.01640894263982773\n",
      "Training epoch: 1, batch_index: 8000, loss: 0.008306005969643593\n",
      "Training epoch: 1, batch_index: 9000, loss: 0.6665211319923401\n",
      "Training epoch: 1, batch_index: 10000, loss: 1.2621796131134033\n",
      "Training epoch: 1, batch_index: 11000, loss: 0.00749226426705718\n",
      "Training epoch: 1, batch_index: 12000, loss: 0.04042870178818703\n",
      "Training epoch: 1, batch_index: 13000, loss: 0.8249041438102722\n",
      "Training epoch: 1, batch_index: 14000, loss: 0.23526978492736816\n",
      "Training epoch: 1, batch_index: 15000, loss: 0.0043874746188521385\n",
      "Training epoch: 1, batch_index: 16000, loss: 0.27808815240859985\n",
      "Training epoch: 1, batch_index: 17000, loss: 0.01558062806725502\n",
      "Training epoch: 1, batch_index: 18000, loss: 0.04580966755747795\n"
     ]
    }
   ],
   "source": [
    "# solution here\n",
    "# perm = torch.arange(0, 1024)\n",
    "\n",
    "for epoch in range(2):\n",
    "    for batch_index, (data, target) in enumerate(trainloader):\n",
    "        data, target = data.to(device), target.to(device)\n",
    "\n",
    "        # data = data.view(-1, 32*32)\n",
    "        # data = data[:, perm]\n",
    "        # data = data.view(-1, 1, 32, 32)\n",
    "\n",
    "        optimiser.zero_grad()\n",
    "        output = net(data)\n",
    "        loss = criterion(output, target)\n",
    "        loss.backward()\n",
    "        optimiser.step()\n",
    "\n",
    "        if batch_index % 1000 == 0:\n",
    "            print(\"Training epoch: {}, batch_index: {}, loss: {}\".format(epoch, batch_index, loss.item()))\n",
    "\n"
   ]
  },
  {
   "cell_type": "markdown",
   "metadata": {
    "colab_type": "text",
    "id": "TGkQdltRh104"
   },
   "source": [
    "### 2.1.5 Test Accuracy\n",
    "Load the test data (don't forget to move it to GPU if using). Make predictions on it using the trained network and compute the accuracy. You should see an accuracy of around 84%."
   ]
  },
  {
   "cell_type": "code",
   "execution_count": 6,
   "metadata": {
    "colab": {},
    "colab_type": "code",
    "id": "zWHZOr2sHeB5"
   },
   "outputs": [
    {
     "output_type": "stream",
     "name": "stdout",
     "text": [
      "Accuracy: 87\n"
     ]
    }
   ],
   "source": [
    "# solution here\n",
    "# loss_test = 0\n",
    "correct = 0\n",
    "\n",
    "for data, target in testloader:\n",
    "    data, target = data.to(device), target.to(device)\n",
    "\n",
    "    output = net(data)\n",
    "    pred = output.data.max(1, keepdim=True)[1]\n",
    "    correct += pred.eq(target.data.view_as(pred)).cpu().sum().item()\n",
    "\n",
    "accuracy = 100. * correct / len(testloader.dataset)\n",
    "print(\"Accuracy: {:.0f}\".format(accuracy))\n"
   ]
  },
  {
   "cell_type": "markdown",
   "metadata": {
    "colab_type": "text",
    "id": "V6mCBCn8kX9W"
   },
   "source": [
    "# Problem 3: Tensorboard (Optional)\n",
    "\n",
    "Explore your network using Tensorboard. Tensorboard is a nice tool for visualizing how your network's training is progressing. The following tutorial provides an introduction to Tensorboard\n",
    "\n",
    "- [Visualizing models, data and training with Tensorboard](https://pytorch.org/tutorials/intermediate/tensorboard_tutorial.html)\n",
    "\n",
    "For using tensorboard in colab, run the following cell and it should open a tensorboard interface in the output of the cell.\n"
   ]
  },
  {
   "cell_type": "code",
   "execution_count": 8,
   "metadata": {
    "colab": {},
    "colab_type": "code",
    "id": "ILFfAGAyh8bD"
   },
   "outputs": [
    {
     "output_type": "error",
     "ename": "ModuleNotFoundError",
     "evalue": "No module named 'tensorboard'",
     "traceback": [
      "\u001b[0;31m---------------------------------------------------------------------------\u001b[0m",
      "\u001b[0;31mModuleNotFoundError\u001b[0m                       Traceback (most recent call last)",
      "\u001b[0;32m<ipython-input-8-f7bb18f5956d>\u001b[0m in \u001b[0;36m<module>\u001b[0;34m\u001b[0m\n\u001b[0;32m----> 1\u001b[0;31m \u001b[0mget_ipython\u001b[0m\u001b[0;34m(\u001b[0m\u001b[0;34m)\u001b[0m\u001b[0;34m.\u001b[0m\u001b[0mrun_line_magic\u001b[0m\u001b[0;34m(\u001b[0m\u001b[0;34m'load_ext'\u001b[0m\u001b[0;34m,\u001b[0m \u001b[0;34m'tensorboard'\u001b[0m\u001b[0;34m)\u001b[0m\u001b[0;34m\u001b[0m\u001b[0;34m\u001b[0m\u001b[0m\n\u001b[0m\u001b[1;32m      2\u001b[0m \u001b[0mget_ipython\u001b[0m\u001b[0;34m(\u001b[0m\u001b[0;34m)\u001b[0m\u001b[0;34m.\u001b[0m\u001b[0mrun_line_magic\u001b[0m\u001b[0;34m(\u001b[0m\u001b[0;34m'tensorboard'\u001b[0m\u001b[0;34m,\u001b[0m \u001b[0;34m'--logdir logs'\u001b[0m\u001b[0;34m)\u001b[0m\u001b[0;34m\u001b[0m\u001b[0;34m\u001b[0m\u001b[0m\n",
      "\u001b[0;32m/opt/anaconda3/envs/myenv/lib/python3.9/site-packages/IPython/core/interactiveshell.py\u001b[0m in \u001b[0;36mrun_line_magic\u001b[0;34m(self, magic_name, line, _stack_depth)\u001b[0m\n\u001b[1;32m   2342\u001b[0m                 \u001b[0mkwargs\u001b[0m\u001b[0;34m[\u001b[0m\u001b[0;34m'local_ns'\u001b[0m\u001b[0;34m]\u001b[0m \u001b[0;34m=\u001b[0m \u001b[0mself\u001b[0m\u001b[0;34m.\u001b[0m\u001b[0mget_local_scope\u001b[0m\u001b[0;34m(\u001b[0m\u001b[0mstack_depth\u001b[0m\u001b[0;34m)\u001b[0m\u001b[0;34m\u001b[0m\u001b[0;34m\u001b[0m\u001b[0m\n\u001b[1;32m   2343\u001b[0m             \u001b[0;32mwith\u001b[0m \u001b[0mself\u001b[0m\u001b[0;34m.\u001b[0m\u001b[0mbuiltin_trap\u001b[0m\u001b[0;34m:\u001b[0m\u001b[0;34m\u001b[0m\u001b[0;34m\u001b[0m\u001b[0m\n\u001b[0;32m-> 2344\u001b[0;31m                 \u001b[0mresult\u001b[0m \u001b[0;34m=\u001b[0m \u001b[0mfn\u001b[0m\u001b[0;34m(\u001b[0m\u001b[0;34m*\u001b[0m\u001b[0margs\u001b[0m\u001b[0;34m,\u001b[0m \u001b[0;34m**\u001b[0m\u001b[0mkwargs\u001b[0m\u001b[0;34m)\u001b[0m\u001b[0;34m\u001b[0m\u001b[0;34m\u001b[0m\u001b[0m\n\u001b[0m\u001b[1;32m   2345\u001b[0m             \u001b[0;32mreturn\u001b[0m \u001b[0mresult\u001b[0m\u001b[0;34m\u001b[0m\u001b[0;34m\u001b[0m\u001b[0m\n\u001b[1;32m   2346\u001b[0m \u001b[0;34m\u001b[0m\u001b[0m\n",
      "\u001b[0;32m/opt/anaconda3/envs/myenv/lib/python3.9/site-packages/decorator.py\u001b[0m in \u001b[0;36mfun\u001b[0;34m(*args, **kw)\u001b[0m\n\u001b[1;32m    230\u001b[0m             \u001b[0;32mif\u001b[0m \u001b[0;32mnot\u001b[0m \u001b[0mkwsyntax\u001b[0m\u001b[0;34m:\u001b[0m\u001b[0;34m\u001b[0m\u001b[0;34m\u001b[0m\u001b[0m\n\u001b[1;32m    231\u001b[0m                 \u001b[0margs\u001b[0m\u001b[0;34m,\u001b[0m \u001b[0mkw\u001b[0m \u001b[0;34m=\u001b[0m \u001b[0mfix\u001b[0m\u001b[0;34m(\u001b[0m\u001b[0margs\u001b[0m\u001b[0;34m,\u001b[0m \u001b[0mkw\u001b[0m\u001b[0;34m,\u001b[0m \u001b[0msig\u001b[0m\u001b[0;34m)\u001b[0m\u001b[0;34m\u001b[0m\u001b[0;34m\u001b[0m\u001b[0m\n\u001b[0;32m--> 232\u001b[0;31m             \u001b[0;32mreturn\u001b[0m \u001b[0mcaller\u001b[0m\u001b[0;34m(\u001b[0m\u001b[0mfunc\u001b[0m\u001b[0;34m,\u001b[0m \u001b[0;34m*\u001b[0m\u001b[0;34m(\u001b[0m\u001b[0mextras\u001b[0m \u001b[0;34m+\u001b[0m \u001b[0margs\u001b[0m\u001b[0;34m)\u001b[0m\u001b[0;34m,\u001b[0m \u001b[0;34m**\u001b[0m\u001b[0mkw\u001b[0m\u001b[0;34m)\u001b[0m\u001b[0;34m\u001b[0m\u001b[0;34m\u001b[0m\u001b[0m\n\u001b[0m\u001b[1;32m    233\u001b[0m     \u001b[0mfun\u001b[0m\u001b[0;34m.\u001b[0m\u001b[0m__name__\u001b[0m \u001b[0;34m=\u001b[0m \u001b[0mfunc\u001b[0m\u001b[0;34m.\u001b[0m\u001b[0m__name__\u001b[0m\u001b[0;34m\u001b[0m\u001b[0;34m\u001b[0m\u001b[0m\n\u001b[1;32m    234\u001b[0m     \u001b[0mfun\u001b[0m\u001b[0;34m.\u001b[0m\u001b[0m__doc__\u001b[0m \u001b[0;34m=\u001b[0m \u001b[0mfunc\u001b[0m\u001b[0;34m.\u001b[0m\u001b[0m__doc__\u001b[0m\u001b[0;34m\u001b[0m\u001b[0;34m\u001b[0m\u001b[0m\n",
      "\u001b[0;32m/opt/anaconda3/envs/myenv/lib/python3.9/site-packages/IPython/core/magic.py\u001b[0m in \u001b[0;36m<lambda>\u001b[0;34m(f, *a, **k)\u001b[0m\n\u001b[1;32m    185\u001b[0m     \u001b[0;31m# but it's overkill for just that one bit of state.\u001b[0m\u001b[0;34m\u001b[0m\u001b[0;34m\u001b[0m\u001b[0;34m\u001b[0m\u001b[0m\n\u001b[1;32m    186\u001b[0m     \u001b[0;32mdef\u001b[0m \u001b[0mmagic_deco\u001b[0m\u001b[0;34m(\u001b[0m\u001b[0marg\u001b[0m\u001b[0;34m)\u001b[0m\u001b[0;34m:\u001b[0m\u001b[0;34m\u001b[0m\u001b[0;34m\u001b[0m\u001b[0m\n\u001b[0;32m--> 187\u001b[0;31m         \u001b[0mcall\u001b[0m \u001b[0;34m=\u001b[0m \u001b[0;32mlambda\u001b[0m \u001b[0mf\u001b[0m\u001b[0;34m,\u001b[0m \u001b[0;34m*\u001b[0m\u001b[0ma\u001b[0m\u001b[0;34m,\u001b[0m \u001b[0;34m**\u001b[0m\u001b[0mk\u001b[0m\u001b[0;34m:\u001b[0m \u001b[0mf\u001b[0m\u001b[0;34m(\u001b[0m\u001b[0;34m*\u001b[0m\u001b[0ma\u001b[0m\u001b[0;34m,\u001b[0m \u001b[0;34m**\u001b[0m\u001b[0mk\u001b[0m\u001b[0;34m)\u001b[0m\u001b[0;34m\u001b[0m\u001b[0;34m\u001b[0m\u001b[0m\n\u001b[0m\u001b[1;32m    188\u001b[0m \u001b[0;34m\u001b[0m\u001b[0m\n\u001b[1;32m    189\u001b[0m         \u001b[0;32mif\u001b[0m \u001b[0mcallable\u001b[0m\u001b[0;34m(\u001b[0m\u001b[0marg\u001b[0m\u001b[0;34m)\u001b[0m\u001b[0;34m:\u001b[0m\u001b[0;34m\u001b[0m\u001b[0;34m\u001b[0m\u001b[0m\n",
      "\u001b[0;32m/opt/anaconda3/envs/myenv/lib/python3.9/site-packages/IPython/core/magics/extension.py\u001b[0m in \u001b[0;36mload_ext\u001b[0;34m(self, module_str)\u001b[0m\n\u001b[1;32m     31\u001b[0m         \u001b[0;32mif\u001b[0m \u001b[0;32mnot\u001b[0m \u001b[0mmodule_str\u001b[0m\u001b[0;34m:\u001b[0m\u001b[0;34m\u001b[0m\u001b[0;34m\u001b[0m\u001b[0m\n\u001b[1;32m     32\u001b[0m             \u001b[0;32mraise\u001b[0m \u001b[0mUsageError\u001b[0m\u001b[0;34m(\u001b[0m\u001b[0;34m'Missing module name.'\u001b[0m\u001b[0;34m)\u001b[0m\u001b[0;34m\u001b[0m\u001b[0;34m\u001b[0m\u001b[0m\n\u001b[0;32m---> 33\u001b[0;31m         \u001b[0mres\u001b[0m \u001b[0;34m=\u001b[0m \u001b[0mself\u001b[0m\u001b[0;34m.\u001b[0m\u001b[0mshell\u001b[0m\u001b[0;34m.\u001b[0m\u001b[0mextension_manager\u001b[0m\u001b[0;34m.\u001b[0m\u001b[0mload_extension\u001b[0m\u001b[0;34m(\u001b[0m\u001b[0mmodule_str\u001b[0m\u001b[0;34m)\u001b[0m\u001b[0;34m\u001b[0m\u001b[0;34m\u001b[0m\u001b[0m\n\u001b[0m\u001b[1;32m     34\u001b[0m \u001b[0;34m\u001b[0m\u001b[0m\n\u001b[1;32m     35\u001b[0m         \u001b[0;32mif\u001b[0m \u001b[0mres\u001b[0m \u001b[0;34m==\u001b[0m \u001b[0;34m'already loaded'\u001b[0m\u001b[0;34m:\u001b[0m\u001b[0;34m\u001b[0m\u001b[0;34m\u001b[0m\u001b[0m\n",
      "\u001b[0;32m/opt/anaconda3/envs/myenv/lib/python3.9/site-packages/IPython/core/extensions.py\u001b[0m in \u001b[0;36mload_extension\u001b[0;34m(self, module_str)\u001b[0m\n\u001b[1;32m     78\u001b[0m             \u001b[0;32mif\u001b[0m \u001b[0mmodule_str\u001b[0m \u001b[0;32mnot\u001b[0m \u001b[0;32min\u001b[0m \u001b[0msys\u001b[0m\u001b[0;34m.\u001b[0m\u001b[0mmodules\u001b[0m\u001b[0;34m:\u001b[0m\u001b[0;34m\u001b[0m\u001b[0;34m\u001b[0m\u001b[0m\n\u001b[1;32m     79\u001b[0m                 \u001b[0;32mwith\u001b[0m \u001b[0mprepended_to_syspath\u001b[0m\u001b[0;34m(\u001b[0m\u001b[0mself\u001b[0m\u001b[0;34m.\u001b[0m\u001b[0mipython_extension_dir\u001b[0m\u001b[0;34m)\u001b[0m\u001b[0;34m:\u001b[0m\u001b[0;34m\u001b[0m\u001b[0;34m\u001b[0m\u001b[0m\n\u001b[0;32m---> 80\u001b[0;31m                     \u001b[0mmod\u001b[0m \u001b[0;34m=\u001b[0m \u001b[0mimport_module\u001b[0m\u001b[0;34m(\u001b[0m\u001b[0mmodule_str\u001b[0m\u001b[0;34m)\u001b[0m\u001b[0;34m\u001b[0m\u001b[0;34m\u001b[0m\u001b[0m\n\u001b[0m\u001b[1;32m     81\u001b[0m                     \u001b[0;32mif\u001b[0m \u001b[0mmod\u001b[0m\u001b[0;34m.\u001b[0m\u001b[0m__file__\u001b[0m\u001b[0;34m.\u001b[0m\u001b[0mstartswith\u001b[0m\u001b[0;34m(\u001b[0m\u001b[0mself\u001b[0m\u001b[0;34m.\u001b[0m\u001b[0mipython_extension_dir\u001b[0m\u001b[0;34m)\u001b[0m\u001b[0;34m:\u001b[0m\u001b[0;34m\u001b[0m\u001b[0;34m\u001b[0m\u001b[0m\n\u001b[1;32m     82\u001b[0m                         print((\"Loading extensions from {dir} is deprecated. \"\n",
      "\u001b[0;32m/opt/anaconda3/envs/myenv/lib/python3.9/importlib/__init__.py\u001b[0m in \u001b[0;36mimport_module\u001b[0;34m(name, package)\u001b[0m\n\u001b[1;32m    125\u001b[0m                 \u001b[0;32mbreak\u001b[0m\u001b[0;34m\u001b[0m\u001b[0;34m\u001b[0m\u001b[0m\n\u001b[1;32m    126\u001b[0m             \u001b[0mlevel\u001b[0m \u001b[0;34m+=\u001b[0m \u001b[0;36m1\u001b[0m\u001b[0;34m\u001b[0m\u001b[0;34m\u001b[0m\u001b[0m\n\u001b[0;32m--> 127\u001b[0;31m     \u001b[0;32mreturn\u001b[0m \u001b[0m_bootstrap\u001b[0m\u001b[0;34m.\u001b[0m\u001b[0m_gcd_import\u001b[0m\u001b[0;34m(\u001b[0m\u001b[0mname\u001b[0m\u001b[0;34m[\u001b[0m\u001b[0mlevel\u001b[0m\u001b[0;34m:\u001b[0m\u001b[0;34m]\u001b[0m\u001b[0;34m,\u001b[0m \u001b[0mpackage\u001b[0m\u001b[0;34m,\u001b[0m \u001b[0mlevel\u001b[0m\u001b[0;34m)\u001b[0m\u001b[0;34m\u001b[0m\u001b[0;34m\u001b[0m\u001b[0m\n\u001b[0m\u001b[1;32m    128\u001b[0m \u001b[0;34m\u001b[0m\u001b[0m\n\u001b[1;32m    129\u001b[0m \u001b[0;34m\u001b[0m\u001b[0m\n",
      "\u001b[0;32m/opt/anaconda3/envs/myenv/lib/python3.9/importlib/_bootstrap.py\u001b[0m in \u001b[0;36m_gcd_import\u001b[0;34m(name, package, level)\u001b[0m\n",
      "\u001b[0;32m/opt/anaconda3/envs/myenv/lib/python3.9/importlib/_bootstrap.py\u001b[0m in \u001b[0;36m_find_and_load\u001b[0;34m(name, import_)\u001b[0m\n",
      "\u001b[0;32m/opt/anaconda3/envs/myenv/lib/python3.9/importlib/_bootstrap.py\u001b[0m in \u001b[0;36m_find_and_load_unlocked\u001b[0;34m(name, import_)\u001b[0m\n",
      "\u001b[0;31mModuleNotFoundError\u001b[0m: No module named 'tensorboard'"
     ]
    }
   ],
   "source": [
    "%load_ext tensorboard\n",
    "%tensorboard --logdir logs"
   ]
  },
  {
   "cell_type": "code",
   "execution_count": null,
   "metadata": {},
   "outputs": [],
   "source": []
  }
 ],
 "metadata": {
  "accelerator": "GPU",
  "colab": {
   "collapsed_sections": [],
   "name": "HW3.ipynb",
   "provenance": [
    {
     "file_id": "1siLMvcwxUl6WSTO8JNjUv5T3TXMtujiH",
     "timestamp": 1582058789500
    },
    {
     "file_id": "1fiK0rbc8iMuQQS6PDijcD2MIS95h-oZe",
     "timestamp": 1581824994288
    },
    {
     "file_id": "https://github.com/pytorch/tutorials/blob/gh-pages/_downloads/autograd_tutorial.ipynb",
     "timestamp": 1578596632955
    }
   ]
  },
  "kernelspec": {
   "name": "python3",
   "display_name": "Python 3.9.5 64-bit ('myenv': conda)"
  },
  "language_info": {
   "codemirror_mode": {
    "name": "ipython",
    "version": 3
   },
   "file_extension": ".py",
   "mimetype": "text/x-python",
   "name": "python",
   "nbconvert_exporter": "python",
   "pygments_lexer": "ipython3",
   "version": "3.9.5"
  },
  "interpreter": {
   "hash": "f5c9dfabb21bd2a91b63810df81acbdc6b5e617e45414f0ef050ca96090c868f"
  }
 },
 "nbformat": 4,
 "nbformat_minor": 1
}